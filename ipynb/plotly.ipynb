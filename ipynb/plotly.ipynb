{
 "cells": [
  {
   "cell_type": "markdown",
   "metadata": {},
   "source": [
    "# 1. Plotly Line & Scatter Chart"
   ]
  },
  {
   "cell_type": "markdown",
   "metadata": {},
   "source": [
    "## 1.1 basic"
   ]
  },
  {
   "cell_type": "code",
   "execution_count": 3,
   "metadata": {},
   "outputs": [
    {
     "data": {
      "application/vnd.plotly.v1+json": {
       "config": {
        "plotlyServerURL": "https://plot.ly"
       },
       "data": [
        {
         "mode": "markers+lines",
         "name": "Random",
         "type": "scatter",
         "x": [
          24,
          82,
          26,
          52,
          77,
          40,
          41,
          55,
          67,
          12,
          1,
          78,
          6,
          33,
          19,
          80,
          75,
          75,
          78,
          31
         ],
         "y": [
          124,
          182,
          126,
          152,
          177,
          140,
          141,
          155,
          167,
          112,
          101,
          178,
          106,
          133,
          119,
          180,
          175,
          175,
          178,
          131
         ]
        }
       ],
       "layout": {
        "template": {
         "data": {
          "bar": [
           {
            "error_x": {
             "color": "#2a3f5f"
            },
            "error_y": {
             "color": "#2a3f5f"
            },
            "marker": {
             "line": {
              "color": "#E5ECF6",
              "width": 0.5
             },
             "pattern": {
              "fillmode": "overlay",
              "size": 10,
              "solidity": 0.2
             }
            },
            "type": "bar"
           }
          ],
          "barpolar": [
           {
            "marker": {
             "line": {
              "color": "#E5ECF6",
              "width": 0.5
             },
             "pattern": {
              "fillmode": "overlay",
              "size": 10,
              "solidity": 0.2
             }
            },
            "type": "barpolar"
           }
          ],
          "carpet": [
           {
            "aaxis": {
             "endlinecolor": "#2a3f5f",
             "gridcolor": "white",
             "linecolor": "white",
             "minorgridcolor": "white",
             "startlinecolor": "#2a3f5f"
            },
            "baxis": {
             "endlinecolor": "#2a3f5f",
             "gridcolor": "white",
             "linecolor": "white",
             "minorgridcolor": "white",
             "startlinecolor": "#2a3f5f"
            },
            "type": "carpet"
           }
          ],
          "choropleth": [
           {
            "colorbar": {
             "outlinewidth": 0,
             "ticks": ""
            },
            "type": "choropleth"
           }
          ],
          "contour": [
           {
            "colorbar": {
             "outlinewidth": 0,
             "ticks": ""
            },
            "colorscale": [
             [
              0,
              "#0d0887"
             ],
             [
              0.1111111111111111,
              "#46039f"
             ],
             [
              0.2222222222222222,
              "#7201a8"
             ],
             [
              0.3333333333333333,
              "#9c179e"
             ],
             [
              0.4444444444444444,
              "#bd3786"
             ],
             [
              0.5555555555555556,
              "#d8576b"
             ],
             [
              0.6666666666666666,
              "#ed7953"
             ],
             [
              0.7777777777777778,
              "#fb9f3a"
             ],
             [
              0.8888888888888888,
              "#fdca26"
             ],
             [
              1,
              "#f0f921"
             ]
            ],
            "type": "contour"
           }
          ],
          "contourcarpet": [
           {
            "colorbar": {
             "outlinewidth": 0,
             "ticks": ""
            },
            "type": "contourcarpet"
           }
          ],
          "heatmap": [
           {
            "colorbar": {
             "outlinewidth": 0,
             "ticks": ""
            },
            "colorscale": [
             [
              0,
              "#0d0887"
             ],
             [
              0.1111111111111111,
              "#46039f"
             ],
             [
              0.2222222222222222,
              "#7201a8"
             ],
             [
              0.3333333333333333,
              "#9c179e"
             ],
             [
              0.4444444444444444,
              "#bd3786"
             ],
             [
              0.5555555555555556,
              "#d8576b"
             ],
             [
              0.6666666666666666,
              "#ed7953"
             ],
             [
              0.7777777777777778,
              "#fb9f3a"
             ],
             [
              0.8888888888888888,
              "#fdca26"
             ],
             [
              1,
              "#f0f921"
             ]
            ],
            "type": "heatmap"
           }
          ],
          "heatmapgl": [
           {
            "colorbar": {
             "outlinewidth": 0,
             "ticks": ""
            },
            "colorscale": [
             [
              0,
              "#0d0887"
             ],
             [
              0.1111111111111111,
              "#46039f"
             ],
             [
              0.2222222222222222,
              "#7201a8"
             ],
             [
              0.3333333333333333,
              "#9c179e"
             ],
             [
              0.4444444444444444,
              "#bd3786"
             ],
             [
              0.5555555555555556,
              "#d8576b"
             ],
             [
              0.6666666666666666,
              "#ed7953"
             ],
             [
              0.7777777777777778,
              "#fb9f3a"
             ],
             [
              0.8888888888888888,
              "#fdca26"
             ],
             [
              1,
              "#f0f921"
             ]
            ],
            "type": "heatmapgl"
           }
          ],
          "histogram": [
           {
            "marker": {
             "pattern": {
              "fillmode": "overlay",
              "size": 10,
              "solidity": 0.2
             }
            },
            "type": "histogram"
           }
          ],
          "histogram2d": [
           {
            "colorbar": {
             "outlinewidth": 0,
             "ticks": ""
            },
            "colorscale": [
             [
              0,
              "#0d0887"
             ],
             [
              0.1111111111111111,
              "#46039f"
             ],
             [
              0.2222222222222222,
              "#7201a8"
             ],
             [
              0.3333333333333333,
              "#9c179e"
             ],
             [
              0.4444444444444444,
              "#bd3786"
             ],
             [
              0.5555555555555556,
              "#d8576b"
             ],
             [
              0.6666666666666666,
              "#ed7953"
             ],
             [
              0.7777777777777778,
              "#fb9f3a"
             ],
             [
              0.8888888888888888,
              "#fdca26"
             ],
             [
              1,
              "#f0f921"
             ]
            ],
            "type": "histogram2d"
           }
          ],
          "histogram2dcontour": [
           {
            "colorbar": {
             "outlinewidth": 0,
             "ticks": ""
            },
            "colorscale": [
             [
              0,
              "#0d0887"
             ],
             [
              0.1111111111111111,
              "#46039f"
             ],
             [
              0.2222222222222222,
              "#7201a8"
             ],
             [
              0.3333333333333333,
              "#9c179e"
             ],
             [
              0.4444444444444444,
              "#bd3786"
             ],
             [
              0.5555555555555556,
              "#d8576b"
             ],
             [
              0.6666666666666666,
              "#ed7953"
             ],
             [
              0.7777777777777778,
              "#fb9f3a"
             ],
             [
              0.8888888888888888,
              "#fdca26"
             ],
             [
              1,
              "#f0f921"
             ]
            ],
            "type": "histogram2dcontour"
           }
          ],
          "mesh3d": [
           {
            "colorbar": {
             "outlinewidth": 0,
             "ticks": ""
            },
            "type": "mesh3d"
           }
          ],
          "parcoords": [
           {
            "line": {
             "colorbar": {
              "outlinewidth": 0,
              "ticks": ""
             }
            },
            "type": "parcoords"
           }
          ],
          "pie": [
           {
            "automargin": true,
            "type": "pie"
           }
          ],
          "scatter": [
           {
            "fillpattern": {
             "fillmode": "overlay",
             "size": 10,
             "solidity": 0.2
            },
            "type": "scatter"
           }
          ],
          "scatter3d": [
           {
            "line": {
             "colorbar": {
              "outlinewidth": 0,
              "ticks": ""
             }
            },
            "marker": {
             "colorbar": {
              "outlinewidth": 0,
              "ticks": ""
             }
            },
            "type": "scatter3d"
           }
          ],
          "scattercarpet": [
           {
            "marker": {
             "colorbar": {
              "outlinewidth": 0,
              "ticks": ""
             }
            },
            "type": "scattercarpet"
           }
          ],
          "scattergeo": [
           {
            "marker": {
             "colorbar": {
              "outlinewidth": 0,
              "ticks": ""
             }
            },
            "type": "scattergeo"
           }
          ],
          "scattergl": [
           {
            "marker": {
             "colorbar": {
              "outlinewidth": 0,
              "ticks": ""
             }
            },
            "type": "scattergl"
           }
          ],
          "scattermapbox": [
           {
            "marker": {
             "colorbar": {
              "outlinewidth": 0,
              "ticks": ""
             }
            },
            "type": "scattermapbox"
           }
          ],
          "scatterpolar": [
           {
            "marker": {
             "colorbar": {
              "outlinewidth": 0,
              "ticks": ""
             }
            },
            "type": "scatterpolar"
           }
          ],
          "scatterpolargl": [
           {
            "marker": {
             "colorbar": {
              "outlinewidth": 0,
              "ticks": ""
             }
            },
            "type": "scatterpolargl"
           }
          ],
          "scatterternary": [
           {
            "marker": {
             "colorbar": {
              "outlinewidth": 0,
              "ticks": ""
             }
            },
            "type": "scatterternary"
           }
          ],
          "surface": [
           {
            "colorbar": {
             "outlinewidth": 0,
             "ticks": ""
            },
            "colorscale": [
             [
              0,
              "#0d0887"
             ],
             [
              0.1111111111111111,
              "#46039f"
             ],
             [
              0.2222222222222222,
              "#7201a8"
             ],
             [
              0.3333333333333333,
              "#9c179e"
             ],
             [
              0.4444444444444444,
              "#bd3786"
             ],
             [
              0.5555555555555556,
              "#d8576b"
             ],
             [
              0.6666666666666666,
              "#ed7953"
             ],
             [
              0.7777777777777778,
              "#fb9f3a"
             ],
             [
              0.8888888888888888,
              "#fdca26"
             ],
             [
              1,
              "#f0f921"
             ]
            ],
            "type": "surface"
           }
          ],
          "table": [
           {
            "cells": {
             "fill": {
              "color": "#EBF0F8"
             },
             "line": {
              "color": "white"
             }
            },
            "header": {
             "fill": {
              "color": "#C8D4E3"
             },
             "line": {
              "color": "white"
             }
            },
            "type": "table"
           }
          ]
         },
         "layout": {
          "annotationdefaults": {
           "arrowcolor": "#2a3f5f",
           "arrowhead": 0,
           "arrowwidth": 1
          },
          "autotypenumbers": "strict",
          "coloraxis": {
           "colorbar": {
            "outlinewidth": 0,
            "ticks": ""
           }
          },
          "colorscale": {
           "diverging": [
            [
             0,
             "#8e0152"
            ],
            [
             0.1,
             "#c51b7d"
            ],
            [
             0.2,
             "#de77ae"
            ],
            [
             0.3,
             "#f1b6da"
            ],
            [
             0.4,
             "#fde0ef"
            ],
            [
             0.5,
             "#f7f7f7"
            ],
            [
             0.6,
             "#e6f5d0"
            ],
            [
             0.7,
             "#b8e186"
            ],
            [
             0.8,
             "#7fbc41"
            ],
            [
             0.9,
             "#4d9221"
            ],
            [
             1,
             "#276419"
            ]
           ],
           "sequential": [
            [
             0,
             "#0d0887"
            ],
            [
             0.1111111111111111,
             "#46039f"
            ],
            [
             0.2222222222222222,
             "#7201a8"
            ],
            [
             0.3333333333333333,
             "#9c179e"
            ],
            [
             0.4444444444444444,
             "#bd3786"
            ],
            [
             0.5555555555555556,
             "#d8576b"
            ],
            [
             0.6666666666666666,
             "#ed7953"
            ],
            [
             0.7777777777777778,
             "#fb9f3a"
            ],
            [
             0.8888888888888888,
             "#fdca26"
            ],
            [
             1,
             "#f0f921"
            ]
           ],
           "sequentialminus": [
            [
             0,
             "#0d0887"
            ],
            [
             0.1111111111111111,
             "#46039f"
            ],
            [
             0.2222222222222222,
             "#7201a8"
            ],
            [
             0.3333333333333333,
             "#9c179e"
            ],
            [
             0.4444444444444444,
             "#bd3786"
            ],
            [
             0.5555555555555556,
             "#d8576b"
            ],
            [
             0.6666666666666666,
             "#ed7953"
            ],
            [
             0.7777777777777778,
             "#fb9f3a"
            ],
            [
             0.8888888888888888,
             "#fdca26"
            ],
            [
             1,
             "#f0f921"
            ]
           ]
          },
          "colorway": [
           "#636efa",
           "#EF553B",
           "#00cc96",
           "#ab63fa",
           "#FFA15A",
           "#19d3f3",
           "#FF6692",
           "#B6E880",
           "#FF97FF",
           "#FECB52"
          ],
          "font": {
           "color": "#2a3f5f"
          },
          "geo": {
           "bgcolor": "white",
           "lakecolor": "white",
           "landcolor": "#E5ECF6",
           "showlakes": true,
           "showland": true,
           "subunitcolor": "white"
          },
          "hoverlabel": {
           "align": "left"
          },
          "hovermode": "closest",
          "mapbox": {
           "style": "light"
          },
          "paper_bgcolor": "white",
          "plot_bgcolor": "#E5ECF6",
          "polar": {
           "angularaxis": {
            "gridcolor": "white",
            "linecolor": "white",
            "ticks": ""
           },
           "bgcolor": "#E5ECF6",
           "radialaxis": {
            "gridcolor": "white",
            "linecolor": "white",
            "ticks": ""
           }
          },
          "scene": {
           "xaxis": {
            "backgroundcolor": "#E5ECF6",
            "gridcolor": "white",
            "gridwidth": 2,
            "linecolor": "white",
            "showbackground": true,
            "ticks": "",
            "zerolinecolor": "white"
           },
           "yaxis": {
            "backgroundcolor": "#E5ECF6",
            "gridcolor": "white",
            "gridwidth": 2,
            "linecolor": "white",
            "showbackground": true,
            "ticks": "",
            "zerolinecolor": "white"
           },
           "zaxis": {
            "backgroundcolor": "#E5ECF6",
            "gridcolor": "white",
            "gridwidth": 2,
            "linecolor": "white",
            "showbackground": true,
            "ticks": "",
            "zerolinecolor": "white"
           }
          },
          "shapedefaults": {
           "line": {
            "color": "#2a3f5f"
           }
          },
          "ternary": {
           "aaxis": {
            "gridcolor": "white",
            "linecolor": "white",
            "ticks": ""
           },
           "baxis": {
            "gridcolor": "white",
            "linecolor": "white",
            "ticks": ""
           },
           "bgcolor": "#E5ECF6",
           "caxis": {
            "gridcolor": "white",
            "linecolor": "white",
            "ticks": ""
           }
          },
          "title": {
           "x": 0.05
          },
          "xaxis": {
           "automargin": true,
           "gridcolor": "white",
           "linecolor": "white",
           "ticks": "",
           "title": {
            "standoff": 15
           },
           "zerolinecolor": "white",
           "zerolinewidth": 2
          },
          "yaxis": {
           "automargin": true,
           "gridcolor": "white",
           "linecolor": "white",
           "ticks": "",
           "title": {
            "standoff": 15
           },
           "zerolinecolor": "white",
           "zerolinewidth": 2
          }
         }
        },
        "title": {
         "text": "Basic Chart"
        }
       }
      }
     },
     "metadata": {},
     "output_type": "display_data"
    }
   ],
   "source": [
    "import plotly.graph_objects as go\n",
    "import numpy as np\n",
    "import pandas as pd\n",
    "\n",
    "# 데이터 지정하기\n",
    "random_x = np.random.randint(0, 100, 20)\n",
    "random_y = random_x +100\n",
    "\n",
    "# 차트정의하기\n",
    "trace = go.Scatter(x =random_x, y= random_y, mode ='markers + lines', name = 'Random')\n",
    "# mode에 markers, lines 등 넣어서 차트표현\n",
    "\n",
    "# 레이아웃\n",
    "layout = go.Layout(title = 'Basic Chart')\n",
    "\n",
    "# 객체만들기\n",
    "fig = go.Figure(data = trace, layout = layout)\n",
    "\n",
    "# 객체실행\n",
    "fig.show()"
   ]
  },
  {
   "cell_type": "markdown",
   "metadata": {},
   "source": [
    "## 1.2 basic 2"
   ]
  },
  {
   "cell_type": "code",
   "execution_count": 8,
   "metadata": {},
   "outputs": [
    {
     "data": {
      "application/vnd.plotly.v1+json": {
       "config": {
        "plotlyServerURL": "https://plot.ly"
       },
       "data": [
        {
         "marker": {
          "size": 15,
          "symbol": "pentagon"
         },
         "mode": "markers",
         "type": "scatter",
         "x": [
          66,
          69,
          36,
          8,
          85,
          34,
          59,
          8,
          68,
          78,
          59,
          96,
          23,
          95,
          35,
          56,
          17,
          29,
          93,
          98
         ],
         "y": [
          19,
          76,
          94,
          94,
          5,
          13,
          28,
          55,
          95,
          5,
          70,
          85,
          91,
          56,
          10,
          5,
          51,
          91,
          29,
          0
         ]
        }
       ],
       "layout": {
        "template": {
         "data": {
          "bar": [
           {
            "error_x": {
             "color": "#2a3f5f"
            },
            "error_y": {
             "color": "#2a3f5f"
            },
            "marker": {
             "line": {
              "color": "#E5ECF6",
              "width": 0.5
             },
             "pattern": {
              "fillmode": "overlay",
              "size": 10,
              "solidity": 0.2
             }
            },
            "type": "bar"
           }
          ],
          "barpolar": [
           {
            "marker": {
             "line": {
              "color": "#E5ECF6",
              "width": 0.5
             },
             "pattern": {
              "fillmode": "overlay",
              "size": 10,
              "solidity": 0.2
             }
            },
            "type": "barpolar"
           }
          ],
          "carpet": [
           {
            "aaxis": {
             "endlinecolor": "#2a3f5f",
             "gridcolor": "white",
             "linecolor": "white",
             "minorgridcolor": "white",
             "startlinecolor": "#2a3f5f"
            },
            "baxis": {
             "endlinecolor": "#2a3f5f",
             "gridcolor": "white",
             "linecolor": "white",
             "minorgridcolor": "white",
             "startlinecolor": "#2a3f5f"
            },
            "type": "carpet"
           }
          ],
          "choropleth": [
           {
            "colorbar": {
             "outlinewidth": 0,
             "ticks": ""
            },
            "type": "choropleth"
           }
          ],
          "contour": [
           {
            "colorbar": {
             "outlinewidth": 0,
             "ticks": ""
            },
            "colorscale": [
             [
              0,
              "#0d0887"
             ],
             [
              0.1111111111111111,
              "#46039f"
             ],
             [
              0.2222222222222222,
              "#7201a8"
             ],
             [
              0.3333333333333333,
              "#9c179e"
             ],
             [
              0.4444444444444444,
              "#bd3786"
             ],
             [
              0.5555555555555556,
              "#d8576b"
             ],
             [
              0.6666666666666666,
              "#ed7953"
             ],
             [
              0.7777777777777778,
              "#fb9f3a"
             ],
             [
              0.8888888888888888,
              "#fdca26"
             ],
             [
              1,
              "#f0f921"
             ]
            ],
            "type": "contour"
           }
          ],
          "contourcarpet": [
           {
            "colorbar": {
             "outlinewidth": 0,
             "ticks": ""
            },
            "type": "contourcarpet"
           }
          ],
          "heatmap": [
           {
            "colorbar": {
             "outlinewidth": 0,
             "ticks": ""
            },
            "colorscale": [
             [
              0,
              "#0d0887"
             ],
             [
              0.1111111111111111,
              "#46039f"
             ],
             [
              0.2222222222222222,
              "#7201a8"
             ],
             [
              0.3333333333333333,
              "#9c179e"
             ],
             [
              0.4444444444444444,
              "#bd3786"
             ],
             [
              0.5555555555555556,
              "#d8576b"
             ],
             [
              0.6666666666666666,
              "#ed7953"
             ],
             [
              0.7777777777777778,
              "#fb9f3a"
             ],
             [
              0.8888888888888888,
              "#fdca26"
             ],
             [
              1,
              "#f0f921"
             ]
            ],
            "type": "heatmap"
           }
          ],
          "heatmapgl": [
           {
            "colorbar": {
             "outlinewidth": 0,
             "ticks": ""
            },
            "colorscale": [
             [
              0,
              "#0d0887"
             ],
             [
              0.1111111111111111,
              "#46039f"
             ],
             [
              0.2222222222222222,
              "#7201a8"
             ],
             [
              0.3333333333333333,
              "#9c179e"
             ],
             [
              0.4444444444444444,
              "#bd3786"
             ],
             [
              0.5555555555555556,
              "#d8576b"
             ],
             [
              0.6666666666666666,
              "#ed7953"
             ],
             [
              0.7777777777777778,
              "#fb9f3a"
             ],
             [
              0.8888888888888888,
              "#fdca26"
             ],
             [
              1,
              "#f0f921"
             ]
            ],
            "type": "heatmapgl"
           }
          ],
          "histogram": [
           {
            "marker": {
             "pattern": {
              "fillmode": "overlay",
              "size": 10,
              "solidity": 0.2
             }
            },
            "type": "histogram"
           }
          ],
          "histogram2d": [
           {
            "colorbar": {
             "outlinewidth": 0,
             "ticks": ""
            },
            "colorscale": [
             [
              0,
              "#0d0887"
             ],
             [
              0.1111111111111111,
              "#46039f"
             ],
             [
              0.2222222222222222,
              "#7201a8"
             ],
             [
              0.3333333333333333,
              "#9c179e"
             ],
             [
              0.4444444444444444,
              "#bd3786"
             ],
             [
              0.5555555555555556,
              "#d8576b"
             ],
             [
              0.6666666666666666,
              "#ed7953"
             ],
             [
              0.7777777777777778,
              "#fb9f3a"
             ],
             [
              0.8888888888888888,
              "#fdca26"
             ],
             [
              1,
              "#f0f921"
             ]
            ],
            "type": "histogram2d"
           }
          ],
          "histogram2dcontour": [
           {
            "colorbar": {
             "outlinewidth": 0,
             "ticks": ""
            },
            "colorscale": [
             [
              0,
              "#0d0887"
             ],
             [
              0.1111111111111111,
              "#46039f"
             ],
             [
              0.2222222222222222,
              "#7201a8"
             ],
             [
              0.3333333333333333,
              "#9c179e"
             ],
             [
              0.4444444444444444,
              "#bd3786"
             ],
             [
              0.5555555555555556,
              "#d8576b"
             ],
             [
              0.6666666666666666,
              "#ed7953"
             ],
             [
              0.7777777777777778,
              "#fb9f3a"
             ],
             [
              0.8888888888888888,
              "#fdca26"
             ],
             [
              1,
              "#f0f921"
             ]
            ],
            "type": "histogram2dcontour"
           }
          ],
          "mesh3d": [
           {
            "colorbar": {
             "outlinewidth": 0,
             "ticks": ""
            },
            "type": "mesh3d"
           }
          ],
          "parcoords": [
           {
            "line": {
             "colorbar": {
              "outlinewidth": 0,
              "ticks": ""
             }
            },
            "type": "parcoords"
           }
          ],
          "pie": [
           {
            "automargin": true,
            "type": "pie"
           }
          ],
          "scatter": [
           {
            "fillpattern": {
             "fillmode": "overlay",
             "size": 10,
             "solidity": 0.2
            },
            "type": "scatter"
           }
          ],
          "scatter3d": [
           {
            "line": {
             "colorbar": {
              "outlinewidth": 0,
              "ticks": ""
             }
            },
            "marker": {
             "colorbar": {
              "outlinewidth": 0,
              "ticks": ""
             }
            },
            "type": "scatter3d"
           }
          ],
          "scattercarpet": [
           {
            "marker": {
             "colorbar": {
              "outlinewidth": 0,
              "ticks": ""
             }
            },
            "type": "scattercarpet"
           }
          ],
          "scattergeo": [
           {
            "marker": {
             "colorbar": {
              "outlinewidth": 0,
              "ticks": ""
             }
            },
            "type": "scattergeo"
           }
          ],
          "scattergl": [
           {
            "marker": {
             "colorbar": {
              "outlinewidth": 0,
              "ticks": ""
             }
            },
            "type": "scattergl"
           }
          ],
          "scattermapbox": [
           {
            "marker": {
             "colorbar": {
              "outlinewidth": 0,
              "ticks": ""
             }
            },
            "type": "scattermapbox"
           }
          ],
          "scatterpolar": [
           {
            "marker": {
             "colorbar": {
              "outlinewidth": 0,
              "ticks": ""
             }
            },
            "type": "scatterpolar"
           }
          ],
          "scatterpolargl": [
           {
            "marker": {
             "colorbar": {
              "outlinewidth": 0,
              "ticks": ""
             }
            },
            "type": "scatterpolargl"
           }
          ],
          "scatterternary": [
           {
            "marker": {
             "colorbar": {
              "outlinewidth": 0,
              "ticks": ""
             }
            },
            "type": "scatterternary"
           }
          ],
          "surface": [
           {
            "colorbar": {
             "outlinewidth": 0,
             "ticks": ""
            },
            "colorscale": [
             [
              0,
              "#0d0887"
             ],
             [
              0.1111111111111111,
              "#46039f"
             ],
             [
              0.2222222222222222,
              "#7201a8"
             ],
             [
              0.3333333333333333,
              "#9c179e"
             ],
             [
              0.4444444444444444,
              "#bd3786"
             ],
             [
              0.5555555555555556,
              "#d8576b"
             ],
             [
              0.6666666666666666,
              "#ed7953"
             ],
             [
              0.7777777777777778,
              "#fb9f3a"
             ],
             [
              0.8888888888888888,
              "#fdca26"
             ],
             [
              1,
              "#f0f921"
             ]
            ],
            "type": "surface"
           }
          ],
          "table": [
           {
            "cells": {
             "fill": {
              "color": "#EBF0F8"
             },
             "line": {
              "color": "white"
             }
            },
            "header": {
             "fill": {
              "color": "#C8D4E3"
             },
             "line": {
              "color": "white"
             }
            },
            "type": "table"
           }
          ]
         },
         "layout": {
          "annotationdefaults": {
           "arrowcolor": "#2a3f5f",
           "arrowhead": 0,
           "arrowwidth": 1
          },
          "autotypenumbers": "strict",
          "coloraxis": {
           "colorbar": {
            "outlinewidth": 0,
            "ticks": ""
           }
          },
          "colorscale": {
           "diverging": [
            [
             0,
             "#8e0152"
            ],
            [
             0.1,
             "#c51b7d"
            ],
            [
             0.2,
             "#de77ae"
            ],
            [
             0.3,
             "#f1b6da"
            ],
            [
             0.4,
             "#fde0ef"
            ],
            [
             0.5,
             "#f7f7f7"
            ],
            [
             0.6,
             "#e6f5d0"
            ],
            [
             0.7,
             "#b8e186"
            ],
            [
             0.8,
             "#7fbc41"
            ],
            [
             0.9,
             "#4d9221"
            ],
            [
             1,
             "#276419"
            ]
           ],
           "sequential": [
            [
             0,
             "#0d0887"
            ],
            [
             0.1111111111111111,
             "#46039f"
            ],
            [
             0.2222222222222222,
             "#7201a8"
            ],
            [
             0.3333333333333333,
             "#9c179e"
            ],
            [
             0.4444444444444444,
             "#bd3786"
            ],
            [
             0.5555555555555556,
             "#d8576b"
            ],
            [
             0.6666666666666666,
             "#ed7953"
            ],
            [
             0.7777777777777778,
             "#fb9f3a"
            ],
            [
             0.8888888888888888,
             "#fdca26"
            ],
            [
             1,
             "#f0f921"
            ]
           ],
           "sequentialminus": [
            [
             0,
             "#0d0887"
            ],
            [
             0.1111111111111111,
             "#46039f"
            ],
            [
             0.2222222222222222,
             "#7201a8"
            ],
            [
             0.3333333333333333,
             "#9c179e"
            ],
            [
             0.4444444444444444,
             "#bd3786"
            ],
            [
             0.5555555555555556,
             "#d8576b"
            ],
            [
             0.6666666666666666,
             "#ed7953"
            ],
            [
             0.7777777777777778,
             "#fb9f3a"
            ],
            [
             0.8888888888888888,
             "#fdca26"
            ],
            [
             1,
             "#f0f921"
            ]
           ]
          },
          "colorway": [
           "#636efa",
           "#EF553B",
           "#00cc96",
           "#ab63fa",
           "#FFA15A",
           "#19d3f3",
           "#FF6692",
           "#B6E880",
           "#FF97FF",
           "#FECB52"
          ],
          "font": {
           "color": "#2a3f5f"
          },
          "geo": {
           "bgcolor": "white",
           "lakecolor": "white",
           "landcolor": "#E5ECF6",
           "showlakes": true,
           "showland": true,
           "subunitcolor": "white"
          },
          "hoverlabel": {
           "align": "left"
          },
          "hovermode": "closest",
          "mapbox": {
           "style": "light"
          },
          "paper_bgcolor": "white",
          "plot_bgcolor": "#E5ECF6",
          "polar": {
           "angularaxis": {
            "gridcolor": "white",
            "linecolor": "white",
            "ticks": ""
           },
           "bgcolor": "#E5ECF6",
           "radialaxis": {
            "gridcolor": "white",
            "linecolor": "white",
            "ticks": ""
           }
          },
          "scene": {
           "xaxis": {
            "backgroundcolor": "#E5ECF6",
            "gridcolor": "white",
            "gridwidth": 2,
            "linecolor": "white",
            "showbackground": true,
            "ticks": "",
            "zerolinecolor": "white"
           },
           "yaxis": {
            "backgroundcolor": "#E5ECF6",
            "gridcolor": "white",
            "gridwidth": 2,
            "linecolor": "white",
            "showbackground": true,
            "ticks": "",
            "zerolinecolor": "white"
           },
           "zaxis": {
            "backgroundcolor": "#E5ECF6",
            "gridcolor": "white",
            "gridwidth": 2,
            "linecolor": "white",
            "showbackground": true,
            "ticks": "",
            "zerolinecolor": "white"
           }
          },
          "shapedefaults": {
           "line": {
            "color": "#2a3f5f"
           }
          },
          "ternary": {
           "aaxis": {
            "gridcolor": "white",
            "linecolor": "white",
            "ticks": ""
           },
           "baxis": {
            "gridcolor": "white",
            "linecolor": "white",
            "ticks": ""
           },
           "bgcolor": "#E5ECF6",
           "caxis": {
            "gridcolor": "white",
            "linecolor": "white",
            "ticks": ""
           }
          },
          "title": {
           "x": 0.05
          },
          "xaxis": {
           "automargin": true,
           "gridcolor": "white",
           "linecolor": "white",
           "ticks": "",
           "title": {
            "standoff": 15
           },
           "zerolinecolor": "white",
           "zerolinewidth": 2
          },
          "yaxis": {
           "automargin": true,
           "gridcolor": "white",
           "linecolor": "white",
           "ticks": "",
           "title": {
            "standoff": 15
           },
           "zerolinecolor": "white",
           "zerolinewidth": 2
          }
         }
        },
        "title": {
         "text": "Random Variables"
        },
        "xaxis": {
         "title": {
          "text": "Random X"
         }
        },
        "yaxis": {
         "title": {
          "text": "Random_Y"
         }
        }
       }
      }
     },
     "metadata": {},
     "output_type": "display_data"
    }
   ],
   "source": [
    "random_x = np.random.randint(0, 100, 20)\n",
    "random_y = np.random.randint(0, 100, 20)\n",
    "\n",
    "trace = go.Scatter(x= random_x,y=random_y, mode='markers', marker = dict(size= 15, symbol = 'pentagon'))\n",
    "\n",
    "layout = go.Layout(title= 'Random Variables', \n",
    "                            xaxis={'title': 'Random X'},\n",
    "                            yaxis={'title': 'Random_Y'})\n",
    "\n",
    "fig = go.Figure(data = trace, layout=layout)\n",
    "fig.show()"
   ]
  },
  {
   "cell_type": "markdown",
   "metadata": {},
   "source": [
    "## 1.3 basic 3 두개이상의 차트 한화면에 표현"
   ]
  },
  {
   "cell_type": "code",
   "execution_count": 26,
   "metadata": {},
   "outputs": [
    {
     "data": {
      "application/vnd.plotly.v1+json": {
       "config": {
        "plotlyServerURL": "https://plot.ly"
       },
       "data": [
        {
         "mode": "lines",
         "name": "Random_Var1",
         "type": "scatter",
         "x": [
          "2023-01-01T00:00:00",
          "2023-01-02T00:00:00",
          "2023-01-03T00:00:00",
          "2023-01-04T00:00:00",
          "2023-01-05T00:00:00",
          "2023-01-06T00:00:00",
          "2023-01-07T00:00:00",
          "2023-01-08T00:00:00",
          "2023-01-09T00:00:00",
          "2023-01-10T00:00:00",
          "2023-01-11T00:00:00",
          "2023-01-12T00:00:00",
          "2023-01-13T00:00:00",
          "2023-01-14T00:00:00",
          "2023-01-15T00:00:00",
          "2023-01-16T00:00:00",
          "2023-01-17T00:00:00",
          "2023-01-18T00:00:00",
          "2023-01-19T00:00:00",
          "2023-01-20T00:00:00",
          "2023-01-21T00:00:00",
          "2023-01-22T00:00:00",
          "2023-01-23T00:00:00",
          "2023-01-24T00:00:00",
          "2023-01-25T00:00:00",
          "2023-01-26T00:00:00",
          "2023-01-27T00:00:00",
          "2023-01-28T00:00:00",
          "2023-01-29T00:00:00",
          "2023-01-30T00:00:00",
          "2023-01-31T00:00:00",
          "2023-02-01T00:00:00",
          "2023-02-02T00:00:00",
          "2023-02-03T00:00:00",
          "2023-02-04T00:00:00",
          "2023-02-05T00:00:00",
          "2023-02-06T00:00:00",
          "2023-02-07T00:00:00",
          "2023-02-08T00:00:00",
          "2023-02-09T00:00:00",
          "2023-02-10T00:00:00",
          "2023-02-11T00:00:00",
          "2023-02-12T00:00:00",
          "2023-02-13T00:00:00",
          "2023-02-14T00:00:00",
          "2023-02-15T00:00:00",
          "2023-02-16T00:00:00",
          "2023-02-17T00:00:00",
          "2023-02-18T00:00:00",
          "2023-02-19T00:00:00"
         ],
         "y": [
          21,
          56,
          27,
          57,
          0,
          82,
          32,
          52,
          1,
          15,
          3,
          49,
          15,
          22,
          60,
          8,
          86,
          6,
          57,
          99,
          61,
          52,
          49,
          7,
          77,
          30,
          38,
          24,
          52,
          17,
          89,
          62,
          27,
          88,
          68,
          31,
          19,
          59,
          31,
          47,
          49,
          57,
          3,
          76,
          14,
          98,
          77,
          41,
          48,
          67
         ]
        },
        {
         "mode": "lines",
         "name": "Random_Var2",
         "type": "scatter",
         "x": [
          "2023-01-01T00:00:00",
          "2023-01-02T00:00:00",
          "2023-01-03T00:00:00",
          "2023-01-04T00:00:00",
          "2023-01-05T00:00:00",
          "2023-01-06T00:00:00",
          "2023-01-07T00:00:00",
          "2023-01-08T00:00:00",
          "2023-01-09T00:00:00",
          "2023-01-10T00:00:00",
          "2023-01-11T00:00:00",
          "2023-01-12T00:00:00",
          "2023-01-13T00:00:00",
          "2023-01-14T00:00:00",
          "2023-01-15T00:00:00",
          "2023-01-16T00:00:00",
          "2023-01-17T00:00:00",
          "2023-01-18T00:00:00",
          "2023-01-19T00:00:00",
          "2023-01-20T00:00:00",
          "2023-01-21T00:00:00",
          "2023-01-22T00:00:00",
          "2023-01-23T00:00:00",
          "2023-01-24T00:00:00",
          "2023-01-25T00:00:00",
          "2023-01-26T00:00:00",
          "2023-01-27T00:00:00",
          "2023-01-28T00:00:00",
          "2023-01-29T00:00:00",
          "2023-01-30T00:00:00",
          "2023-01-31T00:00:00",
          "2023-02-01T00:00:00",
          "2023-02-02T00:00:00",
          "2023-02-03T00:00:00",
          "2023-02-04T00:00:00",
          "2023-02-05T00:00:00",
          "2023-02-06T00:00:00",
          "2023-02-07T00:00:00",
          "2023-02-08T00:00:00",
          "2023-02-09T00:00:00",
          "2023-02-10T00:00:00",
          "2023-02-11T00:00:00",
          "2023-02-12T00:00:00",
          "2023-02-13T00:00:00",
          "2023-02-14T00:00:00",
          "2023-02-15T00:00:00",
          "2023-02-16T00:00:00",
          "2023-02-17T00:00:00",
          "2023-02-18T00:00:00",
          "2023-02-19T00:00:00"
         ],
         "y": [
          74,
          28,
          20,
          18,
          52,
          78,
          77,
          52,
          2,
          86,
          37,
          93,
          46,
          13,
          77,
          77,
          57,
          73,
          95,
          39,
          8,
          94,
          88,
          92,
          26,
          5,
          66,
          44,
          61,
          19,
          8,
          36,
          98,
          4,
          25,
          89,
          21,
          16,
          42,
          2,
          79,
          63,
          64,
          47,
          54,
          36,
          60,
          94,
          24,
          71
         ]
        },
        {
         "mode": "lines",
         "name": "Random_Var3",
         "type": "scatter",
         "x": [
          "2023-01-01T00:00:00",
          "2023-01-02T00:00:00",
          "2023-01-03T00:00:00",
          "2023-01-04T00:00:00",
          "2023-01-05T00:00:00",
          "2023-01-06T00:00:00",
          "2023-01-07T00:00:00",
          "2023-01-08T00:00:00",
          "2023-01-09T00:00:00",
          "2023-01-10T00:00:00",
          "2023-01-11T00:00:00",
          "2023-01-12T00:00:00",
          "2023-01-13T00:00:00",
          "2023-01-14T00:00:00",
          "2023-01-15T00:00:00",
          "2023-01-16T00:00:00",
          "2023-01-17T00:00:00",
          "2023-01-18T00:00:00",
          "2023-01-19T00:00:00",
          "2023-01-20T00:00:00",
          "2023-01-21T00:00:00",
          "2023-01-22T00:00:00",
          "2023-01-23T00:00:00",
          "2023-01-24T00:00:00",
          "2023-01-25T00:00:00",
          "2023-01-26T00:00:00",
          "2023-01-27T00:00:00",
          "2023-01-28T00:00:00",
          "2023-01-29T00:00:00",
          "2023-01-30T00:00:00",
          "2023-01-31T00:00:00",
          "2023-02-01T00:00:00",
          "2023-02-02T00:00:00",
          "2023-02-03T00:00:00",
          "2023-02-04T00:00:00",
          "2023-02-05T00:00:00",
          "2023-02-06T00:00:00",
          "2023-02-07T00:00:00",
          "2023-02-08T00:00:00",
          "2023-02-09T00:00:00",
          "2023-02-10T00:00:00",
          "2023-02-11T00:00:00",
          "2023-02-12T00:00:00",
          "2023-02-13T00:00:00",
          "2023-02-14T00:00:00",
          "2023-02-15T00:00:00",
          "2023-02-16T00:00:00",
          "2023-02-17T00:00:00",
          "2023-02-18T00:00:00",
          "2023-02-19T00:00:00"
         ],
         "y": [
          36,
          42,
          6,
          46,
          21,
          59,
          77,
          9,
          67,
          8,
          65,
          95,
          79,
          21,
          90,
          10,
          96,
          88,
          48,
          43,
          40,
          87,
          17,
          80,
          73,
          56,
          25,
          7,
          80,
          52,
          31,
          22,
          1,
          7,
          48,
          55,
          37,
          30,
          40,
          71,
          85,
          25,
          72,
          79,
          16,
          72,
          58,
          42,
          39,
          3
         ]
        }
       ],
       "layout": {
        "autosize": true,
        "height": 203.5,
        "legend": {
         "font": {
          "color": "orange"
         }
        },
        "margin": {
         "b": 20,
         "l": 10,
         "r": 10,
         "t": 10
        },
        "plot_bgcolor": "rgb(39, 46, 90)",
        "template": {
         "data": {
          "bar": [
           {
            "error_x": {
             "color": "#2a3f5f"
            },
            "error_y": {
             "color": "#2a3f5f"
            },
            "marker": {
             "line": {
              "color": "#E5ECF6",
              "width": 0.5
             },
             "pattern": {
              "fillmode": "overlay",
              "size": 10,
              "solidity": 0.2
             }
            },
            "type": "bar"
           }
          ],
          "barpolar": [
           {
            "marker": {
             "line": {
              "color": "#E5ECF6",
              "width": 0.5
             },
             "pattern": {
              "fillmode": "overlay",
              "size": 10,
              "solidity": 0.2
             }
            },
            "type": "barpolar"
           }
          ],
          "carpet": [
           {
            "aaxis": {
             "endlinecolor": "#2a3f5f",
             "gridcolor": "white",
             "linecolor": "white",
             "minorgridcolor": "white",
             "startlinecolor": "#2a3f5f"
            },
            "baxis": {
             "endlinecolor": "#2a3f5f",
             "gridcolor": "white",
             "linecolor": "white",
             "minorgridcolor": "white",
             "startlinecolor": "#2a3f5f"
            },
            "type": "carpet"
           }
          ],
          "choropleth": [
           {
            "colorbar": {
             "outlinewidth": 0,
             "ticks": ""
            },
            "type": "choropleth"
           }
          ],
          "contour": [
           {
            "colorbar": {
             "outlinewidth": 0,
             "ticks": ""
            },
            "colorscale": [
             [
              0,
              "#0d0887"
             ],
             [
              0.1111111111111111,
              "#46039f"
             ],
             [
              0.2222222222222222,
              "#7201a8"
             ],
             [
              0.3333333333333333,
              "#9c179e"
             ],
             [
              0.4444444444444444,
              "#bd3786"
             ],
             [
              0.5555555555555556,
              "#d8576b"
             ],
             [
              0.6666666666666666,
              "#ed7953"
             ],
             [
              0.7777777777777778,
              "#fb9f3a"
             ],
             [
              0.8888888888888888,
              "#fdca26"
             ],
             [
              1,
              "#f0f921"
             ]
            ],
            "type": "contour"
           }
          ],
          "contourcarpet": [
           {
            "colorbar": {
             "outlinewidth": 0,
             "ticks": ""
            },
            "type": "contourcarpet"
           }
          ],
          "heatmap": [
           {
            "colorbar": {
             "outlinewidth": 0,
             "ticks": ""
            },
            "colorscale": [
             [
              0,
              "#0d0887"
             ],
             [
              0.1111111111111111,
              "#46039f"
             ],
             [
              0.2222222222222222,
              "#7201a8"
             ],
             [
              0.3333333333333333,
              "#9c179e"
             ],
             [
              0.4444444444444444,
              "#bd3786"
             ],
             [
              0.5555555555555556,
              "#d8576b"
             ],
             [
              0.6666666666666666,
              "#ed7953"
             ],
             [
              0.7777777777777778,
              "#fb9f3a"
             ],
             [
              0.8888888888888888,
              "#fdca26"
             ],
             [
              1,
              "#f0f921"
             ]
            ],
            "type": "heatmap"
           }
          ],
          "heatmapgl": [
           {
            "colorbar": {
             "outlinewidth": 0,
             "ticks": ""
            },
            "colorscale": [
             [
              0,
              "#0d0887"
             ],
             [
              0.1111111111111111,
              "#46039f"
             ],
             [
              0.2222222222222222,
              "#7201a8"
             ],
             [
              0.3333333333333333,
              "#9c179e"
             ],
             [
              0.4444444444444444,
              "#bd3786"
             ],
             [
              0.5555555555555556,
              "#d8576b"
             ],
             [
              0.6666666666666666,
              "#ed7953"
             ],
             [
              0.7777777777777778,
              "#fb9f3a"
             ],
             [
              0.8888888888888888,
              "#fdca26"
             ],
             [
              1,
              "#f0f921"
             ]
            ],
            "type": "heatmapgl"
           }
          ],
          "histogram": [
           {
            "marker": {
             "pattern": {
              "fillmode": "overlay",
              "size": 10,
              "solidity": 0.2
             }
            },
            "type": "histogram"
           }
          ],
          "histogram2d": [
           {
            "colorbar": {
             "outlinewidth": 0,
             "ticks": ""
            },
            "colorscale": [
             [
              0,
              "#0d0887"
             ],
             [
              0.1111111111111111,
              "#46039f"
             ],
             [
              0.2222222222222222,
              "#7201a8"
             ],
             [
              0.3333333333333333,
              "#9c179e"
             ],
             [
              0.4444444444444444,
              "#bd3786"
             ],
             [
              0.5555555555555556,
              "#d8576b"
             ],
             [
              0.6666666666666666,
              "#ed7953"
             ],
             [
              0.7777777777777778,
              "#fb9f3a"
             ],
             [
              0.8888888888888888,
              "#fdca26"
             ],
             [
              1,
              "#f0f921"
             ]
            ],
            "type": "histogram2d"
           }
          ],
          "histogram2dcontour": [
           {
            "colorbar": {
             "outlinewidth": 0,
             "ticks": ""
            },
            "colorscale": [
             [
              0,
              "#0d0887"
             ],
             [
              0.1111111111111111,
              "#46039f"
             ],
             [
              0.2222222222222222,
              "#7201a8"
             ],
             [
              0.3333333333333333,
              "#9c179e"
             ],
             [
              0.4444444444444444,
              "#bd3786"
             ],
             [
              0.5555555555555556,
              "#d8576b"
             ],
             [
              0.6666666666666666,
              "#ed7953"
             ],
             [
              0.7777777777777778,
              "#fb9f3a"
             ],
             [
              0.8888888888888888,
              "#fdca26"
             ],
             [
              1,
              "#f0f921"
             ]
            ],
            "type": "histogram2dcontour"
           }
          ],
          "mesh3d": [
           {
            "colorbar": {
             "outlinewidth": 0,
             "ticks": ""
            },
            "type": "mesh3d"
           }
          ],
          "parcoords": [
           {
            "line": {
             "colorbar": {
              "outlinewidth": 0,
              "ticks": ""
             }
            },
            "type": "parcoords"
           }
          ],
          "pie": [
           {
            "automargin": true,
            "type": "pie"
           }
          ],
          "scatter": [
           {
            "fillpattern": {
             "fillmode": "overlay",
             "size": 10,
             "solidity": 0.2
            },
            "type": "scatter"
           }
          ],
          "scatter3d": [
           {
            "line": {
             "colorbar": {
              "outlinewidth": 0,
              "ticks": ""
             }
            },
            "marker": {
             "colorbar": {
              "outlinewidth": 0,
              "ticks": ""
             }
            },
            "type": "scatter3d"
           }
          ],
          "scattercarpet": [
           {
            "marker": {
             "colorbar": {
              "outlinewidth": 0,
              "ticks": ""
             }
            },
            "type": "scattercarpet"
           }
          ],
          "scattergeo": [
           {
            "marker": {
             "colorbar": {
              "outlinewidth": 0,
              "ticks": ""
             }
            },
            "type": "scattergeo"
           }
          ],
          "scattergl": [
           {
            "marker": {
             "colorbar": {
              "outlinewidth": 0,
              "ticks": ""
             }
            },
            "type": "scattergl"
           }
          ],
          "scattermapbox": [
           {
            "marker": {
             "colorbar": {
              "outlinewidth": 0,
              "ticks": ""
             }
            },
            "type": "scattermapbox"
           }
          ],
          "scatterpolar": [
           {
            "marker": {
             "colorbar": {
              "outlinewidth": 0,
              "ticks": ""
             }
            },
            "type": "scatterpolar"
           }
          ],
          "scatterpolargl": [
           {
            "marker": {
             "colorbar": {
              "outlinewidth": 0,
              "ticks": ""
             }
            },
            "type": "scatterpolargl"
           }
          ],
          "scatterternary": [
           {
            "marker": {
             "colorbar": {
              "outlinewidth": 0,
              "ticks": ""
             }
            },
            "type": "scatterternary"
           }
          ],
          "surface": [
           {
            "colorbar": {
             "outlinewidth": 0,
             "ticks": ""
            },
            "colorscale": [
             [
              0,
              "#0d0887"
             ],
             [
              0.1111111111111111,
              "#46039f"
             ],
             [
              0.2222222222222222,
              "#7201a8"
             ],
             [
              0.3333333333333333,
              "#9c179e"
             ],
             [
              0.4444444444444444,
              "#bd3786"
             ],
             [
              0.5555555555555556,
              "#d8576b"
             ],
             [
              0.6666666666666666,
              "#ed7953"
             ],
             [
              0.7777777777777778,
              "#fb9f3a"
             ],
             [
              0.8888888888888888,
              "#fdca26"
             ],
             [
              1,
              "#f0f921"
             ]
            ],
            "type": "surface"
           }
          ],
          "table": [
           {
            "cells": {
             "fill": {
              "color": "#EBF0F8"
             },
             "line": {
              "color": "white"
             }
            },
            "header": {
             "fill": {
              "color": "#C8D4E3"
             },
             "line": {
              "color": "white"
             }
            },
            "type": "table"
           }
          ]
         },
         "layout": {
          "annotationdefaults": {
           "arrowcolor": "#2a3f5f",
           "arrowhead": 0,
           "arrowwidth": 1
          },
          "autotypenumbers": "strict",
          "coloraxis": {
           "colorbar": {
            "outlinewidth": 0,
            "ticks": ""
           }
          },
          "colorscale": {
           "diverging": [
            [
             0,
             "#8e0152"
            ],
            [
             0.1,
             "#c51b7d"
            ],
            [
             0.2,
             "#de77ae"
            ],
            [
             0.3,
             "#f1b6da"
            ],
            [
             0.4,
             "#fde0ef"
            ],
            [
             0.5,
             "#f7f7f7"
            ],
            [
             0.6,
             "#e6f5d0"
            ],
            [
             0.7,
             "#b8e186"
            ],
            [
             0.8,
             "#7fbc41"
            ],
            [
             0.9,
             "#4d9221"
            ],
            [
             1,
             "#276419"
            ]
           ],
           "sequential": [
            [
             0,
             "#0d0887"
            ],
            [
             0.1111111111111111,
             "#46039f"
            ],
            [
             0.2222222222222222,
             "#7201a8"
            ],
            [
             0.3333333333333333,
             "#9c179e"
            ],
            [
             0.4444444444444444,
             "#bd3786"
            ],
            [
             0.5555555555555556,
             "#d8576b"
            ],
            [
             0.6666666666666666,
             "#ed7953"
            ],
            [
             0.7777777777777778,
             "#fb9f3a"
            ],
            [
             0.8888888888888888,
             "#fdca26"
            ],
            [
             1,
             "#f0f921"
            ]
           ],
           "sequentialminus": [
            [
             0,
             "#0d0887"
            ],
            [
             0.1111111111111111,
             "#46039f"
            ],
            [
             0.2222222222222222,
             "#7201a8"
            ],
            [
             0.3333333333333333,
             "#9c179e"
            ],
            [
             0.4444444444444444,
             "#bd3786"
            ],
            [
             0.5555555555555556,
             "#d8576b"
            ],
            [
             0.6666666666666666,
             "#ed7953"
            ],
            [
             0.7777777777777778,
             "#fb9f3a"
            ],
            [
             0.8888888888888888,
             "#fdca26"
            ],
            [
             1,
             "#f0f921"
            ]
           ]
          },
          "colorway": [
           "#636efa",
           "#EF553B",
           "#00cc96",
           "#ab63fa",
           "#FFA15A",
           "#19d3f3",
           "#FF6692",
           "#B6E880",
           "#FF97FF",
           "#FECB52"
          ],
          "font": {
           "color": "#2a3f5f"
          },
          "geo": {
           "bgcolor": "white",
           "lakecolor": "white",
           "landcolor": "#E5ECF6",
           "showlakes": true,
           "showland": true,
           "subunitcolor": "white"
          },
          "hoverlabel": {
           "align": "left"
          },
          "hovermode": "closest",
          "mapbox": {
           "style": "light"
          },
          "paper_bgcolor": "white",
          "plot_bgcolor": "#E5ECF6",
          "polar": {
           "angularaxis": {
            "gridcolor": "white",
            "linecolor": "white",
            "ticks": ""
           },
           "bgcolor": "#E5ECF6",
           "radialaxis": {
            "gridcolor": "white",
            "linecolor": "white",
            "ticks": ""
           }
          },
          "scene": {
           "xaxis": {
            "backgroundcolor": "#E5ECF6",
            "gridcolor": "white",
            "gridwidth": 2,
            "linecolor": "white",
            "showbackground": true,
            "ticks": "",
            "zerolinecolor": "white"
           },
           "yaxis": {
            "backgroundcolor": "#E5ECF6",
            "gridcolor": "white",
            "gridwidth": 2,
            "linecolor": "white",
            "showbackground": true,
            "ticks": "",
            "zerolinecolor": "white"
           },
           "zaxis": {
            "backgroundcolor": "#E5ECF6",
            "gridcolor": "white",
            "gridwidth": 2,
            "linecolor": "white",
            "showbackground": true,
            "ticks": "",
            "zerolinecolor": "white"
           }
          },
          "shapedefaults": {
           "line": {
            "color": "#2a3f5f"
           }
          },
          "ternary": {
           "aaxis": {
            "gridcolor": "white",
            "linecolor": "white",
            "ticks": ""
           },
           "baxis": {
            "gridcolor": "white",
            "linecolor": "white",
            "ticks": ""
           },
           "bgcolor": "#E5ECF6",
           "caxis": {
            "gridcolor": "white",
            "linecolor": "white",
            "ticks": ""
           }
          },
          "title": {
           "x": 0.05
          },
          "xaxis": {
           "automargin": true,
           "gridcolor": "white",
           "linecolor": "white",
           "ticks": "",
           "title": {
            "standoff": 15
           },
           "zerolinecolor": "white",
           "zerolinewidth": 2
          },
          "yaxis": {
           "automargin": true,
           "gridcolor": "white",
           "linecolor": "white",
           "ticks": "",
           "title": {
            "standoff": 15
           },
           "zerolinecolor": "white",
           "zerolinewidth": 2
          }
         }
        },
        "title": {
         "text": "Random Variables"
        },
        "width": 1186.5,
        "xaxis": {
         "tickfont": {
          "color": "red"
         }
        },
        "yaxis": {
         "tickfont": {
          "color": "green"
         }
        }
       }
      }
     },
     "metadata": {},
     "output_type": "display_data"
    }
   ],
   "source": [
    "num = 50\n",
    "\n",
    "randam_var1 = np.random.randint(0, 100, num)\n",
    "random_var2 = np.random.randint(0,100, num)\n",
    "random_var3 = np.random.randint(0,100, num)\n",
    "\n",
    "\n",
    "index = pd.date_range('2023-01-01', periods= num)\n",
    "index\n",
    "\n",
    "df = pd.DataFrame([randam_var1, random_var2,random_var3]).T\n",
    "df.index= index\n",
    "df.columns = ['Random_Var1', 'Random_Var2','Random_Var3']\n",
    "df\n",
    "\n",
    "trace1 = go.Scatter(x = df.index, y = df['Random_Var1'], mode='lines', name = df.columns[0])\n",
    "trace2 = go.Scatter(x = df.index, y= df['Random_Var2'], mode = 'lines', name= df.columns[1])\n",
    "trace3 = go.Scatter(x = df.index, y= df['Random_Var3'], mode = 'lines', name= df.columns[2])\n",
    "data = [trace1, trace2,trace3]\n",
    "\n",
    "layout = go.Layout(title= 'Random Variables')\n",
    "\n",
    "fig = go.Figure(data = data, layout =layout)\n",
    "fig.update_layout(\n",
    "        \n",
    "        autosize=True,\n",
    "        width=1186.5,\n",
    "        height=203.5,\n",
    "        margin_l=10,\n",
    "        margin_r=10,\n",
    "        margin_b=20,\n",
    "        margin_t=10,\n",
    "        plot_bgcolor=\"rgb(39, 46, 90)\",\n",
    "        xaxis=dict(tickfont=dict(color='red')),  # x축 라벨 색상 변경\n",
    "        yaxis=dict(tickfont=dict(color='green')),  # y축 라벨 색상 변경\n",
    "        legend=dict(font=dict(color='orange'))\n",
    "        \n",
    "        )\n",
    "\n",
    "fig.show()"
   ]
  },
  {
   "cell_type": "code",
   "execution_count": null,
   "metadata": {},
   "outputs": [],
   "source": []
  },
  {
   "cell_type": "markdown",
   "metadata": {},
   "source": [
    "# 2 . Bar chart"
   ]
  },
  {
   "cell_type": "code",
   "execution_count": 23,
   "metadata": {},
   "outputs": [
    {
     "data": {
      "application/vnd.plotly.v1+json": {
       "config": {
        "plotlyServerURL": "https://plot.ly"
       },
       "data": [
        {
         "marker": {
          "color": "indianred"
         },
         "name": "random_1",
         "type": "bar",
         "x": [
          "2023-01-01T00:00:00",
          "2023-01-02T00:00:00",
          "2023-01-03T00:00:00",
          "2023-01-04T00:00:00",
          "2023-01-05T00:00:00",
          "2023-01-06T00:00:00",
          "2023-01-07T00:00:00",
          "2023-01-08T00:00:00",
          "2023-01-09T00:00:00",
          "2023-01-10T00:00:00",
          "2023-01-11T00:00:00",
          "2023-01-12T00:00:00"
         ],
         "y": [
          5,
          72,
          76,
          99,
          90,
          54,
          82,
          47,
          7,
          17,
          51,
          54
         ]
        },
        {
         "marker": {
          "color": "lightsalmon"
         },
         "name": "random_2",
         "type": "bar",
         "x": [
          "2023-01-01T00:00:00",
          "2023-01-02T00:00:00",
          "2023-01-03T00:00:00",
          "2023-01-04T00:00:00",
          "2023-01-05T00:00:00",
          "2023-01-06T00:00:00",
          "2023-01-07T00:00:00",
          "2023-01-08T00:00:00",
          "2023-01-09T00:00:00",
          "2023-01-10T00:00:00",
          "2023-01-11T00:00:00",
          "2023-01-12T00:00:00"
         ],
         "y": [
          447,
          198,
          136,
          263,
          428,
          145,
          10,
          338,
          112,
          103,
          290,
          62
         ]
        }
       ],
       "layout": {
        "template": {
         "data": {
          "bar": [
           {
            "error_x": {
             "color": "#2a3f5f"
            },
            "error_y": {
             "color": "#2a3f5f"
            },
            "marker": {
             "line": {
              "color": "#E5ECF6",
              "width": 0.5
             },
             "pattern": {
              "fillmode": "overlay",
              "size": 10,
              "solidity": 0.2
             }
            },
            "type": "bar"
           }
          ],
          "barpolar": [
           {
            "marker": {
             "line": {
              "color": "#E5ECF6",
              "width": 0.5
             },
             "pattern": {
              "fillmode": "overlay",
              "size": 10,
              "solidity": 0.2
             }
            },
            "type": "barpolar"
           }
          ],
          "carpet": [
           {
            "aaxis": {
             "endlinecolor": "#2a3f5f",
             "gridcolor": "white",
             "linecolor": "white",
             "minorgridcolor": "white",
             "startlinecolor": "#2a3f5f"
            },
            "baxis": {
             "endlinecolor": "#2a3f5f",
             "gridcolor": "white",
             "linecolor": "white",
             "minorgridcolor": "white",
             "startlinecolor": "#2a3f5f"
            },
            "type": "carpet"
           }
          ],
          "choropleth": [
           {
            "colorbar": {
             "outlinewidth": 0,
             "ticks": ""
            },
            "type": "choropleth"
           }
          ],
          "contour": [
           {
            "colorbar": {
             "outlinewidth": 0,
             "ticks": ""
            },
            "colorscale": [
             [
              0,
              "#0d0887"
             ],
             [
              0.1111111111111111,
              "#46039f"
             ],
             [
              0.2222222222222222,
              "#7201a8"
             ],
             [
              0.3333333333333333,
              "#9c179e"
             ],
             [
              0.4444444444444444,
              "#bd3786"
             ],
             [
              0.5555555555555556,
              "#d8576b"
             ],
             [
              0.6666666666666666,
              "#ed7953"
             ],
             [
              0.7777777777777778,
              "#fb9f3a"
             ],
             [
              0.8888888888888888,
              "#fdca26"
             ],
             [
              1,
              "#f0f921"
             ]
            ],
            "type": "contour"
           }
          ],
          "contourcarpet": [
           {
            "colorbar": {
             "outlinewidth": 0,
             "ticks": ""
            },
            "type": "contourcarpet"
           }
          ],
          "heatmap": [
           {
            "colorbar": {
             "outlinewidth": 0,
             "ticks": ""
            },
            "colorscale": [
             [
              0,
              "#0d0887"
             ],
             [
              0.1111111111111111,
              "#46039f"
             ],
             [
              0.2222222222222222,
              "#7201a8"
             ],
             [
              0.3333333333333333,
              "#9c179e"
             ],
             [
              0.4444444444444444,
              "#bd3786"
             ],
             [
              0.5555555555555556,
              "#d8576b"
             ],
             [
              0.6666666666666666,
              "#ed7953"
             ],
             [
              0.7777777777777778,
              "#fb9f3a"
             ],
             [
              0.8888888888888888,
              "#fdca26"
             ],
             [
              1,
              "#f0f921"
             ]
            ],
            "type": "heatmap"
           }
          ],
          "heatmapgl": [
           {
            "colorbar": {
             "outlinewidth": 0,
             "ticks": ""
            },
            "colorscale": [
             [
              0,
              "#0d0887"
             ],
             [
              0.1111111111111111,
              "#46039f"
             ],
             [
              0.2222222222222222,
              "#7201a8"
             ],
             [
              0.3333333333333333,
              "#9c179e"
             ],
             [
              0.4444444444444444,
              "#bd3786"
             ],
             [
              0.5555555555555556,
              "#d8576b"
             ],
             [
              0.6666666666666666,
              "#ed7953"
             ],
             [
              0.7777777777777778,
              "#fb9f3a"
             ],
             [
              0.8888888888888888,
              "#fdca26"
             ],
             [
              1,
              "#f0f921"
             ]
            ],
            "type": "heatmapgl"
           }
          ],
          "histogram": [
           {
            "marker": {
             "pattern": {
              "fillmode": "overlay",
              "size": 10,
              "solidity": 0.2
             }
            },
            "type": "histogram"
           }
          ],
          "histogram2d": [
           {
            "colorbar": {
             "outlinewidth": 0,
             "ticks": ""
            },
            "colorscale": [
             [
              0,
              "#0d0887"
             ],
             [
              0.1111111111111111,
              "#46039f"
             ],
             [
              0.2222222222222222,
              "#7201a8"
             ],
             [
              0.3333333333333333,
              "#9c179e"
             ],
             [
              0.4444444444444444,
              "#bd3786"
             ],
             [
              0.5555555555555556,
              "#d8576b"
             ],
             [
              0.6666666666666666,
              "#ed7953"
             ],
             [
              0.7777777777777778,
              "#fb9f3a"
             ],
             [
              0.8888888888888888,
              "#fdca26"
             ],
             [
              1,
              "#f0f921"
             ]
            ],
            "type": "histogram2d"
           }
          ],
          "histogram2dcontour": [
           {
            "colorbar": {
             "outlinewidth": 0,
             "ticks": ""
            },
            "colorscale": [
             [
              0,
              "#0d0887"
             ],
             [
              0.1111111111111111,
              "#46039f"
             ],
             [
              0.2222222222222222,
              "#7201a8"
             ],
             [
              0.3333333333333333,
              "#9c179e"
             ],
             [
              0.4444444444444444,
              "#bd3786"
             ],
             [
              0.5555555555555556,
              "#d8576b"
             ],
             [
              0.6666666666666666,
              "#ed7953"
             ],
             [
              0.7777777777777778,
              "#fb9f3a"
             ],
             [
              0.8888888888888888,
              "#fdca26"
             ],
             [
              1,
              "#f0f921"
             ]
            ],
            "type": "histogram2dcontour"
           }
          ],
          "mesh3d": [
           {
            "colorbar": {
             "outlinewidth": 0,
             "ticks": ""
            },
            "type": "mesh3d"
           }
          ],
          "parcoords": [
           {
            "line": {
             "colorbar": {
              "outlinewidth": 0,
              "ticks": ""
             }
            },
            "type": "parcoords"
           }
          ],
          "pie": [
           {
            "automargin": true,
            "type": "pie"
           }
          ],
          "scatter": [
           {
            "fillpattern": {
             "fillmode": "overlay",
             "size": 10,
             "solidity": 0.2
            },
            "type": "scatter"
           }
          ],
          "scatter3d": [
           {
            "line": {
             "colorbar": {
              "outlinewidth": 0,
              "ticks": ""
             }
            },
            "marker": {
             "colorbar": {
              "outlinewidth": 0,
              "ticks": ""
             }
            },
            "type": "scatter3d"
           }
          ],
          "scattercarpet": [
           {
            "marker": {
             "colorbar": {
              "outlinewidth": 0,
              "ticks": ""
             }
            },
            "type": "scattercarpet"
           }
          ],
          "scattergeo": [
           {
            "marker": {
             "colorbar": {
              "outlinewidth": 0,
              "ticks": ""
             }
            },
            "type": "scattergeo"
           }
          ],
          "scattergl": [
           {
            "marker": {
             "colorbar": {
              "outlinewidth": 0,
              "ticks": ""
             }
            },
            "type": "scattergl"
           }
          ],
          "scattermapbox": [
           {
            "marker": {
             "colorbar": {
              "outlinewidth": 0,
              "ticks": ""
             }
            },
            "type": "scattermapbox"
           }
          ],
          "scatterpolar": [
           {
            "marker": {
             "colorbar": {
              "outlinewidth": 0,
              "ticks": ""
             }
            },
            "type": "scatterpolar"
           }
          ],
          "scatterpolargl": [
           {
            "marker": {
             "colorbar": {
              "outlinewidth": 0,
              "ticks": ""
             }
            },
            "type": "scatterpolargl"
           }
          ],
          "scatterternary": [
           {
            "marker": {
             "colorbar": {
              "outlinewidth": 0,
              "ticks": ""
             }
            },
            "type": "scatterternary"
           }
          ],
          "surface": [
           {
            "colorbar": {
             "outlinewidth": 0,
             "ticks": ""
            },
            "colorscale": [
             [
              0,
              "#0d0887"
             ],
             [
              0.1111111111111111,
              "#46039f"
             ],
             [
              0.2222222222222222,
              "#7201a8"
             ],
             [
              0.3333333333333333,
              "#9c179e"
             ],
             [
              0.4444444444444444,
              "#bd3786"
             ],
             [
              0.5555555555555556,
              "#d8576b"
             ],
             [
              0.6666666666666666,
              "#ed7953"
             ],
             [
              0.7777777777777778,
              "#fb9f3a"
             ],
             [
              0.8888888888888888,
              "#fdca26"
             ],
             [
              1,
              "#f0f921"
             ]
            ],
            "type": "surface"
           }
          ],
          "table": [
           {
            "cells": {
             "fill": {
              "color": "#EBF0F8"
             },
             "line": {
              "color": "white"
             }
            },
            "header": {
             "fill": {
              "color": "#C8D4E3"
             },
             "line": {
              "color": "white"
             }
            },
            "type": "table"
           }
          ]
         },
         "layout": {
          "annotationdefaults": {
           "arrowcolor": "#2a3f5f",
           "arrowhead": 0,
           "arrowwidth": 1
          },
          "autotypenumbers": "strict",
          "coloraxis": {
           "colorbar": {
            "outlinewidth": 0,
            "ticks": ""
           }
          },
          "colorscale": {
           "diverging": [
            [
             0,
             "#8e0152"
            ],
            [
             0.1,
             "#c51b7d"
            ],
            [
             0.2,
             "#de77ae"
            ],
            [
             0.3,
             "#f1b6da"
            ],
            [
             0.4,
             "#fde0ef"
            ],
            [
             0.5,
             "#f7f7f7"
            ],
            [
             0.6,
             "#e6f5d0"
            ],
            [
             0.7,
             "#b8e186"
            ],
            [
             0.8,
             "#7fbc41"
            ],
            [
             0.9,
             "#4d9221"
            ],
            [
             1,
             "#276419"
            ]
           ],
           "sequential": [
            [
             0,
             "#0d0887"
            ],
            [
             0.1111111111111111,
             "#46039f"
            ],
            [
             0.2222222222222222,
             "#7201a8"
            ],
            [
             0.3333333333333333,
             "#9c179e"
            ],
            [
             0.4444444444444444,
             "#bd3786"
            ],
            [
             0.5555555555555556,
             "#d8576b"
            ],
            [
             0.6666666666666666,
             "#ed7953"
            ],
            [
             0.7777777777777778,
             "#fb9f3a"
            ],
            [
             0.8888888888888888,
             "#fdca26"
            ],
            [
             1,
             "#f0f921"
            ]
           ],
           "sequentialminus": [
            [
             0,
             "#0d0887"
            ],
            [
             0.1111111111111111,
             "#46039f"
            ],
            [
             0.2222222222222222,
             "#7201a8"
            ],
            [
             0.3333333333333333,
             "#9c179e"
            ],
            [
             0.4444444444444444,
             "#bd3786"
            ],
            [
             0.5555555555555556,
             "#d8576b"
            ],
            [
             0.6666666666666666,
             "#ed7953"
            ],
            [
             0.7777777777777778,
             "#fb9f3a"
            ],
            [
             0.8888888888888888,
             "#fdca26"
            ],
            [
             1,
             "#f0f921"
            ]
           ]
          },
          "colorway": [
           "#636efa",
           "#EF553B",
           "#00cc96",
           "#ab63fa",
           "#FFA15A",
           "#19d3f3",
           "#FF6692",
           "#B6E880",
           "#FF97FF",
           "#FECB52"
          ],
          "font": {
           "color": "#2a3f5f"
          },
          "geo": {
           "bgcolor": "white",
           "lakecolor": "white",
           "landcolor": "#E5ECF6",
           "showlakes": true,
           "showland": true,
           "subunitcolor": "white"
          },
          "hoverlabel": {
           "align": "left"
          },
          "hovermode": "closest",
          "mapbox": {
           "style": "light"
          },
          "paper_bgcolor": "white",
          "plot_bgcolor": "#E5ECF6",
          "polar": {
           "angularaxis": {
            "gridcolor": "white",
            "linecolor": "white",
            "ticks": ""
           },
           "bgcolor": "#E5ECF6",
           "radialaxis": {
            "gridcolor": "white",
            "linecolor": "white",
            "ticks": ""
           }
          },
          "scene": {
           "xaxis": {
            "backgroundcolor": "#E5ECF6",
            "gridcolor": "white",
            "gridwidth": 2,
            "linecolor": "white",
            "showbackground": true,
            "ticks": "",
            "zerolinecolor": "white"
           },
           "yaxis": {
            "backgroundcolor": "#E5ECF6",
            "gridcolor": "white",
            "gridwidth": 2,
            "linecolor": "white",
            "showbackground": true,
            "ticks": "",
            "zerolinecolor": "white"
           },
           "zaxis": {
            "backgroundcolor": "#E5ECF6",
            "gridcolor": "white",
            "gridwidth": 2,
            "linecolor": "white",
            "showbackground": true,
            "ticks": "",
            "zerolinecolor": "white"
           }
          },
          "shapedefaults": {
           "line": {
            "color": "#2a3f5f"
           }
          },
          "ternary": {
           "aaxis": {
            "gridcolor": "white",
            "linecolor": "white",
            "ticks": ""
           },
           "baxis": {
            "gridcolor": "white",
            "linecolor": "white",
            "ticks": ""
           },
           "bgcolor": "#E5ECF6",
           "caxis": {
            "gridcolor": "white",
            "linecolor": "white",
            "ticks": ""
           }
          },
          "title": {
           "x": 0.05
          },
          "xaxis": {
           "automargin": true,
           "gridcolor": "white",
           "linecolor": "white",
           "ticks": "",
           "title": {
            "standoff": 15
           },
           "zerolinecolor": "white",
           "zerolinewidth": 2
          },
          "yaxis": {
           "automargin": true,
           "gridcolor": "white",
           "linecolor": "white",
           "ticks": "",
           "title": {
            "standoff": 15
           },
           "zerolinecolor": "white",
           "zerolinewidth": 2
          }
         }
        },
        "xaxis": {
         "tickangle": -45
        }
       }
      }
     },
     "metadata": {},
     "output_type": "display_data"
    }
   ],
   "source": [
    "months  = ['Jan', 'Feb', 'Mar', 'Apr', 'May', 'Jun', 'Jul','Aug', 'Sep', 'Oct', 'Nov', 'Dec']\n",
    "months = pd.date_range('2023-01-01', periods=12)\n",
    "random_1 = np.random.randint(0, 100, 12)\n",
    "random_2 = np.random.randint(0, 500, 12)\n",
    "\n",
    "trace1 = go.Bar(x = months, y=random_1, name = 'random_1', marker_color ='indianred')\n",
    "trace2 = go.Bar(x = months, y=random_2, name = 'random_2', marker_color ='lightsalmon')\n",
    "\n",
    "layout = go.Layout(xaxis_tickangle = -45)\n",
    "\n",
    "data = [trace1,trace2]\n",
    "\n",
    "fig = go.Figure(data=data, layout=layout)\n",
    "\n",
    "fig.show()\n"
   ]
  },
  {
   "cell_type": "markdown",
   "metadata": {},
   "source": [
    "## 2.2 특정부분만 색바꾸기"
   ]
  },
  {
   "cell_type": "code",
   "execution_count": 26,
   "metadata": {},
   "outputs": [
    {
     "data": {
      "application/vnd.plotly.v1+json": {
       "config": {
        "plotlyServerURL": "https://plot.ly"
       },
       "data": [
        {
         "marker": {
          "color": [
           "indianred",
           "indianred",
           "indianred",
           "indianred",
           "crimson",
           "indianred",
           "indianred",
           "indianred",
           "indianred",
           "indianred",
           "indianred",
           "indianred"
          ]
         },
         "name": "random_1",
         "type": "bar",
         "x": [
          "2023-01-01T00:00:00",
          "2023-01-02T00:00:00",
          "2023-01-03T00:00:00",
          "2023-01-04T00:00:00",
          "2023-01-05T00:00:00",
          "2023-01-06T00:00:00",
          "2023-01-07T00:00:00",
          "2023-01-08T00:00:00",
          "2023-01-09T00:00:00",
          "2023-01-10T00:00:00",
          "2023-01-11T00:00:00",
          "2023-01-12T00:00:00"
         ],
         "y": [
          43,
          5,
          78,
          96,
          40,
          50,
          70,
          16,
          98,
          86,
          83,
          60
         ]
        },
        {
         "marker": {
          "color": [
           "lightsalmon",
           "lightsalmon",
           "lightsalmon",
           "lightsalmon",
           "LightSkyBlue",
           "lightsalmon",
           "lightsalmon",
           "lightsalmon",
           "lightsalmon",
           "lightsalmon",
           "lightsalmon",
           "lightsalmon"
          ]
         },
         "name": "random_2",
         "type": "bar",
         "x": [
          "2023-01-01T00:00:00",
          "2023-01-02T00:00:00",
          "2023-01-03T00:00:00",
          "2023-01-04T00:00:00",
          "2023-01-05T00:00:00",
          "2023-01-06T00:00:00",
          "2023-01-07T00:00:00",
          "2023-01-08T00:00:00",
          "2023-01-09T00:00:00",
          "2023-01-10T00:00:00",
          "2023-01-11T00:00:00",
          "2023-01-12T00:00:00"
         ],
         "y": [
          254,
          98,
          419,
          207,
          481,
          40,
          386,
          236,
          245,
          455,
          292,
          89
         ]
        }
       ],
       "layout": {
        "template": {
         "data": {
          "bar": [
           {
            "error_x": {
             "color": "#2a3f5f"
            },
            "error_y": {
             "color": "#2a3f5f"
            },
            "marker": {
             "line": {
              "color": "#E5ECF6",
              "width": 0.5
             },
             "pattern": {
              "fillmode": "overlay",
              "size": 10,
              "solidity": 0.2
             }
            },
            "type": "bar"
           }
          ],
          "barpolar": [
           {
            "marker": {
             "line": {
              "color": "#E5ECF6",
              "width": 0.5
             },
             "pattern": {
              "fillmode": "overlay",
              "size": 10,
              "solidity": 0.2
             }
            },
            "type": "barpolar"
           }
          ],
          "carpet": [
           {
            "aaxis": {
             "endlinecolor": "#2a3f5f",
             "gridcolor": "white",
             "linecolor": "white",
             "minorgridcolor": "white",
             "startlinecolor": "#2a3f5f"
            },
            "baxis": {
             "endlinecolor": "#2a3f5f",
             "gridcolor": "white",
             "linecolor": "white",
             "minorgridcolor": "white",
             "startlinecolor": "#2a3f5f"
            },
            "type": "carpet"
           }
          ],
          "choropleth": [
           {
            "colorbar": {
             "outlinewidth": 0,
             "ticks": ""
            },
            "type": "choropleth"
           }
          ],
          "contour": [
           {
            "colorbar": {
             "outlinewidth": 0,
             "ticks": ""
            },
            "colorscale": [
             [
              0,
              "#0d0887"
             ],
             [
              0.1111111111111111,
              "#46039f"
             ],
             [
              0.2222222222222222,
              "#7201a8"
             ],
             [
              0.3333333333333333,
              "#9c179e"
             ],
             [
              0.4444444444444444,
              "#bd3786"
             ],
             [
              0.5555555555555556,
              "#d8576b"
             ],
             [
              0.6666666666666666,
              "#ed7953"
             ],
             [
              0.7777777777777778,
              "#fb9f3a"
             ],
             [
              0.8888888888888888,
              "#fdca26"
             ],
             [
              1,
              "#f0f921"
             ]
            ],
            "type": "contour"
           }
          ],
          "contourcarpet": [
           {
            "colorbar": {
             "outlinewidth": 0,
             "ticks": ""
            },
            "type": "contourcarpet"
           }
          ],
          "heatmap": [
           {
            "colorbar": {
             "outlinewidth": 0,
             "ticks": ""
            },
            "colorscale": [
             [
              0,
              "#0d0887"
             ],
             [
              0.1111111111111111,
              "#46039f"
             ],
             [
              0.2222222222222222,
              "#7201a8"
             ],
             [
              0.3333333333333333,
              "#9c179e"
             ],
             [
              0.4444444444444444,
              "#bd3786"
             ],
             [
              0.5555555555555556,
              "#d8576b"
             ],
             [
              0.6666666666666666,
              "#ed7953"
             ],
             [
              0.7777777777777778,
              "#fb9f3a"
             ],
             [
              0.8888888888888888,
              "#fdca26"
             ],
             [
              1,
              "#f0f921"
             ]
            ],
            "type": "heatmap"
           }
          ],
          "heatmapgl": [
           {
            "colorbar": {
             "outlinewidth": 0,
             "ticks": ""
            },
            "colorscale": [
             [
              0,
              "#0d0887"
             ],
             [
              0.1111111111111111,
              "#46039f"
             ],
             [
              0.2222222222222222,
              "#7201a8"
             ],
             [
              0.3333333333333333,
              "#9c179e"
             ],
             [
              0.4444444444444444,
              "#bd3786"
             ],
             [
              0.5555555555555556,
              "#d8576b"
             ],
             [
              0.6666666666666666,
              "#ed7953"
             ],
             [
              0.7777777777777778,
              "#fb9f3a"
             ],
             [
              0.8888888888888888,
              "#fdca26"
             ],
             [
              1,
              "#f0f921"
             ]
            ],
            "type": "heatmapgl"
           }
          ],
          "histogram": [
           {
            "marker": {
             "pattern": {
              "fillmode": "overlay",
              "size": 10,
              "solidity": 0.2
             }
            },
            "type": "histogram"
           }
          ],
          "histogram2d": [
           {
            "colorbar": {
             "outlinewidth": 0,
             "ticks": ""
            },
            "colorscale": [
             [
              0,
              "#0d0887"
             ],
             [
              0.1111111111111111,
              "#46039f"
             ],
             [
              0.2222222222222222,
              "#7201a8"
             ],
             [
              0.3333333333333333,
              "#9c179e"
             ],
             [
              0.4444444444444444,
              "#bd3786"
             ],
             [
              0.5555555555555556,
              "#d8576b"
             ],
             [
              0.6666666666666666,
              "#ed7953"
             ],
             [
              0.7777777777777778,
              "#fb9f3a"
             ],
             [
              0.8888888888888888,
              "#fdca26"
             ],
             [
              1,
              "#f0f921"
             ]
            ],
            "type": "histogram2d"
           }
          ],
          "histogram2dcontour": [
           {
            "colorbar": {
             "outlinewidth": 0,
             "ticks": ""
            },
            "colorscale": [
             [
              0,
              "#0d0887"
             ],
             [
              0.1111111111111111,
              "#46039f"
             ],
             [
              0.2222222222222222,
              "#7201a8"
             ],
             [
              0.3333333333333333,
              "#9c179e"
             ],
             [
              0.4444444444444444,
              "#bd3786"
             ],
             [
              0.5555555555555556,
              "#d8576b"
             ],
             [
              0.6666666666666666,
              "#ed7953"
             ],
             [
              0.7777777777777778,
              "#fb9f3a"
             ],
             [
              0.8888888888888888,
              "#fdca26"
             ],
             [
              1,
              "#f0f921"
             ]
            ],
            "type": "histogram2dcontour"
           }
          ],
          "mesh3d": [
           {
            "colorbar": {
             "outlinewidth": 0,
             "ticks": ""
            },
            "type": "mesh3d"
           }
          ],
          "parcoords": [
           {
            "line": {
             "colorbar": {
              "outlinewidth": 0,
              "ticks": ""
             }
            },
            "type": "parcoords"
           }
          ],
          "pie": [
           {
            "automargin": true,
            "type": "pie"
           }
          ],
          "scatter": [
           {
            "fillpattern": {
             "fillmode": "overlay",
             "size": 10,
             "solidity": 0.2
            },
            "type": "scatter"
           }
          ],
          "scatter3d": [
           {
            "line": {
             "colorbar": {
              "outlinewidth": 0,
              "ticks": ""
             }
            },
            "marker": {
             "colorbar": {
              "outlinewidth": 0,
              "ticks": ""
             }
            },
            "type": "scatter3d"
           }
          ],
          "scattercarpet": [
           {
            "marker": {
             "colorbar": {
              "outlinewidth": 0,
              "ticks": ""
             }
            },
            "type": "scattercarpet"
           }
          ],
          "scattergeo": [
           {
            "marker": {
             "colorbar": {
              "outlinewidth": 0,
              "ticks": ""
             }
            },
            "type": "scattergeo"
           }
          ],
          "scattergl": [
           {
            "marker": {
             "colorbar": {
              "outlinewidth": 0,
              "ticks": ""
             }
            },
            "type": "scattergl"
           }
          ],
          "scattermapbox": [
           {
            "marker": {
             "colorbar": {
              "outlinewidth": 0,
              "ticks": ""
             }
            },
            "type": "scattermapbox"
           }
          ],
          "scatterpolar": [
           {
            "marker": {
             "colorbar": {
              "outlinewidth": 0,
              "ticks": ""
             }
            },
            "type": "scatterpolar"
           }
          ],
          "scatterpolargl": [
           {
            "marker": {
             "colorbar": {
              "outlinewidth": 0,
              "ticks": ""
             }
            },
            "type": "scatterpolargl"
           }
          ],
          "scatterternary": [
           {
            "marker": {
             "colorbar": {
              "outlinewidth": 0,
              "ticks": ""
             }
            },
            "type": "scatterternary"
           }
          ],
          "surface": [
           {
            "colorbar": {
             "outlinewidth": 0,
             "ticks": ""
            },
            "colorscale": [
             [
              0,
              "#0d0887"
             ],
             [
              0.1111111111111111,
              "#46039f"
             ],
             [
              0.2222222222222222,
              "#7201a8"
             ],
             [
              0.3333333333333333,
              "#9c179e"
             ],
             [
              0.4444444444444444,
              "#bd3786"
             ],
             [
              0.5555555555555556,
              "#d8576b"
             ],
             [
              0.6666666666666666,
              "#ed7953"
             ],
             [
              0.7777777777777778,
              "#fb9f3a"
             ],
             [
              0.8888888888888888,
              "#fdca26"
             ],
             [
              1,
              "#f0f921"
             ]
            ],
            "type": "surface"
           }
          ],
          "table": [
           {
            "cells": {
             "fill": {
              "color": "#EBF0F8"
             },
             "line": {
              "color": "white"
             }
            },
            "header": {
             "fill": {
              "color": "#C8D4E3"
             },
             "line": {
              "color": "white"
             }
            },
            "type": "table"
           }
          ]
         },
         "layout": {
          "annotationdefaults": {
           "arrowcolor": "#2a3f5f",
           "arrowhead": 0,
           "arrowwidth": 1
          },
          "autotypenumbers": "strict",
          "coloraxis": {
           "colorbar": {
            "outlinewidth": 0,
            "ticks": ""
           }
          },
          "colorscale": {
           "diverging": [
            [
             0,
             "#8e0152"
            ],
            [
             0.1,
             "#c51b7d"
            ],
            [
             0.2,
             "#de77ae"
            ],
            [
             0.3,
             "#f1b6da"
            ],
            [
             0.4,
             "#fde0ef"
            ],
            [
             0.5,
             "#f7f7f7"
            ],
            [
             0.6,
             "#e6f5d0"
            ],
            [
             0.7,
             "#b8e186"
            ],
            [
             0.8,
             "#7fbc41"
            ],
            [
             0.9,
             "#4d9221"
            ],
            [
             1,
             "#276419"
            ]
           ],
           "sequential": [
            [
             0,
             "#0d0887"
            ],
            [
             0.1111111111111111,
             "#46039f"
            ],
            [
             0.2222222222222222,
             "#7201a8"
            ],
            [
             0.3333333333333333,
             "#9c179e"
            ],
            [
             0.4444444444444444,
             "#bd3786"
            ],
            [
             0.5555555555555556,
             "#d8576b"
            ],
            [
             0.6666666666666666,
             "#ed7953"
            ],
            [
             0.7777777777777778,
             "#fb9f3a"
            ],
            [
             0.8888888888888888,
             "#fdca26"
            ],
            [
             1,
             "#f0f921"
            ]
           ],
           "sequentialminus": [
            [
             0,
             "#0d0887"
            ],
            [
             0.1111111111111111,
             "#46039f"
            ],
            [
             0.2222222222222222,
             "#7201a8"
            ],
            [
             0.3333333333333333,
             "#9c179e"
            ],
            [
             0.4444444444444444,
             "#bd3786"
            ],
            [
             0.5555555555555556,
             "#d8576b"
            ],
            [
             0.6666666666666666,
             "#ed7953"
            ],
            [
             0.7777777777777778,
             "#fb9f3a"
            ],
            [
             0.8888888888888888,
             "#fdca26"
            ],
            [
             1,
             "#f0f921"
            ]
           ]
          },
          "colorway": [
           "#636efa",
           "#EF553B",
           "#00cc96",
           "#ab63fa",
           "#FFA15A",
           "#19d3f3",
           "#FF6692",
           "#B6E880",
           "#FF97FF",
           "#FECB52"
          ],
          "font": {
           "color": "#2a3f5f"
          },
          "geo": {
           "bgcolor": "white",
           "lakecolor": "white",
           "landcolor": "#E5ECF6",
           "showlakes": true,
           "showland": true,
           "subunitcolor": "white"
          },
          "hoverlabel": {
           "align": "left"
          },
          "hovermode": "closest",
          "mapbox": {
           "style": "light"
          },
          "paper_bgcolor": "white",
          "plot_bgcolor": "#E5ECF6",
          "polar": {
           "angularaxis": {
            "gridcolor": "white",
            "linecolor": "white",
            "ticks": ""
           },
           "bgcolor": "#E5ECF6",
           "radialaxis": {
            "gridcolor": "white",
            "linecolor": "white",
            "ticks": ""
           }
          },
          "scene": {
           "xaxis": {
            "backgroundcolor": "#E5ECF6",
            "gridcolor": "white",
            "gridwidth": 2,
            "linecolor": "white",
            "showbackground": true,
            "ticks": "",
            "zerolinecolor": "white"
           },
           "yaxis": {
            "backgroundcolor": "#E5ECF6",
            "gridcolor": "white",
            "gridwidth": 2,
            "linecolor": "white",
            "showbackground": true,
            "ticks": "",
            "zerolinecolor": "white"
           },
           "zaxis": {
            "backgroundcolor": "#E5ECF6",
            "gridcolor": "white",
            "gridwidth": 2,
            "linecolor": "white",
            "showbackground": true,
            "ticks": "",
            "zerolinecolor": "white"
           }
          },
          "shapedefaults": {
           "line": {
            "color": "#2a3f5f"
           }
          },
          "ternary": {
           "aaxis": {
            "gridcolor": "white",
            "linecolor": "white",
            "ticks": ""
           },
           "baxis": {
            "gridcolor": "white",
            "linecolor": "white",
            "ticks": ""
           },
           "bgcolor": "#E5ECF6",
           "caxis": {
            "gridcolor": "white",
            "linecolor": "white",
            "ticks": ""
           }
          },
          "title": {
           "x": 0.05
          },
          "xaxis": {
           "automargin": true,
           "gridcolor": "white",
           "linecolor": "white",
           "ticks": "",
           "title": {
            "standoff": 15
           },
           "zerolinecolor": "white",
           "zerolinewidth": 2
          },
          "yaxis": {
           "automargin": true,
           "gridcolor": "white",
           "linecolor": "white",
           "ticks": "",
           "title": {
            "standoff": 15
           },
           "zerolinecolor": "white",
           "zerolinewidth": 2
          }
         }
        },
        "xaxis": {
         "tickangle": -45
        }
       }
      }
     },
     "metadata": {},
     "output_type": "display_data"
    }
   ],
   "source": [
    "months  = ['Jan', 'Feb', 'Mar', 'Apr', 'May', 'Jun', 'Jul','Aug', 'Sep', 'Oct', 'Nov', 'Dec']\n",
    "months = pd.date_range('2023-01-01', periods=12)\n",
    "random_1 = np.random.randint(0, 100, 12)\n",
    "random_2 = np.random.randint(0, 500, 12)\n",
    "\n",
    "colors1 = ['indianred']*12\n",
    "colors1[4]='crimson'\n",
    "colors2 = ['lightsalmon']*12\n",
    "colors2[4] = 'LightSkyBlue'\n",
    "trace1 = go.Bar(x = months, y=random_1, name = 'random_1', marker_color =colors1)\n",
    "trace2 = go.Bar(x = months, y=random_2, name = 'random_2', marker_color =colors2)\n",
    "\n",
    "layout = go.Layout(xaxis_tickangle = -45)\n",
    "\n",
    "data = [trace1,trace2]\n",
    "\n",
    "fig = go.Figure(data=data, layout=layout)\n",
    "\n",
    "fig.show()\n"
   ]
  },
  {
   "cell_type": "markdown",
   "metadata": {},
   "source": [
    "## 2.3 Basic _ 텍스트 나타내기"
   ]
  },
  {
   "cell_type": "code",
   "execution_count": 35,
   "metadata": {},
   "outputs": [
    {
     "data": {
      "application/vnd.plotly.v1+json": {
       "config": {
        "plotlyServerURL": "https://plot.ly"
       },
       "data": [
        {
         "marker": {
          "color": [
           "indianred",
           "indianred",
           "indianred",
           "indianred",
           "crimson",
           "indianred",
           "indianred",
           "indianred",
           "indianred",
           "indianred",
           "indianred",
           "indianred"
          ]
         },
         "name": "random_1",
         "textposition": "inside",
         "texttemplate": [
          "62",
          "58",
          "37",
          "78",
          "29",
          "66",
          "23",
          "19",
          "50",
          "17",
          "34",
          "34"
         ],
         "type": "bar",
         "x": [
          "2023-01-01T00:00:00",
          "2023-01-02T00:00:00",
          "2023-01-03T00:00:00",
          "2023-01-04T00:00:00",
          "2023-01-05T00:00:00",
          "2023-01-06T00:00:00",
          "2023-01-07T00:00:00",
          "2023-01-08T00:00:00",
          "2023-01-09T00:00:00",
          "2023-01-10T00:00:00",
          "2023-01-11T00:00:00",
          "2023-01-12T00:00:00"
         ],
         "y": [
          62,
          58,
          37,
          78,
          29,
          66,
          23,
          19,
          50,
          17,
          34,
          34
         ]
        },
        {
         "marker": {
          "color": [
           "lightsalmon",
           "lightsalmon",
           "lightsalmon",
           "lightsalmon",
           "LightSkyBlue",
           "lightsalmon",
           "lightsalmon",
           "lightsalmon",
           "lightsalmon",
           "lightsalmon",
           "lightsalmon",
           "lightsalmon"
          ]
         },
         "name": "random_2",
         "type": "bar",
         "x": [
          "2023-01-01T00:00:00",
          "2023-01-02T00:00:00",
          "2023-01-03T00:00:00",
          "2023-01-04T00:00:00",
          "2023-01-05T00:00:00",
          "2023-01-06T00:00:00",
          "2023-01-07T00:00:00",
          "2023-01-08T00:00:00",
          "2023-01-09T00:00:00",
          "2023-01-10T00:00:00",
          "2023-01-11T00:00:00",
          "2023-01-12T00:00:00"
         ],
         "y": [
          189,
          14,
          244,
          114,
          288,
          490,
          36,
          260,
          194,
          169,
          266,
          467
         ]
        }
       ],
       "layout": {
        "template": {
         "data": {
          "bar": [
           {
            "error_x": {
             "color": "#2a3f5f"
            },
            "error_y": {
             "color": "#2a3f5f"
            },
            "marker": {
             "line": {
              "color": "#E5ECF6",
              "width": 0.5
             },
             "pattern": {
              "fillmode": "overlay",
              "size": 10,
              "solidity": 0.2
             }
            },
            "type": "bar"
           }
          ],
          "barpolar": [
           {
            "marker": {
             "line": {
              "color": "#E5ECF6",
              "width": 0.5
             },
             "pattern": {
              "fillmode": "overlay",
              "size": 10,
              "solidity": 0.2
             }
            },
            "type": "barpolar"
           }
          ],
          "carpet": [
           {
            "aaxis": {
             "endlinecolor": "#2a3f5f",
             "gridcolor": "white",
             "linecolor": "white",
             "minorgridcolor": "white",
             "startlinecolor": "#2a3f5f"
            },
            "baxis": {
             "endlinecolor": "#2a3f5f",
             "gridcolor": "white",
             "linecolor": "white",
             "minorgridcolor": "white",
             "startlinecolor": "#2a3f5f"
            },
            "type": "carpet"
           }
          ],
          "choropleth": [
           {
            "colorbar": {
             "outlinewidth": 0,
             "ticks": ""
            },
            "type": "choropleth"
           }
          ],
          "contour": [
           {
            "colorbar": {
             "outlinewidth": 0,
             "ticks": ""
            },
            "colorscale": [
             [
              0,
              "#0d0887"
             ],
             [
              0.1111111111111111,
              "#46039f"
             ],
             [
              0.2222222222222222,
              "#7201a8"
             ],
             [
              0.3333333333333333,
              "#9c179e"
             ],
             [
              0.4444444444444444,
              "#bd3786"
             ],
             [
              0.5555555555555556,
              "#d8576b"
             ],
             [
              0.6666666666666666,
              "#ed7953"
             ],
             [
              0.7777777777777778,
              "#fb9f3a"
             ],
             [
              0.8888888888888888,
              "#fdca26"
             ],
             [
              1,
              "#f0f921"
             ]
            ],
            "type": "contour"
           }
          ],
          "contourcarpet": [
           {
            "colorbar": {
             "outlinewidth": 0,
             "ticks": ""
            },
            "type": "contourcarpet"
           }
          ],
          "heatmap": [
           {
            "colorbar": {
             "outlinewidth": 0,
             "ticks": ""
            },
            "colorscale": [
             [
              0,
              "#0d0887"
             ],
             [
              0.1111111111111111,
              "#46039f"
             ],
             [
              0.2222222222222222,
              "#7201a8"
             ],
             [
              0.3333333333333333,
              "#9c179e"
             ],
             [
              0.4444444444444444,
              "#bd3786"
             ],
             [
              0.5555555555555556,
              "#d8576b"
             ],
             [
              0.6666666666666666,
              "#ed7953"
             ],
             [
              0.7777777777777778,
              "#fb9f3a"
             ],
             [
              0.8888888888888888,
              "#fdca26"
             ],
             [
              1,
              "#f0f921"
             ]
            ],
            "type": "heatmap"
           }
          ],
          "heatmapgl": [
           {
            "colorbar": {
             "outlinewidth": 0,
             "ticks": ""
            },
            "colorscale": [
             [
              0,
              "#0d0887"
             ],
             [
              0.1111111111111111,
              "#46039f"
             ],
             [
              0.2222222222222222,
              "#7201a8"
             ],
             [
              0.3333333333333333,
              "#9c179e"
             ],
             [
              0.4444444444444444,
              "#bd3786"
             ],
             [
              0.5555555555555556,
              "#d8576b"
             ],
             [
              0.6666666666666666,
              "#ed7953"
             ],
             [
              0.7777777777777778,
              "#fb9f3a"
             ],
             [
              0.8888888888888888,
              "#fdca26"
             ],
             [
              1,
              "#f0f921"
             ]
            ],
            "type": "heatmapgl"
           }
          ],
          "histogram": [
           {
            "marker": {
             "pattern": {
              "fillmode": "overlay",
              "size": 10,
              "solidity": 0.2
             }
            },
            "type": "histogram"
           }
          ],
          "histogram2d": [
           {
            "colorbar": {
             "outlinewidth": 0,
             "ticks": ""
            },
            "colorscale": [
             [
              0,
              "#0d0887"
             ],
             [
              0.1111111111111111,
              "#46039f"
             ],
             [
              0.2222222222222222,
              "#7201a8"
             ],
             [
              0.3333333333333333,
              "#9c179e"
             ],
             [
              0.4444444444444444,
              "#bd3786"
             ],
             [
              0.5555555555555556,
              "#d8576b"
             ],
             [
              0.6666666666666666,
              "#ed7953"
             ],
             [
              0.7777777777777778,
              "#fb9f3a"
             ],
             [
              0.8888888888888888,
              "#fdca26"
             ],
             [
              1,
              "#f0f921"
             ]
            ],
            "type": "histogram2d"
           }
          ],
          "histogram2dcontour": [
           {
            "colorbar": {
             "outlinewidth": 0,
             "ticks": ""
            },
            "colorscale": [
             [
              0,
              "#0d0887"
             ],
             [
              0.1111111111111111,
              "#46039f"
             ],
             [
              0.2222222222222222,
              "#7201a8"
             ],
             [
              0.3333333333333333,
              "#9c179e"
             ],
             [
              0.4444444444444444,
              "#bd3786"
             ],
             [
              0.5555555555555556,
              "#d8576b"
             ],
             [
              0.6666666666666666,
              "#ed7953"
             ],
             [
              0.7777777777777778,
              "#fb9f3a"
             ],
             [
              0.8888888888888888,
              "#fdca26"
             ],
             [
              1,
              "#f0f921"
             ]
            ],
            "type": "histogram2dcontour"
           }
          ],
          "mesh3d": [
           {
            "colorbar": {
             "outlinewidth": 0,
             "ticks": ""
            },
            "type": "mesh3d"
           }
          ],
          "parcoords": [
           {
            "line": {
             "colorbar": {
              "outlinewidth": 0,
              "ticks": ""
             }
            },
            "type": "parcoords"
           }
          ],
          "pie": [
           {
            "automargin": true,
            "type": "pie"
           }
          ],
          "scatter": [
           {
            "fillpattern": {
             "fillmode": "overlay",
             "size": 10,
             "solidity": 0.2
            },
            "type": "scatter"
           }
          ],
          "scatter3d": [
           {
            "line": {
             "colorbar": {
              "outlinewidth": 0,
              "ticks": ""
             }
            },
            "marker": {
             "colorbar": {
              "outlinewidth": 0,
              "ticks": ""
             }
            },
            "type": "scatter3d"
           }
          ],
          "scattercarpet": [
           {
            "marker": {
             "colorbar": {
              "outlinewidth": 0,
              "ticks": ""
             }
            },
            "type": "scattercarpet"
           }
          ],
          "scattergeo": [
           {
            "marker": {
             "colorbar": {
              "outlinewidth": 0,
              "ticks": ""
             }
            },
            "type": "scattergeo"
           }
          ],
          "scattergl": [
           {
            "marker": {
             "colorbar": {
              "outlinewidth": 0,
              "ticks": ""
             }
            },
            "type": "scattergl"
           }
          ],
          "scattermapbox": [
           {
            "marker": {
             "colorbar": {
              "outlinewidth": 0,
              "ticks": ""
             }
            },
            "type": "scattermapbox"
           }
          ],
          "scatterpolar": [
           {
            "marker": {
             "colorbar": {
              "outlinewidth": 0,
              "ticks": ""
             }
            },
            "type": "scatterpolar"
           }
          ],
          "scatterpolargl": [
           {
            "marker": {
             "colorbar": {
              "outlinewidth": 0,
              "ticks": ""
             }
            },
            "type": "scatterpolargl"
           }
          ],
          "scatterternary": [
           {
            "marker": {
             "colorbar": {
              "outlinewidth": 0,
              "ticks": ""
             }
            },
            "type": "scatterternary"
           }
          ],
          "surface": [
           {
            "colorbar": {
             "outlinewidth": 0,
             "ticks": ""
            },
            "colorscale": [
             [
              0,
              "#0d0887"
             ],
             [
              0.1111111111111111,
              "#46039f"
             ],
             [
              0.2222222222222222,
              "#7201a8"
             ],
             [
              0.3333333333333333,
              "#9c179e"
             ],
             [
              0.4444444444444444,
              "#bd3786"
             ],
             [
              0.5555555555555556,
              "#d8576b"
             ],
             [
              0.6666666666666666,
              "#ed7953"
             ],
             [
              0.7777777777777778,
              "#fb9f3a"
             ],
             [
              0.8888888888888888,
              "#fdca26"
             ],
             [
              1,
              "#f0f921"
             ]
            ],
            "type": "surface"
           }
          ],
          "table": [
           {
            "cells": {
             "fill": {
              "color": "#EBF0F8"
             },
             "line": {
              "color": "white"
             }
            },
            "header": {
             "fill": {
              "color": "#C8D4E3"
             },
             "line": {
              "color": "white"
             }
            },
            "type": "table"
           }
          ]
         },
         "layout": {
          "annotationdefaults": {
           "arrowcolor": "#2a3f5f",
           "arrowhead": 0,
           "arrowwidth": 1
          },
          "autotypenumbers": "strict",
          "coloraxis": {
           "colorbar": {
            "outlinewidth": 0,
            "ticks": ""
           }
          },
          "colorscale": {
           "diverging": [
            [
             0,
             "#8e0152"
            ],
            [
             0.1,
             "#c51b7d"
            ],
            [
             0.2,
             "#de77ae"
            ],
            [
             0.3,
             "#f1b6da"
            ],
            [
             0.4,
             "#fde0ef"
            ],
            [
             0.5,
             "#f7f7f7"
            ],
            [
             0.6,
             "#e6f5d0"
            ],
            [
             0.7,
             "#b8e186"
            ],
            [
             0.8,
             "#7fbc41"
            ],
            [
             0.9,
             "#4d9221"
            ],
            [
             1,
             "#276419"
            ]
           ],
           "sequential": [
            [
             0,
             "#0d0887"
            ],
            [
             0.1111111111111111,
             "#46039f"
            ],
            [
             0.2222222222222222,
             "#7201a8"
            ],
            [
             0.3333333333333333,
             "#9c179e"
            ],
            [
             0.4444444444444444,
             "#bd3786"
            ],
            [
             0.5555555555555556,
             "#d8576b"
            ],
            [
             0.6666666666666666,
             "#ed7953"
            ],
            [
             0.7777777777777778,
             "#fb9f3a"
            ],
            [
             0.8888888888888888,
             "#fdca26"
            ],
            [
             1,
             "#f0f921"
            ]
           ],
           "sequentialminus": [
            [
             0,
             "#0d0887"
            ],
            [
             0.1111111111111111,
             "#46039f"
            ],
            [
             0.2222222222222222,
             "#7201a8"
            ],
            [
             0.3333333333333333,
             "#9c179e"
            ],
            [
             0.4444444444444444,
             "#bd3786"
            ],
            [
             0.5555555555555556,
             "#d8576b"
            ],
            [
             0.6666666666666666,
             "#ed7953"
            ],
            [
             0.7777777777777778,
             "#fb9f3a"
            ],
            [
             0.8888888888888888,
             "#fdca26"
            ],
            [
             1,
             "#f0f921"
            ]
           ]
          },
          "colorway": [
           "#636efa",
           "#EF553B",
           "#00cc96",
           "#ab63fa",
           "#FFA15A",
           "#19d3f3",
           "#FF6692",
           "#B6E880",
           "#FF97FF",
           "#FECB52"
          ],
          "font": {
           "color": "#2a3f5f"
          },
          "geo": {
           "bgcolor": "white",
           "lakecolor": "white",
           "landcolor": "#E5ECF6",
           "showlakes": true,
           "showland": true,
           "subunitcolor": "white"
          },
          "hoverlabel": {
           "align": "left"
          },
          "hovermode": "closest",
          "mapbox": {
           "style": "light"
          },
          "paper_bgcolor": "white",
          "plot_bgcolor": "#E5ECF6",
          "polar": {
           "angularaxis": {
            "gridcolor": "white",
            "linecolor": "white",
            "ticks": ""
           },
           "bgcolor": "#E5ECF6",
           "radialaxis": {
            "gridcolor": "white",
            "linecolor": "white",
            "ticks": ""
           }
          },
          "scene": {
           "xaxis": {
            "backgroundcolor": "#E5ECF6",
            "gridcolor": "white",
            "gridwidth": 2,
            "linecolor": "white",
            "showbackground": true,
            "ticks": "",
            "zerolinecolor": "white"
           },
           "yaxis": {
            "backgroundcolor": "#E5ECF6",
            "gridcolor": "white",
            "gridwidth": 2,
            "linecolor": "white",
            "showbackground": true,
            "ticks": "",
            "zerolinecolor": "white"
           },
           "zaxis": {
            "backgroundcolor": "#E5ECF6",
            "gridcolor": "white",
            "gridwidth": 2,
            "linecolor": "white",
            "showbackground": true,
            "ticks": "",
            "zerolinecolor": "white"
           }
          },
          "shapedefaults": {
           "line": {
            "color": "#2a3f5f"
           }
          },
          "ternary": {
           "aaxis": {
            "gridcolor": "white",
            "linecolor": "white",
            "ticks": ""
           },
           "baxis": {
            "gridcolor": "white",
            "linecolor": "white",
            "ticks": ""
           },
           "bgcolor": "#E5ECF6",
           "caxis": {
            "gridcolor": "white",
            "linecolor": "white",
            "ticks": ""
           }
          },
          "title": {
           "x": 0.05
          },
          "xaxis": {
           "automargin": true,
           "gridcolor": "white",
           "linecolor": "white",
           "ticks": "",
           "title": {
            "standoff": 15
           },
           "zerolinecolor": "white",
           "zerolinewidth": 2
          },
          "yaxis": {
           "automargin": true,
           "gridcolor": "white",
           "linecolor": "white",
           "ticks": "",
           "title": {
            "standoff": 15
           },
           "zerolinecolor": "white",
           "zerolinewidth": 2
          }
         }
        },
        "xaxis": {
         "tickangle": -45
        }
       }
      }
     },
     "metadata": {},
     "output_type": "display_data"
    }
   ],
   "source": [
    "months  = ['Jan', 'Feb', 'Mar', 'Apr', 'May', 'Jun', 'Jul','Aug', 'Sep', 'Oct', 'Nov', 'Dec']\n",
    "months = pd.date_range('2023-01-01', periods=12)\n",
    "random_1 = np.random.randint(0, 100, 12)\n",
    "random_2 = np.random.randint(0, 500, 12)\n",
    "\n",
    "colors1 = ['indianred']*12\n",
    "colors1[4]='crimson'\n",
    "colors2 = ['lightsalmon']*12\n",
    "colors2[4] = 'LightSkyBlue'\n",
    "\n",
    "texttemplate = [ '{}'.format(i) for i in random_1]\n",
    "trace1 = go.Bar(x = months, y=random_1, name = 'random_1', marker_color =colors1, texttemplate=texttemplate,\n",
    "                textposition='inside')\n",
    "trace2 = go.Bar(x = months, y=random_2, name = 'random_2', marker_color =colors2)\n",
    "\n",
    "layout = go.Layout(xaxis_tickangle = -45)\n",
    "\n",
    "data = [trace1,trace2]\n",
    "\n",
    "fig = go.Figure(data=data, layout=layout)\n",
    "\n",
    "fig.show()\n"
   ]
  },
  {
   "cell_type": "code",
   "execution_count": 28,
   "metadata": {},
   "outputs": [
    {
     "data": {
      "text/plain": [
       "['53', '65', '68', '9', '83', '72', '52', '15', '2', '36', '55', '93']"
      ]
     },
     "execution_count": 28,
     "metadata": {},
     "output_type": "execute_result"
    }
   ],
   "source": [
    "texttemplate = [ '{}'.format(i) for i in random_1]\n",
    "texttemplate"
   ]
  },
  {
   "cell_type": "code",
   "execution_count": 32,
   "metadata": {},
   "outputs": [
    {
     "data": {
      "text/plain": [
       "['53', '65', '68', '9', '83', '72', '52', '15', '2', '36', '55', '93']"
      ]
     },
     "execution_count": 32,
     "metadata": {},
     "output_type": "execute_result"
    }
   ],
   "source": [
    "textformat = []\n",
    "\n",
    "for i in random_1 : \n",
    "    text_var = '{}'.format(i)\n",
    "    textformat.append(text_var)\n",
    "textformat\n"
   ]
  },
  {
   "cell_type": "code",
   "execution_count": null,
   "metadata": {},
   "outputs": [],
   "source": []
  },
  {
   "cell_type": "markdown",
   "metadata": {},
   "source": [
    "# 3. Pie Chart"
   ]
  },
  {
   "cell_type": "markdown",
   "metadata": {},
   "source": [
    "## Basic 1"
   ]
  },
  {
   "cell_type": "code",
   "execution_count": 28,
   "metadata": {},
   "outputs": [
    {
     "data": {
      "application/vnd.plotly.v1+json": {
       "config": {
        "plotlyServerURL": "https://plot.ly"
       },
       "data": [
        {
         "labels": [
          "Apple",
          "Banana",
          "Tomato",
          "Strawberry",
          "Melon"
         ],
         "textinfo": "label+value",
         "type": "pie",
         "values": [
          4500,
          3000,
          2500,
          3500,
          5000
         ]
        }
       ],
       "layout": {
        "autosize": true,
        "height": 366.3,
        "legend": {
         "font": {
          "color": "white"
         }
        },
        "margin": {
         "b": 10,
         "l": 10,
         "r": 10,
         "t": 10
        },
        "paper_bgcolor": "rgb(39, 46, 90)",
        "template": {
         "data": {
          "bar": [
           {
            "error_x": {
             "color": "#2a3f5f"
            },
            "error_y": {
             "color": "#2a3f5f"
            },
            "marker": {
             "line": {
              "color": "#E5ECF6",
              "width": 0.5
             },
             "pattern": {
              "fillmode": "overlay",
              "size": 10,
              "solidity": 0.2
             }
            },
            "type": "bar"
           }
          ],
          "barpolar": [
           {
            "marker": {
             "line": {
              "color": "#E5ECF6",
              "width": 0.5
             },
             "pattern": {
              "fillmode": "overlay",
              "size": 10,
              "solidity": 0.2
             }
            },
            "type": "barpolar"
           }
          ],
          "carpet": [
           {
            "aaxis": {
             "endlinecolor": "#2a3f5f",
             "gridcolor": "white",
             "linecolor": "white",
             "minorgridcolor": "white",
             "startlinecolor": "#2a3f5f"
            },
            "baxis": {
             "endlinecolor": "#2a3f5f",
             "gridcolor": "white",
             "linecolor": "white",
             "minorgridcolor": "white",
             "startlinecolor": "#2a3f5f"
            },
            "type": "carpet"
           }
          ],
          "choropleth": [
           {
            "colorbar": {
             "outlinewidth": 0,
             "ticks": ""
            },
            "type": "choropleth"
           }
          ],
          "contour": [
           {
            "colorbar": {
             "outlinewidth": 0,
             "ticks": ""
            },
            "colorscale": [
             [
              0,
              "#0d0887"
             ],
             [
              0.1111111111111111,
              "#46039f"
             ],
             [
              0.2222222222222222,
              "#7201a8"
             ],
             [
              0.3333333333333333,
              "#9c179e"
             ],
             [
              0.4444444444444444,
              "#bd3786"
             ],
             [
              0.5555555555555556,
              "#d8576b"
             ],
             [
              0.6666666666666666,
              "#ed7953"
             ],
             [
              0.7777777777777778,
              "#fb9f3a"
             ],
             [
              0.8888888888888888,
              "#fdca26"
             ],
             [
              1,
              "#f0f921"
             ]
            ],
            "type": "contour"
           }
          ],
          "contourcarpet": [
           {
            "colorbar": {
             "outlinewidth": 0,
             "ticks": ""
            },
            "type": "contourcarpet"
           }
          ],
          "heatmap": [
           {
            "colorbar": {
             "outlinewidth": 0,
             "ticks": ""
            },
            "colorscale": [
             [
              0,
              "#0d0887"
             ],
             [
              0.1111111111111111,
              "#46039f"
             ],
             [
              0.2222222222222222,
              "#7201a8"
             ],
             [
              0.3333333333333333,
              "#9c179e"
             ],
             [
              0.4444444444444444,
              "#bd3786"
             ],
             [
              0.5555555555555556,
              "#d8576b"
             ],
             [
              0.6666666666666666,
              "#ed7953"
             ],
             [
              0.7777777777777778,
              "#fb9f3a"
             ],
             [
              0.8888888888888888,
              "#fdca26"
             ],
             [
              1,
              "#f0f921"
             ]
            ],
            "type": "heatmap"
           }
          ],
          "heatmapgl": [
           {
            "colorbar": {
             "outlinewidth": 0,
             "ticks": ""
            },
            "colorscale": [
             [
              0,
              "#0d0887"
             ],
             [
              0.1111111111111111,
              "#46039f"
             ],
             [
              0.2222222222222222,
              "#7201a8"
             ],
             [
              0.3333333333333333,
              "#9c179e"
             ],
             [
              0.4444444444444444,
              "#bd3786"
             ],
             [
              0.5555555555555556,
              "#d8576b"
             ],
             [
              0.6666666666666666,
              "#ed7953"
             ],
             [
              0.7777777777777778,
              "#fb9f3a"
             ],
             [
              0.8888888888888888,
              "#fdca26"
             ],
             [
              1,
              "#f0f921"
             ]
            ],
            "type": "heatmapgl"
           }
          ],
          "histogram": [
           {
            "marker": {
             "pattern": {
              "fillmode": "overlay",
              "size": 10,
              "solidity": 0.2
             }
            },
            "type": "histogram"
           }
          ],
          "histogram2d": [
           {
            "colorbar": {
             "outlinewidth": 0,
             "ticks": ""
            },
            "colorscale": [
             [
              0,
              "#0d0887"
             ],
             [
              0.1111111111111111,
              "#46039f"
             ],
             [
              0.2222222222222222,
              "#7201a8"
             ],
             [
              0.3333333333333333,
              "#9c179e"
             ],
             [
              0.4444444444444444,
              "#bd3786"
             ],
             [
              0.5555555555555556,
              "#d8576b"
             ],
             [
              0.6666666666666666,
              "#ed7953"
             ],
             [
              0.7777777777777778,
              "#fb9f3a"
             ],
             [
              0.8888888888888888,
              "#fdca26"
             ],
             [
              1,
              "#f0f921"
             ]
            ],
            "type": "histogram2d"
           }
          ],
          "histogram2dcontour": [
           {
            "colorbar": {
             "outlinewidth": 0,
             "ticks": ""
            },
            "colorscale": [
             [
              0,
              "#0d0887"
             ],
             [
              0.1111111111111111,
              "#46039f"
             ],
             [
              0.2222222222222222,
              "#7201a8"
             ],
             [
              0.3333333333333333,
              "#9c179e"
             ],
             [
              0.4444444444444444,
              "#bd3786"
             ],
             [
              0.5555555555555556,
              "#d8576b"
             ],
             [
              0.6666666666666666,
              "#ed7953"
             ],
             [
              0.7777777777777778,
              "#fb9f3a"
             ],
             [
              0.8888888888888888,
              "#fdca26"
             ],
             [
              1,
              "#f0f921"
             ]
            ],
            "type": "histogram2dcontour"
           }
          ],
          "mesh3d": [
           {
            "colorbar": {
             "outlinewidth": 0,
             "ticks": ""
            },
            "type": "mesh3d"
           }
          ],
          "parcoords": [
           {
            "line": {
             "colorbar": {
              "outlinewidth": 0,
              "ticks": ""
             }
            },
            "type": "parcoords"
           }
          ],
          "pie": [
           {
            "automargin": true,
            "type": "pie"
           }
          ],
          "scatter": [
           {
            "fillpattern": {
             "fillmode": "overlay",
             "size": 10,
             "solidity": 0.2
            },
            "type": "scatter"
           }
          ],
          "scatter3d": [
           {
            "line": {
             "colorbar": {
              "outlinewidth": 0,
              "ticks": ""
             }
            },
            "marker": {
             "colorbar": {
              "outlinewidth": 0,
              "ticks": ""
             }
            },
            "type": "scatter3d"
           }
          ],
          "scattercarpet": [
           {
            "marker": {
             "colorbar": {
              "outlinewidth": 0,
              "ticks": ""
             }
            },
            "type": "scattercarpet"
           }
          ],
          "scattergeo": [
           {
            "marker": {
             "colorbar": {
              "outlinewidth": 0,
              "ticks": ""
             }
            },
            "type": "scattergeo"
           }
          ],
          "scattergl": [
           {
            "marker": {
             "colorbar": {
              "outlinewidth": 0,
              "ticks": ""
             }
            },
            "type": "scattergl"
           }
          ],
          "scattermapbox": [
           {
            "marker": {
             "colorbar": {
              "outlinewidth": 0,
              "ticks": ""
             }
            },
            "type": "scattermapbox"
           }
          ],
          "scatterpolar": [
           {
            "marker": {
             "colorbar": {
              "outlinewidth": 0,
              "ticks": ""
             }
            },
            "type": "scatterpolar"
           }
          ],
          "scatterpolargl": [
           {
            "marker": {
             "colorbar": {
              "outlinewidth": 0,
              "ticks": ""
             }
            },
            "type": "scatterpolargl"
           }
          ],
          "scatterternary": [
           {
            "marker": {
             "colorbar": {
              "outlinewidth": 0,
              "ticks": ""
             }
            },
            "type": "scatterternary"
           }
          ],
          "surface": [
           {
            "colorbar": {
             "outlinewidth": 0,
             "ticks": ""
            },
            "colorscale": [
             [
              0,
              "#0d0887"
             ],
             [
              0.1111111111111111,
              "#46039f"
             ],
             [
              0.2222222222222222,
              "#7201a8"
             ],
             [
              0.3333333333333333,
              "#9c179e"
             ],
             [
              0.4444444444444444,
              "#bd3786"
             ],
             [
              0.5555555555555556,
              "#d8576b"
             ],
             [
              0.6666666666666666,
              "#ed7953"
             ],
             [
              0.7777777777777778,
              "#fb9f3a"
             ],
             [
              0.8888888888888888,
              "#fdca26"
             ],
             [
              1,
              "#f0f921"
             ]
            ],
            "type": "surface"
           }
          ],
          "table": [
           {
            "cells": {
             "fill": {
              "color": "#EBF0F8"
             },
             "line": {
              "color": "white"
             }
            },
            "header": {
             "fill": {
              "color": "#C8D4E3"
             },
             "line": {
              "color": "white"
             }
            },
            "type": "table"
           }
          ]
         },
         "layout": {
          "annotationdefaults": {
           "arrowcolor": "#2a3f5f",
           "arrowhead": 0,
           "arrowwidth": 1
          },
          "autotypenumbers": "strict",
          "coloraxis": {
           "colorbar": {
            "outlinewidth": 0,
            "ticks": ""
           }
          },
          "colorscale": {
           "diverging": [
            [
             0,
             "#8e0152"
            ],
            [
             0.1,
             "#c51b7d"
            ],
            [
             0.2,
             "#de77ae"
            ],
            [
             0.3,
             "#f1b6da"
            ],
            [
             0.4,
             "#fde0ef"
            ],
            [
             0.5,
             "#f7f7f7"
            ],
            [
             0.6,
             "#e6f5d0"
            ],
            [
             0.7,
             "#b8e186"
            ],
            [
             0.8,
             "#7fbc41"
            ],
            [
             0.9,
             "#4d9221"
            ],
            [
             1,
             "#276419"
            ]
           ],
           "sequential": [
            [
             0,
             "#0d0887"
            ],
            [
             0.1111111111111111,
             "#46039f"
            ],
            [
             0.2222222222222222,
             "#7201a8"
            ],
            [
             0.3333333333333333,
             "#9c179e"
            ],
            [
             0.4444444444444444,
             "#bd3786"
            ],
            [
             0.5555555555555556,
             "#d8576b"
            ],
            [
             0.6666666666666666,
             "#ed7953"
            ],
            [
             0.7777777777777778,
             "#fb9f3a"
            ],
            [
             0.8888888888888888,
             "#fdca26"
            ],
            [
             1,
             "#f0f921"
            ]
           ],
           "sequentialminus": [
            [
             0,
             "#0d0887"
            ],
            [
             0.1111111111111111,
             "#46039f"
            ],
            [
             0.2222222222222222,
             "#7201a8"
            ],
            [
             0.3333333333333333,
             "#9c179e"
            ],
            [
             0.4444444444444444,
             "#bd3786"
            ],
            [
             0.5555555555555556,
             "#d8576b"
            ],
            [
             0.6666666666666666,
             "#ed7953"
            ],
            [
             0.7777777777777778,
             "#fb9f3a"
            ],
            [
             0.8888888888888888,
             "#fdca26"
            ],
            [
             1,
             "#f0f921"
            ]
           ]
          },
          "colorway": [
           "#636efa",
           "#EF553B",
           "#00cc96",
           "#ab63fa",
           "#FFA15A",
           "#19d3f3",
           "#FF6692",
           "#B6E880",
           "#FF97FF",
           "#FECB52"
          ],
          "font": {
           "color": "#2a3f5f"
          },
          "geo": {
           "bgcolor": "white",
           "lakecolor": "white",
           "landcolor": "#E5ECF6",
           "showlakes": true,
           "showland": true,
           "subunitcolor": "white"
          },
          "hoverlabel": {
           "align": "left"
          },
          "hovermode": "closest",
          "mapbox": {
           "style": "light"
          },
          "paper_bgcolor": "white",
          "plot_bgcolor": "#E5ECF6",
          "polar": {
           "angularaxis": {
            "gridcolor": "white",
            "linecolor": "white",
            "ticks": ""
           },
           "bgcolor": "#E5ECF6",
           "radialaxis": {
            "gridcolor": "white",
            "linecolor": "white",
            "ticks": ""
           }
          },
          "scene": {
           "xaxis": {
            "backgroundcolor": "#E5ECF6",
            "gridcolor": "white",
            "gridwidth": 2,
            "linecolor": "white",
            "showbackground": true,
            "ticks": "",
            "zerolinecolor": "white"
           },
           "yaxis": {
            "backgroundcolor": "#E5ECF6",
            "gridcolor": "white",
            "gridwidth": 2,
            "linecolor": "white",
            "showbackground": true,
            "ticks": "",
            "zerolinecolor": "white"
           },
           "zaxis": {
            "backgroundcolor": "#E5ECF6",
            "gridcolor": "white",
            "gridwidth": 2,
            "linecolor": "white",
            "showbackground": true,
            "ticks": "",
            "zerolinecolor": "white"
           }
          },
          "shapedefaults": {
           "line": {
            "color": "#2a3f5f"
           }
          },
          "ternary": {
           "aaxis": {
            "gridcolor": "white",
            "linecolor": "white",
            "ticks": ""
           },
           "baxis": {
            "gridcolor": "white",
            "linecolor": "white",
            "ticks": ""
           },
           "bgcolor": "#E5ECF6",
           "caxis": {
            "gridcolor": "white",
            "linecolor": "white",
            "ticks": ""
           }
          },
          "title": {
           "x": 0.05
          },
          "xaxis": {
           "automargin": true,
           "gridcolor": "white",
           "linecolor": "white",
           "ticks": "",
           "title": {
            "standoff": 15
           },
           "zerolinecolor": "white",
           "zerolinewidth": 2
          },
          "yaxis": {
           "automargin": true,
           "gridcolor": "white",
           "linecolor": "white",
           "ticks": "",
           "title": {
            "standoff": 15
           },
           "zerolinecolor": "white",
           "zerolinewidth": 2
          }
         }
        },
        "title": {
         "text": "제목"
        },
        "updatemenus": [
         {
          "buttons": [
           {
            "args": [
             {
              "y": [
               1,
               2,
               3,
               4,
               5
              ]
             }
            ],
            "label": "Data 1",
            "method": "update"
           },
           {
            "args": [
             {
              "y": [
               5,
               4,
               3,
               2,
               1
              ]
             }
            ],
            "label": "Data 2",
            "method": "update"
           }
          ],
          "direction": "down",
          "showactive": true
         }
        ],
        "width": 508.5,
        "xaxis": {
         "tickfont": {
          "color": "white"
         }
        },
        "yaxis": {
         "tickfont": {
          "color": "white"
         }
        }
       }
      }
     },
     "metadata": {},
     "output_type": "display_data"
    }
   ],
   "source": [
    "import plotly.graph_objects as go\n",
    "\n",
    "labels = ['Apple', 'Banana', 'Tomato', 'Strawberry', 'Melon']\n",
    "values = [4500, 3000, 2500, 3500, 5000]\n",
    "pull = [0, 0, 0.5, 0, 0]\n",
    "\n",
    "trace = go.Pie(labels=labels, values=values, textinfo='label+value')\n",
    "\n",
    "fig.add_trace(trace)\n",
    "updatemenus = [\n",
    "{\n",
    "'buttons': [\n",
    "    {'label': 'Data 1', 'method': 'update', 'args': [{'y': [1, 2, 3, 4, 5]}]},\n",
    "    {'label': 'Data 2', 'method': 'update', 'args': [{'y': [5, 4, 3, 2, 1]}]}\n",
    "],\n",
    "'direction': 'down',\n",
    "'showactive': True,\n",
    "}\n",
    "]\n",
    "fig = go.Figure(data=[trace])\n",
    "fig.update_layout(\n",
    "title = \"제목\",\n",
    "updatemenus=updatemenus,\n",
    "autosize=True,\n",
    "width=508.5,\n",
    "height=366.3,\n",
    "margin_l=10,\n",
    "margin_r=10,\n",
    "margin_b=10,\n",
    "margin_t=10,\n",
    "paper_bgcolor=\"rgb(39, 46, 90)\",\n",
    "xaxis=dict(tickfont=dict(color='white')),  # x축 라벨 색상 변경\n",
    "yaxis=dict(tickfont=dict(color='white')),  # y축 라벨 색상 변경\n",
    "legend=dict(font=dict(color='white'))\n",
    ")\n",
    "fig.show()"
   ]
  },
  {
   "cell_type": "markdown",
   "metadata": {},
   "source": [
    "## Basic2 특정부분강조"
   ]
  },
  {
   "cell_type": "code",
   "execution_count": 2,
   "metadata": {},
   "outputs": [
    {
     "data": {
      "application/vnd.plotly.v1+json": {
       "config": {
        "plotlyServerURL": "https://plot.ly"
       },
       "data": [
        {
         "labels": [
          "Apple",
          "Banana",
          "Tomato",
          "Strawberry",
          "Melon"
         ],
         "pull": [
          0,
          0,
          0.5,
          0,
          0
         ],
         "textinfo": "label+value",
         "type": "pie",
         "values": [
          4500,
          3000,
          2500,
          3500,
          5000
         ]
        }
       ],
       "layout": {
        "height": 400,
        "margin": {
         "b": 100,
         "l": 50,
         "r": 50,
         "t": 100
        },
        "paper_bgcolor": "LightSteelBlue",
        "template": {
         "data": {
          "bar": [
           {
            "error_x": {
             "color": "#2a3f5f"
            },
            "error_y": {
             "color": "#2a3f5f"
            },
            "marker": {
             "line": {
              "color": "#E5ECF6",
              "width": 0.5
             },
             "pattern": {
              "fillmode": "overlay",
              "size": 10,
              "solidity": 0.2
             }
            },
            "type": "bar"
           }
          ],
          "barpolar": [
           {
            "marker": {
             "line": {
              "color": "#E5ECF6",
              "width": 0.5
             },
             "pattern": {
              "fillmode": "overlay",
              "size": 10,
              "solidity": 0.2
             }
            },
            "type": "barpolar"
           }
          ],
          "carpet": [
           {
            "aaxis": {
             "endlinecolor": "#2a3f5f",
             "gridcolor": "white",
             "linecolor": "white",
             "minorgridcolor": "white",
             "startlinecolor": "#2a3f5f"
            },
            "baxis": {
             "endlinecolor": "#2a3f5f",
             "gridcolor": "white",
             "linecolor": "white",
             "minorgridcolor": "white",
             "startlinecolor": "#2a3f5f"
            },
            "type": "carpet"
           }
          ],
          "choropleth": [
           {
            "colorbar": {
             "outlinewidth": 0,
             "ticks": ""
            },
            "type": "choropleth"
           }
          ],
          "contour": [
           {
            "colorbar": {
             "outlinewidth": 0,
             "ticks": ""
            },
            "colorscale": [
             [
              0,
              "#0d0887"
             ],
             [
              0.1111111111111111,
              "#46039f"
             ],
             [
              0.2222222222222222,
              "#7201a8"
             ],
             [
              0.3333333333333333,
              "#9c179e"
             ],
             [
              0.4444444444444444,
              "#bd3786"
             ],
             [
              0.5555555555555556,
              "#d8576b"
             ],
             [
              0.6666666666666666,
              "#ed7953"
             ],
             [
              0.7777777777777778,
              "#fb9f3a"
             ],
             [
              0.8888888888888888,
              "#fdca26"
             ],
             [
              1,
              "#f0f921"
             ]
            ],
            "type": "contour"
           }
          ],
          "contourcarpet": [
           {
            "colorbar": {
             "outlinewidth": 0,
             "ticks": ""
            },
            "type": "contourcarpet"
           }
          ],
          "heatmap": [
           {
            "colorbar": {
             "outlinewidth": 0,
             "ticks": ""
            },
            "colorscale": [
             [
              0,
              "#0d0887"
             ],
             [
              0.1111111111111111,
              "#46039f"
             ],
             [
              0.2222222222222222,
              "#7201a8"
             ],
             [
              0.3333333333333333,
              "#9c179e"
             ],
             [
              0.4444444444444444,
              "#bd3786"
             ],
             [
              0.5555555555555556,
              "#d8576b"
             ],
             [
              0.6666666666666666,
              "#ed7953"
             ],
             [
              0.7777777777777778,
              "#fb9f3a"
             ],
             [
              0.8888888888888888,
              "#fdca26"
             ],
             [
              1,
              "#f0f921"
             ]
            ],
            "type": "heatmap"
           }
          ],
          "heatmapgl": [
           {
            "colorbar": {
             "outlinewidth": 0,
             "ticks": ""
            },
            "colorscale": [
             [
              0,
              "#0d0887"
             ],
             [
              0.1111111111111111,
              "#46039f"
             ],
             [
              0.2222222222222222,
              "#7201a8"
             ],
             [
              0.3333333333333333,
              "#9c179e"
             ],
             [
              0.4444444444444444,
              "#bd3786"
             ],
             [
              0.5555555555555556,
              "#d8576b"
             ],
             [
              0.6666666666666666,
              "#ed7953"
             ],
             [
              0.7777777777777778,
              "#fb9f3a"
             ],
             [
              0.8888888888888888,
              "#fdca26"
             ],
             [
              1,
              "#f0f921"
             ]
            ],
            "type": "heatmapgl"
           }
          ],
          "histogram": [
           {
            "marker": {
             "pattern": {
              "fillmode": "overlay",
              "size": 10,
              "solidity": 0.2
             }
            },
            "type": "histogram"
           }
          ],
          "histogram2d": [
           {
            "colorbar": {
             "outlinewidth": 0,
             "ticks": ""
            },
            "colorscale": [
             [
              0,
              "#0d0887"
             ],
             [
              0.1111111111111111,
              "#46039f"
             ],
             [
              0.2222222222222222,
              "#7201a8"
             ],
             [
              0.3333333333333333,
              "#9c179e"
             ],
             [
              0.4444444444444444,
              "#bd3786"
             ],
             [
              0.5555555555555556,
              "#d8576b"
             ],
             [
              0.6666666666666666,
              "#ed7953"
             ],
             [
              0.7777777777777778,
              "#fb9f3a"
             ],
             [
              0.8888888888888888,
              "#fdca26"
             ],
             [
              1,
              "#f0f921"
             ]
            ],
            "type": "histogram2d"
           }
          ],
          "histogram2dcontour": [
           {
            "colorbar": {
             "outlinewidth": 0,
             "ticks": ""
            },
            "colorscale": [
             [
              0,
              "#0d0887"
             ],
             [
              0.1111111111111111,
              "#46039f"
             ],
             [
              0.2222222222222222,
              "#7201a8"
             ],
             [
              0.3333333333333333,
              "#9c179e"
             ],
             [
              0.4444444444444444,
              "#bd3786"
             ],
             [
              0.5555555555555556,
              "#d8576b"
             ],
             [
              0.6666666666666666,
              "#ed7953"
             ],
             [
              0.7777777777777778,
              "#fb9f3a"
             ],
             [
              0.8888888888888888,
              "#fdca26"
             ],
             [
              1,
              "#f0f921"
             ]
            ],
            "type": "histogram2dcontour"
           }
          ],
          "mesh3d": [
           {
            "colorbar": {
             "outlinewidth": 0,
             "ticks": ""
            },
            "type": "mesh3d"
           }
          ],
          "parcoords": [
           {
            "line": {
             "colorbar": {
              "outlinewidth": 0,
              "ticks": ""
             }
            },
            "type": "parcoords"
           }
          ],
          "pie": [
           {
            "automargin": true,
            "type": "pie"
           }
          ],
          "scatter": [
           {
            "fillpattern": {
             "fillmode": "overlay",
             "size": 10,
             "solidity": 0.2
            },
            "type": "scatter"
           }
          ],
          "scatter3d": [
           {
            "line": {
             "colorbar": {
              "outlinewidth": 0,
              "ticks": ""
             }
            },
            "marker": {
             "colorbar": {
              "outlinewidth": 0,
              "ticks": ""
             }
            },
            "type": "scatter3d"
           }
          ],
          "scattercarpet": [
           {
            "marker": {
             "colorbar": {
              "outlinewidth": 0,
              "ticks": ""
             }
            },
            "type": "scattercarpet"
           }
          ],
          "scattergeo": [
           {
            "marker": {
             "colorbar": {
              "outlinewidth": 0,
              "ticks": ""
             }
            },
            "type": "scattergeo"
           }
          ],
          "scattergl": [
           {
            "marker": {
             "colorbar": {
              "outlinewidth": 0,
              "ticks": ""
             }
            },
            "type": "scattergl"
           }
          ],
          "scattermapbox": [
           {
            "marker": {
             "colorbar": {
              "outlinewidth": 0,
              "ticks": ""
             }
            },
            "type": "scattermapbox"
           }
          ],
          "scatterpolar": [
           {
            "marker": {
             "colorbar": {
              "outlinewidth": 0,
              "ticks": ""
             }
            },
            "type": "scatterpolar"
           }
          ],
          "scatterpolargl": [
           {
            "marker": {
             "colorbar": {
              "outlinewidth": 0,
              "ticks": ""
             }
            },
            "type": "scatterpolargl"
           }
          ],
          "scatterternary": [
           {
            "marker": {
             "colorbar": {
              "outlinewidth": 0,
              "ticks": ""
             }
            },
            "type": "scatterternary"
           }
          ],
          "surface": [
           {
            "colorbar": {
             "outlinewidth": 0,
             "ticks": ""
            },
            "colorscale": [
             [
              0,
              "#0d0887"
             ],
             [
              0.1111111111111111,
              "#46039f"
             ],
             [
              0.2222222222222222,
              "#7201a8"
             ],
             [
              0.3333333333333333,
              "#9c179e"
             ],
             [
              0.4444444444444444,
              "#bd3786"
             ],
             [
              0.5555555555555556,
              "#d8576b"
             ],
             [
              0.6666666666666666,
              "#ed7953"
             ],
             [
              0.7777777777777778,
              "#fb9f3a"
             ],
             [
              0.8888888888888888,
              "#fdca26"
             ],
             [
              1,
              "#f0f921"
             ]
            ],
            "type": "surface"
           }
          ],
          "table": [
           {
            "cells": {
             "fill": {
              "color": "#EBF0F8"
             },
             "line": {
              "color": "white"
             }
            },
            "header": {
             "fill": {
              "color": "#C8D4E3"
             },
             "line": {
              "color": "white"
             }
            },
            "type": "table"
           }
          ]
         },
         "layout": {
          "annotationdefaults": {
           "arrowcolor": "#2a3f5f",
           "arrowhead": 0,
           "arrowwidth": 1
          },
          "autotypenumbers": "strict",
          "coloraxis": {
           "colorbar": {
            "outlinewidth": 0,
            "ticks": ""
           }
          },
          "colorscale": {
           "diverging": [
            [
             0,
             "#8e0152"
            ],
            [
             0.1,
             "#c51b7d"
            ],
            [
             0.2,
             "#de77ae"
            ],
            [
             0.3,
             "#f1b6da"
            ],
            [
             0.4,
             "#fde0ef"
            ],
            [
             0.5,
             "#f7f7f7"
            ],
            [
             0.6,
             "#e6f5d0"
            ],
            [
             0.7,
             "#b8e186"
            ],
            [
             0.8,
             "#7fbc41"
            ],
            [
             0.9,
             "#4d9221"
            ],
            [
             1,
             "#276419"
            ]
           ],
           "sequential": [
            [
             0,
             "#0d0887"
            ],
            [
             0.1111111111111111,
             "#46039f"
            ],
            [
             0.2222222222222222,
             "#7201a8"
            ],
            [
             0.3333333333333333,
             "#9c179e"
            ],
            [
             0.4444444444444444,
             "#bd3786"
            ],
            [
             0.5555555555555556,
             "#d8576b"
            ],
            [
             0.6666666666666666,
             "#ed7953"
            ],
            [
             0.7777777777777778,
             "#fb9f3a"
            ],
            [
             0.8888888888888888,
             "#fdca26"
            ],
            [
             1,
             "#f0f921"
            ]
           ],
           "sequentialminus": [
            [
             0,
             "#0d0887"
            ],
            [
             0.1111111111111111,
             "#46039f"
            ],
            [
             0.2222222222222222,
             "#7201a8"
            ],
            [
             0.3333333333333333,
             "#9c179e"
            ],
            [
             0.4444444444444444,
             "#bd3786"
            ],
            [
             0.5555555555555556,
             "#d8576b"
            ],
            [
             0.6666666666666666,
             "#ed7953"
            ],
            [
             0.7777777777777778,
             "#fb9f3a"
            ],
            [
             0.8888888888888888,
             "#fdca26"
            ],
            [
             1,
             "#f0f921"
            ]
           ]
          },
          "colorway": [
           "#636efa",
           "#EF553B",
           "#00cc96",
           "#ab63fa",
           "#FFA15A",
           "#19d3f3",
           "#FF6692",
           "#B6E880",
           "#FF97FF",
           "#FECB52"
          ],
          "font": {
           "color": "#2a3f5f"
          },
          "geo": {
           "bgcolor": "white",
           "lakecolor": "white",
           "landcolor": "#E5ECF6",
           "showlakes": true,
           "showland": true,
           "subunitcolor": "white"
          },
          "hoverlabel": {
           "align": "left"
          },
          "hovermode": "closest",
          "mapbox": {
           "style": "light"
          },
          "paper_bgcolor": "white",
          "plot_bgcolor": "#E5ECF6",
          "polar": {
           "angularaxis": {
            "gridcolor": "white",
            "linecolor": "white",
            "ticks": ""
           },
           "bgcolor": "#E5ECF6",
           "radialaxis": {
            "gridcolor": "white",
            "linecolor": "white",
            "ticks": ""
           }
          },
          "scene": {
           "xaxis": {
            "backgroundcolor": "#E5ECF6",
            "gridcolor": "white",
            "gridwidth": 2,
            "linecolor": "white",
            "showbackground": true,
            "ticks": "",
            "zerolinecolor": "white"
           },
           "yaxis": {
            "backgroundcolor": "#E5ECF6",
            "gridcolor": "white",
            "gridwidth": 2,
            "linecolor": "white",
            "showbackground": true,
            "ticks": "",
            "zerolinecolor": "white"
           },
           "zaxis": {
            "backgroundcolor": "#E5ECF6",
            "gridcolor": "white",
            "gridwidth": 2,
            "linecolor": "white",
            "showbackground": true,
            "ticks": "",
            "zerolinecolor": "white"
           }
          },
          "shapedefaults": {
           "line": {
            "color": "#2a3f5f"
           }
          },
          "ternary": {
           "aaxis": {
            "gridcolor": "white",
            "linecolor": "white",
            "ticks": ""
           },
           "baxis": {
            "gridcolor": "white",
            "linecolor": "white",
            "ticks": ""
           },
           "bgcolor": "#E5ECF6",
           "caxis": {
            "gridcolor": "white",
            "linecolor": "white",
            "ticks": ""
           }
          },
          "title": {
           "x": 0.05
          },
          "xaxis": {
           "automargin": true,
           "gridcolor": "white",
           "linecolor": "white",
           "ticks": "",
           "title": {
            "standoff": 15
           },
           "zerolinecolor": "white",
           "zerolinewidth": 2
          },
          "yaxis": {
           "automargin": true,
           "gridcolor": "white",
           "linecolor": "white",
           "ticks": "",
           "title": {
            "standoff": 15
           },
           "zerolinecolor": "white",
           "zerolinewidth": 2
          }
         }
        },
        "width": 600
       }
      }
     },
     "metadata": {},
     "output_type": "display_data"
    }
   ],
   "source": [
    "from plotly.io import to_json\n",
    "import plotly.graph_objects as go\n",
    "\n",
    "labels = ['Apple', 'Banana', 'Tomato', 'Strawberry', 'Melon']\n",
    "values = [4500, 3000, 2500, 3500, 5000]\n",
    "pull = [0, 0, 0.5, 0, 0]\n",
    "\n",
    "trace = go.Pie(labels=labels, values=values, textinfo='label+value', pull=pull)\n",
    "\n",
    "fig = go.Figure(data=[trace])\n",
    "fig.update_layout(\n",
    "        width=600,\n",
    "        height=400,\n",
    "        margin_l=50,\n",
    "        margin_r=50,\n",
    "        margin_b=100,\n",
    "        margin_t=100,\n",
    "        # 백그라운드 칼라 지정, margin 잘 보이게 하기위함\n",
    "        paper_bgcolor=\"LightSteelBlue\",)\n",
    "\n",
    "# 그래프를 JSON 문자열로 변환\n",
    "graph_json = to_json(fig)\n",
    "fig.show()"
   ]
  },
  {
   "cell_type": "markdown",
   "metadata": {},
   "source": [
    "# 히스토그램"
   ]
  },
  {
   "cell_type": "code",
   "execution_count": 42,
   "metadata": {},
   "outputs": [
    {
     "data": {
      "application/vnd.plotly.v1+json": {
       "config": {
        "plotlyServerURL": "https://plot.ly"
       },
       "data": [
        {
         "type": "histogram",
         "x": [
          407,
          735,
          327,
          810,
          734,
          215,
          143,
          171,
          930,
          761,
          623,
          239,
          35,
          527,
          119,
          863,
          37,
          23,
          747,
          149,
          653,
          563,
          404,
          733,
          542,
          139,
          92,
          356,
          88,
          9,
          123,
          614,
          133,
          375,
          78,
          398,
          91,
          961,
          993,
          315,
          877,
          955,
          635,
          542,
          84,
          336,
          964,
          660,
          449,
          845,
          366,
          829,
          178,
          699,
          227,
          306,
          903,
          585,
          266,
          983,
          60,
          191,
          22,
          7,
          356,
          521,
          419,
          759,
          469,
          979,
          767,
          308,
          433,
          967,
          697,
          586,
          389,
          756,
          925,
          881,
          537,
          833,
          627,
          299,
          395,
          239,
          944,
          751,
          879,
          923,
          263,
          683,
          596,
          270,
          218,
          807,
          721,
          725,
          168,
          923,
          867,
          726,
          346,
          853,
          521,
          1,
          203,
          241,
          518,
          528,
          319,
          614,
          636,
          956,
          996,
          261,
          109,
          839,
          509,
          24,
          612,
          975,
          501,
          52,
          514,
          963,
          484,
          418,
          577,
          509,
          626,
          479,
          276,
          484,
          625,
          209,
          53,
          100,
          133,
          447,
          346,
          762,
          735,
          793,
          355,
          712,
          494,
          752,
          729,
          834,
          934,
          984,
          459,
          282,
          265,
          365,
          791,
          357,
          857,
          439,
          26,
          410,
          93,
          244,
          998,
          900,
          664,
          328,
          550,
          61,
          910,
          143,
          194,
          735,
          298,
          356,
          690,
          837,
          961,
          485,
          30,
          351,
          32,
          853,
          17,
          763,
          148,
          188,
          171,
          326,
          870,
          301,
          14,
          927,
          801,
          561,
          807,
          303,
          543,
          42
         ],
         "xbins": {
          "size": 50
         }
        }
       ],
       "layout": {
        "template": {
         "data": {
          "bar": [
           {
            "error_x": {
             "color": "#2a3f5f"
            },
            "error_y": {
             "color": "#2a3f5f"
            },
            "marker": {
             "line": {
              "color": "#E5ECF6",
              "width": 0.5
             },
             "pattern": {
              "fillmode": "overlay",
              "size": 10,
              "solidity": 0.2
             }
            },
            "type": "bar"
           }
          ],
          "barpolar": [
           {
            "marker": {
             "line": {
              "color": "#E5ECF6",
              "width": 0.5
             },
             "pattern": {
              "fillmode": "overlay",
              "size": 10,
              "solidity": 0.2
             }
            },
            "type": "barpolar"
           }
          ],
          "carpet": [
           {
            "aaxis": {
             "endlinecolor": "#2a3f5f",
             "gridcolor": "white",
             "linecolor": "white",
             "minorgridcolor": "white",
             "startlinecolor": "#2a3f5f"
            },
            "baxis": {
             "endlinecolor": "#2a3f5f",
             "gridcolor": "white",
             "linecolor": "white",
             "minorgridcolor": "white",
             "startlinecolor": "#2a3f5f"
            },
            "type": "carpet"
           }
          ],
          "choropleth": [
           {
            "colorbar": {
             "outlinewidth": 0,
             "ticks": ""
            },
            "type": "choropleth"
           }
          ],
          "contour": [
           {
            "colorbar": {
             "outlinewidth": 0,
             "ticks": ""
            },
            "colorscale": [
             [
              0,
              "#0d0887"
             ],
             [
              0.1111111111111111,
              "#46039f"
             ],
             [
              0.2222222222222222,
              "#7201a8"
             ],
             [
              0.3333333333333333,
              "#9c179e"
             ],
             [
              0.4444444444444444,
              "#bd3786"
             ],
             [
              0.5555555555555556,
              "#d8576b"
             ],
             [
              0.6666666666666666,
              "#ed7953"
             ],
             [
              0.7777777777777778,
              "#fb9f3a"
             ],
             [
              0.8888888888888888,
              "#fdca26"
             ],
             [
              1,
              "#f0f921"
             ]
            ],
            "type": "contour"
           }
          ],
          "contourcarpet": [
           {
            "colorbar": {
             "outlinewidth": 0,
             "ticks": ""
            },
            "type": "contourcarpet"
           }
          ],
          "heatmap": [
           {
            "colorbar": {
             "outlinewidth": 0,
             "ticks": ""
            },
            "colorscale": [
             [
              0,
              "#0d0887"
             ],
             [
              0.1111111111111111,
              "#46039f"
             ],
             [
              0.2222222222222222,
              "#7201a8"
             ],
             [
              0.3333333333333333,
              "#9c179e"
             ],
             [
              0.4444444444444444,
              "#bd3786"
             ],
             [
              0.5555555555555556,
              "#d8576b"
             ],
             [
              0.6666666666666666,
              "#ed7953"
             ],
             [
              0.7777777777777778,
              "#fb9f3a"
             ],
             [
              0.8888888888888888,
              "#fdca26"
             ],
             [
              1,
              "#f0f921"
             ]
            ],
            "type": "heatmap"
           }
          ],
          "heatmapgl": [
           {
            "colorbar": {
             "outlinewidth": 0,
             "ticks": ""
            },
            "colorscale": [
             [
              0,
              "#0d0887"
             ],
             [
              0.1111111111111111,
              "#46039f"
             ],
             [
              0.2222222222222222,
              "#7201a8"
             ],
             [
              0.3333333333333333,
              "#9c179e"
             ],
             [
              0.4444444444444444,
              "#bd3786"
             ],
             [
              0.5555555555555556,
              "#d8576b"
             ],
             [
              0.6666666666666666,
              "#ed7953"
             ],
             [
              0.7777777777777778,
              "#fb9f3a"
             ],
             [
              0.8888888888888888,
              "#fdca26"
             ],
             [
              1,
              "#f0f921"
             ]
            ],
            "type": "heatmapgl"
           }
          ],
          "histogram": [
           {
            "marker": {
             "pattern": {
              "fillmode": "overlay",
              "size": 10,
              "solidity": 0.2
             }
            },
            "type": "histogram"
           }
          ],
          "histogram2d": [
           {
            "colorbar": {
             "outlinewidth": 0,
             "ticks": ""
            },
            "colorscale": [
             [
              0,
              "#0d0887"
             ],
             [
              0.1111111111111111,
              "#46039f"
             ],
             [
              0.2222222222222222,
              "#7201a8"
             ],
             [
              0.3333333333333333,
              "#9c179e"
             ],
             [
              0.4444444444444444,
              "#bd3786"
             ],
             [
              0.5555555555555556,
              "#d8576b"
             ],
             [
              0.6666666666666666,
              "#ed7953"
             ],
             [
              0.7777777777777778,
              "#fb9f3a"
             ],
             [
              0.8888888888888888,
              "#fdca26"
             ],
             [
              1,
              "#f0f921"
             ]
            ],
            "type": "histogram2d"
           }
          ],
          "histogram2dcontour": [
           {
            "colorbar": {
             "outlinewidth": 0,
             "ticks": ""
            },
            "colorscale": [
             [
              0,
              "#0d0887"
             ],
             [
              0.1111111111111111,
              "#46039f"
             ],
             [
              0.2222222222222222,
              "#7201a8"
             ],
             [
              0.3333333333333333,
              "#9c179e"
             ],
             [
              0.4444444444444444,
              "#bd3786"
             ],
             [
              0.5555555555555556,
              "#d8576b"
             ],
             [
              0.6666666666666666,
              "#ed7953"
             ],
             [
              0.7777777777777778,
              "#fb9f3a"
             ],
             [
              0.8888888888888888,
              "#fdca26"
             ],
             [
              1,
              "#f0f921"
             ]
            ],
            "type": "histogram2dcontour"
           }
          ],
          "mesh3d": [
           {
            "colorbar": {
             "outlinewidth": 0,
             "ticks": ""
            },
            "type": "mesh3d"
           }
          ],
          "parcoords": [
           {
            "line": {
             "colorbar": {
              "outlinewidth": 0,
              "ticks": ""
             }
            },
            "type": "parcoords"
           }
          ],
          "pie": [
           {
            "automargin": true,
            "type": "pie"
           }
          ],
          "scatter": [
           {
            "fillpattern": {
             "fillmode": "overlay",
             "size": 10,
             "solidity": 0.2
            },
            "type": "scatter"
           }
          ],
          "scatter3d": [
           {
            "line": {
             "colorbar": {
              "outlinewidth": 0,
              "ticks": ""
             }
            },
            "marker": {
             "colorbar": {
              "outlinewidth": 0,
              "ticks": ""
             }
            },
            "type": "scatter3d"
           }
          ],
          "scattercarpet": [
           {
            "marker": {
             "colorbar": {
              "outlinewidth": 0,
              "ticks": ""
             }
            },
            "type": "scattercarpet"
           }
          ],
          "scattergeo": [
           {
            "marker": {
             "colorbar": {
              "outlinewidth": 0,
              "ticks": ""
             }
            },
            "type": "scattergeo"
           }
          ],
          "scattergl": [
           {
            "marker": {
             "colorbar": {
              "outlinewidth": 0,
              "ticks": ""
             }
            },
            "type": "scattergl"
           }
          ],
          "scattermapbox": [
           {
            "marker": {
             "colorbar": {
              "outlinewidth": 0,
              "ticks": ""
             }
            },
            "type": "scattermapbox"
           }
          ],
          "scatterpolar": [
           {
            "marker": {
             "colorbar": {
              "outlinewidth": 0,
              "ticks": ""
             }
            },
            "type": "scatterpolar"
           }
          ],
          "scatterpolargl": [
           {
            "marker": {
             "colorbar": {
              "outlinewidth": 0,
              "ticks": ""
             }
            },
            "type": "scatterpolargl"
           }
          ],
          "scatterternary": [
           {
            "marker": {
             "colorbar": {
              "outlinewidth": 0,
              "ticks": ""
             }
            },
            "type": "scatterternary"
           }
          ],
          "surface": [
           {
            "colorbar": {
             "outlinewidth": 0,
             "ticks": ""
            },
            "colorscale": [
             [
              0,
              "#0d0887"
             ],
             [
              0.1111111111111111,
              "#46039f"
             ],
             [
              0.2222222222222222,
              "#7201a8"
             ],
             [
              0.3333333333333333,
              "#9c179e"
             ],
             [
              0.4444444444444444,
              "#bd3786"
             ],
             [
              0.5555555555555556,
              "#d8576b"
             ],
             [
              0.6666666666666666,
              "#ed7953"
             ],
             [
              0.7777777777777778,
              "#fb9f3a"
             ],
             [
              0.8888888888888888,
              "#fdca26"
             ],
             [
              1,
              "#f0f921"
             ]
            ],
            "type": "surface"
           }
          ],
          "table": [
           {
            "cells": {
             "fill": {
              "color": "#EBF0F8"
             },
             "line": {
              "color": "white"
             }
            },
            "header": {
             "fill": {
              "color": "#C8D4E3"
             },
             "line": {
              "color": "white"
             }
            },
            "type": "table"
           }
          ]
         },
         "layout": {
          "annotationdefaults": {
           "arrowcolor": "#2a3f5f",
           "arrowhead": 0,
           "arrowwidth": 1
          },
          "autotypenumbers": "strict",
          "coloraxis": {
           "colorbar": {
            "outlinewidth": 0,
            "ticks": ""
           }
          },
          "colorscale": {
           "diverging": [
            [
             0,
             "#8e0152"
            ],
            [
             0.1,
             "#c51b7d"
            ],
            [
             0.2,
             "#de77ae"
            ],
            [
             0.3,
             "#f1b6da"
            ],
            [
             0.4,
             "#fde0ef"
            ],
            [
             0.5,
             "#f7f7f7"
            ],
            [
             0.6,
             "#e6f5d0"
            ],
            [
             0.7,
             "#b8e186"
            ],
            [
             0.8,
             "#7fbc41"
            ],
            [
             0.9,
             "#4d9221"
            ],
            [
             1,
             "#276419"
            ]
           ],
           "sequential": [
            [
             0,
             "#0d0887"
            ],
            [
             0.1111111111111111,
             "#46039f"
            ],
            [
             0.2222222222222222,
             "#7201a8"
            ],
            [
             0.3333333333333333,
             "#9c179e"
            ],
            [
             0.4444444444444444,
             "#bd3786"
            ],
            [
             0.5555555555555556,
             "#d8576b"
            ],
            [
             0.6666666666666666,
             "#ed7953"
            ],
            [
             0.7777777777777778,
             "#fb9f3a"
            ],
            [
             0.8888888888888888,
             "#fdca26"
            ],
            [
             1,
             "#f0f921"
            ]
           ],
           "sequentialminus": [
            [
             0,
             "#0d0887"
            ],
            [
             0.1111111111111111,
             "#46039f"
            ],
            [
             0.2222222222222222,
             "#7201a8"
            ],
            [
             0.3333333333333333,
             "#9c179e"
            ],
            [
             0.4444444444444444,
             "#bd3786"
            ],
            [
             0.5555555555555556,
             "#d8576b"
            ],
            [
             0.6666666666666666,
             "#ed7953"
            ],
            [
             0.7777777777777778,
             "#fb9f3a"
            ],
            [
             0.8888888888888888,
             "#fdca26"
            ],
            [
             1,
             "#f0f921"
            ]
           ]
          },
          "colorway": [
           "#636efa",
           "#EF553B",
           "#00cc96",
           "#ab63fa",
           "#FFA15A",
           "#19d3f3",
           "#FF6692",
           "#B6E880",
           "#FF97FF",
           "#FECB52"
          ],
          "font": {
           "color": "#2a3f5f"
          },
          "geo": {
           "bgcolor": "white",
           "lakecolor": "white",
           "landcolor": "#E5ECF6",
           "showlakes": true,
           "showland": true,
           "subunitcolor": "white"
          },
          "hoverlabel": {
           "align": "left"
          },
          "hovermode": "closest",
          "mapbox": {
           "style": "light"
          },
          "paper_bgcolor": "white",
          "plot_bgcolor": "#E5ECF6",
          "polar": {
           "angularaxis": {
            "gridcolor": "white",
            "linecolor": "white",
            "ticks": ""
           },
           "bgcolor": "#E5ECF6",
           "radialaxis": {
            "gridcolor": "white",
            "linecolor": "white",
            "ticks": ""
           }
          },
          "scene": {
           "xaxis": {
            "backgroundcolor": "#E5ECF6",
            "gridcolor": "white",
            "gridwidth": 2,
            "linecolor": "white",
            "showbackground": true,
            "ticks": "",
            "zerolinecolor": "white"
           },
           "yaxis": {
            "backgroundcolor": "#E5ECF6",
            "gridcolor": "white",
            "gridwidth": 2,
            "linecolor": "white",
            "showbackground": true,
            "ticks": "",
            "zerolinecolor": "white"
           },
           "zaxis": {
            "backgroundcolor": "#E5ECF6",
            "gridcolor": "white",
            "gridwidth": 2,
            "linecolor": "white",
            "showbackground": true,
            "ticks": "",
            "zerolinecolor": "white"
           }
          },
          "shapedefaults": {
           "line": {
            "color": "#2a3f5f"
           }
          },
          "ternary": {
           "aaxis": {
            "gridcolor": "white",
            "linecolor": "white",
            "ticks": ""
           },
           "baxis": {
            "gridcolor": "white",
            "linecolor": "white",
            "ticks": ""
           },
           "bgcolor": "#E5ECF6",
           "caxis": {
            "gridcolor": "white",
            "linecolor": "white",
            "ticks": ""
           }
          },
          "title": {
           "x": 0.05
          },
          "xaxis": {
           "automargin": true,
           "gridcolor": "white",
           "linecolor": "white",
           "ticks": "",
           "title": {
            "standoff": 15
           },
           "zerolinecolor": "white",
           "zerolinewidth": 2
          },
          "yaxis": {
           "automargin": true,
           "gridcolor": "white",
           "linecolor": "white",
           "ticks": "",
           "title": {
            "standoff": 15
           },
           "zerolinecolor": "white",
           "zerolinewidth": 2
          }
         }
        }
       }
      }
     },
     "metadata": {},
     "output_type": "display_data"
    }
   ],
   "source": [
    "random_1 = np.random.randint(0, 1000, 200)\n",
    "\n",
    "trace = go.Histogram(x = random_1, xbins = dict(size = 50)) # size 조절가능\n",
    "fig = go.Figure(data = trace)\n",
    "fig.show()"
   ]
  },
  {
   "cell_type": "markdown",
   "metadata": {},
   "source": [
    "## basic 2 _ X범위 조절"
   ]
  },
  {
   "cell_type": "code",
   "execution_count": 45,
   "metadata": {},
   "outputs": [
    {
     "data": {
      "application/vnd.plotly.v1+json": {
       "config": {
        "plotlyServerURL": "https://plot.ly"
       },
       "data": [
        {
         "type": "histogram",
         "x": [
          0.00932642200677881,
          -2.39591566159457,
          -0.6070823990833634,
          1.7724855859774187,
          1.739293757250466,
          -1.0830640706233217,
          -0.837486398576356,
          0.8468266397401186,
          -1.0040582276057655,
          -1.2120373643586195,
          -0.10678512051995107,
          -0.7051611471182476,
          0.04175773720532228,
          -1.254571744959422,
          0.4569889475932197,
          1.016600362206323,
          1.3312127343707827,
          -1.6185081929007232,
          0.7887300754999288,
          -0.1610156184921901,
          -0.5791301655639497,
          1.3175790939808385,
          0.42072915943469,
          -1.1656668857339927,
          -1.7194923249254999,
          -2.0485936360497012,
          0.08022909582699726,
          -2.055205956897817,
          -0.0038950017933109407,
          0.1832444067187074,
          -0.1897418395790792,
          -0.6963601374026904,
          -0.26004738172438724,
          -0.37738233355315104,
          -1.8080903318248405,
          -1.8468530776204288,
          -1.2962065481792524,
          -0.20861887316918168,
          0.5038025984724231,
          -1.5927820080931214,
          0.7695649946921086,
          -1.7724392507682598,
          -0.7604540914570014,
          0.6359451666802944,
          0.28116787496606455,
          -1.0582032628715878,
          0.01572121022390809,
          1.1426812579803054,
          0.5041251484240676,
          2.326366796773343,
          -1.195539192328247,
          -1.7384492513794536,
          -1.7673918992122266,
          -0.28696445319315206,
          -0.710568452155712,
          -1.8246913026222522,
          -0.743288773895005,
          0.43053662098623374,
          1.3982796106857383,
          -0.592919605699704,
          -0.5782393140499913,
          0.13974898635524743,
          1.189293771812075,
          0.6468292042350309,
          -0.3051446705861431,
          -0.31305190756822826,
          -1.765119816910737,
          -1.9764608802177777,
          -0.5574717059571088,
          -0.3211410286951185,
          0.2514502038524921,
          0.37789818918878715,
          0.1342888162078211,
          0.5772972017851028,
          -1.0515241774734236,
          -0.6543094824148057,
          -0.0920477399321891,
          0.9663604918539386,
          0.1856646580258531,
          -0.1021821940430321,
          1.1783787624100015,
          0.6932177438780784,
          -0.9804778587005875,
          0.7382380070354535,
          -0.06897033981494323,
          0.557389270642345,
          -0.3239380322387992,
          0.5930058054760138,
          0.2665929917260634,
          -0.1485755583945162,
          -0.5160780184582638,
          -0.42780049445972945,
          0.5192991018689885,
          2.0962386326416347,
          -0.3470272398266774,
          0.5049014688440306,
          0.3752006158100309,
          0.42344971804033626,
          0.24835565719388925,
          -1.4314935645188376,
          -0.2976373420785367,
          -0.639341806627397,
          0.01911137984165389,
          0.7063676732063123,
          -0.9081958024298302,
          1.3619765790289255,
          -0.41089870490786123,
          -0.45571898196532995,
          -0.7733085453801516,
          -0.7875522012562224,
          0.3564750576011645,
          -1.2767969243510227,
          -0.3756012084230171,
          0.7219831497364332,
          -0.019111175565506965,
          1.677087808635898,
          0.1313505744100332,
          0.3129505339673083,
          0.15925961533427174,
          0.0436274261349791,
          -0.07689005707468295,
          0.9350286934992611,
          -2.401295336051313,
          -0.706233939534756,
          -0.2828822851844103,
          -0.11797663603766279,
          0.9956728974316796,
          -0.5081425830514784,
          0.35014872224189636,
          1.6612324929796511,
          0.9674840087427127,
          -0.6905998729221619,
          0.406066521692068,
          -0.10638404898654354,
          0.12749370413535938,
          0.272177808742366,
          0.8089493178925579,
          0.9451752974503933,
          1.7436097418012537,
          -0.5133051376437149,
          -1.2333372781369014,
          0.856641813343289,
          0.06354904706974328,
          1.1199088901875247,
          -0.04552945279679792,
          0.6515679345637733,
          0.4262365696201098,
          0.8038842303708997,
          -1.7587338741516036,
          -0.9518155936492099,
          -0.7997211106803281,
          -0.9495520806502641,
          0.07321768185778732,
          1.063954383713881,
          0.037870610497860106,
          -0.7214562191544076,
          0.14979916943015564,
          0.6229677488467328,
          -0.012522083770522288,
          -0.8942374871502873,
          -0.11654365438733086,
          -1.8976160396072903,
          0.5239850004737132,
          0.6564643501329688,
          0.33213749779477264,
          -0.03514588713282148,
          0.2603676448249997,
          1.16765305963634,
          -0.46421781261717643,
          0.08545999893388675,
          -2.8645810713249076,
          0.8154701936935324,
          -0.689926725722637,
          0.5110436014556804,
          -0.6084965758071612,
          -0.8757489413288011,
          0.5592784512593635,
          -0.8759631613189502,
          -0.5599416080550293,
          -1.4104639851130754,
          -0.018011717305254225,
          1.2457801672954398,
          1.0103107008070569,
          -0.27786255675078003,
          0.3930933482916575,
          0.30096014522963127,
          0.07859794469516754,
          0.45637062539756895,
          1.190876197192472,
          -0.7282499962529881,
          1.5319824649805842,
          1.643993966122033,
          -1.4330574873997517,
          2.1909772644556837,
          -0.13169726027262918,
          -0.13047314341592284,
          -0.36965428860586796,
          0.22665278871161448,
          -1.641768317397939,
          0.602626168761471,
          -0.7729959957724841,
          -0.5929860507993233,
          0.4605909704789395,
          0.01784961476996711,
          0.020086336149526984,
          -0.9870408794979538,
          -0.5529684732283745,
          0.6325133565762494,
          1.2904968065298041,
          -1.6266623760135277,
          -1.6449792966323142,
          0.42452260254787755,
          0.5220000309698851,
          -1.3840364591784506,
          1.428917653649036,
          0.5995645546672301,
          -1.1651274024743163,
          0.5427901307365703,
          -1.0754259010543448,
          2.6829622340150525,
          -0.10578546194132683,
          -0.7830313199608502,
          0.23048616647045378,
          0.6221861252521258,
          2.3805328989096406,
          -0.3108870371537915,
          -1.8298259154322492,
          0.521488817637087,
          2.3211666987375286,
          1.120979203134375,
          -0.011763544744256085,
          0.0329367494867614,
          -1.280218998040129,
          0.4595010990983504,
          -0.10660068799576247,
          -0.11223619583707298,
          0.03224759116291572,
          -0.6755433008871006,
          0.3694291858931989,
          -0.7429861816503347,
          1.400726069016824,
          1.0880911477634985,
          0.6481734594414146,
          -1.5809282802033655,
          1.4828183852652266,
          0.2764091975365939,
          -2.524059028833017,
          -0.5125504613854305,
          0.20328236372960645,
          -0.29723213909759294,
          1.3482967650544038,
          -0.9338913517003732,
          0.20328222137040308,
          -0.49554625226238413,
          -1.6700768633783407,
          -0.41548161141390555,
          -1.1079884548649053,
          -0.8218382583784973,
          2.828763108359236,
          0.8465797002361579,
          -1.5560312368395195,
          0.10538831892010618,
          1.8230120234249767,
          -1.1310902780918672,
          0.1045023163886869,
          0.5624907032236347,
          -0.5419780519092129,
          -1.0717388875481084,
          0.2937989442445098,
          -0.16845459484482803,
          1.5145949854761322,
          1.2406969786377655,
          -0.29497617104250035,
          -0.7541803159270319,
          0.19122009081766145,
          1.2853369325971968,
          1.1575919847147538,
          2.5811555281136638,
          -0.6116130838285193,
          0.5779914813941622,
          0.12929349372959958,
          -0.9179941517671301,
          0.9445670552939752,
          -1.4714149121598197,
          -0.47387003733924354,
          0.9639895452256806,
          1.1409339132398306,
          0.04169481242123827,
          2.126343429573913,
          -1.569659858439583,
          -0.8332418917979812,
          -0.8669490595985798,
          -1.2819627670507696,
          0.4706000574675361,
          -0.05743058783549086,
          -0.19517703022461252,
          0.4967828548502986,
          0.5055920904846515,
          -1.1246538544875961,
          0.02603339597545969,
          -0.05629388273245348,
          0.4988446864176214,
          -0.8066719985642418,
          0.2761680615829608,
          0.757023156617328,
          0.7835440724845413,
          -1.706741801765751,
          -0.5322949877566835,
          -1.4866263298861317,
          0.3589887685808234,
          2.1877067582284337,
          -1.4859745445792614,
          -1.8735868289756092,
          2.1322586585748513,
          1.890782231891332,
          -0.28404693043894247,
          1.377924894919073,
          -0.737945568971673,
          -0.055966525373296196,
          -1.1275579107421685,
          1.0147744900241145,
          0.18783509948859747,
          -0.7569318880602371,
          0.4125044369637356,
          0.3117005548899824,
          0.5889883618153733,
          -0.18676641004738376,
          0.020519815574754047,
          -0.6609034093106133,
          -0.143246328993026,
          -1.4995386728243771,
          -0.9475873137394548,
          -0.9587764215314858,
          0.7434002944187977,
          0.2749646791146145,
          0.8710692177029592,
          -0.5120857444070726,
          1.1000333867175054,
          -0.21779630281413148,
          1.8609727049292033,
          0.5718898245313089,
          -1.8842836361482167,
          0.24014489146105233,
          1.3795189507936192,
          0.5483635665284358,
          0.8374000347149818,
          0.28567180593635816,
          -0.8775154175444487,
          0.8665814476922561,
          0.3105987860896535,
          0.1448089806565826,
          -0.5268836133711513,
          0.7467089308243925,
          0.27370853361552233,
          -0.4990649554595985,
          -0.855935473178304,
          -1.0754360877963987,
          0.7087174961822863,
          -0.21905458051003962,
          0.38042175837966774,
          0.8038088283055941,
          1.3224541648873909,
          0.7095685084588524,
          0.489019136474301,
          -0.7792542608016333,
          0.5105124235657874,
          0.2505635543070989,
          0.2889905586928318,
          -0.5829285738508383,
          -0.07277094906274835,
          -1.6227896410460183,
          1.1560729289228122,
          1.5119922710351215,
          -1.0570950988996681,
          1.04379706392719,
          1.9073015983403672,
          1.4227824650681618,
          -1.595224725436051,
          0.5971472397095071,
          1.1124558035726497,
          0.028778095955453026,
          0.7524060040168405,
          0.683697453034455,
          0.9415052328732164,
          0.3358284754613511,
          0.2575331052460345,
          -0.14404066789136155,
          -0.787855776675349,
          -1.1501996343890273,
          1.9191474541529463,
          0.5158689524945682,
          -0.7873712752006113,
          -0.1478977090499452,
          0.7052481214754494,
          -0.6456245478606558,
          2.38098364757328,
          -0.46697566260438556,
          0.8451611555207023,
          -1.5366152978557315,
          -0.4208672896021387,
          0.12455821873164269,
          -1.6422942485805798,
          -1.0177206763807385,
          0.21927228799765036,
          -0.5841413301150565,
          -0.10371506678312657,
          0.7669650442073745,
          -0.9097248734967841,
          -0.03643785648353116,
          0.3974824564067201,
          0.9095231277406944,
          -0.18993094291627866,
          0.28225477810216115,
          -0.551605812265988,
          -0.6208157443155673,
          0.6788676114521933,
          -0.6052081677300516,
          1.3547402835861286,
          0.10930041190280267,
          -1.0683450311369318,
          -1.7598898034822685,
          0.3599471615916342,
          -0.17543383444759922,
          -0.04029953953000057,
          -0.03302566917274975,
          -1.6482970180421987,
          0.5074007832493042,
          -0.4769527487477355,
          1.4915090936251327,
          0.2512101503249266,
          0.7150512633236126,
          0.08770257838933858,
          -0.01778457794592899,
          2.678257027745609,
          0.022789998201686,
          -0.8404199473658653,
          0.32214483935375104,
          -2.2631441508654837,
          0.03450153442051743,
          0.11362923039015058,
          -1.3857501566028856,
          0.11735999918414995,
          0.3278310434954948,
          -0.8334845836897632,
          -0.2728592914784465,
          0.35717045443225287,
          -0.4440257619766964,
          0.8164908306282016,
          0.06828778222929267,
          0.2847594160905048,
          1.0108526893955012,
          -0.8265013076639502,
          -0.7746918811096777,
          0.03790805628152597,
          -0.06373422781170822,
          0.4904557301049081,
          1.339512675381274,
          -0.7440877384527899,
          -0.4906535244262921,
          0.46584789978265667,
          0.7537235555812991,
          0.03028917858872624,
          0.7143891004116389,
          -0.3348001641795945,
          -1.2859251355540122,
          0.35046747651895127,
          -0.19154498677542262,
          0.5965987318614266,
          0.3449064011705748,
          -0.5091089180398864,
          0.8881263116435909,
          1.3581314461901655,
          -0.014055625829485597,
          -0.3175198353913231,
          1.0384509501042878,
          -0.42092374038554814,
          0.31038292265556194,
          -1.249421626699895,
          -0.8979883265973757,
          -0.13325361208307884,
          0.6068894720075179,
          -0.9442326784216071,
          -1.5534488564062414,
          -0.6359565898272489,
          0.15047866583026945,
          0.5218171564578072,
          -0.8771687290450488,
          -0.0945873842338284,
          -0.5340378381403789,
          0.402461699544639,
          -0.6788148277973052,
          0.6583380691669993,
          0.6718741205333751,
          1.3521449039001088,
          0.21960570455743292,
          0.12905787219008036,
          -0.3723149918765671,
          -0.3313558514988055,
          -1.1329776902926343,
          -1.2062432836271337,
          0.7230377316929794,
          1.2224567556344121,
          1.2391734134061405,
          -0.9964313224500742,
          -1.2802136245363025,
          -0.1764046097489673,
          -0.40509797671303666,
          0.0156541230122903,
          2.1802973376089825,
          -0.5439384125384377,
          0.5839801188136665,
          0.5981199830598677,
          0.4888113867107886,
          -0.9872254890343323,
          -0.8454433644327067,
          0.3205464666214805,
          0.10687086777357088,
          0.5641757189120691,
          1.5076207446461536,
          -0.7213380890981108,
          0.8336238559642677,
          1.5035357820508068,
          -1.0172982119850904,
          -0.9141341813373411,
          0.7167098995403145,
          -1.56243422277204,
          0.007887002367208523,
          0.5607596857530334,
          0.312142776236697,
          -0.8957189937877618,
          -0.7512625816203898,
          -0.9589756376969345,
          -0.7445670350238922,
          0.37229460359282635,
          1.0887440813014715,
          0.4540790131953326,
          0.6080681162651073,
          1.2838884870392533,
          -0.14130667652914178,
          -1.9312727227706008,
          0.34210285041366967,
          0.252932281360389,
          1.1097514278483567,
          -1.6919347711452524,
          -0.5898634393394793,
          -0.7412214063745617,
          0.7733335602140934,
          2.4070982908064633,
          -1.0528573451140952,
          -0.48096696936800515,
          -1.2027836434694887,
          1.0615571698821873,
          -1.413937593774761,
          0.8123864312448296,
          -0.7926918560498983,
          0.07383793338405145,
          -1.6265510442172841,
          1.7094081172704982,
          -1.348416067916571,
          -0.042641585941212465,
          -0.3972753678229892,
          0.3500961829712046,
          -0.15059382212157954,
          0.9565225259286444,
          0.9872117019117223,
          -2.7352637754991913,
          -0.048560558277582454,
          0.4956201602218541,
          -1.2538405020684114,
          0.4415106250464327,
          1.2537116398799166,
          -0.08018526832198185,
          1.1875951391840143,
          1.592512482872236,
          1.5891146232001985,
          0.23476311175088516,
          -1.0801114149153714,
          0.46661190932020424,
          0.2761774778452158,
          0.272735731255416,
          -0.42366461010281603,
          -0.48196358674146816,
          -0.6055018045264154,
          1.748421698095388,
          -0.5060189113933363,
          0.6316054913808056,
          -0.5396932603650715,
          -1.060170758398249,
          -0.15701082907948283,
          1.5535997170676072,
          0.08527849847947755,
          0.9651295002213162,
          -1.0828644593951984,
          -0.43115606902095516,
          0.9958882659764432,
          -0.10263989449794082,
          -0.8443823747637442,
          0.5133412199951845,
          -0.2694066477760179,
          1.4456893341485348,
          -0.47342711479181776,
          -1.7145188185098603,
          -1.6110316461591723,
          0.25505809194271384,
          1.2973882883747712,
          0.5109345880733607,
          -0.09662604982486586,
          -0.6664053181101812,
          0.24221637010879615,
          0.2770633593227037,
          0.6194222809713815,
          -0.34355495963165894,
          0.4827745994340431,
          -0.2503895260913397,
          0.10002976102604955,
          -0.29319491900056055,
          1.4177340103997513,
          0.5629417586150121,
          -1.7128828313859918,
          -0.871789386898664,
          -1.6965006389065045,
          0.8700776439647018,
          -0.013521167928749587,
          -1.2464818205610975,
          0.2787212108525834,
          -0.5112920812924556,
          1.4286384910852863,
          -1.2314645350598965,
          -0.15007913204090573,
          -0.015296977736092544,
          -1.1508625637722623,
          -2.2755859698894287,
          0.1821526070303834,
          -0.5199421502969027,
          0.8790027608445382,
          0.7124639243135311,
          0.09346611831556566,
          0.33285222470982134,
          0.9193000834829307,
          -0.044610152209442956,
          -0.7160151366719412,
          -0.828008375214788,
          0.24045601628629903,
          -0.26141074418321725,
          -0.6403234791014019,
          -0.6273834209376254,
          1.1737973558891115,
          0.1680771079082913,
          -0.06667946054825227,
          0.8600750084228487,
          0.1691400512640244,
          0.17320958899515854,
          -1.2671765462934,
          0.4927608709549342,
          -1.0826148210577033,
          -0.8278014186981496,
          -1.2723427918701142,
          -1.0370100466283398,
          1.3025651070466504,
          1.348754375223584,
          1.9140435515611514,
          0.347825504719976,
          -0.6066862246442803,
          -0.7091203208783055,
          -0.3126683550864559,
          -0.07589857790949298,
          -0.552590996044019,
          -0.3446713484156585,
          0.7226098033222587,
          1.061108330961341,
          0.056065214683442825,
          0.8418271925154119,
          0.8781778818494224,
          0.8862048946554677,
          -0.7179763794711695,
          0.6895529063405301,
          1.2968141131352746,
          1.268263114790004,
          0.036430055399857365,
          -0.6119244409948081,
          1.0761543523778774,
          0.8863996689744936,
          -0.02735139756653166,
          1.2819656306103688,
          -0.043742993401353285,
          -0.8870296706045462,
          -0.2772713133938311,
          -0.7670589487015723,
          1.2462630657233018,
          0.34946244161351175,
          -2.5215408174516014,
          0.09313813288518091,
          -0.7887586365613767,
          0.5655798383812228,
          -0.12609794467953486,
          0.7144242635409788,
          0.571603090011925,
          0.5814877277704043,
          -0.5460048221826429,
          0.1882192269350926,
          -1.42413101423624,
          0.27616391994578343,
          -0.36494400722560416,
          -0.25663415659349975,
          1.0194496816592455,
          -0.4392415131612901,
          0.5709104322139898,
          -1.850221829397174,
          -1.2487723335984853,
          0.06317082734110675,
          0.29237138567698107,
          -1.762789267007728,
          -1.6190237561536809,
          -0.12386181916248265,
          -1.2561105697415569,
          0.3672824804979625,
          1.0892755863740273,
          0.718418976035315,
          -1.8447639842384558,
          -0.23314599409054498,
          0.8013167351305885,
          0.28509103500000166,
          -0.5189520805036644,
          -0.857120782505275,
          0.3612280834519268,
          -1.6539975829353226,
          -0.47095998191654875,
          -0.22018426427954685,
          -0.5397959313386983,
          -0.3385244423014456,
          0.21436174816164613,
          0.7740942438027989,
          0.739334060743256,
          1.7455284031312643,
          0.6705853921252894,
          0.2911918258346393,
          0.3304739273235822,
          0.9157456045157362,
          -0.44642577469998956,
          -0.17128353532320442,
          -0.028892321120128486,
          -0.909605964710658,
          -0.8641279837835298,
          -0.016800120482130622,
          -0.9117266033941018,
          0.2353502098198862,
          -0.727962110939547,
          0.0223557396362398,
          -1.274569257374244,
          -0.538537369072099,
          1.3144521343380178,
          -0.2675635025285196,
          0.1104010549391738,
          -0.7765707446560538,
          -0.45173307838045546,
          0.31609353791963457,
          -0.26825390339197114,
          -0.8629619072984617,
          -1.3867464190834968,
          -0.04245124081261474,
          2.3888733885746345,
          0.7201035166137786,
          -0.5644206789334498,
          0.5437147984647837,
          1.5605055972846298,
          1.3755528415079346,
          0.15843725864226166,
          1.9768366881832402,
          -0.18851369718589656,
          -0.2571057131149598,
          -0.9577860650116137,
          -0.076504886611419,
          -0.2867301832494068,
          -2.1107530142369066,
          0.09323704470997962,
          -0.31048507559172067,
          -1.6500164937654107,
          -0.851192671836091,
          -0.20961405889310852,
          0.9820367790810786,
          -0.520895744803373,
          0.3923757821507151,
          0.18104531370132354,
          -0.07894923950989197,
          2.5670192590111762,
          1.5804782170843785,
          1.4511508883759314,
          0.9099416279670114,
          0.46019809623425434,
          -0.23818290170386114,
          1.2182651573413206,
          -0.2791838839632817,
          0.26249452663912315,
          -1.309604183747656,
          0.4262503945200869,
          0.4085102265409787,
          0.15055719488888616,
          0.9086075439125259,
          -0.023156867362976414,
          -1.164698379766446,
          -0.7460324649660486,
          -1.2572010396451943,
          1.2167647779500288,
          -2.000271380292012,
          -0.46792926426165155,
          0.25864360426292526,
          -0.3004296501291414,
          1.1512935915299343,
          0.9186072854902944,
          -0.028728994887718594,
          -0.1944842426289934,
          1.0116715857608667,
          0.17337842189565175,
          -0.09058151042720368,
          -0.49548177868461646,
          0.17376281592499945,
          1.6617136907630237,
          -0.9703528280245795,
          0.35337485542327507,
          -0.09552037233785003,
          -0.8932136484286549,
          1.0668000623558913,
          -1.2865388923606693,
          2.543971484945021,
          0.022854705953638615,
          -0.36027893199975464,
          0.525517870341574,
          0.3852370373206699,
          0.991675737381238,
          0.3855459625844843,
          0.5473606201152325,
          1.3953250050179395,
          -1.3304290561719152,
          1.3803882339742093,
          -0.7560991961574142,
          -1.2408415695401658,
          0.092074441639293,
          1.330482374433966,
          -1.1933971226116544,
          -0.4831790205198991,
          -1.0799975681478826,
          -0.6863868029125044,
          -1.5098846986307752,
          -1.3250655630444328,
          1.068636439764048,
          0.021111598576944713,
          0.21804158503333146,
          -0.427270463251071,
          -1.6689732999586762,
          -0.6470906053624805,
          1.3267644406453634,
          1.4518637369797445,
          -2.5967955729240164,
          0.6448239723786263,
          0.3565236645403068,
          -0.0548336151780278,
          0.039358630910009865,
          0.9876051278091698,
          1.3088273733723592,
          0.5277259642034623,
          0.8027144319636963,
          -0.8327196668917989,
          -1.0762914679132507,
          1.22083010806868,
          -0.5262570668348758,
          -0.03949790016282046,
          0.8883719761253294,
          0.4148043493267135,
          0.22009274289129088,
          1.4133197942287101,
          0.06921907946930249,
          -0.18661746894618295,
          2.5118990920651445,
          -0.8550075909855701,
          -1.5424506899195003,
          -0.934302397292998,
          -0.2583352499426803,
          -1.8153375035883443,
          -0.3115795167780459,
          -0.010730980892882422,
          -0.13451703542025903,
          -0.7837273066942221,
          0.8137604322869617,
          -0.5767492405048988,
          0.6577197947502121,
          0.39597879188057333,
          0.7909064318651661,
          0.45280338502841205,
          0.31337875025776246,
          -0.08749851318127541,
          0.9331069765987059,
          0.2595571660667835,
          0.02026637754036691,
          1.2428512762229573,
          1.8432417644335373,
          -0.016845206719227332,
          -0.8468325300635234,
          -0.515867756269519,
          -0.05729789780419712,
          2.85116005246235,
          -0.4133024101149127,
          0.013830915605045116,
          -0.5972948386922807,
          -0.6024845737222059,
          0.40251815407705516,
          -0.1817677681599705,
          0.5495584889350803,
          -2.2124457228386785,
          1.2015047803385566,
          0.42820387801917087,
          -1.729666480460068,
          0.17908010805185465,
          -1.1868953233240014,
          2.401782459314819,
          0.8819962657056258,
          -0.1863997766298253,
          1.4325950390253086,
          -0.1073475685944077,
          0.9791673114233158,
          0.8303089159687529,
          0.1491350247293032,
          -0.6522016443758091,
          0.018632827687008233,
          -0.2656114631054714,
          0.5841638167211443,
          1.4403578258270904,
          -0.19995987450143304,
          0.2890684202743825,
          1.1280354079036516,
          -0.19240176272312087,
          -1.2106034744518417,
          -0.04600100558349908,
          -0.5872191926313978,
          -1.2501842418858418,
          -0.6613203368163388,
          0.49020980065246517,
          -0.3900668414411957,
          1.407208633430987,
          0.7527313221000899,
          0.3699640025422515,
          -1.1379571148265892,
          2.0386545913199203,
          -1.1333303785652027,
          0.07242306042220131,
          1.3761970013168592,
          0.2729093600336602,
          0.8742227671507592,
          -1.5748043954899213,
          1.840608574557238,
          1.5805958365983828,
          0.5012356513862121,
          0.6397818678837744,
          0.1110540614579909,
          -0.657306326684799,
          -1.4178830753324236,
          0.4930694802810462,
          -0.08698618728283938,
          -0.4637528168031476,
          -0.8842742333562651,
          -0.22045471025722588,
          0.3426042250642357,
          -1.647687300470378,
          -0.9167544052035516,
          -0.48325238124967695,
          0.23406007650664465,
          -1.9473510016987432,
          0.5997358460956835,
          -2.148109423357089,
          0.009248288008439918,
          0.03595516926111649,
          -0.3870540272953777,
          1.7461832517142462,
          0.12286279558481944,
          1.4334859568072367,
          -0.8833092699111248,
          -0.035391250351059035,
          2.628227732190383,
          0.3610626874044512,
          0.7468109875717778,
          0.898957237267767,
          0.9784435445534492,
          -0.14328160834157627,
          -0.7645089912108253,
          0.955757213495296,
          -1.986134322018106,
          -0.36345058223089477,
          -0.7737449606175255,
          0.4539336841294456,
          0.24051569022540586,
          -0.6023762362080028,
          -1.2580582884520717,
          -1.1576527248884692,
          1.2316738847002746,
          0.23322565486265112,
          -0.4389614939631297,
          -0.12594202463305246,
          -0.590923023583461,
          0.23210673980449764,
          0.9504579747048373,
          1.020412516403874,
          -0.8142228615472135,
          0.6778605645528285,
          -1.930299800990394,
          0.5175557202518659,
          1.4787675372749907,
          -0.8351707809172678,
          -0.13352891801782651,
          -1.171694527782618,
          2.838306260564374,
          -0.7848859310414997,
          -1.3179599636129742,
          -0.28748536193146246,
          0.19707490876776992,
          0.02508145496254876,
          -0.91943384333535,
          0.4072909319194378,
          -0.016661663275255565,
          -1.6155147788025535,
          1.1886262205841718,
          0.4685458044359933,
          -0.30231300153344876,
          0.279241968053004,
          -0.2760724370973325,
          0.07260018909587339,
          -0.6527169152420531,
          0.9243618533888674,
          -1.8109110782964817,
          0.21162297423225887,
          0.34911974837543075,
          -0.29843750465152546,
          -2.1009714194525455,
          -1.4563214346334317,
          -0.4728038214076886,
          0.3455101870337338,
          -1.3641781971407758,
          -1.8878022530181384,
          0.0033458572810418446,
          0.280592888280132,
          -1.0648447785721273,
          0.0979325809838168,
          -0.35162581344745975,
          -0.7449871009900795,
          0.690828475794653,
          -0.32229172293176817,
          2.3368127456055254,
          0.4552526075745318,
          -0.054047468328771366,
          -0.6800920928739859,
          -2.7106901517490276,
          0.24498205320676264,
          1.1159780110112816,
          0.4875742197944514,
          -1.9622034180173005,
          -0.3873596310762717,
          0.3642626094681839,
          -0.6219392840041843,
          0.135369721555084,
          -1.9341283085581136,
          -0.5303986193873736,
          -1.9982253933878158,
          -0.6342117562057069,
          1.2682682812721078,
          -1.1459737844029916,
          -1.7799369214393912,
          1.0948166941804205,
          0.7314501116258207,
          -0.6451506276844592,
          0.8463689598962181,
          -0.36833457983219847,
          -0.8665984607392752,
          1.5652130548709875,
          0.4001048729109996,
          1.1992370061451196,
          -0.39054702754208614,
          -0.057139890423715624,
          -0.5228956468183654,
          -0.26401656621746344,
          -1.5334738070070555,
          -0.0703498448674177,
          0.04757815168666799,
          -1.6751362215993573,
          0.289154939027209,
          0.8512197689506257,
          1.3665357385983496,
          0.8702045246936613,
          -2.0706618151511154,
          0.3921811468012971,
          2.078617896196238,
          -0.38175751932811486,
          0.06750219783081364,
          -0.39366300131894033,
          0.8615310987972945,
          0.20206004814428294,
          -1.1050180932610423,
          1.6308520584886779,
          0.24703281264396357,
          1.418014706481123,
          -0.2081087081833675,
          0.5323229385022157,
          -0.4352826410921902,
          0.48233764600509377,
          0.8851522451384031,
          0.7843919788783732,
          -0.05786644054784604,
          0.14655156138460154,
          0.36147564148743455,
          -0.000675792217926457,
          -0.36046251745977376,
          -0.49801794527859217,
          -0.18855191525416415,
          -0.889828749535986,
          -0.3948424432908081,
          -0.6305850050474815,
          -0.5977342477211934,
          -1.167709584101412,
          -1.7299161375840397,
          -0.4938976580854737,
          -0.525087671422142,
          0.7590569713845617,
          1.443342742992946,
          -1.507239785713221,
          -1.305273990129562,
          -1.093499362757289,
          -0.4108103897706284,
          -0.8178294926589997,
          -0.783031071957212,
          -0.0489288882928471,
          0.5752966954651011,
          -0.9239405551129821,
          -1.0095722783963883,
          -1.433863290266327,
          0.5572839739200776,
          -0.33358992889726513,
          -0.26884277822529373,
          0.4413769832805979,
          1.2518256319523697,
          1.3673685024883013,
          -0.9550319253869965,
          0.12937167424149595,
          0.3203289331895976,
          -0.29440770399125593,
          -0.9854248400449408,
          -0.07806669093933737,
          0.6217785833202276,
          0.6798665153036566,
          -0.39042493907197995,
          -0.07390900362873082,
          -0.7606217775177848,
          -0.7122797326655413,
          -1.7066752931694256,
          -0.7359957037438432,
          0.25000675727821475,
          0.43974156326129815,
          1.7326953715149536,
          -0.49679003674626043,
          -0.1233852663098995,
          -1.6742218473988877,
          0.5773634533504962,
          -0.24564014568592085,
          0.08236608261414967,
          0.5447089032613163,
          -0.39534244308018135,
          -1.3266598600994641,
          -1.3988804565519979,
          -0.2993222089621064,
          -0.21857604439562975,
          0.8431170604868558,
          -0.6956239314473774,
          0.9816214420364942,
          1.154152960307438,
          -1.2383625432838865,
          -0.37380385558735224,
          0.38270465240873275,
          0.6900210214000482,
          1.5260479134935234,
          1.442744157531387,
          -1.5304901576155443,
          -0.7476696088929368,
          0.5106363032151957,
          0.8861839957881767,
          -0.08108676420983991,
          1.8083047757127642,
          0.01997842254570287,
          0.40851311981379296,
          1.216287385232646,
          -1.1876408223659132,
          0.6647557018528485,
          -0.5957743134782647,
          -0.1028631524744645,
          0.19721186662222648,
          -0.6370861213805077,
          0.13842772188481436,
          -0.3080792863935722,
          0.009624751913249822,
          -0.7781287170085102,
          -0.3859695986688248,
          1.2839541705636404,
          0.8086408194406655,
          0.7442796720696547,
          -0.7807195469113346,
          1.646631278723786,
          0.8508538111957565,
          -1.234631668888319,
          0.058181264488746075,
          0.7228407198472636,
          -0.5439529194762496,
          -0.11556406125616063,
          0.5731778848198829,
          -0.28602331671864184,
          1.0395519666560715,
          1.3146177811945148,
          -1.187344699909583,
          -0.5524173193823904,
          -0.03900100157320097,
          -0.6844091024498526,
          0.9232717451125116,
          -1.3390342799482051,
          -0.6822208324166196,
          -0.2081529727772307,
          2.262568385236683,
          -0.5071576384726161,
          -1.9181614689511388,
          0.7291217961242867,
          -2.2994208343273974,
          1.96179685404431,
          -0.3475038185920031,
          -0.23013289929706385,
          -1.1088006433853892,
          -2.0375268678514344,
          1.4799849376297856,
          -1.2976283916557514,
          -1.234527007561538,
          -0.2825669644759604,
          0.7903135080188877,
          -0.7656966420422401,
          0.7297231492783133,
          0.9360860838642365,
          2.289273638254666,
          0.012138809044666073,
          -0.0832563651997987,
          0.6259635444452076,
          -0.7735218531416709,
          2.0362738788123127,
          1.0762772675879517,
          -0.7614299961165039,
          0.6396841619270806,
          -0.7235225864210353,
          -0.333641830130234,
          0.2703155216717999,
          -0.7053373298641922,
          -0.09551832254793631,
          -1.1995855834763083,
          1.7717959633826588,
          0.15785621170214528,
          -0.7257618583469243,
          -0.2569822793194995,
          -0.3593152487080195,
          0.34395817983573734,
          -1.1003488812141988,
          1.052548748652399,
          0.47190365565130354,
          -0.8464498644780305,
          -1.1160277181883105,
          -0.3677926337476627,
          0.8478134075371965,
          -2.1222920329618766,
          0.3687991008507371,
          0.11627065508809617,
          -0.4779188479409308,
          -0.654006971623126,
          0.828373576862278,
          -0.7982369417355488,
          -1.8399104838943292,
          -0.7703766832816404,
          2.253255527251772,
          -0.4888615778244311,
          0.34586464123979066,
          0.33117421317176066,
          -1.3328458698653158,
          1.340548651308287,
          1.0731926515078656,
          -0.6322041328863294,
          0.36558349174779237,
          0.09503218927668194,
          0.607626784077227,
          1.0328543045874592,
          0.6056221656990664,
          -1.391149656526387,
          -0.7611659395024541,
          -1.1345896945190928,
          -0.09769263073240177,
          -0.6985825956451567,
          0.42937961568106014,
          -0.15108093450003593,
          -0.6486963516957742,
          0.7050522846381588,
          0.7805511054350492,
          0.46696396816694163,
          -0.8846987056976665,
          0.2952317342245546,
          -0.7655620144310383,
          -0.8131880879574614,
          1.2137410822468027,
          -0.6527528898987816,
          0.07160177337399769,
          -0.20481919331159903,
          -1.7862635047688185,
          1.565476504619651,
          -1.5557142242433506,
          -0.6055697969971123,
          -0.44774261091142126,
          0.3970294486935714,
          -0.37427178217290585,
          0.9219888654073525,
          0.18848343317390687,
          -1.4556160317611488,
          0.17137110274821513,
          1.974621185008313,
          0.805338243139285,
          -0.9062879922303304,
          -0.5038999053202621,
          0.040884350072555115,
          2.378692536085634,
          -0.04614773956827738,
          1.4251983354082212,
          -2.3144221263490303,
          -0.7005744126507645,
          -2.386164141647568,
          -0.6234434463085575,
          -1.2315691714236086,
          0.9014952302814104,
          -0.3854783777711595,
          0.6025811965065151,
          0.2294064091446603,
          -0.7023398674636853,
          -0.5786956622848836,
          0.7231704260538271,
          -0.36209167106258566,
          0.4028384937592446,
          -0.6454315044404275,
          -0.19945047396432167,
          1.0200170209608017,
          0.38800932384293846,
          0.9518747577445636,
          1.5083908787915434,
          -0.4138179720678816,
          -0.30014035160008085,
          -1.1584114571880824,
          0.5697428153903417,
          -1.1028682426375604,
          0.8860954013570309,
          2.1836472931496638,
          -0.4148271088358654,
          -0.0490832012828406,
          -1.3104712643575473,
          0.4868726148369849,
          0.6918607628231217,
          0.3732772095507817,
          -0.006236350669574552,
          0.21291756427269307,
          1.2367704176679124,
          1.2134790338446604,
          -2.6837016202915835,
          1.5255963286494052,
          0.7922761313283342,
          -1.6787688940331422,
          -0.11841405666524087,
          1.0378806298821417,
          -0.8071146019345237,
          -0.3066613855435836,
          0.03536838549476761,
          1.0817777163697588,
          -0.2585220659191803,
          -0.5149836266267249,
          0.722847044772378,
          -1.576703634184373,
          -1.5746990204645281,
          1.129217644389162,
          -0.6968444869089884,
          -0.06611717022724176,
          1.0276724218610165,
          1.112104850265003,
          -0.13570397612460172,
          1.0787844708510048,
          0.2556754992106152,
          0.46071458706812607,
          1.5666668439148559,
          0.19172067072183668,
          1.8603534695734638,
          -0.16293718118124065,
          -0.2802716769079339,
          -0.8213141653707702,
          0.38820210794668997,
          0.5156407374031617,
          -0.35065040766989175,
          0.24997359280442324,
          0.7601744575819352,
          -2.1992781649214406,
          -0.9133636342681282,
          1.1578676980846225,
          -0.15497342830543973,
          -0.4975565451767742,
          1.2203798244305508,
          -0.4245514507243686,
          -0.8960946355856253,
          -0.6380782118148,
          0.9633865350467483,
          0.4863830965668454,
          -0.3356982108811747,
          0.0792149836107751,
          -1.6497752935757193,
          1.7535445852092693,
          0.32222032383013094,
          -0.17593947345332717,
          -0.9452455767547033,
          0.2599497856866411,
          -1.1520952106335982,
          0.2968337889820365,
          0.3193424991585398,
          1.0164633817678916,
          -0.9236042916457776,
          -1.3954061657334726,
          0.7172635806014362,
          0.6771173434087085,
          0.09947468642252738,
          0.5792907470503107,
          0.09577740664674224,
          0.5959022282872072,
          0.14672022502804025,
          -1.3535010157591993,
          1.663580754345865,
          -1.2228245582327366,
          -0.7435982473286288,
          0.2766830977847664,
          0.39497865860187703,
          0.06552815254732226,
          1.217362486681497,
          0.16788055270364421,
          -1.1313438237964215,
          -0.8107507377760046,
          -0.9983755936155196,
          0.1462701776544027,
          0.9188074321453502,
          0.1112822995008529,
          -0.6415869835552884,
          -1.4678344199905309,
          -1.0918816217462624,
          -0.010882288455299104,
          -1.0347957944163408,
          -1.537832238736429,
          -0.8483914613942088,
          0.30142549914800354,
          -0.9092299814295791,
          -1.8281708954352562,
          -0.7642549467501415,
          -1.1567049085339685,
          0.40043118170169545,
          1.0775276612680136,
          -0.3768193786218722,
          0.25151745656778735,
          -1.4277102545763922,
          1.4512476937713896,
          1.1608433102196405,
          0.3458106500733403,
          -1.4634740285724783,
          1.4265055675477536,
          1.3234088026321196,
          -0.7325229242988306,
          -0.17379885586225233,
          0.3000686622302391,
          -0.32168793298404486,
          -0.4864101514105646,
          0.7063322712965072,
          -0.46448152603198645,
          1.3697638146181004,
          1.362142013611848,
          1.0865694654389904,
          0.4591911243365047,
          0.9427127647401371,
          -0.9467116374127321,
          0.040660137090363056,
          -0.6023335165320535,
          1.3211567276356841,
          0.773142292398699,
          -0.4429822946785653,
          0.33643383181562564,
          -0.798449288627809,
          -0.2518173647638585,
          -0.1373806028191625,
          -0.19363849432954577,
          -1.7687639278122755,
          0.06671259799492671,
          -0.2989264883215587,
          1.9028348777147008,
          0.16109746606278688,
          -1.6774909574547892,
          1.5383850186425398,
          0.3165803948798801,
          2.082093663278291,
          1.9082485092501014,
          -1.8017642556014435,
          0.8065700981309452,
          -0.3013580761895299,
          0.1336106808959212,
          1.542030306218427,
          0.6401456419754645,
          -0.20156476848917962,
          1.615567703110949,
          -0.3930752536752178,
          -0.5563109336338585,
          1.2182203277454622,
          -0.8070400484951843,
          0.8881108717344235,
          0.4896625475995178,
          1.6581207518936552,
          -0.1237639584329615,
          -1.2317246976639853,
          -0.4341792371187192,
          -0.7149091567237617,
          0.3242973130616713,
          -1.0112033006384535,
          -1.1308298941493875,
          -0.18384632379116866,
          0.4206830290992811,
          -1.8703845734375721,
          -1.4969015427334103,
          0.9545005390273273,
          0.9718245241530683,
          0.48925729773099946,
          -0.44554236112838036,
          0.567982492654005,
          -0.2615566790579228,
          -0.26661358751541436,
          -0.4180174999265857,
          -0.6665424258507462,
          0.8488877164045032,
          0.9484301884047935,
          -0.40610035947383766,
          0.41579234279586547,
          0.31644555829739357,
          -0.23266672730669039,
          2.0014542384906564,
          -0.7727471607294845,
          -0.23932966207189113,
          -0.06310451062180647,
          0.7645065025165068,
          2.7652384603980695,
          1.579167568375436,
          -0.35874829582146156,
          -0.10914848967861741,
          0.5276955961953568,
          -1.3833129209715693,
          0.37233001554318385,
          -0.695371345818873,
          -0.105118386246512,
          1.634278857121331,
          -1.1598202547087262,
          -0.4321628638424833,
          3.290170959821749,
          -1.6345879015384588,
          -0.9324456065054472,
          0.819206633197947,
          -1.212199491847798,
          -0.0496806779886287,
          -0.026595520316900743,
          -0.49007687976616465,
          0.8629155039360213,
          3.2844627544352565,
          1.6038041056286167,
          0.9304786906748863,
          -0.12958440021533116,
          0.865361239833121,
          -1.1059260115261575,
          0.8845208983025917,
          -0.3139828846946082,
          -0.47240702496688186,
          0.5549273702752692,
          1.4158459009461704,
          0.5772483686782821,
          -0.4581954034236754,
          0.0806651606955293,
          -1.8303766997855304,
          1.640520147506291,
          0.5845892248879826,
          -0.11648451958259558,
          -1.4382926455979976,
          0.8212926520804672,
          0.37787549538255816,
          0.8967707936262292,
          2.015071609538619,
          -0.5535496145199921,
          0.4230991878678729,
          -0.47390822596806925,
          -0.45138279678901855,
          -0.961591318728418,
          0.72994961939339,
          -1.0968310684208018,
          0.34466057676729756,
          -0.14636617149737322,
          0.3364759424773881,
          1.213156649481705,
          0.6480959296689698,
          0.18829208596962754,
          -2.7203116556943576,
          -1.2235038824633622,
          0.34168890684701203,
          0.6466818278331128,
          0.4460382691209498,
          0.48638158551068494,
          -0.24941033164885257,
          -0.8804075685391312,
          -0.5143432206849037,
          2.668874896344282,
          1.2971810957159213,
          -0.9266787025843917,
          0.18850116464264077,
          -1.224715038523407,
          0.548840420387989,
          -2.4372911425315413,
          -0.11302587243685182,
          -0.8032896834024315,
          1.5147154215084928,
          -0.2224427458161893,
          -1.8319566942113412,
          -1.0604073295090786,
          -0.428636707504148,
          0.8816065063647818,
          -0.752026890590982,
          1.0867234406489674,
          1.3180186652346644,
          0.11529624490982071,
          0.15103638058233118,
          0.08216763710268704,
          1.6008740487192075,
          -2.425290886195607,
          0.5664716014330012,
          1.3807946279027628,
          -0.09051932003047153,
          -1.977637174998327,
          1.3742285564689953,
          0.24596109427220114,
          -1.028546136849784,
          -1.198094847576771,
          -4.773014327448036,
          -0.20707347562600828,
          0.7064249779687188,
          -1.307085392963048,
          -0.48268507693653684,
          -1.1585773813718945,
          -0.08880261073835667,
          -0.4009528651225535,
          -1.0519153229352907,
          0.28077158342892605,
          -0.1911299595506759,
          0.18710898640575485,
          -0.4126642219927482,
          0.9422892901882203,
          -0.015504967728672697,
          -1.6800070193940926,
          -1.928434291117084,
          0.0498948216000403,
          -1.577766566693802,
          0.8688506665349478,
          0.47861885961714706,
          -0.7500388668592665,
          1.1371055248905988,
          -0.10542348848269047,
          0.5695231855888498,
          -1.7795221610413008,
          0.6100023110499408,
          0.19604499973213488,
          -1.5673196575686952,
          -1.9459459476175591,
          0.11266891525023319,
          0.657883662002805,
          -0.8731311928567448,
          -1.0328373159418514,
          -0.12466920605312606,
          -0.6102764627891857,
          1.0704778260545134,
          -0.06103597756983815,
          0.3707265236269104,
          1.1664657680421946,
          -1.0266194576151402,
          -0.34452727175235587,
          0.3930735567796587,
          1.2209533234584766,
          0.7367182640334781,
          -0.928954998727555,
          -0.7554342322468028,
          -1.4515405104568146,
          0.42913540521005256,
          0.7227132079563376,
          0.06386901932405191,
          -1.8792689611341087,
          0.9424066062732898,
          0.22997228752740498,
          1.1392107893781958,
          0.6692799618719038,
          -0.12025419495899164,
          -1.5183673707735583,
          -0.37135893377045515,
          0.0055515162493100095,
          1.2185428599085484,
          1.1172397306347497,
          1.0223377238811382,
          0.5824028866278176,
          -2.1752909435484904,
          0.6805190382426007,
          -0.7558465615060219,
          -0.385734497818982,
          -0.5112474707294987,
          1.402016163384945,
          0.7156916109112904,
          -1.055995470899462,
          0.07912381960832483,
          -1.2587280111970802,
          0.3298696086821931,
          -0.3524998920733451,
          1.2128630131853662,
          -0.8918043885503236,
          -1.838525260382273,
          -1.6129039747463148,
          -1.2947772759861664,
          -1.1437135133067449,
          -0.9064927920284479,
          -0.18192488437370513,
          -0.22215316638456825,
          -0.9446214439867744,
          -1.4521076422834505,
          1.2335842990265904,
          -0.11279106510215,
          0.055523649195497723,
          0.3205787189919709,
          0.8505276727706432,
          0.04817091905924217,
          -0.13423504295900868,
          0.3835417178882435,
          0.6560486473120082,
          -0.48847404964145774,
          1.375177861861317,
          1.1369769644806327,
          -0.5689049585528315,
          0.27260291561224026,
          0.2283607192362926,
          0.9619746889041295,
          -0.20790841764697618,
          0.2326338686829768,
          -0.13482245797703724,
          1.0792777062684058,
          -0.929564042860415,
          0.28456475726103164,
          0.13650297907676023,
          -0.9058044129511642,
          0.2196000086445254,
          1.34343181868944,
          0.8867097327702183,
          1.1255080052172435,
          1.9329983483878204,
          -0.7668005262915074,
          0.1698290077195331,
          0.4348072778900216,
          0.8138282955623103,
          0.10717712190885206,
          -0.14795753992449434,
          -0.2593844852147576,
          0.6942673112091515,
          1.0386731138461847,
          -0.6995916656109561,
          0.3184369437890562,
          -0.9610312036871114,
          1.6255801708370667,
          -0.330378633484673,
          0.6348346157512355,
          0.05033771969473942,
          -0.27019557156049145,
          0.8074600186779084,
          0.7355498748850835,
          -1.4527944571919094,
          0.4280938848235707,
          0.8021413619491401,
          0.8303682787200533,
          0.782568556806836,
          1.2565381053413807,
          0.8842560622804727,
          1.106196478896825,
          1.9836150847381004,
          2.1961444259440754,
          0.1540549492739373,
          0.8829367751714003,
          -1.85764687188508,
          0.2130683472881765,
          -2.6932631581761313,
          2.2032124223587406,
          1.0358383533240332,
          1.3784080943893693,
          -0.2925179925017438,
          -0.5221611714630418,
          -1.2696591775135553,
          -1.138744946232189,
          0.7449029564582818,
          -0.5571771309003677,
          -0.24526991562667014,
          0.6752583213014389,
          1.3806967389489482,
          1.6593401568720743,
          2.7826415876583095,
          -1.1578058167427365,
          0.2654709518946869,
          1.1760230031521421,
          -0.8095782595754138,
          1.013224116021365,
          0.7590358746550283,
          1.1630398079673543,
          0.5771339750976331,
          -0.5134047827063906,
          -1.0660600622628136,
          -0.8207213411655369,
          -0.4760348008125843,
          1.9909366051475994,
          0.5799965353836454,
          0.441582013592623,
          -0.6049485549262942,
          2.1077427131895066,
          -0.32352118653101636,
          0.158310728917527,
          0.7810597150969243,
          0.13322515133926047,
          0.5981021347404694,
          0.7413767809027856,
          0.030364469850153456,
          -0.8046418570998419,
          -0.9239477291492746,
          0.8721677112973796,
          1.030981284981248,
          0.649414240231732,
          1.0883752990137563,
          2.20634859373834,
          -1.1167128199980427,
          0.6074710163352365,
          1.6892844554820705,
          -1.0341371757440585,
          -1.0403679207414425,
          0.6757228332050791,
          2.0857865357985217,
          0.1121985871966883,
          -0.7152197889401987,
          1.309921121020443,
          -0.39656072532542036,
          0.7460559079370945,
          -0.10476253530547318,
          0.4396787463367587,
          1.3055555725141628,
          -0.41218175404364915,
          0.8982166079897121,
          -0.7559581416408346,
          0.6301305509420385,
          0.05352866644957252,
          0.6389803154846065,
          -0.9015783503938735,
          0.14426018434043494,
          1.311135630607972,
          0.288018504999201,
          0.14288087115845594,
          -1.6746740766767203,
          0.34792311023028716,
          -1.2586212020713103,
          0.9516828495538536,
          1.7815874910808496,
          -0.028613685183014517,
          -0.6713902310409268,
          0.0813122473897912,
          1.3537139546141672,
          -2.246440612128277,
          1.963739093812175,
          0.4274780987327777,
          -0.416714448161824,
          -0.6794201898493765,
          -0.3421016620550686,
          -0.11085607560576936,
          -0.05918511002525575,
          -0.4945228192981996,
          -0.479905126897952,
          -1.1696582216324791,
          0.9904298692230198,
          0.9019788144856046,
          -0.3720833370100804,
          -0.38162379603275187,
          0.8484273168348887,
          -1.300648973634371,
          -0.10454126320812422,
          0.02289924552293306,
          1.6501254560961283,
          0.990220721805555,
          0.7335570345153071,
          1.0902243121987065,
          -0.2412256660827884,
          0.312374215112853,
          -0.1490634911207389,
          -0.04905917597445393,
          1.1027359817628974,
          -1.0205811898433297,
          2.003449130282264,
          -0.8097343987992947,
          -0.3357613709138168,
          1.3452890657649226,
          1.9850806943715382,
          -0.5227430619982179,
          2.162600977432904,
          0.23809184119241708,
          0.04378744520748192,
          0.0893725341351275,
          0.22032469087992432,
          -1.3032630649703563,
          0.036822852965760135,
          1.2728046063635539,
          -1.1287653810754539,
          -1.3748128816019618,
          0.7859340612962238,
          1.0516074091948864,
          -0.4641491860202614,
          0.24255532282845874,
          -0.19345004348638967,
          -1.1975324477822367,
          -0.42271724825761936,
          2.3945641966922357,
          -0.9316741338832077,
          -1.4436024027150804,
          0.2409658627610506,
          -1.6872552063152904,
          0.9161118328453746,
          0.5452623388487069,
          -0.4995494281813742,
          1.674257615035187,
          -0.5030301997921162,
          0.47442342692809514,
          -1.6733820042732686,
          0.46333378361023575,
          -1.2776138989702057,
          -1.1521033742031759,
          0.2698834253126634,
          -1.3176090227408939,
          -0.4866529718818182,
          -1.2877386887991715,
          0.6974472160704914,
          -0.5916608577655036,
          1.5134086278269219,
          1.1754547186785536,
          -0.2881033643690866,
          0.9588193562931674,
          1.1038595784169807,
          -0.7096975703000109,
          0.46231264529405974,
          1.929398029468382,
          -0.36835488028421953,
          0.1559920541382916,
          0.5876825165522652,
          -0.8473874210040979,
          0.9177769795294256,
          0.7645853414425666,
          0.47591950832123353,
          0.4022046594778462,
          0.7438337593037453,
          -0.0010298494883269607,
          0.7408196912294,
          -2.166380812206582,
          1.464479396188179,
          1.070998435790804,
          -0.9609245650640593,
          -0.25142521535101514,
          0.4452061136362216,
          -0.30543665681873866,
          -0.10148926209891802,
          0.6440629087500518,
          0.8313099632144946,
          0.40612257539540075,
          -0.646920521148403,
          -0.3261991233702135,
          -0.7794878426006981,
          -0.29735678121206227,
          -1.212078785498165,
          -1.2981750662254956,
          0.891869430790858,
          -1.050069461135908,
          -0.4501202035049777,
          -0.040403843086565874,
          0.19989943805303279,
          -0.43098043621967264,
          0.31976769976907815,
          1.3613824002803314,
          -3.187428605818624,
          1.4445760276750947,
          -2.0653527914017205,
          0.24561484607970419,
          2.149816076175968,
          -1.831347410385241,
          0.6249575643993025,
          1.058954451554808,
          -0.28772666992998297,
          0.12055825746316161,
          0.5267598419923771,
          -1.2165051710647463,
          -0.09996431105205375,
          -0.2992533576257833,
          -0.4840902108178217,
          -0.47054928847206984,
          0.43758552048497285,
          1.2295597563468879,
          1.5417514045961385,
          -1.737904660810634,
          -0.857334023244728,
          -0.6520721390661761,
          -0.11886493240491561,
          0.49476677115176115,
          -0.07182454317195523,
          -0.653618507194963,
          0.25050642368822684,
          0.6978172549302524,
          0.8827901768029729,
          1.563066216216999,
          -0.006485865973623861,
          0.14542871631570678,
          -0.6245693341853894,
          -0.1396895412018681,
          -1.3728252667217018,
          1.0597661870934731,
          -0.45979958913982,
          0.6169012856033406,
          1.2238211365380713,
          -0.2231404083796243,
          -0.4222540370201373,
          0.31861059856436424,
          0.5554178519484371,
          -0.37816647491372923,
          0.23082656641939228,
          0.8731307082877175,
          -0.4986942928532908,
          -0.07185927996381926,
          -0.7455115239432444,
          0.7619811773154562,
          0.06717771744475824,
          0.7629380027915861,
          0.28731138961829433,
          0.30543836733751956,
          0.7341640133398364,
          0.3246013191122684,
          0.8464133828157127,
          -0.8566247737374612,
          -0.6914419358497351,
          -0.9552112934077591,
          0.9253385865155259,
          0.4120808232700095,
          1.0923185323915825,
          -1.1745055897368013,
          -1.347648041472672,
          -1.4179813068838727,
          1.6521543844504942,
          0.502886646683401,
          -0.5403372909647585,
          -0.06026387797618625,
          1.510970136700401,
          -0.6697029798841839,
          -0.14695307629640822,
          -0.2700444217826123,
          -1.2835120522716807,
          0.4547019739589349,
          -0.7208907628016925,
          0.17810621780011598,
          0.6944843867947268,
          -0.721577003278214,
          -0.06516383445188301,
          0.28960773269820356,
          0.24072496322882578,
          0.12030062420660101,
          0.39511294842981465,
          0.9653845008151499,
          -0.1266544284870546,
          0.18215860758173777,
          -0.5219970919901383,
          -2.5860607762206342,
          -1.075650652578198,
          1.2326759503175924,
          -0.2669090277660918,
          0.8594318267735411,
          0.46419146530746763,
          0.7502323206461272,
          0.5547431326357888,
          -0.7252811052627236,
          -0.8544355836711167,
          -2.3506053752606273,
          1.622740645829336,
          0.8671503147258153,
          0.039014059826910585,
          0.6708369578599159,
          0.9128376052504956,
          -0.26261699926978693,
          1.1351439600505118,
          -1.106522871338168,
          -1.1003766348172044,
          -0.2395099151891122,
          -1.3758799012155285,
          0.5054036591196612,
          -1.4320607002704655,
          0.45425983554007915,
          -0.6459569066080109,
          -0.1065872967128219,
          1.1892338627507308,
          0.23711958277498493,
          0.17420727592863536,
          0.5879942359348254,
          1.4568063493622618,
          0.712586091240988,
          1.0978955616394672,
          -1.4150171872381372,
          -0.5911910770918396,
          -0.038315122831192344,
          1.2406962132035502,
          -0.06730403490248098,
          1.5654237479909696,
          1.626658091784158,
          0.15862277302013944,
          -0.062105118847956116,
          -0.9111809717988477,
          0.720685365224366,
          -0.21547379124377317,
          -1.5566952904282176,
          1.7906356175435303,
          0.1445265300556174,
          0.01863430314291474,
          -1.6219977653295303,
          -0.9719420500031779,
          -0.7799950516709456,
          0.11942126917225629,
          0.7469468364645092,
          -1.8621504387242669,
          0.012747401567774869,
          1.592615453746413,
          -0.3104966296179633,
          0.27896707975406837,
          0.45097602550729876,
          0.8488956327118287,
          0.6580721641847708,
          0.6839611825402433,
          -0.5171351743339008,
          -0.23545132386034826,
          0.21103775558830837,
          1.4612349222687064,
          -1.49410088964264,
          1.0500292352091851,
          -0.8623780241938536,
          -1.5693255147893823,
          -0.07574392218542268,
          -1.5683014319596005,
          0.6938394932769207,
          -1.10934647055981,
          0.22914761112248627,
          0.8169276137224314,
          -1.0526982264805254,
          -0.7424616515350294,
          -0.2646005909216336,
          0.3234637142842998,
          0.5993045378507548,
          -0.5281628472292531,
          -0.7302229952050168,
          0.8378156320114811,
          -0.6446543198439458,
          -1.000457270811633,
          0.2157189722876719,
          0.5059672951274085,
          -1.140642414766238,
          -0.2735452011954867,
          1.4316530199044215,
          -0.8770227074594052,
          -0.3387988769798132,
          0.0009059698871102473,
          1.3068603537521866,
          2.284035550839954,
          -1.2658674775857834,
          1.8236364692166844,
          -1.3922978631823726,
          1.3003953703131963,
          0.18447456101107373,
          -0.7738006585392937,
          -0.09673105269476691,
          1.924952549309415,
          0.2802345319465975,
          -0.9610295329187463,
          0.4919146895736633,
          -0.26874857154773557,
          -0.7997873703710879,
          -0.2740043804679339,
          0.3866860483626941,
          -0.9585907776603015,
          -0.18766774960648322,
          0.32168656446394067,
          0.4260001572768216,
          0.35508004059729387,
          -0.13074256576560644,
          -0.7609495275153882,
          -0.0007643989726103708,
          -1.2070644677715638,
          0.43536941586979666,
          -0.9410117983204261,
          1.4782835551368507,
          -1.3278755974981564,
          0.18359865243875143,
          -0.46299730270891276,
          0.8630099208440384,
          -1.4016946194193112,
          0.05961773936657833,
          -1.7288822259254064,
          0.9971608032534666,
          1.6901702200199584,
          -1.2014355126742184,
          -0.8117042591880249,
          -1.1087657509839821,
          -0.1333367067297373,
          -1.2012545399438264,
          1.8609452334942584,
          1.0290490952667777,
          -0.5012801113998336,
          0.08793478139692984,
          -1.0230942844284252,
          -1.157957120379444,
          0.5657050270464413,
          -1.5097160962421845,
          0.6565080336525825,
          -0.10302083285540703,
          0.0978684904679869,
          0.17387747043935087,
          1.1006798066094519,
          0.6417660814748329,
          0.23936691315287026,
          0.4306102856439938,
          -0.294266851273596,
          -0.2703802196177832,
          -0.6653596961988201,
          -1.2552500117669674,
          -0.6482024256016459,
          1.2625783699728794,
          0.6849849532616139,
          -1.2479257350476698,
          -0.7618977733627738,
          -1.0030993958009513,
          0.14299897245741808,
          1.7577860828951954,
          0.28424018514673216,
          0.13905680841372228,
          -0.10906295163772414,
          1.5955240908798471,
          -0.1912132224135293,
          0.7832783370534766,
          -0.1137199934566597,
          -1.2812887392576822,
          0.4249502581016444,
          -1.5544027301229404,
          0.583329939099766,
          1.210674467824973,
          -0.2615199799669195,
          0.44118722125885224,
          -0.07125896732513406,
          0.2599798599100271,
          0.6935127234382286,
          -0.39273944376992154,
          0.46109096602002203,
          -0.3920620406279639,
          -0.5947622787617409,
          -0.8028895103211517,
          0.13948632441079892,
          -0.6343068805794443,
          0.1583574552549148,
          -0.8316069445735441,
          -0.05247679128098163,
          0.14441304606263794,
          1.4937180507734982,
          0.2537855090772047,
          -1.3312071335470943,
          -0.8679688094706236,
          -0.6365270980921078,
          0.8191981534735001,
          -0.8953488636641314,
          -0.48090997238086447,
          -0.1705967289910032,
          -0.007803954005236265,
          0.32605602058570793,
          -0.37306348116861165,
          0.4240897547822132,
          -1.1079451641844955,
          0.0721385825844844,
          -0.5762301383255509,
          0.8755145464488896,
          2.2649433596747484,
          0.5873782462971994,
          -0.2933510659746978,
          2.0769118584910595,
          -0.008057661105560021,
          -0.055335618298750285,
          0.291370747159745,
          -1.469158099155484,
          0.9185130157675072,
          -0.9333814861094308,
          -0.8080916798444809,
          -0.17015347491491542,
          0.34025776758262244,
          0.5519064104295718,
          -0.6484664868267478,
          0.9218412004770138,
          -0.8281792973007671,
          -0.18401373560741405,
          -1.357370022735218,
          0.3831645041669935,
          0.2292176914107124,
          0.16794049123932644,
          0.1255010169057047,
          0.43780707704913185,
          0.10025568919094496,
          -0.5043062535821681,
          -0.16514978103384023,
          -0.5377453951630293,
          -0.7226391592506585,
          0.5783924777315455,
          -0.14499761067436984,
          0.3460279837395219,
          0.21882617632148213,
          -0.16802712990657173,
          -0.9489432292547791,
          -1.0838183587598484,
          0.8257439574201914,
          -0.364367483347565,
          0.6867981525447967,
          -0.6650588319630831,
          -0.14100311630505377,
          -0.991796072466609,
          -0.4987698263847155,
          0.5343771948889239,
          -0.21094699402050257,
          0.5440737636030422,
          0.20981517858308804,
          0.3015152185865977,
          -0.6110010249350974,
          -1.4502408854855326,
          2.4722311702805984,
          0.18182802823157268,
          0.2604714620986026,
          1.0153047568610498,
          -0.3620507389639219,
          -1.7436139635426455,
          -0.27371807908118634,
          -2.16887071679299,
          -0.8833366869782862,
          -0.19959617832479398,
          0.38500559336998846,
          1.557689878296838,
          0.3793503645246048,
          0.3330729832672753,
          -0.10536956746062567,
          0.823861049671951,
          -0.0020262084380757092,
          0.903395544564783,
          1.17837768124056,
          1.1985114205521352,
          -0.3853943773760556,
          -0.9261204958845651,
          -0.3634354430666937,
          0.833657541538247,
          -0.7304603522671215,
          -1.2202129597478697,
          -1.2638892879896868,
          -0.4751352494288247,
          -2.16388280750503,
          0.4482415450664807,
          -1.6034918664990299,
          1.4870671083006075,
          1.679276975933706,
          -0.7056931989822578,
          1.6353008288306634,
          -1.282617686482069,
          0.0034524492380940985,
          -0.12180699246351571,
          0.3183344115040982,
          -2.169521415690826,
          0.29762510117824087,
          0.016014639421199846,
          -0.09721395067478646,
          0.2243246527794378,
          -0.053988234291867866,
          0.35619231513177274,
          -2.041101370243822,
          -1.902086285414653,
          -1.2836332016913554,
          0.22709726671742034,
          0.9858914003428472,
          -0.8135911539007132,
          -0.4458720809560719,
          -0.9293856989756135,
          -0.5411938823946449,
          -0.4401510941979233,
          -0.29252843028018743,
          -0.2949184828882227,
          0.7585565535423414,
          1.6243522334585585,
          0.853289922973832,
          0.6470564819014818,
          1.7810352239593124,
          0.3055512331486695,
          0.3441170804694662,
          -1.738782624551414,
          0.31189500396379033,
          -1.2275883603665922,
          -0.6102089591221626,
          0.7804011852589859,
          1.0208346614754198,
          0.45560098473834126,
          1.3684726785229546,
          -1.6003921950124824,
          0.5366882949834012,
          0.014730386977551285,
          -0.16943641857577024,
          0.26273965111453085,
          -1.4604368818930602,
          0.45078908598173145,
          0.90899511657085,
          -0.42896574582811137,
          0.4940719782959871,
          0.3506919911491083,
          0.1296517524809399,
          0.5371731832316052,
          -0.007853965829581202,
          -0.05057497300965387,
          1.3712393372768057,
          0.7654913714006678,
          0.0765827265585838,
          -1.5836377165792501,
          0.11503155508179563,
          -0.2750834957319003,
          0.39855546839946815,
          -0.2972203029302931,
          0.19222699226084028,
          -0.5287684630573813,
          -0.8257000411464647,
          -0.07637695624338502,
          -0.6060883375756239,
          -0.4773528196368671,
          -0.09227218609545305,
          0.9339287900819306,
          -1.390505697142459,
          0.7550950743400158,
          0.18186961453334327,
          -0.3673302495022839,
          -0.8488871902392993,
          -0.615371396769069,
          1.3601504269448164,
          -0.5956810931106471,
          -0.5192585151416556,
          0.03072153409921937,
          0.3605279173426406,
          -1.0542719318134874,
          -1.8023995516484679,
          -0.8887390966559681,
          1.1083008481384202,
          0.1455578239671578,
          0.902401763445398,
          -0.7975826615837854,
          0.1151502053113267,
          -1.1770815025866546,
          -0.5958412899357873,
          -0.007826146205660345,
          -0.7555986919205129,
          -0.679619940112834,
          -1.8773625825517257,
          0.30837983935730257,
          0.03043396836528257,
          0.7949937754307348,
          1.2404867454586492,
          0.6081570819021176,
          -0.1515197068009435,
          -1.2196910450559364,
          -1.0758073517159363,
          0.42027504483144523,
          -1.4307838200696572,
          0.26132083298763126,
          0.05519454762976867,
          0.6260860232134751,
          0.46358991482581985,
          -0.4576625031185044,
          0.954633846374151,
          -1.0412788483817876,
          0.3176407888689379,
          -0.8435838447184404,
          -1.3856972071946585,
          0.0930742596650706,
          -0.7575063363548585,
          0.25226502912328813,
          -0.7319158634703044,
          -1.0060926896116023,
          -0.3646696546893372,
          -0.5718525656497575,
          -0.07371824921032076,
          0.23233834741230908,
          1.1857965889474427,
          0.10859057258163027,
          -0.6988194053738993,
          -0.5996902796141886,
          1.5968064068605423,
          -0.12685810439984518,
          0.7759353360870691,
          0.17533890101286406,
          -1.22383443755423,
          -0.03640803682976425,
          -1.2964408044279083,
          -0.6585962515582005,
          0.8141977355557145,
          1.2119448321624073,
          -0.7010631372474533,
          -0.653119070979062,
          -0.19390017612899585,
          1.3090867657031142,
          -0.8160293602155175,
          -1.3169863569965838,
          -1.3546189164835896,
          -0.4416555711697089,
          0.6161805395399056,
          -0.15381932434772833,
          -0.3321313089167798,
          -0.27298210974370124,
          -1.0907236204153663,
          -1.0638577268331737,
          -0.021970028480994868,
          -3.297323223695496,
          0.42649948275181504,
          -0.1952375982275875,
          1.8047150169239317,
          0.8664471464615825,
          0.3402596273880271,
          -0.4864983494622093,
          -1.4078957673694583,
          -0.1678557663247708,
          0.2968419519449952,
          -1.0849928683485492,
          0.4410554361789554,
          0.03673626977061965,
          -0.8830634224248713,
          1.0401062342369196,
          -0.44174855639614174,
          0.5613292303033566,
          0.6375238355806295,
          -0.8501375241429975,
          -0.30671537073595395,
          -0.3873054976893904,
          0.559602460309773,
          0.623326362058983,
          0.34598089117575825,
          -0.2500569600635089,
          -0.8678748422010331,
          0.4837586411728617,
          -1.0353063549953634,
          0.5323192194677544,
          0.7525643575366949,
          0.8756541187136303,
          0.6787983565623561,
          1.3435442973555578,
          -1.2463306237898577,
          -0.6983523198667366,
          0.28968724130127577,
          -1.433782698958991,
          0.15501119668098082,
          -1.6763650663335268,
          0.3436194507431925,
          -1.1283088263317778,
          0.09787779588340895,
          -0.4642450665361141,
          -1.939904705493707,
          1.6063580646105904,
          0.38399359042759446,
          0.6806875591955063,
          -1.0110620984674747,
          -1.0737295253114603,
          0.6733343408506067,
          -0.9609026376375622,
          -0.7076716757147037,
          0.5704823216898612,
          0.05826958033381057,
          0.7254238506017645,
          -0.8024048737885672,
          1.5164172416195612,
          -0.3798198473214687,
          0.5598186055712556,
          1.178383476981516,
          0.38539652073789,
          0.21236882920237554,
          1.4148471877169384,
          1.2473216179212117,
          -0.34041258776499705,
          -0.8538682127247408,
          1.1510678431661183,
          -1.7887385076526319,
          1.2042349405319466,
          0.004442385420822669,
          0.7571599058561024,
          0.6856421928909996,
          0.058502569147379654,
          1.0239631013033859,
          1.1723723040922684,
          -0.2408992861512914,
          -0.5158875609969988,
          0.9318733461855099,
          -0.6387607450539177,
          0.3345904562578385,
          1.9404643703406577,
          -0.25806138787026744,
          0.6473737170289299,
          1.9316323523203707,
          3.111773938770689,
          0.07044228262300571,
          1.1825331517297148,
          0.6524066182470929,
          -0.8612442883823257,
          0.01836658962487568,
          -0.3370730152999954,
          0.2689620647060082,
          1.2483902869004146,
          0.1866820028542771,
          -1.448991349452263,
          -1.4686780564471371,
          -0.5440821582495473,
          0.15506344339004982,
          0.4314543681036068,
          -0.5777013046751087,
          0.7298085229493134,
          -0.7130200776403425,
          1.592445377729161,
          -0.1625531220422082,
          0.24036837036562733,
          -0.7096102745855671,
          0.28121957050561797,
          0.4355514180154668,
          0.6470991038514174,
          0.22189176077252562,
          0.8476593807478621,
          2.0474605477904357,
          1.0249027586256667,
          0.08131301160240807,
          0.33000416621708456,
          0.6438823805808662,
          3.6716779342512806,
          -0.9805357000778923,
          0.43659602778341583,
          0.5155869377327363,
          1.2597367308384884,
          0.20998558102933526,
          -2.312664453335001,
          -1.643751815344218,
          1.7877004221076065,
          0.5075454568027228,
          0.06873634654575561,
          -0.35646651658231787,
          -0.8165960565324482,
          1.4828653528370015,
          0.7058498966009173,
          -0.570886097733874,
          -0.5586290161499721,
          -0.028105117858151434,
          -0.728067608788415,
          -0.1545778413779013,
          0.01948673916842793,
          0.9699576880730788,
          1.796348543809853,
          -0.30256581679403177,
          -0.45783127483203095,
          -0.2443500005038839,
          1.5125820133491068,
          0.34175952459374104,
          0.7344308361083254,
          -0.7862833821479632,
          0.8028590146735265,
          0.8327292718188104,
          -0.9868597606824765,
          -0.08032341070607936,
          0.4118590155519789,
          2.7184592451252114,
          -0.39586447981172396,
          -1.5705819203869162,
          0.690139931052492,
          1.5761937855772254,
          0.08792450939820293,
          -0.4070847570357968,
          0.3348592893907267,
          -1.6113859145686307,
          -0.13537903607245752,
          -1.743845971833447,
          -0.6326447841142959,
          -0.3262968239296108,
          0.027150733683040117,
          0.9138536822720523,
          0.42573841613754576,
          0.4825036123742862,
          -2.1537717956471187,
          -0.7671415928952395,
          -0.8016516158898664,
          1.0466273714916956,
          0.7080517483133622,
          -0.43403033004909036,
          -0.04169539851592473,
          -0.0376673676102445,
          0.2192009562179381,
          -1.331174316874726,
          -1.813621905075808,
          0.5662728720054702,
          -0.4876834918508101,
          0.41523873993533034,
          -0.4285871450984077,
          -0.32756691339210486,
          0.5870383441354059,
          -0.7359713102236373,
          0.23429154484597356,
          -0.325382655604282,
          0.11226692012462802,
          -1.562242332687882,
          -0.06933670677494617,
          0.2214158841185774,
          -0.20920419206234048,
          -0.5407093442273075,
          0.5463809006172533,
          -0.8679203511639425,
          -1.3462382092763985,
          1.1692504001464492,
          -2.578066453772071,
          1.8158107994625148,
          0.9277661970538854,
          -1.143893968951931,
          -0.2953518379782953,
          0.4726398432243973,
          0.8498981839869856,
          -0.7596501022559851,
          -0.21882499154574975,
          -0.3749872960108131,
          -1.604685173309652,
          0.6691580240065316,
          -1.0647494680285405,
          1.7933086052631022,
          -0.20312137053857257,
          -0.2598845475702764,
          -1.4669454739021202,
          1.9142662033232842,
          1.5784117634820631,
          -0.00775774580045788,
          -1.4388386093523227,
          0.43517667975427415,
          -0.45710082603308794,
          -0.41676257393436206,
          -1.401737959707293,
          -1.1509847654376122,
          0.12482520821035557,
          0.335075223035383,
          1.7204775725387622,
          0.7147485714634855,
          -1.8391179843632817,
          0.41128774380664546,
          -0.3338379407684383,
          0.2316777887632359,
          0.9919506291645792,
          -0.08538336682925286,
          0.6120402892240426,
          -0.6981368745577982,
          -1.574921749371226,
          0.5088679885706316,
          -0.6758473995876899,
          0.9478723334178322,
          1.4679593373597035,
          -0.08657408969158953,
          0.38629564650957365,
          0.5665960131583112,
          -0.6768680460230164,
          1.0983869694016557,
          -0.6337490396450407,
          0.7668540889331888,
          -0.5642684412364357,
          -1.8754206164579152,
          0.7692523583277548,
          0.5018321435890191,
          1.1560921154172137,
          0.6141614676469315,
          0.9151609465540573,
          -0.2916618528786455,
          -0.5227790097810057,
          1.5181455910757953,
          -1.139250148542683,
          1.745914480280057,
          0.06795835626872838,
          1.5650899487267436,
          -1.196436690530318,
          -1.7022068602976421,
          -1.0622833465349086,
          1.1842875687786114,
          -0.21584588274526156,
          -1.0232035371038177,
          0.514575993195373,
          -0.8697944974439912,
          -0.16836530510029754,
          0.9967160984196334,
          0.19435739250074377,
          2.4720184552328823,
          -1.1721173813917964,
          -1.0192783739050812,
          -1.2288379027647043,
          -1.0441320352521457,
          -0.013003366886148969,
          1.1380948087317544,
          -0.6846626976955801,
          1.5580785835548048,
          1.224304364647773,
          0.8488073007650302,
          0.47500150820696346,
          -0.21049730309124168,
          -0.33288394416784617,
          1.5977177141859262,
          -0.8388954339755555,
          -0.683222619470637,
          -0.7574014860116213,
          1.3811571809735868,
          0.054673801982919934,
          1.7885645503385883,
          1.1557822511678764,
          -0.44220575896886943,
          -0.2294753008357398,
          0.3236568928610105,
          1.3243612975547763,
          -0.7603114669239316,
          -0.9431015393939046,
          2.1230080562521736,
          -0.2283966210590503,
          -0.5909638729307027,
          -0.2734385912267388,
          0.8223545547121599,
          1.1314825805488704,
          -0.7619465726198297,
          -0.3156300330606433,
          -0.6307758978272756,
          0.6136468541002871,
          -1.382588821374928,
          -0.97694436071122,
          1.120949243894748,
          -1.2746627676072455,
          1.0549673870774314,
          0.074128487985784,
          1.3243865941677975,
          0.9140825276212897,
          1.1069865192648674,
          0.521638574798327,
          2.329274472038675,
          1.7487047342942783,
          -1.677523696993642,
          -0.34091737028226526,
          1.0293632005635311,
          1.3278995284806838,
          -0.8432165913629283,
          0.6768543120410422,
          0.9855663722491144,
          0.6148020467595088,
          -0.5105929112861416,
          0.6912845288286367,
          0.7434529007906399,
          -0.552081571957222,
          -1.001316030042615,
          1.7125063251089032,
          0.029679126870134676,
          0.5598139523711321,
          1.3127835116240538,
          1.731359077955342,
          1.8955202189940032,
          0.8232502186166772,
          1.476456587017568,
          -0.4960716422518218,
          0.9446737274885801,
          0.45218908771127475,
          -1.0849652634545617,
          -2.3586942342879733,
          -0.5131896480444197,
          -1.0929476937460598,
          1.750316933647748,
          1.84998656079507,
          0.9034812095040381,
          -1.3996999255920366,
          -0.540158109824523,
          1.519515205863432,
          0.11736860495290694,
          0.2645810504562354,
          -1.7041575689308663,
          1.222899745429791,
          -0.9552361699795145,
          0.4254633845500319,
          2.4973085122308563,
          1.2697232407171797,
          -0.004989621536990888,
          2.145278915446436,
          0.7005102688589017,
          0.017828257366758464,
          0.17679847648850738,
          0.9481000866266109,
          -0.9550399031567913,
          0.7414920296729572,
          -0.5932237549209142,
          1.1502311028144807,
          0.6398528194540783,
          0.7641005827274657,
          -0.41582106498088733,
          0.0031233955279342906,
          0.10905916784312207,
          -0.7408401379368885,
          -1.045166007742069,
          0.391070938859916,
          0.44476349406924387,
          -0.03340942009884864,
          0.5723271536596238,
          -0.005613388921361851,
          0.4255173492611138,
          -0.9403768182796289,
          1.0220553761399058,
          1.404639432359401,
          0.004378360725023157,
          0.6731039405963734,
          -0.8820280325928916,
          -1.5175686235572423,
          1.0087281783702355,
          -0.42397564842578267,
          0.03560136676597084,
          -0.49189116198955646,
          -1.1560674268652331,
          -0.059324109257677664,
          -0.929361284399628,
          0.7151156328123786,
          -0.5157590976584877,
          0.08208707904116787,
          -1.8034155535283583,
          -0.2982654553865126,
          -0.24863545787544805,
          1.6721558105879613,
          -1.086233839098228,
          -0.047188696539344835,
          1.2042770871919084,
          -1.6699141702875409,
          -0.49977010734545624,
          0.3735250771228671,
          1.1983195722134132,
          -0.06563611356078794,
          -1.8848515173423959,
          0.506795733243346,
          1.8320032786707405,
          -1.3071032846223025,
          -0.9388844495061421,
          -0.8383841800979834,
          0.5345477265625387,
          -1.5181482375373463,
          -1.1994157657582956,
          -1.0385432020078158,
          1.5997664919623114,
          0.9898654682605563,
          0.5517274237997387,
          -0.4474126707439702,
          -0.03906525374296209,
          0.9696153392529305,
          -0.7867053774534758,
          -1.4679525247697038,
          1.1179961017995386,
          -1.4797283319614725,
          -1.326374588032935,
          -1.0432324826866706,
          -0.32029231572561295,
          0.1294615569231444,
          0.8444546310017801,
          1.0238527742244548,
          -1.4774925545902529,
          -0.24792109498790862,
          1.2895930543068066,
          -0.7841986344910165,
          -1.3293701665411535,
          0.8111457291084101,
          -1.7582118622712362,
          -0.7281917072127908,
          -0.2255608158780754,
          -0.5828391514025939,
          -0.14000826967659402,
          -0.2017158746584578,
          -0.6606649634335077,
          -0.008783208362681656,
          -0.9866809406986012,
          -1.982680650987741,
          -0.5490575311827675,
          -0.008993138226735056,
          -1.775774175721969,
          0.06848199455092398,
          0.28684596797056255,
          -0.748960245210311,
          0.6133429006722758,
          -0.10299376205499593,
          -2.9308771710111943,
          -1.8516317668318374,
          1.4730056831614058,
          -1.9613917406558041,
          0.6667250540112523,
          -0.3577019044703973,
          1.0043300293411854,
          -1.0847652994172456,
          -1.5378147470827594,
          0.2924701630512368,
          -0.04594901920591457,
          -1.0060635606170032,
          0.6540106726561977,
          0.9366182755904069,
          -0.4305639659605389,
          0.2162538211904514,
          0.18183245743789372,
          0.39186228741570556,
          0.24173889284942449,
          -1.3543005108814588,
          1.229269630968535,
          0.8596354969699886,
          -0.5467847714516588,
          -0.22233694327259268,
          0.38219687358992854,
          1.5607947318639221,
          -0.11865941066472377,
          -1.5179130678179218,
          -1.3783992112134626,
          1.1068510339145956,
          0.371296816437418,
          -0.6479303565738882,
          0.09852391408157042,
          -0.640017025352735,
          -0.966463391877606,
          0.006050603391866571,
          0.10853654393508345,
          -2.04855989884018,
          1.1896798180999113,
          -0.9786139026646004,
          0.5916952324644398,
          0.017495364762740287,
          0.12495701362174956,
          2.1624429024668266,
          -0.6224328207018855,
          1.0254525454936865,
          0.6501918757450627,
          -0.9560921675413242,
          0.0142158952724326,
          -0.9594765503214795,
          -0.7781863724879327,
          -0.09302131637700685,
          0.6558179667552583,
          2.3665657124909765,
          1.249788154558818,
          1.2568112557643636,
          -0.9487394617693566,
          1.0869102270649476,
          -0.4969898105254425,
          -1.2300729505960806,
          0.293741551914167,
          -0.9669919029082994,
          0.3128692998180736,
          1.2458630413432545,
          -0.907906309906679,
          -0.006501743170356662,
          1.2952529216795474,
          -1.1132895518874095,
          -0.5858958545387108,
          0.7771170011781559,
          1.0606910627460937,
          -0.12456971950152576,
          -0.6393841025385301,
          -0.8852099667451747,
          -1.4857653977268208,
          -1.800472322340569,
          -0.8142593408438653,
          -0.47409755539102244,
          -1.2304372890749087,
          -0.8051675415499217,
          -0.0331780071226961,
          -1.356697446259417,
          -1.0148560153547717,
          -0.7773679951107417,
          0.3331451612176428,
          -1.8224703902264863,
          -0.8483183178900684,
          0.1363004704407735,
          -1.0656735543930975,
          -0.9515537598202708,
          -2.2171938453610576,
          0.7919955678388845,
          -0.7686627331678046,
          -0.7764490916962592,
          -0.7777980686976562,
          0.35519414329295346,
          -0.9120989793094079,
          -1.4970421796603897,
          0.7372937684694888,
          -1.8618452825125382,
          -0.6315237204655252,
          -0.4843854673181688,
          -1.2493382537056934,
          2.1072733891693436,
          0.25488339239865554,
          2.3666232786578862,
          2.2970668342780463,
          -0.23023543213599942,
          -0.7590924238100137,
          -0.7463863184646373,
          -0.4929979790689425,
          3.017938815981964,
          -1.899282078674721,
          0.3599039898368135,
          0.18687083090897302,
          -2.0726595527193314,
          -0.3442066840168579,
          -0.8542908136331974,
          0.379185536461679,
          0.49970761778146056,
          -2.121409384029386,
          -0.4041282148153466,
          -0.00410075421438776,
          -0.6585202310113449,
          1.9786583790073615,
          -1.2978194415724875,
          1.1373777668574436,
          0.600137004397407,
          0.16047513451441003,
          0.638989951713627,
          -0.3522152384878142,
          -1.3043298138397266,
          -1.2380259272213159,
          0.21031058304929232,
          -0.40836526817283864,
          0.4748626399342818,
          1.7193085373210635,
          1.0196359668530217,
          0.8691453233398699,
          -0.3342998513560556,
          -0.08777987344292094,
          1.6396871389963128,
          0.029633749395278144,
          0.01627325898868233,
          0.7981991900592846,
          0.8833508321837178,
          -1.557204803952583,
          -1.1799713161427487,
          0.16511087325286894,
          0.4510010539317442,
          -0.24313592219258662,
          -1.2540869526893303,
          -0.9991481140152207,
          -0.6363671490058354,
          0.5660604203190578,
          -0.7945133651454905,
          -0.36022842952180995,
          0.19920710841093428,
          0.37665886377807517,
          -1.7916525498337454,
          1.2868032679598027,
          0.5181572203339629,
          -0.41691417319768126,
          -1.0570272068812283,
          -0.6734540900738785,
          -0.5686541405055596,
          0.2845303878232297,
          -0.08273219024582236,
          1.9500491816368943,
          0.19821166127908535,
          -1.5592134796384833,
          -1.2217903339248206,
          -0.14048933451193693,
          0.3810010202182896,
          -0.9334799948356846,
          0.10637947307957571,
          -0.19662088711116357,
          0.029653219162102094,
          -0.7872940791255285,
          0.8894754815611475,
          0.6767920366917419,
          1.028500367823027,
          -1.2446167834800321,
          0.5965628859573127,
          -0.2948641444653335,
          0.5863571725238085,
          -0.4862190311076869,
          -0.11609414514189795,
          0.6682821115857872,
          0.29938634420010946,
          -0.6130809887955715,
          -0.7398239827259547,
          -0.3747748197307271,
          1.0380183123956621,
          -0.10858211104312061,
          1.2845118680215992,
          0.12367112944417212,
          -0.2706284128649429,
          -0.6768797498325663,
          -1.6551418390131698,
          0.17827322302969098,
          0.4693912398301222,
          0.03798308563286594,
          -0.44008566349206224,
          -0.6653055063080137,
          0.9506500496922414,
          0.3481903261765296,
          1.2085421903465294,
          0.6733720457214362,
          0.5420441254626343,
          0.38320915861973337,
          -0.8221641759166834,
          0.09353811784324177,
          2.7119890044382893,
          -0.16425829917843415,
          -1.1651634246702098,
          0.09252618871908039,
          -0.7939009560502528,
          -1.931858783775934,
          0.3177582574899522,
          0.5236822810325842,
          -0.37541692252462994,
          -1.6092400359616126,
          -2.3991823837007336,
          -0.44073693000719416,
          -0.6278421753899037,
          -0.8319008777228485,
          -0.7035697939388883,
          -0.15176450968359267,
          1.4135926424907894,
          1.434302072595614,
          -0.6585397597833502,
          0.024574494588985866,
          0.22740873067669376,
          -0.07387398088317479,
          -0.16473354146533797,
          -0.30194899072873005,
          -0.30012698371163743,
          -0.15071559666598852,
          0.05057899844455408,
          -1.3151721319089495,
          1.822750508757573,
          0.16271560139230212,
          1.4499121920174465,
          0.14743268097784043,
          0.4773289104995066,
          -1.3464115171674684,
          -1.0427618694820457,
          0.2160882375408855,
          -0.6962100132122332,
          1.6286234542325082,
          0.13457163642097805,
          -1.695708401294901,
          1.4042618677516434,
          1.470317805887192,
          -2.6642335520516953,
          1.7896235305990176,
          -0.22814364018664984,
          0.7930900977247698,
          0.19894953708394533,
          -1.4113794485172761,
          2.2772838507026902,
          -1.3856791182566837,
          0.38827338892792856,
          -0.8041074908230201,
          0.09370466617818608,
          0.035784595640373625,
          0.823682000469043,
          -0.4110577844454015,
          0.12591335262711578,
          -0.9016487117326278,
          -1.1172557925578586,
          1.0508406945240218,
          0.4540727602943671,
          -0.8061279862371659,
          -0.08991085493197917,
          -1.8610871587617166,
          -1.0569150301961965,
          -0.5592813695514477,
          -1.405258705724507,
          -1.0151374120099346,
          0.6951902670842595,
          -1.6297735354938572,
          -0.38916474433393294,
          0.5966381297189346,
          1.7769443909733975,
          -0.5874080744090832,
          2.068403364712545,
          -0.907357304417726,
          -0.45375573949868625,
          -0.4716637837613222,
          -1.0368809990425034,
          1.1638892152451168,
          1.1381271929209265,
          2.7115681322106004,
          0.14614083688957588,
          -0.0033384085398983883,
          -2.6634678276384096,
          0.5837911527270296,
          -0.3427267266288413,
          -1.1838474115167221,
          -0.9152212554709378,
          -1.504482523486136,
          0.4430822739134347,
          -0.746228605832063,
          -0.42138441454342074,
          0.7364930673461004,
          -0.5881244812705722,
          -2.467365214877019,
          -0.6363957969290616,
          -0.8037400159993412,
          -0.2809662008244468,
          -1.120799205809157,
          0.6280528067261509,
          0.8511029320142279,
          -0.7375099067067568,
          0.09097109840927625,
          -0.5683817782861006,
          -1.5886672093181213,
          -0.953632227133141,
          -1.53735505669546,
          0.3518756622920253,
          -0.14865742913354088,
          1.1071549458520291,
          1.1226923009802001,
          0.24561020555168406,
          0.14815765080234505,
          -1.5459845524271323,
          0.9977790730223537,
          1.0982132049739473,
          1.1072966140679266,
          1.2231599845828047,
          -0.21601636991567275,
          -0.500527791691652,
          -0.6020749136558462,
          0.7854495198376009,
          0.8184660383149874,
          1.6163914473022576,
          -0.8667334618672713,
          0.9200309564144517,
          0.9672340894330768,
          0.06936000452056723,
          -1.099421609038969,
          0.23147329333766128,
          1.6833886473521558,
          0.2105248431095169,
          1.2992807968194817,
          1.411895507995687,
          0.12360471230678388,
          -0.9494872107153564,
          0.11955861225846195,
          -0.14149742838480414,
          0.27033926884060105,
          -0.6697476297118297,
          -1.002229854211746,
          0.9604694915908545,
          -0.34826336853420625,
          0.632592878048937,
          1.403805650777046,
          1.8152556868621559,
          0.09803343863818433,
          0.06794268453813722,
          0.24408517915473238,
          -2.6559941761650103,
          0.9324762190839547,
          0.34210118680816903,
          1.2126532063797582,
          -0.22552576779168035,
          -0.3992424663660788,
          -0.14550634683041358,
          0.11248298969966605,
          -0.3041972956794872,
          -0.8015668576908016,
          -0.7551545121944537,
          -2.0067366621601894,
          0.4862864055037165,
          -0.9763952769358726,
          -1.0402617321638923,
          -1.7060247112751268,
          1.3652838176300515,
          1.3455139629465478,
          -0.35902940051445853,
          -0.9164136816498148,
          0.46750201044264844,
          -2.1712771662229526,
          1.5954683574339448,
          0.13225661511986306,
          1.320737491068338,
          -2.0069285917978914,
          -1.1721845168099005,
          0.04293773028322501,
          0.8491812591528487,
          0.6401252608563306,
          0.34169961616275246,
          1.2041690463216288,
          0.4124492556067811,
          1.0954246688883134,
          -0.2300770664699864,
          0.1474775534128216,
          0.9697596365986639,
          1.6973826781278307,
          -0.2424811393299103,
          -1.0134729715733983,
          -0.2484072539660704,
          -0.09605778778123934,
          -0.35584987502335974,
          -0.8708163800520601,
          -0.266980355081892,
          -0.7936395363611652,
          -1.7805761827149318,
          -1.8755677681750396,
          0.6707860512786772,
          -0.98527713828508,
          1.1231993253731516,
          -0.24402369958049727,
          0.8982241677195856,
          -0.9647982174012474,
          -0.021528833345516602,
          2.6230993242954055,
          -0.4617421815324512,
          -1.7430489257722057,
          -0.8538908894879512,
          -1.0232631427612375,
          -1.1904223566760586,
          -0.7464893117254178,
          1.285991411601854,
          0.05539933188185909,
          -0.4022235032277863,
          -0.0018031239803584678,
          1.221800863982271,
          -0.8774013110530101,
          0.20908906196675234,
          -1.2595252445490255,
          -0.5405653392363697,
          0.3935420171130915,
          0.04434387825754397,
          0.8964522445661277,
          1.5848453058249605,
          -1.5865710421140622,
          1.082667188751054,
          1.099016692537246,
          -0.773545569822856,
          1.622494748781894,
          2.1826835288408093,
          -0.14896261724271795,
          0.8161959267928264,
          0.06657037382894887,
          -0.775227948908978,
          0.3182083604249792,
          0.32590813030048155,
          1.1428517676801413,
          -0.15226497108935907,
          0.49815326117145364,
          0.5819163085511908,
          -0.2060984276902628,
          -0.7549455445988144,
          -0.8523038656353039,
          1.7974938891239383,
          -0.22658856981664413,
          0.8957995126583073,
          1.2720060924835053,
          0.7347506938984569,
          -1.1421702515349847,
          -0.7735484396921559,
          -0.14054959612369297,
          0.0692102020995793,
          1.7206399754626702,
          0.7466126099873361,
          -1.118305650098358,
          -1.2237088148292534,
          -0.36113517877280665,
          -0.992257199261032,
          -0.9595845081587455,
          -1.0336064057047616,
          -1.5407198734363743,
          -0.6006327382677408,
          2.3169992917243665,
          -0.6112702352942514,
          1.2610886934983208,
          -0.24107356399181037,
          0.9326634460315402,
          -1.524229372154206,
          0.22606097277896361,
          0.09609476771245021,
          1.190569045160863,
          -0.6426493191584852,
          -1.8395614066257109,
          0.5850027826262972,
          0.6283885575627799,
          -1.3892039450079656,
          -0.4782435679728714,
          1.3018162130774225,
          -1.3937423290367261,
          -1.0241472716795648,
          0.7430419602899417,
          0.9870456700084766,
          -0.14390984681394992,
          -0.08256241523860848,
          -0.29117662251803295,
          1.2674565326612486,
          0.4559308487671054,
          -2.2441599799498064,
          0.24027899123440882,
          -0.36082655872971087,
          0.5452371850854957,
          -1.4471290513772808,
          0.2800857790225358,
          0.2784220540021849,
          -0.5039942242202946,
          -1.4798652133942038,
          -0.735423115709301,
          0.3094469625988939,
          -1.9877725973596712,
          1.832333453463453,
          -0.6729608743343508,
          -0.2336388900965755,
          -1.1902489080984826,
          0.480061008124775,
          0.19927481643490336,
          -0.8949451421279331,
          -0.8185770374074938,
          0.3601566631003274,
          1.6955182737710397,
          0.8699396274283093,
          0.36393176320399984,
          0.1713145921141104,
          -0.8145726243266992,
          -0.2650827286127026,
          0.7661700611907227,
          -0.4591830494752912,
          -0.14059570188299836,
          -0.7601681175411892,
          -0.0712217382638301,
          0.29005219637469964,
          -1.321231407554787,
          -0.31746813752646186,
          0.9551197779312999,
          1.400407691589282,
          -0.031688191824344604,
          2.3001485326593087,
          1.0259564714110934,
          -1.3446086317874955,
          -4.184827618932597,
          -0.9936828147546908,
          -0.2690184769500134,
          0.8149184353024421,
          0.018142722905207832,
          0.0016007248585040333,
          0.401376697361878,
          -1.7226235204287246,
          1.5812227161179204,
          0.5167932700814439,
          1.6109909523216228,
          -0.6986323854125394,
          -1.0387123668510354,
          -1.362872762467144,
          -0.26088250244899913,
          -0.07400096579505072,
          0.15087412595067282,
          0.6719278065136808,
          1.054742822563955,
          -1.774698664366321,
          -1.3727777596524475,
          1.185613816311983,
          -1.1116217062427716,
          0.29518362863585623,
          -0.10333505128117215,
          -1.0646880114841326,
          -0.8598159285764497,
          0.6662355374472225,
          -0.7917104794877774,
          -0.7592378475018554,
          0.06947409581836757,
          1.0764578560843483,
          -0.15709602972479084,
          0.03634939939826278,
          -0.43727748334071015,
          -1.6944265036346156,
          0.9703923350394879,
          -1.2885105360637588,
          -0.8773339613017966,
          1.3834786344304384,
          2.5700071916343004,
          1.08542403979996,
          0.15093131945846758,
          0.15705537806157976,
          0.027407655185272904,
          -0.2935977505477354,
          -0.8957234178964523,
          -1.135984430986361,
          -0.48444734674984247,
          0.3729104391159111,
          2.117453128497175,
          -0.045936219715679544,
          -0.18425892201485553,
          -1.4730116337042616,
          0.6216841288450891,
          -1.0490186282767333,
          0.8945661398287074,
          0.5025489937491429,
          -0.5896521030117468,
          1.0098166401759676,
          0.9842868264115417,
          0.723464711902481,
          0.1674918402360524,
          -0.06695212518250815,
          -2.5192189934941163,
          -2.0385600314554195,
          1.0131126242236834,
          -2.0480866229464487,
          0.1596816061118473,
          1.3334788974838887,
          -0.19537956710418944,
          0.3944052386907369,
          1.2264707664141483,
          1.656154644041517,
          0.6619022955242786,
          1.7271590508087362,
          0.19166296125291932,
          -1.6431213043056596,
          -0.27576164158047445,
          -0.3615430031974511,
          0.6290799057782837,
          -0.05395016311159407,
          -0.34440246149834675,
          -0.4363833490173087,
          -0.319831016277946,
          -0.13739539129161485,
          1.0651327042728467,
          -0.41304653150433757,
          0.7028280344512523,
          -0.6835781702981469,
          -1.302769328041384,
          -3.1221413736738888,
          1.9045771209241662,
          2.163678490340149,
          0.6410497591794633,
          0.5497548546407718,
          -0.24317601368436978,
          1.5807605346152258,
          -0.5107941054894026,
          -0.3843786619218601,
          -1.9314664460363897,
          -0.7463828280096838,
          0.02690119696296221,
          0.07606349719664797,
          1.1752540895498276,
          -0.8904878172545992,
          -0.5275132464214787,
          -0.6991081368938213,
          -0.3752786054103359,
          0.00013058487939861967,
          1.6014962310197978,
          -0.58549064010114,
          0.1809712314095832,
          -1.052705802400244,
          1.7888356447248799,
          -0.3149038584543675,
          -1.6594029340208993,
          0.7435038168421452,
          -0.21167265770019078,
          0.00007556809963352965,
          -0.8507678018391092,
          0.20521453827511235,
          0.4492888263652479,
          0.836723614508916,
          0.2025016339038685,
          -0.12654217660462655,
          0.10536904077988214,
          0.30413996293309903,
          -1.8621425688601285,
          0.48038833182888013,
          -2.529641176051786,
          -0.860546111358214,
          -0.6533623957930267,
          0.8845910094297004,
          -0.3004496365646894,
          1.6958086565880717,
          0.77075251047073,
          0.9306304530315266,
          -0.3519683985681018,
          -0.021826239076455665,
          3.030362280685043,
          -1.7596402949568397,
          0.584631753111908,
          -1.1208135302729882,
          0.783986080478051,
          -0.14945892718017303,
          0.16572931396139762,
          1.2820056869329672,
          0.8059674531842383,
          -0.6656913041469321,
          0.6437807597996447,
          0.11416052251748915,
          2.642492196445594,
          1.6127766605804421,
          -0.13752191005808276,
          -1.5597092777890469,
          0.3829601647576835,
          0.7823925404847397,
          1.0325611343689345,
          0.2990760110011739,
          1.6162075602783676,
          -0.7539572863593356,
          0.7103745789240189,
          -0.1856945867258724,
          -0.201627646985199,
          -0.5441658823764219,
          0.9609232036019825,
          -1.4746887505066228,
          -0.3376513772725795,
          0.2771965242997428,
          2.151381580448423,
          -0.06199485712678252,
          -0.5825583931459248,
          -0.9249278817442576,
          -0.08041353205103417,
          0.63979736936219,
          0.24995333274111944,
          0.9514514832451841,
          0.3294115421959673,
          0.6489912131929374,
          2.005183420884264,
          -1.0087819436112198,
          0.6568650636397392,
          -0.7000506071833865,
          2.0482661881255164,
          -1.1771683267796464,
          1.2253850145070238,
          -0.3149695004785943,
          -0.05551864322826482,
          0.3948655838241458,
          -0.45186346558907126,
          0.22824524900382495,
          -0.401116783422959,
          -0.6787221573268227,
          0.5982160168860345,
          0.5140749878714165,
          0.7072488227891419,
          -0.0575200799122987,
          -1.0307088323779057,
          0.3330320075633477,
          -0.5186784063146582,
          0.09007249416255998,
          -0.2500720853847531,
          -0.9083835722019162,
          1.8207647603627708,
          -1.7490980936862046,
          -1.014448781765555,
          0.14886638697222607,
          -0.22212100888695352,
          -0.28662265546353044,
          -1.2413058735859754,
          0.9010524339124265,
          -0.8379202987676668,
          0.3103639428725155,
          0.19172484017285987,
          -0.6409369242779825,
          1.5917498012908757,
          -0.20328900741483377,
          -1.8216993220309092,
          -0.7371891607337017,
          -0.9882705319438387,
          0.992139600418095,
          -0.8629585334655007,
          0.2945089251091138,
          0.44141179762545607,
          1.2551704581473502,
          0.36617342589370705,
          1.4658241774392444,
          -1.0522239474830533,
          -0.2755289846074798,
          0.9052298326983074,
          1.3455771325867791,
          0.07015565957668209,
          -0.30404195309336157,
          0.3424938153027971,
          2.1178377001322506,
          -0.7494161473130111,
          0.5074457392400731,
          0.1731945146190522,
          0.18937127201844578,
          -1.7565544860452769,
          -0.5515357143379757,
          -0.47071945255703157,
          -0.168947591482516,
          -0.9246651530101104,
          1.0546775912845978,
          2.9131240222706922,
          -0.6121521337139966,
          -0.22750374915275698,
          1.2715803305628275,
          0.05692945812098924,
          -1.4289279107556332,
          -1.499587897623491,
          -0.1750782967276399,
          0.5821649736824334,
          -1.0915583929198902,
          0.13496042157917856,
          2.395568622524793,
          0.9775517525155784,
          0.7607945472547801,
          0.7037635330709644,
          -1.4321717923562842,
          -0.6749133216921266,
          -0.46209434570401536,
          -0.09616045816761187,
          0.4176758243767057,
          1.6103670453187329,
          -0.38628418104964857,
          -0.34769881112043116,
          -0.7815594496937521,
          0.030254316343803104,
          1.1206968058234807,
          0.8914633610344406,
          0.5187685961330117,
          0.019234462879799807,
          1.464342765619577,
          -0.5458611748302664,
          0.5288389344090868,
          -0.229452386676323,
          0.6815151308176852,
          -0.6497782682184826,
          0.3144182998885404,
          -0.0891211762996906,
          -0.8012348119642895,
          -0.42550239145079854,
          0.012684515422781591,
          -0.40396716903621754,
          0.1444993321794639,
          -0.11776156304274099,
          -1.4644748993644476,
          1.6145829237008822,
          1.4877591864431423,
          1.2880520110746612,
          -1.2560106193228433,
          -1.2137750353823107,
          1.4248283570483191,
          0.5046943927851913,
          0.22875363933115023,
          -1.0793993314587624,
          -0.6906472493954948,
          -1.3622762847305545,
          -0.9889172824478918,
          -0.7985937470963347,
          0.8929287394821855,
          -0.29445933054737894,
          -0.7276906897714709,
          1.3829553151082428,
          -1.7253579174899003,
          0.4906490481078009,
          -0.34938478145769036,
          -0.37902920239097304,
          0.13331718486016553,
          -0.10517407271691871,
          -1.5391607469237396,
          -0.5889434192483479,
          -1.311517471606544,
          0.1325397645687999,
          -1.268048017133187,
          -0.38581453251709336,
          0.44858335118130593,
          -0.9720724124370858,
          -0.9822908303694998,
          -1.4203190935957621,
          -0.43999862013134794,
          1.2509886393313638,
          -0.685710948695265,
          -0.6362748262056395,
          0.03774667365532379,
          0.9117890010155381,
          -0.20106308870947603,
          -0.9341108749126527,
          -0.7663879046764777,
          0.7025436152287585,
          0.7520795610237382,
          0.10693858812236214,
          0.9687035272259802,
          -0.3530862204858646,
          -0.4503287630559806,
          -1.7065314484075516,
          1.4234105404973174,
          0.0020071657501893395,
          -0.37415531092189935,
          -0.28824983358964495,
          1.3595883822126533,
          -0.6180481911340086,
          1.5625301366585693,
          -0.510290069570407,
          0.42143769353771743,
          0.1564276198784568,
          -0.11117641286040039,
          0.47052749978888875,
          -0.6518741778507755,
          -1.378953043559435,
          1.850199793969078,
          -0.1042408102249609,
          -0.139966353039275,
          1.7843581572041312,
          0.32785730518632505,
          -0.919189216722729,
          -0.4762590787719265,
          0.36727982724874175,
          -1.1834865940135408,
          0.7737479847872106,
          1.6273585057576712,
          1.5344688904499486,
          -1.5063189450188326,
          0.9002739021335399,
          1.6714547273068316,
          0.3321345290305712,
          0.6891361633171621,
          0.9118160256034592,
          0.3749861530366986,
          -0.5555410511753539,
          -0.20807445671141342,
          1.251333649879689,
          1.9545272675511633,
          1.5551242567115782,
          -0.16156878471987998,
          -1.3734549559203004,
          0.6757430281935698,
          -0.14645709146447622,
          -0.7079046775512365,
          -0.13236715290249718,
          0.7540144205981862,
          -1.4216122982964536,
          -0.7756329962366161,
          0.20066683019270845,
          -0.8477904228222943,
          -0.9761022367796139,
          0.23382339519102732,
          -0.10940410659257133,
          -0.33056834371995936,
          1.1997123066884312,
          1.3974488140785415,
          -0.09478608054237482,
          0.10375288600712436,
          0.33418944615795154,
          -0.41661641316294706,
          0.23002717882656057,
          -0.31648933200818546,
          -0.3276521900997966,
          -1.814130064308567,
          -0.18508722952748063,
          1.1152464587580027,
          1.0767488779201777,
          1.0239319084913727,
          -0.9607586418013637,
          -0.5090359893151215,
          -0.5211490920881172,
          0.4469471605774222,
          -1.5754748227815676,
          0.08300463860846792,
          0.34123893556028073,
          -0.6826240638601416,
          -0.5355503776770623,
          0.2865368639785308,
          0.10201997693011818,
          -0.2862955998159682,
          1.2563523867990378,
          1.4931857017016794,
          0.4236128859208065,
          -0.6853423912644174,
          2.1530501301552762,
          -1.1453145104173612,
          1.7841211564182833,
          -0.9660443026191764,
          -2.8311844554734464,
          -0.3958143180020191,
          1.6967844397816723,
          1.0781330791669788,
          -1.3722421416596762,
          1.0989684747809856,
          1.2830921691056076,
          -0.19799042733465474,
          1.1187696727673602,
          1.4309566718477575,
          1.0379052463547085,
          -1.2440446067693647,
          1.1996791318114521,
          1.1094374062554633,
          2.5097898691558385,
          1.4238273337250908,
          0.644403551409889,
          -1.2636170193793315,
          -0.8779299175768932,
          0.855867492816464,
          0.6162509739266608,
          0.41706281495290876,
          -1.0281162212204218,
          -0.23650965017282422,
          0.10792693095127306,
          -1.6584884918488911,
          -1.1780004775580664,
          -2.7083880427673948,
          1.5575393245082785,
          -1.0303774545976645,
          0.6180029826786086,
          -0.06337204950776242,
          1.1771729251343628,
          -0.9178599459011978,
          -1.2323634306893012,
          -0.2563634389013647,
          0.6193372365132377,
          1.537276874429749,
          -0.6265708517127156,
          1.7312901416717081,
          -0.679070959042441,
          -0.5244944818086009,
          -0.41571058735919586,
          -1.6801691954972853,
          -0.1116634120279585,
          -1.1185105659156052,
          -0.1613520035596624,
          0.3965083814612421,
          -0.9724881677710305,
          -0.07177635618235521,
          0.09634686543250243,
          0.37665699020083926,
          -2.1697116783454895,
          -0.4673111986371393,
          1.0402595589032189,
          1.3580756374747143,
          -0.04507679187143445,
          -0.17287547953051777,
          -1.596014496010817,
          0.26868524453508097,
          0.06781133699106451,
          -0.7676799693658025,
          0.24375184084348028,
          -0.5941343794351254,
          -0.4049588901921677,
          -0.06623179869359798,
          2.1435348743880356,
          -0.9436712664425537,
          -1.5927057685836388,
          -0.9643607955429614,
          0.02052027386773769,
          -0.7688974524469552,
          -0.9415181063773472,
          0.4146640530001314,
          -0.7753589851569556,
          0.2597876989334154,
          0.7587132838763321,
          0.8069436750176812,
          0.5413763862999621,
          0.3760051957024049,
          0.3516269035005725,
          -1.2779112780372288,
          0.111514770273031,
          -1.0996636094022556,
          0.015574867195562473,
          -0.6248611684738934,
          1.349602687757589,
          -0.37154470964971104,
          -0.2828863720916163,
          0.7202796102079811,
          -0.3794877429646156,
          -0.003809754912919759,
          -0.11538598156495483,
          0.3114984221689232,
          0.279665377030981,
          0.4577842909770781,
          1.3489025453659307,
          -1.0673609817537246,
          2.3207289121272248,
          -0.39608093396137756,
          0.799682588233324,
          0.7527425644817297,
          -2.07732015178048,
          -0.8099105868726658,
          -1.1417567221362368,
          0.9734048773969194,
          0.8157880767538987,
          -2.8186834384454142,
          0.6162184386857507,
          -0.8812745018889355,
          2.422042938555585,
          0.3422493184423379,
          -0.9042241296781061,
          -1.3736367049934315,
          1.6291509736317686,
          0.6642148747040026,
          -0.7808153732890685,
          -1.2237193687917938,
          -1.0881431545460978,
          0.49628038833808935,
          0.9602372916443975,
          0.4327989440593246,
          -0.3853799580184845,
          -2.0578812891398996,
          0.36465804124811974,
          0.2768595104706758,
          -0.3552272391651819,
          0.7718561660377421,
          -0.4527370603289486,
          -0.8019759826048034,
          -0.26997933724536277,
          -1.1744121795235225,
          -0.2763402596717312,
          0.49701923282698945,
          0.8156442624803139,
          0.8336249111557771,
          0.6086287266140564,
          0.42131085782496164,
          1.649329844358908,
          -0.534948651873799,
          -1.5511239298567165,
          -1.71694648216587,
          -0.8660857917073677,
          0.7654106900786787,
          0.34769425004426047,
          1.0520853530509575,
          0.15843225557537371,
          -0.9723972135788758,
          0.6354518068506986,
          0.24531486912741238,
          -0.5305959184710759,
          0.06608982946552326,
          1.1832078517540912,
          0.6192344153313566,
          0.8853922589527187,
          -0.21923960790659583,
          0.8779584158470116,
          0.8273195115652684,
          0.6907931311720238,
          1.2989695438721938,
          -1.0317378138249909,
          -1.6245471820369657,
          0.6407937120232541,
          0.4575478724329132,
          0.2274720608817486,
          1.0627147785809805,
          -0.4865343819076986,
          0.40155226709278935,
          -1.532818698160055,
          0.6841558923488033,
          0.47906374872101326,
          -1.73596609874714,
          -0.012477520635656245,
          0.5229414425671205,
          0.6301317318086751,
          1.0617372508411762,
          0.5044676685391027,
          1.4046174986243407,
          0.7752981635392356,
          -0.08905009112381566,
          0.5994139740363312,
          0.19621516650706816,
          0.11286020226051982,
          0.41585305822232405,
          0.6608963496130593,
          0.16741568774956808,
          0.005545947035707084,
          -0.1869556240185612,
          -1.2519206919914059,
          1.067075216998935,
          1.2080983844020947,
          0.6186938109879837,
          -0.055509921171032234,
          -0.969629644690441,
          -1.6834651031043233,
          -0.9372456322695811,
          0.8264644198251878,
          0.31578807621541616,
          1.0599008338697837,
          -0.3576193963171756,
          0.5398350865331165,
          -1.1418041056432326,
          0.7083387044813789,
          -0.3793717313109632,
          0.40772274842192086,
          0.5364349423141708,
          0.8828125463554767,
          0.30281077114653854,
          -0.006116025685985255,
          0.5581743258605746,
          -1.3581484705749702,
          -0.5783250776356127,
          -0.713834372076037,
          -1.1299353298651846,
          1.425257355949081,
          1.1398627345091163,
          0.672510254863299,
          -0.4547644501247757,
          -0.3601917562857154,
          0.9121949081008915,
          -1.147345473480504,
          -0.3060665469267211,
          -0.5486350217424404,
          -0.7392887924712787,
          -1.8614838957372117,
          0.699625790589021,
          -0.8856311839126367,
          0.462049289327588,
          -0.5051469960008581,
          1.4246700544401338,
          1.04235253736738,
          -0.5197048971350744,
          -0.3899110874923227,
          1.6397701764574126,
          1.3907657045176143,
          0.20028446648684264,
          -1.2765882502000547,
          0.7369307959631621,
          2.3053588522135895,
          0.8899832216844726,
          0.6294898913711491,
          -0.6642646640363506,
          1.2025770493071506,
          -0.5659217341000792,
          0.003763531495568934,
          -0.398475566471499,
          0.3633562604186386,
          -0.5127537987494821,
          -0.6869778631904491,
          -1.4055494661134709,
          -1.6774171343351474,
          -0.23746015990499,
          -0.16263611659587993,
          0.00021267671515568356,
          -1.4659572187187393,
          -0.38444116862260885,
          -1.3748712441936206,
          -0.45239549424343994,
          1.1454395305869747,
          -0.46322703133041837,
          -0.5142489846151155,
          0.9418943022022108,
          -0.7892110610971201,
          1.1197345603989015,
          -0.24326859328362685,
          1.385582179927187,
          -0.4881501735043639,
          1.0270796879787634,
          -0.8373090992141449,
          -0.9440935077667513,
          0.13293112987596284,
          -0.06494106970836212,
          -0.048941531026071516,
          -0.31070593738769614,
          -0.057427076579092524,
          -0.8071990325933156,
          0.5601862803771412,
          -0.16324942383488417,
          0.14079480929819518,
          0.4143497926980623,
          0.6119721385098298,
          0.4573088628002719,
          0.4232254812592653,
          0.9368094970704842,
          0.18997987105345063,
          0.5850698863832325,
          0.16974285884033208,
          -0.4514083439381632,
          0.6299809856901551,
          -0.025935319844345033,
          0.7529310811742493,
          0.15965471827802416,
          -0.8557513326072511,
          0.6351437857429854,
          -0.49569377372398177,
          0.783490144832808,
          2.8374745241322863,
          -0.08898612544853401,
          0.8602162453600627,
          -0.8176006926609817,
          -1.1410952449325178,
          -0.20246518963412433,
          -0.12541996021700066,
          -0.500480303403104,
          -2.779691937214267,
          0.34587132703708534,
          -0.35939808862349487,
          2.505750879637129,
          1.4203661114051775,
          -0.7804194518011605,
          0.3007443596676198,
          0.18579485882722796,
          1.560171486047327,
          0.5554001195802434,
          0.026659816048881905,
          0.8278052213809698,
          -0.28330287464460646,
          -1.190090009159488,
          -0.7454046998155132,
          2.158478443090578,
          -0.3829055160631138,
          -0.3531510456514192,
          0.1878864101260001,
          0.22875548926134429,
          0.15439229883753516,
          1.352683574749301,
          -1.0819385917577264,
          1.2188598729664144,
          2.35052184735879,
          2.074247928057327,
          1.0628241498358484,
          0.3152763887037307,
          -0.8228724783584944,
          0.1490458490031015,
          1.092797466128946,
          -0.723290403938062,
          0.6655795229329384,
          -1.7704113343732995,
          0.3994537607488428,
          -1.2602955191578422,
          -0.014099565010026472,
          0.45708520307702677,
          0.37520378090013423,
          -0.6489651016956187,
          -0.2783872601757521,
          -0.20211573262445012,
          2.2879204377676037,
          -0.02512913034530875,
          -1.1904196474666184,
          0.47792604392976157,
          1.328586727529045,
          -1.3019897333436241,
          -0.6421065430942602,
          0.5970454056307851,
          0.14919947607082024,
          -0.49742356544251115,
          0.5091533818172607,
          1.2830629502658806,
          -0.09922322263074775,
          -1.1401057699662849,
          0.9386362975887467,
          0.05106950689317983,
          0.23284767728851688,
          -1.151923352827369,
          0.6843247378976016,
          0.42395442903459124,
          -1.2913407708933877,
          -1.0412118600143876,
          0.6986632812852512,
          1.1961437891180633,
          0.5063629960992562,
          1.0383464771151454,
          1.0623835124825505,
          -0.560143544295223,
          0.14024255834633592,
          0.834536343873261,
          -0.3961786506962104,
          -1.4100338203938128,
          -0.6669139461277571,
          0.1620829246712735,
          -1.0229624593882685,
          0.693746271787966,
          1.554399986887139,
          -0.16684320756936363,
          0.5146318633631891,
          1.4316428573846431,
          -0.3884161426223241,
          0.4089484122979222,
          -0.32681164556904835,
          1.4913002033258151,
          0.3911148884036852,
          0.38564966599887895,
          1.3592607557050913,
          -0.22922892785774043,
          1.0523611098525443,
          0.2541921763463069,
          -0.9269081646829938,
          -1.1976031896799342,
          1.0074976550126005,
          1.134227290418183,
          -0.7185383236216915,
          -0.6566314835190974,
          1.1650158877977999,
          1.3856239046416012,
          0.6942734203976416,
          1.156158831541583,
          -0.04918230790191685,
          -1.1080237463170781,
          0.06173551174000387,
          1.5315490854563303,
          -2.153633350718456,
          0.6465455114217741,
          0.11757139791707985,
          0.3879177124227896,
          1.8784396265153145,
          0.20598855618157463,
          -0.8250290427745376,
          1.145016990805962,
          0.27535319900460087,
          1.6696458417905244,
          -1.7623410878063988,
          0.8741247187662622,
          -1.1072700796051587,
          1.541133199233668,
          -1.1463513388010478,
          -0.7846873384443452,
          -0.45767220391506575,
          -2.044923541122611,
          -0.9546305312707476,
          0.3223698902779926,
          2.231040015779893,
          1.245316195125502,
          0.13657007441094818,
          -0.15444169357399967,
          0.31594309619605493,
          -0.1779042981856658,
          -0.5359821837886266,
          1.4368550330523389,
          -2.6985942295935716,
          -0.2691172885801494,
          0.3921376731613194,
          2.817497594979111,
          -0.9442101426340863,
          -1.676450335140547,
          -0.6492034900608632,
          0.03187352812356168,
          0.3211757476920129,
          0.09199138170565427,
          -1.199301858448693,
          -1.6607942871609127,
          0.6181024331772991,
          -1.3492020856709963,
          0.947395144172342,
          0.4219189898514454,
          1.334995440876725,
          0.9388905900622623,
          1.6014823627704702,
          0.5926318078359077,
          1.525743424181695,
          1.445704547594283,
          -0.8269261137437832,
          -0.8354892966468633,
          0.9459956121152712,
          0.17315977220894213,
          0.884401814822016,
          -0.5530367056176554,
          -0.13568082816277174,
          1.2264100911776932,
          1.1373336608320426,
          -0.6690308252758516,
          0.6670509352439469,
          -0.49209125069518067,
          -0.9686211263168325,
          -0.2285137624427825,
          0.3328907822561993,
          0.27400695175557743,
          0.4400567260181705,
          0.18507465183534422,
          -0.6763862328557866,
          -0.7919524659845841,
          0.620271400710415,
          0.5097956972224218,
          -0.2627553045192895,
          0.3447933287575435,
          -0.4498464995460613,
          0.2160702798309524,
          -0.7878685140767251,
          0.06643982013839611,
          -0.09482132665787422,
          -1.0114719061604591,
          0.014183104419030885,
          -0.3001449810756146,
          -0.8657434076611475,
          -0.6919714030274939,
          -1.3270948842709043,
          0.5502261500550676,
          -1.0630695221051307,
          -0.26583106094757036,
          0.8391971636525432,
          -0.3309225667098044,
          0.856015390848676,
          -0.044117639903453645,
          -1.648976090209199,
          -0.23280207200422617,
          -0.032113655675825074,
          -0.7924794407939681,
          -0.3118661831706199,
          -1.0270387207161251,
          -1.3176847432449366,
          -0.1511595170689976,
          -0.19725460974557785,
          1.1112518062668602,
          0.5577014946754048,
          -0.1713375400476228,
          0.9521562547992235,
          -0.3786854504331591,
          -3.065224805645368,
          2.321320930788484,
          1.0546073175540234,
          -1.4534820997255353,
          0.1462728596893134,
          -0.15344371015238792,
          -0.5678791544742171,
          1.0886157716444327,
          0.2711641663113981,
          0.32817012846458177,
          0.45128761780671595,
          -1.4704534827645992,
          -1.9321579649568386,
          -0.22085875939312016,
          -0.1839134024086019,
          -0.4566521607033988,
          0.3207682349777956,
          -0.7147655309963028,
          -2.0228801578068256,
          -0.29075815336324967,
          -1.011541965687651,
          2.155879807235506,
          0.13248622468776916,
          -0.9760565934559544,
          -0.1118834633045706,
          0.778418805919447,
          0.2764262387484504,
          -1.7390332909689616,
          1.395865055358376,
          1.9170504310475065,
          0.45520232599018806,
          -0.7831802595233422,
          0.3249262578891299,
          0.41936241763766513,
          1.2346944119852779,
          0.9083105036535454,
          -0.6973777426389512,
          0.4939115318375927,
          0.4447732035043105,
          -1.3669980342538903,
          0.06386959454068925,
          1.027022247772027,
          -0.5011635355377833,
          1.3832497906813745,
          0.3504311036963684,
          -0.3150071039663821,
          -0.1801576544420028,
          1.4045841841676614,
          0.35062505049681253,
          0.4052083617665842,
          1.0985325966825217,
          -0.18025589741507142,
          0.326232319876271,
          -1.1226188930567629,
          0.23794506008295915,
          1.598872724562241,
          1.188994517174876,
          0.797800652965331,
          0.39023745158598183,
          1.312866809654138,
          -0.39978245082977165,
          -1.2780015017736386,
          1.6682542473270365,
          0.6530295915113653,
          -0.23096497430951432,
          -0.9023223626619812,
          -0.20188867655875053,
          -0.7465147908432486,
          -0.6778686610052481,
          -0.7104784601828419,
          0.2569506668749554,
          -1.8952694759522157,
          0.6638045605671334,
          -0.021773944448250867,
          -0.7012548658103049,
          0.17578812891988488,
          0.6139087831060842,
          -0.012707643274546328,
          1.5252035734394824,
          0.15091562168248157,
          -0.939244355370263,
          0.5611641633042915,
          0.9810943183281126,
          -0.9030247249090682,
          -1.6925849998811298,
          -0.19262447942266023,
          -0.3303930890270376,
          -0.635798129882157,
          0.656296924981684,
          -0.4886774619429012,
          -0.9188051852074713,
          -0.4346930844664566,
          0.20425716454893322,
          0.2219345762226605,
          -0.6074371865551242,
          -0.23374859421560704,
          -1.083602047387462,
          -0.09441280870599175,
          -0.15629300961550144,
          1.1637035355370495,
          0.2931247730603603,
          -0.681282540828842,
          -0.36101437752412746,
          0.35970477940654166,
          0.2874941796180452,
          0.41577412745729736,
          -2.3094475067799944,
          0.9764621757160297,
          2.764408717132171,
          -0.1248637806198864,
          1.6333038687118442,
          0.47953879504627245,
          0.34685601527971804,
          -0.38557970621453963,
          0.14867087633507195,
          -1.0574833738584506,
          -1.358303582050609,
          0.659181939796457,
          2.2529560845972867,
          0.3743082787135455,
          0.09814941696925512,
          0.49152265195307465,
          0.20861781249561562,
          0.22620143471791898,
          2.7373964060823486,
          0.732388537122218,
          -0.44035572918567173,
          0.02158588802852938,
          0.20691060708182676,
          0.1350248955909825,
          2.6707735765744496,
          -0.8443903937402529,
          -2.08440966000129,
          -1.1099924088271986,
          -1.3573723686543466,
          0.6983496345718377,
          -0.539365560852949,
          0.5036046356408796,
          -0.958133576929552,
          1.0535315465624129,
          1.1420829898222826,
          0.37323854901011955,
          -0.026913800749351614,
          0.20789585361707497,
          0.602398167539788,
          0.20760259269183462,
          1.86248533421825,
          -1.6460346220580164,
          -2.102514117791494,
          -0.08374707256810358,
          -1.6524788109219064,
          0.49247736462154185,
          1.0385735176321613,
          1.622006560569041,
          1.0862437310720199,
          0.48546265263593935,
          1.0448770659541347,
          0.3087875722849724,
          -0.5436028087330794,
          -1.9201533383375973,
          0.8390314550848581,
          -0.9970053174337198,
          1.666385220852151,
          -0.6513993998102544,
          -1.7884285427189432,
          1.167297386036727,
          -2.36578436347633,
          1.4446186567621502,
          0.4050489185580741,
          0.9751028937821266,
          2.4528279583226187,
          -1.1425119050707926,
          -0.12600542112801588,
          -1.6147214831864245,
          -0.7851430333773443,
          1.333324553278317,
          -0.5255538517228077,
          0.3821805723996074,
          1.7909033875600837,
          -1.1153367351639578,
          -0.06853272327581662,
          0.5776130201469013,
          -0.7687273141058831,
          0.7902940901197807,
          0.4823300825932482,
          -0.6465964859286326,
          -0.25786451436601854,
          0.21512488046148187,
          1.771890395375268,
          1.9617167590956799,
          -1.2613880674281028,
          -0.04537100717815998,
          0.27670122289655497,
          -0.9406698930461279,
          2.681184574197914,
          -0.3949209641828006,
          -1.2698702780528188,
          -0.41969638890287936,
          -0.41720281203684334,
          1.5233766949695209,
          2.066256791120977,
          -0.20673789268351608,
          0.5898697523416663,
          -0.44121401755169576,
          -0.2730622517316826,
          -0.32242145021578666,
          -2.4637986874533566,
          1.6166722266050457,
          -1.0182423121436959,
          1.195827512925851,
          -0.5833311644380171,
          0.4240375933052072,
          -1.840833199333221,
          -1.2066151365187605,
          -0.9517354498431285,
          0.5057067528580278,
          -0.9505960663413756,
          0.770765844824546,
          -0.9601614916124463,
          0.5507539575906341,
          -0.09383844719800029,
          0.3284159165055626,
          -0.10247917919603054,
          0.4828352147219369,
          0.28582663180289875,
          1.0796015952931362,
          -1.0738449963490069,
          -0.9981877252682018,
          -0.14927829156289701,
          1.501458244209292,
          -0.615631530036097,
          -1.430292949210025,
          -0.9812762678881137,
          -0.08520019467811,
          -0.6840317335866359,
          1.0212263451144055,
          -0.14084567049562344,
          -1.3791737715990364,
          0.20705361824284524,
          0.1704749845849963,
          -0.6051598436814422,
          -0.4231453498047635,
          0.34367319967294097,
          -1.5101586165936827,
          0.6141408713769675,
          0.30215553088443414,
          0.2372809334958035,
          0.04721695851852525,
          -1.6204323516846075,
          -0.21855660034961266,
          1.2999768345736025,
          -1.222722987147084,
          1.8722516811625025,
          1.0478997540470987,
          -0.19476728741642713,
          0.6603281896886111,
          -1.9500675993406336,
          -0.6141652233359103,
          0.9756803930779612,
          -0.08486267287250061,
          -0.761006698919687,
          0.22529498284396487,
          0.8679259855411151,
          0.6129976506818657,
          -0.3394515273205089,
          0.1623287545867672,
          0.5558286062199033,
          1.9172548659526936,
          -0.892809604165007,
          0.5282030848704765,
          0.4897005076461136,
          -0.09887885627031014,
          0.2858982040060185,
          1.0118156829141987,
          0.21323496874856954,
          1.0238579850002383,
          0.5719901270102782,
          -1.7818460473105606,
          0.12713409918444846,
          -2.3425754192160926,
          -0.9312018884008564,
          0.20108398477810596,
          0.5503155255297727,
          -0.005519488342665288,
          0.9348381870273638,
          0.6111174649541254,
          -0.2709085348335476,
          -1.4894555025766996,
          -0.22957134736764734,
          0.9421409693778636,
          1.683333571213879,
          0.11071719311968212,
          1.5441504120335288,
          1.908669234046983,
          -0.1718938705772437,
          -0.22612856012676463,
          -0.8467074786945032,
          -0.8140574824585763,
          -0.3610922669794934,
          -0.8396624372542792,
          -0.9290953699429987,
          -0.4357670000206383,
          -1.2242561910260599,
          0.3237773673817063,
          -1.0210983254936932,
          0.118542384854226,
          -0.40020858496168205,
          -1.7567553474474937,
          -0.7429926384975787,
          -1.0032829676424764,
          0.28162718079675997,
          0.8404083317513393,
          1.2370131561213684,
          -1.3246217053913454,
          1.354583335111524,
          0.5800862395424581,
          2.023010299023327,
          2.320939438301184,
          -1.0360247795956994,
          1.7680795230346407,
          0.6174212967415348,
          -0.983118496467066,
          -0.15601361771719036,
          2.65796756752578,
          -0.15252550367724566,
          0.6032620712199427,
          0.6129790093840468,
          -1.9470099637257459,
          -0.6294699403095032,
          -1.362350571803846,
          0.6190630861331123,
          -0.12958568059512407,
          0.16999049774101474,
          0.18371745330268793,
          -0.4050866333917956,
          -0.14950221579011594,
          1.2574552941444856,
          1.3999469884914728,
          -0.3721024593780475,
          -0.2917502137847833,
          -0.45459274882737144,
          0.4303857021728648,
          0.9592311036033175,
          -0.5257582850768497,
          1.1055056932683955,
          0.9408614405081407,
          -0.17989915874719029,
          0.8479910112787304,
          -0.32614847202972,
          -0.21838875745394465,
          -0.060991195030861055,
          0.3755194883192368,
          -0.3437603615425466,
          0.05247628068808667,
          -0.8892753480531752,
          -1.2397214071084417,
          1.299987189222779,
          1.7500467051724615,
          -2.4653056404554627,
          0.748106748877422,
          -2.308156239256496,
          0.368500434344624,
          -0.9373748027579866,
          1.8107337550532598,
          2.5311862606337514,
          -0.7468113498343967,
          0.6743676964473168,
          1.9426090279309909,
          0.10906015914248955,
          1.0450503063619048,
          1.4281643612775825,
          2.440019609483498,
          -0.9482331807895538,
          0.193086082392583,
          -0.18411999923627953,
          0.10361455072451277,
          1.4624850534004543,
          -0.3540786466467568,
          0.47222936313925,
          -0.5816229625236902,
          2.932277731613406,
          1.1812403956949178,
          -0.6448396999184985,
          -0.08998374434530945,
          -0.2985011708020808,
          1.5665597639630684,
          0.6990829145047788,
          0.16004935818884883,
          0.012165696871383325,
          1.570436340815853,
          -0.5893100544995495,
          -0.318896367923013,
          0.15071027064333253,
          -0.7212682197978194,
          -1.4862762099386257,
          -0.028036109764882414,
          -1.4324908065707809,
          -1.0957028136542788,
          1.948507460284415,
          -0.7757465300156235,
          -1.0069115836092757,
          0.6664639428199199,
          -0.15440346528534063,
          0.280937738480261,
          0.593457412051926,
          -0.7600268860243585,
          0.2179693772047588,
          1.4455710189574131,
          -0.3180943335252868,
          2.093746156137842,
          1.6441117796200533,
          -0.5087830397239533,
          -1.1989528768512239,
          -0.19831634885724858,
          -1.5294215048890745,
          -0.3306621494713476,
          -1.16556576089996,
          -0.12838806058667487,
          0.7480416436254582,
          -1.2799171591331393,
          -1.4042364065851691,
          0.10747612222038132,
          0.09631847397315697,
          0.026065188608143563,
          -1.273945606454936,
          -0.07439157101156517,
          -0.14073391565036422,
          0.6552628834693014,
          0.3262323352442456,
          -0.3682797715491948,
          -1.3035320096627119,
          -1.0654441580345047,
          -1.9457960451501524,
          0.04216688275046178,
          0.12679589783105283,
          0.8939072535385731,
          0.6864922994287431,
          -0.703194480644668,
          0.7725294323898548,
          -0.8507633111200581,
          -0.4683341942507508,
          1.5931737640489205,
          1.8921530394467616,
          0.13276222721532646,
          -1.5535157908157928,
          -1.202366970467607,
          1.2802460307213201,
          -0.26508014056749757,
          -0.3023368861183653,
          1.2483288803899204,
          0.6357362407313379,
          -0.08023222750122112,
          -0.19898462381985635,
          -0.41740680908608413,
          -0.7261336736814177,
          -0.3789108837866301,
          0.6467609931952769,
          -0.8513717446399153,
          0.22961133003022927,
          1.6332801656160614,
          0.8556037006575743,
          0.11641991135669197,
          -0.8379379843839031,
          0.02485276980804058,
          -0.5955985044795488,
          0.12456644620872433,
          1.5233321299796467,
          -1.8437569404295193,
          -1.5332901336519853,
          -0.0909109579564306,
          0.486578642491815,
          0.35297516959712727,
          0.8793399215277471,
          -0.2538354576874585,
          0.04743770292565439,
          -0.8336325957647307,
          0.21882859879021052,
          -0.07448226112735087,
          -0.6179302604027168,
          1.1653557386030737,
          -0.33926599009949343,
          0.08055642485643431,
          0.2301323325073228,
          -0.25748044078352,
          -0.2679061979847062,
          -0.5602178735391554,
          -0.8619037871848241,
          -0.9235116538246431,
          1.7675412580076264,
          0.22824821396901881,
          1.3846091437929358,
          -1.205248595722659,
          0.10665879763707421,
          -0.2596270990341464,
          -0.9453575025413926,
          0.442712784008712,
          0.1446924930775043,
          0.29982376139964395,
          -0.83370434941748,
          -1.0308982881159752,
          -1.5703737373258129,
          1.1132094165431146,
          -0.34123327849619195,
          -0.11210433423719078,
          0.5563604941951767,
          -0.6135312103110544,
          -2.351288673511977,
          -0.7023001065472226,
          -0.40342610537274615,
          0.3668674185742112,
          0.6773426512948979,
          -0.4500672604792525,
          -1.2334582637071698,
          0.37554588805512823,
          0.45453878693421534,
          -1.18443317725832,
          0.38210948015482404,
          -0.814593601764212,
          0.3583537355225028,
          0.6341175210186358,
          -0.5285139538906586,
          -1.3530917196152155,
          1.145475356307618,
          1.025728165266265,
          -0.8474250806875563,
          -0.2989188305572251,
          1.0638283174457843,
          0.15928432142680016,
          1.5898332586181108,
          -0.030309353086740848,
          -0.8684176419854577,
          0.5897205000294838,
          0.1320980762489869,
          -1.5399723084740529,
          -0.5796416788057098,
          -1.2589802526904157,
          -0.6311208631595648,
          -0.407395616828154,
          -0.8572797318732619,
          0.22534162097017058,
          0.7454937647558384,
          -0.1842767458882361,
          0.3756431380617491,
          1.5231415997469642,
          1.1549711900883164,
          -0.05456636979784266,
          1.4535104717844671,
          -0.28097495618771295,
          -0.1212476757386928,
          0.18291884336194109,
          1.77565268473463,
          -0.3030098191320595,
          0.9272762884958305,
          -2.4366979385940315,
          0.8829955713029219,
          -0.7431470891693862,
          -0.23835671586392476,
          0.276687371411485,
          0.26736219823381957,
          1.4304927228165476,
          -1.3706586604612725,
          0.718734206797125,
          -2.492688653188006,
          -0.25488368346550644,
          3.3892601767570327,
          -0.7357112229728969,
          -0.22909475957174966,
          0.9993980462191077,
          1.0111628659899934,
          2.965857202496873,
          -0.16670483010872336,
          1.0885572036683118,
          0.8482059767776138,
          1.2190134452612091,
          0.2632418543630126,
          -1.091435418090958,
          -0.5422644012915756,
          -0.37982851925952665,
          -0.6927696737075151,
          2.1017740613607776,
          -1.2513703810108314,
          0.24477530139427778,
          0.21502623486105796,
          -0.442782246533676,
          -0.5024050737248006,
          0.22159368341676905,
          -0.044076108447264783,
          -1.4758765062288803,
          -0.5889525810776272,
          -0.6495374693657272,
          -0.37293770234985396,
          0.4161661626581619,
          -0.6595338338687766,
          0.4602782395399533,
          0.7207950183462107,
          0.9838039084858423,
          -0.10162082537455516,
          -2.9039961466599533,
          -0.4958415148569436,
          -0.8685157370002311,
          -0.3323212413438223,
          -1.9233891619732748,
          -0.8771037461274976,
          -0.9194821742848984,
          -1.1488793129036963,
          -2.2032346169301844,
          1.4505239873476532,
          0.2615927543343159,
          -0.33260344669416964,
          1.4084323006276103,
          0.2898075511753792,
          0.7674237060754064,
          -0.1522992959244382,
          -0.0958418784547891,
          -0.7837689276229092,
          1.2860284195855483,
          1.5340824536371107,
          -0.3931359154180284,
          -0.2020354885973946,
          0.6181239698249116,
          -1.4252332733050161,
          0.21471729856511704,
          0.39484992118645496,
          -0.9115575520789269,
          0.9170416838877032,
          -1.3656925618217295,
          -1.2938947302202588,
          -2.1012549930558957,
          0.5629740596578455,
          0.9704037261503652,
          -0.07103577104143802,
          -0.06056634064318822,
          -0.8261941927010776,
          1.084446154548666,
          1.3853092924306298,
          -0.8190719195493241,
          0.4522778497948018,
          -0.08541878093204906,
          -1.0907030933897575,
          -0.5965921400408298,
          1.7830015184194092,
          -0.24268529110532971,
          0.49544431270053435,
          0.7751569923750241,
          -0.591051004297681,
          1.2160209998708116,
          -1.206142990732346,
          -0.8229639051804407,
          -1.5379591410610078,
          0.4079286959597712,
          0.354508196092271,
          0.7605574208818656,
          0.3903624951272026,
          0.2883040693237423,
          0.08915448104994454,
          0.19575690836555537,
          -0.13663719071650435,
          -0.5404711097882281,
          -0.2965688310440175,
          1.4730174238312022,
          -0.7554017293477003,
          0.5466697875460973,
          -0.665677519514598,
          1.8825862706506964,
          0.4646182006548831,
          0.7205109948423206,
          0.01594211705226808,
          0.788283773526777,
          -0.6173562380855349,
          0.9363996073923265,
          -0.863037475649082,
          0.23017752581415876,
          -1.1898238778078853,
          0.9790597984416027,
          -0.6664467151134347,
          0.9533738232877181,
          -1.6801387220824588,
          -0.8435681709794904,
          -1.5879507185734136,
          -1.1382951410476405,
          1.4939405273288549,
          -1.153868517747753,
          0.06523982356012188,
          -0.028131543886072273,
          -1.2879200284531451,
          1.654077408844134,
          -0.4287497679553087,
          0.49252210089765375,
          -0.13533848075938024,
          -1.2830355548991945,
          -0.8174867013725844,
          -0.2625494279938054,
          -0.1326139257130826,
          -0.7026768129773574,
          1.9760712413130208,
          -0.3614752958879836,
          0.038413867437816454,
          -0.054756625357391495,
          -0.141166735844837,
          0.5552512109623233,
          1.529711767501191,
          -0.3157959534492999,
          2.065834881314959,
          1.3545509985257895,
          -0.7098329227703077,
          2.4498022113927393,
          1.5555979701654243,
          -0.4521088921863319,
          0.3996358537186002,
          -0.33466589707682226,
          0.13497990461527395,
          -0.1771100417461669,
          -0.6508153741831232,
          -0.9051841633508259,
          0.28147652465631884,
          -0.8811559886972756,
          -0.425186227107506,
          1.615343033770074,
          -0.6721169963034034,
          -0.2804224307414475,
          0.2544823797041868,
          -1.2942195911659504,
          -0.9198264554870424,
          0.22943084248765927,
          -1.0395058428329784,
          -0.30709347314831514,
          0.4682383385966957,
          1.378178076376568,
          -0.8851995668622735,
          -0.8612909195849261,
          -0.023085499463351377,
          -0.9956970438559102,
          0.05161296223470167,
          1.035509918255386,
          0.10897128012581717,
          -0.572820099923977,
          -0.4010293202892243,
          -0.32812414956214353,
          0.3185538875275203,
          2.240058358873048,
          0.8740653400569046,
          1.0319581024827318,
          -0.8548775239936629,
          -0.6857560629875845,
          0.14329633753583873,
          2.0326548326654095,
          -1.4037639457403646,
          0.1812422831010808,
          0.4112524357395413,
          0.45487735910199417,
          -0.977144180324718,
          -0.29795478690783794,
          -0.23066448545918922,
          -0.9563367337808865,
          0.42250474854828457,
          0.9380940122031398,
          0.5890747596647105,
          1.534944362206168,
          0.5646044279295905,
          -1.3476530289473254,
          0.6771003002966178,
          -0.47589284424258427,
          -0.2604003920260102,
          0.44723331472631594,
          0.21729602086897248,
          -0.16401849922423206,
          -0.5218213996594111,
          -1.2171043155837882,
          0.09214044402907934,
          1.269437524474506,
          -1.1411806770098853,
          -0.02260592516315751,
          1.4242658744605725,
          1.838612987799805,
          -1.1856886065938754,
          -0.2534318431729881,
          0.5431144331364652,
          -0.4262360242642882,
          -1.3939714644327315,
          -0.6455074267585605,
          -0.7647948461997983,
          0.2598846235366324,
          0.39887256333245064,
          1.1971315589444347,
          0.32177433002991757,
          -0.48047218580623197,
          -0.6019833121141709,
          -0.356674446296805,
          0.3135063400063452,
          1.7288979374658033,
          1.1111646597470526,
          1.4526469777010598,
          0.2582941045955484,
          -1.2596739981261629,
          -0.7129573585313163,
          -1.6914231612858786,
          0.2489829907695276,
          1.176298734740903,
          -1.098121185921998,
          0.7523767175015404,
          -1.8642789203964092,
          -0.9813687275904827,
          -0.9060065179123661,
          0.5174491045757511,
          -1.2799691351683067,
          -1.619920228991164,
          -1.02418721957478,
          -1.0743617692680254,
          -0.8122883171781362,
          -1.2903283410877557,
          -0.039954835987608496,
          -1.1482954437112824,
          0.177910915466966,
          1.6579411135113256,
          0.9195662781550343,
          -1.4193267829017548,
          0.2374256358983822,
          0.4518191717297135,
          -0.32070858898651716,
          -0.15182886835697482,
          2.3780940305716394,
          -0.6926602138932098,
          -0.1197362758988119,
          1.1601686553712645,
          0.5407739958076522,
          -0.2550672766408934,
          0.6043132251381188,
          -1.0066364798394727,
          0.2100345107786536,
          -1.0526005458372785,
          0.7751006249584435,
          -0.2819517029303187,
          -1.6089459246049769,
          0.7930925844519275,
          0.8122862142938705,
          0.07155462829006907,
          -0.686927260308914,
          1.0832612187840933,
          -0.09860432063868232,
          0.4839365976889764,
          -0.6181032031477526,
          1.1919103998340805,
          0.403403309631214,
          -0.5417920996017637,
          0.1818346563370398,
          -1.9337602943759613,
          1.2030901273028412,
          1.2810389239986615,
          2.332482477896295,
          -0.5615380893168193,
          1.6224674466509037,
          -1.0468367007016117,
          -0.24850399665690087,
          -0.740144635054192,
          -0.6221302976081765,
          0.6521027423000908,
          -0.06628844844346318,
          0.21160052706570343,
          -1.3186564532246585,
          -1.5495375055369538,
          -0.27407918722276825,
          1.2991953348465788,
          1.324293748038394,
          -0.5023054619457609,
          -0.4490598380281499,
          -0.13559615995265978,
          1.6695761174999189,
          0.33372167654170826,
          -0.028718425451703503,
          1.0053576875824506,
          -1.2183396755824412,
          -0.1667934513208925,
          -0.04190474637145825,
          0.6312124893287748,
          0.7083654720133307,
          -0.4401423148276949,
          -1.1941737029265416,
          -0.46932155297126027,
          0.09557068185064302,
          0.4450959551419136,
          1.0370923315773417,
          -0.3910874137254201,
          -0.5034734934375718,
          -2.0609784166019125,
          -1.2921549118768043,
          0.29943953884156044,
          -1.0755487700689401,
          -0.7813600033241989,
          -0.3493090730026893,
          -0.06516672234966696,
          0.022334738598925603,
          1.34720551938313,
          0.3831070192271777,
          -0.3725916889435251,
          -0.6781835419353615,
          -0.396532321388703,
          0.03619001120724153,
          0.38593682110388955,
          0.006419897486870869,
          0.24989425301887683,
          0.26033929013426366,
          0.7862947250168103,
          -0.007055572323763626,
          -0.0955304124191242,
          -0.7203758424525813,
          1.4080164660933154,
          -0.16950727137341573,
          -2.287927727508699,
          1.3377407324670019,
          -0.9156828307943893,
          -1.1338558300167596,
          -0.10584309838004544,
          -0.3071356202090531,
          -1.5688507452450615,
          -2.5189574497069986,
          0.44535276946918995,
          -0.7059039133512462,
          0.06335921599898241,
          -2.694607438056004,
          -0.7192982075259756,
          0.0258595679950489,
          -1.17948693673928,
          0.24950169877242126,
          -0.33765892710487927,
          0.08074727746660806,
          -0.2527954655587584,
          -0.25715209360179736,
          0.07441312467517414,
          0.14586305536406424,
          0.5170715514360869,
          1.2405732295192613,
          0.7134425179067178,
          1.0387069092281631,
          -0.6181538269129401,
          -0.741667691623963,
          -2.718988749715805,
          -1.4324926707130345,
          0.3053733017853556,
          0.5816116600295087,
          2.108812867894476,
          -1.0518273168736543,
          -1.414534105983709,
          2.1804242833817886,
          -0.6577307051921184,
          -0.0023393938491514765,
          0.17934040539583965,
          0.43990882358835526,
          0.2923504762606499,
          1.6019961616215996,
          0.21163002974785455,
          -0.7615891945595651,
          3.605757411812226,
          0.03612825868472618,
          1.0155513885908158,
          0.6021999936838579,
          -0.2103813312908376,
          0.8646378352262689,
          -1.7804589290882973,
          -0.004991798258548087,
          0.4309910344671591,
          -0.3272742600109809,
          0.026822286699161552,
          -1.0647220405915823,
          0.15761902259644725,
          -0.11423589217053334,
          0.21820705051662592,
          -0.21759287973694147,
          -0.33173793781405136,
          -0.33901523976151837,
          0.46979511796420326,
          -0.575477994533019,
          -0.24030521082210993,
          0.16641607194008687,
          -0.8611049538014435,
          0.19635001188809587,
          0.23620947427699013,
          0.9953250594823483,
          0.24043038276361042,
          -0.1612500012289064,
          -0.6964690933677692,
          0.3749826479043738,
          2.311673437578905,
          -1.58026036981339,
          -1.0805877590362414,
          0.49950668674734483,
          -0.19275750962934077,
          -0.7746459168136395,
          -0.017390603800104588,
          -1.2167080033251105,
          0.06659722204005335,
          0.2652229184973018,
          0.5922067292088875,
          0.3617210395245633,
          -1.8079983379453444,
          0.8489183832813089,
          -0.2852808565253759,
          0.6717690922892314,
          1.283789564730458,
          -1.9528747749124484,
          -0.35127106380101775,
          1.0245959404824168,
          2.0519922681191685,
          -0.8433155134964874,
          -0.41902071545597624,
          -0.11417841478015933,
          -0.08624985239895815,
          0.3072763536984131,
          0.5849470293825094,
          0.5111339617759943,
          0.7759898275567887,
          -1.376126355343328,
          -0.5813445616653815,
          1.6978400079025078,
          -0.3353289052443758,
          -0.24869973219782382,
          0.10885715291938763,
          -2.490252758518059,
          -0.6945139915680008,
          -0.34654308053978616,
          -0.3461674257845374,
          -0.49248730599858315,
          -0.7680681359394373,
          0.26914061936677713,
          -0.19090332729665863,
          -1.2871878641237076,
          -0.22749809724544165,
          1.2300207964864684,
          0.18689137484187454,
          -0.2083120183980831,
          0.35594748373228974,
          1.0148656696719325,
          0.23245849325561005,
          -0.3187346790804002,
          1.5879397758705018,
          2.3146560668190665,
          0.8182617635434951,
          -0.9204111139353213,
          0.6787899079279551,
          0.43202594117334037,
          -1.8026590889841354,
          0.9573027829099169,
          0.5927482521240615,
          -0.8935175010178862,
          1.6939608898997334,
          -0.16671711459012925,
          -0.47486151887389294,
          -1.4661381795429336,
          -0.9320708911162371,
          1.4072415966161547,
          -0.12671869293128346,
          1.5774979564495768,
          -1.54669608130345,
          -1.5203461722545923,
          1.1400266879831014,
          -0.33509131202057,
          -0.07685493438773382,
          -0.6753344244355568,
          -0.8062696920689421,
          -0.6789186032620884,
          0.12918622777872785,
          -0.40039543418593004,
          0.8446103110955528,
          -1.0777144019905098,
          -1.4842260595951549,
          -0.2727055222836368,
          0.3066516031546802,
          -0.4094082070903345,
          0.008720251517346995,
          -0.6728353277443896,
          -0.5430454320460832,
          -1.2741933154524896,
          0.047966967391449886,
          0.09100200655326819,
          0.6656023535602547,
          0.9454059370929931,
          -0.15703007236330008,
          0.7595189990981134,
          -0.552870741269109,
          0.2932241830216695,
          -0.09422745106845823,
          1.4954813172039227,
          0.9070009710693455,
          -1.0859844496134574,
          -0.6617343001265058,
          0.5271989466824808,
          0.5097726031154611,
          -0.22653398867292945,
          -0.9513298531856758,
          -0.8674059955681206,
          -0.3692131662585581,
          -1.7747036390419304,
          1.1714771869031453,
          -1.1460594128942023,
          0.6609535534308473,
          0.4717565965045203,
          0.14133242495372622,
          0.39886533261956914,
          -1.3660881170565422,
          0.17348150387907202,
          0.032233603653006856,
          0.5620579347313258,
          2.130169389297344,
          -0.06384446889571924,
          -0.9267534702513871,
          -0.10918216918749998,
          0.2976645159694525,
          -1.5770784645266704,
          -0.8505984764706643,
          -0.6313895345064041,
          0.23089848491231646,
          -1.0613088796331311,
          -1.896167108527824,
          0.5148696043534057,
          0.8535654222063732,
          0.4078557540328363,
          -0.5976126854638438,
          -0.26270505500040076,
          0.18424281928021352,
          1.5985756424397628,
          -0.28472026306060005,
          -0.7525454733058405,
          0.3535682087659291,
          0.8373035901152861,
          -0.213537518177822,
          -0.27381742883084265,
          0.38290009541956066,
          -0.8197023697665462,
          -0.7188528749545554,
          0.3361816739568701,
          0.9016255651560144,
          1.077733308323419,
          -0.13943625205865187,
          0.1604257751584952,
          -0.43548361084925596,
          0.9964983453576559,
          -0.5821071180233787,
          0.7398408266721967,
          -1.2657481706174956,
          -0.26435154294345276,
          1.5279149812477633,
          -0.9654860404185842,
          1.9493392091888007,
          0.06475074956273329,
          0.4213184082193338,
          1.3737909735379923,
          0.08110372760943722,
          -0.6084350154271403,
          -0.4596722847492532,
          -0.7007337305352069,
          -0.47963948796323236,
          0.6809440119007865,
          -0.45190611805471603,
          -0.17730990757223872,
          1.0473893944417356,
          -0.36249986539008167,
          -0.22908493146218048,
          -1.5455505560842975,
          0.3207707667498252,
          0.7501183089398306,
          1.8145809419141883,
          1.1163329568931124,
          -1.6727863251645894,
          0.15010307824395713,
          -1.497431758260296,
          -0.56747381883755,
          0.45502485454899433,
          -1.8002441288133633,
          0.3453099422980512,
          -0.0943421399159403,
          -0.9224710605433805,
          2.215453499938006,
          1.5842312449941351,
          1.4371340388460292,
          0.4915934124347832,
          -0.16917613374534832,
          -0.11049681003740262,
          1.025353948915498,
          -1.58800244757143,
          0.7365344240957578,
          0.6155800981480782,
          0.05727691830720978,
          -0.8480607982220696,
          -0.8063542866987501,
          1.1573054553111752,
          0.3063231303578382,
          -0.22560509174748455,
          0.3130425244051724,
          1.089695969875565,
          -0.6346246612719818,
          0.13262157512549314,
          -0.47555587993836973,
          0.5221648536862398,
          0.6198472004040692,
          1.1006194498703594,
          -0.03146746660022079,
          -1.266191348889231,
          2.1762133167884254,
          -0.49253510611899126,
          1.064756055758197,
          -0.9901061712811967,
          0.1580906147569903,
          0.9137141872783447,
          0.35334516317080966,
          0.25073977881754667,
          -0.4513236620202989,
          -0.3578897289864036,
          1.8070686044872324,
          0.5428228434801232,
          0.540311617793419,
          0.12440334642413084,
          0.11824917071159852,
          0.9617868834399854,
          1.97114054076004,
          -0.7756118727196821,
          1.027170856931368,
          1.5217748554931367,
          0.5734239492736387,
          -0.8255435640406471,
          1.0152983667223217,
          0.19700255252576732,
          0.04549062282687382,
          -0.5180233500066856,
          -1.8059608610303406,
          -0.9277606852203691,
          0.18485894413058873,
          0.06499929651998354,
          0.6456395312382787,
          -0.061664375099639436,
          1.9640759068718132,
          0.27544391827625253,
          0.39095475645412786,
          -1.767656187106933,
          -0.3782556991546345,
          0.6214288172839203,
          0.8415740643704348,
          0.16863275218061474,
          0.49861447652012053,
          -0.46045319559150466,
          0.23746071129269522,
          -0.6793981684537277,
          1.2605263291433262,
          -0.30542294018046445,
          1.3116242458199825,
          0.6285612392993221,
          0.6935836542020568,
          -0.9719114534214234,
          -0.5838752971167172,
          0.5416074764567863,
          -0.07705799581980562,
          2.2922404749667935,
          0.1064803638945007,
          -0.6913471204169224,
          -0.30877984644776,
          -0.04230405005284403,
          -1.5938270015728375,
          -0.6571338250173816,
          1.6030678155748055,
          -1.100019797519457,
          1.420571145215702,
          -1.3170629518674055,
          -1.2623050896681072,
          -1.0155397385702973,
          1.4645482502967873,
          0.372378725448644,
          -0.10460215859474505,
          1.1690142517849351,
          0.6453384465754642,
          0.8283356684718571,
          -0.747882391842236,
          -0.2831188735681354,
          -1.6540766025050087,
          1.3057521300009711,
          0.6443173952541613,
          -0.9075050057353676,
          -0.822138646628269,
          -0.9785165685850562,
          0.7727991942296887,
          -1.1008221681618775,
          0.12286358932290499,
          1.1835200994087882,
          -0.13870814664846728,
          0.13298068052028503,
          0.2591363028435236,
          -0.35570130544778916,
          -1.6811003030545555,
          -0.5419011682878283,
          -0.6573409275414855,
          0.26839053999240226,
          0.7203327338686729,
          0.42026685525601554,
          -0.6019607531470927,
          0.5571071988036072,
          0.6615546294706975,
          0.505898958955575,
          2.016128392527728,
          -1.4592305064723887,
          1.004763007242848,
          2.0225566820292475,
          0.5126212629406189,
          1.2651218807074611,
          0.8991186784575378,
          1.0660567472531242,
          -1.3578092653358802,
          -0.9714246936397988,
          -1.3468756849094137,
          -0.6529811676943587,
          0.4158946260101841,
          0.31169340501394116,
          0.9967372662917274,
          1.0553964832923464,
          -2.318652777695299,
          0.9192944146009192,
          -0.7946521054743161,
          -1.3725806949797217,
          0.12098760651894812,
          -0.3267273902947877,
          0.7750672526027457,
          0.9405939956720234,
          -0.2288099554756218,
          0.4749705230120217,
          0.03401299143032649,
          1.9024330878900026,
          0.478382601723534,
          -1.3419263227919618,
          -0.4999971098658187,
          -0.8963985990553178,
          -0.5543281272604318,
          0.2752613219780206,
          -0.5766069323454857,
          1.4388742775322096,
          1.0618117019893287,
          -2.5278770408831193,
          -0.8652595641162417,
          0.057018128649056685,
          -0.04661681817231609,
          -0.8412403665740098,
          -0.0819861692007224,
          0.013391912397863276,
          0.4709134410385172,
          0.24968456979522563,
          0.8658470519253487,
          0.9417666661968204,
          -1.8362295929162702,
          -0.865239795699308,
          -0.38160147685438833,
          1.1876241455614955,
          -0.8906303445096362,
          -0.7079826712651536,
          -1.1372034750396214,
          -1.0161954643947304,
          1.5822227617902556,
          0.06918810762870749,
          1.40768420297949,
          0.4225813385241604,
          -0.24488521417193365,
          0.41842768910161704,
          -0.6453165677945806,
          -0.15590182058129792,
          1.193610667019492,
          0.7551085688595403,
          -0.7789538588794818,
          -1.3057096640407526,
          -0.4394026575572988,
          1.0187711902193823,
          0.621909744791373,
          -0.2635327277904378,
          -1.5228347036022971,
          -0.8092014432196732,
          -0.15546312771410414,
          -1.5785968287286098,
          -0.8486540689356618,
          0.8517975183621622,
          -0.6358573335498013,
          0.25873062781141454,
          0.898212426392379,
          -0.41245671200219824,
          -1.436086884062601,
          -0.2876088263539104,
          0.5765323815214483,
          0.13648162044237183,
          0.45104819498253795,
          -1.2677550254561138,
          -0.667663885531042,
          -0.7642964590085437,
          -1.8431847184133974,
          -0.16550712244118493,
          0.5742379919387733,
          1.0093479625379176,
          1.565623416486435,
          -0.26111906733607176,
          -1.5066005986156235,
          0.3485544074959167,
          1.2638059571926517,
          -1.21183082503482,
          0.14874796035158508,
          -0.09102283272545586,
          0.9880536694814471,
          -0.1270696299128788,
          0.18605627158430285,
          -0.513585085439958,
          1.1616438648758989,
          0.5120977262787588,
          -0.7439824250754232,
          0.3755542063002935,
          0.57371421725429,
          0.4281474371009805,
          0.18667570078033877,
          0.19142240442367586,
          -0.7930055355872602,
          -0.6521950408728219,
          0.28761735065334637,
          0.7783942570440401,
          1.3772566971342655,
          1.7762898724475396,
          -0.26417496194287254,
          -0.030027606564150322,
          -0.8768165282784067,
          -0.11328707294592208,
          0.9843316701718734,
          -2.8890457639252776,
          0.05528899216243367,
          -0.7624615042968401,
          -1.3736689366905361,
          -0.46052600172941965,
          -0.9939585033735907,
          0.202489144365924,
          -1.003597089548643,
          1.4123922230719055,
          0.09779461704079656,
          -1.021398816794042,
          -0.4260794444605289,
          -0.2668065156165704,
          -0.12015807131302794,
          -0.5866794716916426,
          -0.7053649929746671,
          0.0525017425077209,
          1.492429920200242,
          0.3497981028798391,
          0.12213528454088864,
          -0.4996560009499562,
          0.02585432707767272,
          1.1361177514315213,
          1.4395793723087644,
          -0.6835425573060445,
          -0.4993300670632302,
          0.6621605257310822,
          0.6170611487082541,
          -1.4676987557483692,
          0.9871393768814589,
          -0.02984147712048877,
          -0.6297771203480625,
          -0.7176752342873671,
          2.745353030134726,
          -1.1078841777574098,
          1.606770211181588,
          -1.4211372329037488,
          0.36788441044504955,
          -0.5793781107829435,
          -1.4970785398887327,
          -1.3915258723519743,
          0.8336676844256641,
          -0.6785921785379224,
          0.9084799441370158,
          -0.2084122863358027,
          -0.35075252081211394,
          0.7786108352918877,
          0.5693757590191708,
          2.2346486707389532,
          -0.9181116761882119,
          -0.25435889156513203,
          -0.5744511454903746,
          -1.0315326414432895,
          -1.1065781900228602,
          -1.483045869094321,
          0.6604490870044196,
          -0.38549479875002335,
          -0.6407856281782337,
          -1.1659853110246017,
          -1.4182134277521627,
          0.8984981138118362,
          0.19305983561040785,
          0.48474610174294447,
          0.28023765785978616,
          0.6407120058203863,
          1.0729450063083896,
          -0.42323077552629945,
          -0.9908439951286798,
          1.3596390105694123,
          0.5124802957687227,
          -0.20410279922887262,
          0.17571042720299196,
          -1.1541897747128829,
          -0.35362356616655183,
          -1.2620020530525211,
          -0.4435468910850691,
          -0.8070808255777927,
          2.3716937136845995,
          -0.39482277324712567,
          -0.8999666260581367,
          -0.5777929193470325,
          -0.28590842687485857,
          0.5776999084774231,
          -1.3064674883360814,
          1.3526860706157142,
          -1.0706922913134513,
          0.7607055077897534,
          -0.40399838180244674,
          -1.8001164717532903,
          -0.21132130058302345,
          -0.4883252239662593,
          -1.4785473129978715,
          -1.2784516439676674,
          0.35737360443885297,
          -0.6470739592237439,
          1.6060435548169505,
          0.24766504551901228,
          0.1043586112885791,
          0.1524268935130587,
          0.22388518783507028,
          0.7384750954527692,
          -1.703494782008144,
          -2.4253656656806726,
          0.2325043625883325,
          0.0385232258371099,
          0.5151474739615973,
          1.0134281483810255,
          0.9732591118037625,
          -0.264375461707087,
          -0.5585919005669912,
          -0.2814770465296097,
          0.17307419449325367,
          -0.08920204667477896,
          1.8862973867212294,
          -0.9575884602615695,
          1.907912680256439,
          -0.6896258941514983,
          0.81900154998454,
          0.6983911893641135,
          0.8220883834375913,
          0.024709073508235705,
          -2.554376002742595,
          0.17742309343458718,
          0.23950502546355792,
          0.7991126958618152,
          0.319235630374964,
          0.3471693340760936,
          0.4878654593276118,
          -0.8601642934822038,
          0.7822673475499475,
          -0.13508672958119766,
          -1.1345929339821892,
          -1.012261044250154,
          0.08565963929279313,
          0.9197020620970668,
          -0.22465069288769798,
          0.38194208493289433,
          -0.5193710229958269,
          0.7565837386154475,
          0.660600038545176,
          -0.5622612132964685,
          0.6078804591440454,
          0.39894858521874044,
          0.08102397176028214,
          -0.6341688388894927,
          -0.29835369214408025,
          1.114345958850571,
          -1.8535066821400956,
          3.932367721087264,
          -0.3638737561721142,
          1.5698246455822806,
          2.7327033013074886,
          0.15778814566193264,
          -0.9328396974523503,
          -1.3592165899583668,
          -0.1901350884595964,
          -1.0210195404968445,
          0.78237992054507,
          0.5702074036918238,
          -1.8403366198768194,
          -0.6920947222495752,
          0.12461079491382562,
          0.0727052434171763,
          -1.0866665162317044,
          1.38307502920274,
          -0.29335527547558105,
          1.5924469724555754,
          0.6610762784116374,
          0.852662450612532,
          0.4448116447936736,
          0.29083392185417956,
          0.6507385617643648,
          -0.8620222217911164,
          -0.30665559439574797,
          0.4189600784836103,
          0.11164949491537002,
          -0.09238986438812608,
          0.05716918952525167,
          1.2489655909698956,
          1.1825442870900087,
          2.731784582308447,
          -0.8015307306162041,
          -1.5112333361793788,
          -0.8867208437578795,
          -0.5271332615458016,
          -1.9178066374679603,
          1.7440636511309358,
          1.115804577990591,
          0.8946463228264986,
          1.1460663532831699,
          -0.4780457632573299,
          -1.2857100157810815,
          -2.0511508978128563,
          -0.7100578957466941,
          -0.78924959860075,
          0.49571690810816765,
          -0.47013745537635737,
          0.2918399552480276,
          -0.9721743936828089,
          1.0674716212935729,
          1.3674647105816,
          -1.4882213978460164,
          -0.9773076022795794,
          -0.8717527501182112,
          -0.7817789299609232,
          1.1655001028044303,
          0.28687826317352966,
          1.411818086962467,
          0.3167241000874071,
          -0.27618898544734793,
          0.020910471804207,
          -1.2785305056269947,
          1.2734776893619812,
          -0.37984026314443503,
          1.0272238371104216,
          0.2605755311159355,
          -1.0470440591823278,
          -0.19057996949481099,
          -0.5404826389547064,
          1.7343577019020981,
          -0.3455394869852696,
          0.44404365833648624,
          -0.9381937534113648,
          -0.8504474192009756,
          -1.1771252934211909,
          -0.5931845379729586,
          -0.1943088896059853,
          -0.17040787832478316,
          0.17962600549734492,
          -1.3045452361702221,
          -0.9162525096890209,
          0.19072966308829356,
          0.7371628125731342,
          0.7607176370501405,
          -0.6997291897908781,
          0.31804711498546145,
          0.4527150636487445,
          0.6911781485728768,
          -0.45821753280164207,
          0.3930740656915949,
          1.2358015000474127,
          -0.7268126430826496,
          -0.3176659335086534,
          -1.1968058104872217,
          -0.6975468426115917,
          -0.8598598672983999,
          0.029520607685053536,
          0.7478942991336008,
          0.04050817301245595,
          -0.7668678296632052,
          -0.4506315950303574,
          -0.74023602532165,
          0.16314657437805788,
          0.5318938192843597,
          -1.4153117882284019,
          -1.4896443083336843,
          0.37888171863346753,
          -1.7890971749922526,
          1.5744377277625636,
          1.1405679225777272,
          -0.5576705198334343,
          -0.6066087655381964,
          0.0579550556350035,
          -0.1784559715644256,
          0.1538347903302549,
          -0.491049434671284,
          0.21566056652353416,
          -0.9504400354939057,
          -1.076968397242446,
          -1.4073437786416545,
          -0.6958023011608644,
          -0.41424757841845383,
          -0.14427922329451115,
          -1.904844250806319,
          -1.1037476519133393,
          0.7764924559589212,
          -1.2217058429302738,
          0.27410554771278756,
          -2.2153026374331795,
          0.6088096837781086,
          1.2009382644002646,
          -0.17112590813790182,
          0.5946369686464729,
          0.3521103470202712,
          0.2734491937063563,
          -0.7309633063468862,
          0.18519606958942597,
          -0.4098264239939678,
          -2.1086788902458435,
          0.5699806163183394,
          -0.3548366356793725,
          0.6585567031428059,
          -0.8786671611277649,
          -0.5349942101795678,
          1.182038017335648,
          -0.08533675049155251,
          -0.7151756350723955,
          -1.6143241924798561,
          0.2119829893486579,
          1.1106924017217197,
          -0.07212037475128001,
          -1.5587650877681702,
          -0.19841209964569864,
          0.9684253133271753,
          -0.6400813602754588,
          -0.37821502310454075,
          1.151052321711631,
          -0.5151508292804108,
          0.8064298222344323,
          0.1813589543319142,
          -0.8454569153203362,
          1.4967171004971744,
          -0.6904065595525308,
          -0.9416714947073036,
          0.4950512462977162,
          -0.31270243434993567,
          1.148949832884809,
          -1.8415318174158095,
          -0.09293471699658247,
          0.5034484247728788,
          0.5915383828495834,
          -0.663290019212908,
          0.48895285481262973,
          1.0238289456190959,
          2.3995535122438314,
          -0.16487152482031134,
          0.37852882914525143,
          -0.8828118040256374,
          1.028261445734002,
          0.2298721759347596,
          -0.3773812568409006,
          -0.0469665193337313,
          0.5501799489863378,
          1.4505918855107485,
          1.0052885320665383,
          0.9673190491847812,
          0.2858678695147446,
          1.26579036170864,
          1.6944608051842605,
          -0.3577567747229213,
          -0.5452839320443635,
          -2.6038541636804013,
          -0.442740177493886,
          -0.5914808778604329,
          -1.5924175097668294,
          -1.4257816769654463,
          0.42225148601344153,
          -1.0749870960020493,
          -0.8791119343264852,
          -0.6726603841536278,
          -0.9456543698522021,
          -1.6568724530349832,
          -1.0031267788908638,
          2.493910858844581,
          -0.30621696726677056,
          -0.9375797567183705,
          -1.3207888551594227,
          -1.0053629269995925,
          0.6652567005472665,
          -0.8714612454645033,
          0.6995088086591063,
          1.3859712216212732,
          0.251153368862735,
          0.13488013626776305,
          1.7503918700437118,
          1.1787447321562399,
          0.2385149006018818,
          0.7675533090768574,
          -0.46415149035305225,
          -0.10048101593453049,
          0.7186822347281075,
          0.9665213156902352,
          0.05086754654709487,
          1.0502751262426537,
          -0.030854153010875192,
          1.2251510486894093,
          0.7737045646328852,
          1.0155404179398024,
          -0.0668432334543614,
          -0.017239592223470126,
          1.8191181070071254,
          -1.4714819797200522,
          0.17511618840931187,
          0.056623651850516765,
          -0.15573539269357867,
          -1.6886456621558739,
          -1.4775053660047779,
          -0.724867335901467,
          1.359104105422327,
          -1.155707879499999,
          0.6947588229521228,
          -1.44913467357694,
          0.1886868321734171,
          -1.2704727270861396,
          0.14792065850214128,
          1.0796564458111448,
          1.3375286308471006,
          0.6914000819427943,
          -0.5216322732332436,
          -0.5675941037677016,
          0.5800696468153549,
          -0.4240014432665005,
          -0.03080998184889831,
          -0.7482400844919358,
          0.16606466451350618,
          -0.08584310478439447,
          -1.186824477220959,
          -0.34577345099247225,
          0.10104763323254237,
          0.3548460881915637,
          0.9287564770883214,
          -1.2763473697688719,
          -1.0682581786095295,
          -0.7844286780367934,
          1.408039674739275,
          0.39942174188685925,
          0.22473936972865136,
          -0.3162088410075285,
          -0.10874322655095055,
          -0.17171902869226105,
          0.17110764981718435,
          1.19494213595659,
          0.7713893135415122,
          0.8965586819023348,
          0.643612793408697,
          -0.29618327991445687,
          1.1119633122363497,
          -0.03317471638644054,
          -1.0867339432127843,
          -0.6458747341023247,
          -1.183171054145847,
          1.7718015616308838,
          -1.082401903568346,
          0.7013044724618892,
          1.8328648365374374,
          0.7307956429224025,
          1.5366753908609854,
          -0.09429015415292592,
          2.175855441221404,
          1.2640758077601024,
          -1.5548846860290342,
          0.8577233142182898,
          -0.781365247887475,
          -0.27767162972792103,
          0.6268143277571518,
          -0.636541633035429,
          -0.12472596077640126,
          -1.6575481805829033,
          1.5274135796501425,
          0.2165378748775729,
          -2.5801911880918964,
          0.011690599903784706,
          0.19325586266406292,
          0.898869729499284,
          0.03321236887454739,
          0.6573035872413587,
          -0.7815950688973448,
          0.1313726814750368,
          0.024775820922011773,
          0.5914807409607625,
          0.9028554499041245,
          -0.16736952717167863,
          -1.6254757535498634,
          0.04292012983939721,
          -1.1775849236379903,
          -0.9188979309121464,
          0.7345259253157912,
          0.879773212319728,
          1.0523476165426386,
          1.967576502255492,
          -0.7239509868043495,
          0.4379911817813241,
          0.6384948134306422,
          1.4736277853895583,
          0.27814355339124147,
          1.5588706609665686,
          0.4187182773405576,
          2.221485319179047,
          1.2063687202203652,
          -0.38743759896396973,
          -0.06633208213792922,
          -0.17403323495381218,
          -2.603529495975445,
          -0.7161835050102762,
          -0.5830430437459697,
          -0.3425605403591554,
          0.0752559021400115,
          -0.6283900448867819,
          0.7749306400247395,
          0.4926072237411489,
          0.5637625181914144,
          0.152433742610988,
          0.2832529738688182,
          -0.8400843562267816,
          -1.4244576439557188,
          0.6877355671864936,
          0.3231639143263719,
          0.9925341061455201,
          1.1111659670231415,
          1.6265889523717505,
          0.9164767253210976,
          1.0071793568449807,
          1.6492160571585717,
          0.3571415499327729,
          -0.34610634061716383,
          -0.47440661980595,
          0.8715333953454503,
          0.766296534539693,
          -0.4698167293350272,
          1.161413400595326,
          0.1130579294175812,
          -0.3500942472106763,
          -0.28972281995352006,
          0.3174200054021539,
          -1.3854937624417136,
          0.1325702081499342,
          -1.365152428261289,
          -0.09938151027909269,
          0.7985805168245315,
          0.185688113959925,
          -1.5358951913597727,
          0.3558200838915739,
          -0.9247321494243095,
          -0.6532831308300489,
          -0.21438587106662108,
          2.088917203035193,
          -0.3787222257850168,
          -1.5384685348944995,
          1.5121070790361564,
          0.9048731441749526,
          -1.2945912031722115,
          -1.0468335058609812,
          -0.6925851849389278,
          1.0085718785699558,
          0.07768708846701017,
          -1.9358969135334212,
          -0.745081447492746,
          -0.3325391387485863,
          -0.08613360689547771,
          0.029550211347522826,
          0.7433371531899821,
          0.2346790072556513,
          1.7839677411158097,
          0.40573014763950427,
          0.7097491061200891,
          0.6417495585760192,
          0.7017720856182256,
          -0.5166293061317594,
          -0.6874541397388177,
          0.1589102922850445,
          0.004228891732342511,
          0.524666022098186,
          -0.43635270615644206,
          -0.7818878685860717,
          -0.18803577877876043,
          -0.7128407551324155,
          -1.5152853188320388,
          -0.92638327108648,
          0.1822428414386563,
          2.2156413141573985,
          1.2508524558573653,
          1.5349821049035464,
          -1.2370092808194135,
          -0.7363126236820111,
          -0.1480750059890794,
          2.0209797922139576,
          1.5028694133031228,
          -1.034847471632079,
          -0.21328333244787862,
          -0.16616683362921722,
          0.018096189638939532,
          -1.7041899982062307,
          -0.019930590421626298,
          0.7580771939493518,
          0.29307760213876644,
          -0.29737477414177105,
          0.7729327327048567,
          -0.777914723184317,
          1.41879072924183,
          -0.30771662400341004,
          -0.4768123976510957,
          0.9800931941672658,
          0.29063002854313263,
          0.48480259984788227,
          0.058861244820251186,
          -0.002212401607632944,
          0.4919329396100902,
          0.23219483415495057,
          0.014007434677197261,
          0.03267117505383182,
          1.095687223250291,
          -0.21097444126357734,
          -0.510848770512534,
          -2.040189833381325,
          -0.598329586373419,
          -0.8034324391005143,
          0.9182238913490032,
          -0.21375200035616862,
          0.4423576699160712,
          1.5558267107277506,
          -0.46140112819598667,
          0.6702361250142359,
          -0.2534343905108562,
          -0.5425035410582013,
          -0.8855305358996194,
          1.5142343949229429,
          0.9291614423527749,
          1.6252549169969537,
          0.7424159159598086,
          1.5044488190036174,
          0.48818883866401,
          -0.9763998345175419,
          0.9083333719889225,
          -0.5002984127841372,
          1.2724866191384905,
          1.0128775684849016,
          -0.9718906378242228,
          0.3231269222618248,
          -0.16011056859141218,
          0.0296461618260023,
          -0.9428639748814531,
          -0.7568353753070125,
          -0.11583183557658375,
          -1.1966747032389122,
          -0.30214485666333113,
          -0.32752538137239284,
          -1.8461352102737496,
          -0.11800612070936062,
          1.6103530332739011,
          1.0243893211992021,
          -0.9346892396527747,
          0.31475905369183527,
          0.2104118228344209,
          -1.8529505435413216,
          0.8553432149653614,
          -0.2137919007698114,
          0.7923184693672979,
          0.951371241561927,
          -1.4144513514332848,
          0.3899581125359561,
          1.023916038898112,
          -1.9037995821219567,
          -0.10753683897334078,
          -1.1350102744809107,
          0.5818241323555872,
          -1.29843051297846,
          -0.09818252095312316,
          0.34200561631310195,
          -0.14019138016173074,
          -0.06236196185718938,
          0.9011238210916245,
          1.324984712264534,
          -1.2156411161507463,
          0.6739414259177472,
          -0.6182706059107564,
          1.1772887752196006,
          -0.616869764314338,
          1.1815124565367998,
          -2.3774779226048106,
          -1.0944371443240353,
          0.126531314122436,
          -1.1168722324155014,
          0.25494969604885354,
          0.09159876357513805,
          -0.5209000713912495,
          -0.733667716733582,
          1.2113277773136208,
          0.2364377254332636,
          -0.3499792545474858,
          -0.372759919590509,
          0.9367337131179035,
          -1.116552030808035,
          -0.012784315350898835,
          -1.8966347470357807,
          1.5213654218944561,
          -0.01730687010374302,
          2.191919897024533,
          -0.4591273963417722,
          1.3285794504516484,
          1.1836392878099953,
          1.0818991810114575,
          -0.9597861041633716,
          -0.23131519627440378,
          -2.3241503032088184,
          0.40492356861716505,
          0.8269811574938528,
          -2.8886060741937745,
          0.16828360641865187,
          -0.7557760370258799,
          -0.8625638003849508,
          -1.364071050172919,
          0.08402545138624394,
          0.6981124030555784,
          -1.3996798934558465,
          -0.48210056341586044,
          -0.7674687472087222,
          -0.25286232097229816,
          1.9818797939180983,
          1.5463490013303967,
          -0.155260960676916,
          1.4836815145272322,
          -2.1924732151154247,
          -0.2467052203984165,
          -0.338502262099658,
          0.7548755674712578,
          -0.08491843290584859,
          -0.4545064610582557,
          0.4998152741853092,
          -0.2486501573821832,
          -0.8649215599212454,
          -0.737005083399481,
          -0.6273813265840845,
          1.157401949565332,
          0.322968632957003,
          -1.4709511833601228,
          -0.9489576394506987,
          2.5650723649188265,
          -1.1466419103966994,
          1.4783407709508436,
          0.23097986112525926,
          1.1435468332782694,
          0.8851940110709803,
          -0.38744492121376883,
          -0.0171187384136941,
          1.3771432920854827,
          0.17978526193768937,
          0.04303135784633939,
          -0.07368582521721105,
          0.8512708040985963,
          0.6771296409579226,
          -2.1153064046509424,
          -0.5449010355081676,
          -1.3189292818688614,
          -1.8917939294015156,
          -1.4313849566626964,
          0.05622957141757176,
          -0.9045091581560276,
          1.3600630535860023,
          1.0591553725041014,
          1.7471916446592852,
          0.9079014679990732,
          0.45652689607982316,
          0.41864645859251304,
          0.014268654528894517,
          -1.5190980250229646,
          0.23698755481957184,
          -0.38068495129061,
          0.36834115464962874,
          -0.5349760897459217,
          -0.731872872541513,
          0.7126575293595443,
          0.8024487827002575,
          -1.1895581320260278,
          1.0044011530276618,
          -0.203049566213921,
          0.6101896724812125,
          0.4579619468666584,
          -0.23759418093035797,
          0.46334563189921524,
          -0.8174045394330332,
          0.23962287024269974,
          0.46192375628704985,
          -0.18869996036089717,
          0.18211076198500625,
          0.47997322105519213,
          1.0586376442715693,
          -0.5248443445925622,
          -0.5951209927931101,
          -0.3891552657234214,
          0.5384955906063614,
          0.6299309796304076,
          -1.1514591699797931,
          1.0685778257148137,
          -1.4106753718508367,
          0.22376866052751318,
          0.18977778675153617,
          0.1271100821697559,
          1.3119151442268293,
          -1.415696157622559,
          -0.5714606322297082,
          0.7670123769285638,
          -0.34803827953196115,
          -0.8610676682799173,
          -0.6876849333797926,
          -0.4603546709790219,
          -1.2617506112648218,
          -0.4225155150282434,
          0.8345893229700985,
          -0.00027663945626904454,
          0.1024430030314579,
          -0.9525763790650108,
          1.1097213540189852,
          0.03876178083172613,
          0.9451610544341469,
          -1.230766432197358,
          -0.8579048548852366,
          0.5261509587607673,
          -0.7282054946386229,
          -0.9740781212339457,
          -0.8991158873462712,
          0.8419707573265564,
          0.03753597763324259,
          1.776004434105567,
          -1.5064824150249596,
          -0.33862944605957535,
          -0.06335892775990191,
          0.1686274640387101,
          -0.4473713373652476,
          1.3928626389768775,
          0.4120872276640917,
          -0.02620765010284742,
          -1.0838971636480876,
          -0.4207932408072022,
          0.9516149134001536,
          1.5162171067077308,
          0.0420250963962622,
          0.4296788484791024,
          0.34577403725301964,
          -0.32887765146467335,
          -1.6618553685159645,
          0.23432588766929746,
          -2.1322300388949733,
          -0.556327169173031,
          0.22868640088373887,
          -0.9343398314633424,
          -1.192398099632216,
          1.19924093818099,
          -0.1179275252662658,
          0.7399142469699008,
          -1.0801406371451943,
          0.3283487303553303,
          -0.5825872106514343,
          -0.2130431583185483,
          -0.985273465517549,
          -0.8122182751735483,
          0.4761246109654239,
          0.47262046251185336,
          0.2981226401008769,
          0.6255808684204035,
          0.3954329596155721,
          -0.5251785009366021,
          0.12554789518135565,
          -0.17932064013419324,
          0.5575323790943516,
          0.4871843044407766,
          -1.4958703799107218,
          0.021550331793311596,
          1.7868196931993483,
          -0.8967830871723692,
          0.36198346941150356,
          -1.7413991716456325,
          -0.6527187538169219,
          -0.7540527530977139,
          0.03990728093910979,
          -0.935326177539278,
          0.512590678437329,
          0.5423576177199293,
          0.040029838678084274,
          0.19070693256581803,
          2.5248257279571384,
          0.05916352357007913,
          -1.6506523416708043,
          -1.46262952700993,
          -0.3896529093956672,
          0.06539272076515396,
          -1.009223117372453,
          -0.5742273722519678,
          0.07208858031177362,
          0.3382693846171881,
          -1.7601508689900518,
          -0.011164041537012922,
          1.5547592720733159,
          -0.008807821706047858,
          0.13929193239582507,
          0.6763825853974271,
          -0.554517967748774,
          0.08084082636109985,
          -0.27724872342926393,
          -0.43874652791159774,
          1.7439187399092182,
          -0.43335713460785297,
          0.8391283587656895,
          1.210927145922534,
          -1.2644611116799207,
          -0.07934596878112665,
          -0.670295824829698,
          0.880018634906973,
          0.3771651999633476,
          -0.30242670817740847,
          -1.6753633628479547,
          0.5523855702407575,
          -0.9659111591901208,
          0.31603405820981834,
          0.4061904786611992,
          -0.47613226967996325,
          0.8563308968766848,
          0.5912193897468414,
          -0.6975125810993096,
          0.2895485179932148,
          1.1871693189333057,
          0.00759812303501866,
          1.5789138986731137,
          -0.8805034287714529,
          -0.24438263834485968,
          1.131191096597032,
          -0.3356840405058222,
          -1.0431408216950262,
          0.8648701367953254,
          -0.544382193976538,
          -1.7251036423879322,
          -2.046145921011163,
          1.9595840884851277,
          -0.07332066227572873,
          -1.9650679720762205,
          -1.4994009283459204,
          -1.607956267436339,
          1.1453583150828746,
          -0.9860613489991811,
          -0.2239756994398724,
          -0.29644411030738094,
          0.6979501933198754,
          0.38541665435021166,
          -0.1412849178080526,
          -0.6261511310892227,
          1.0275456744589215,
          -1.0908546775287025,
          1.4336354877625992,
          1.5493018572238442,
          -0.06053499319034956,
          1.6798606626147792,
          -0.7551713187527704,
          0.5687161790808212,
          0.6417539310706496,
          1.4700211440928164,
          0.9473089007587892,
          -1.834311338974075,
          0.4416334066290211,
          -0.06896279915026197,
          0.3734756426628598,
          0.682616405479372,
          1.5891596497554472,
          -0.058516100314605836,
          0.33430928592732123,
          0.2903931001071063,
          1.0826018681084097,
          2.132186531834101,
          -0.35232186103636254,
          0.5064664734463119,
          -0.906778493578629,
          -0.29992926732732045,
          0.26458256420584686,
          -0.11088017240405335,
          0.7461588011130832,
          -0.019673790472446107,
          0.9354980689612593,
          -0.6973237326657156,
          0.46392010573432574,
          0.8847448733715023,
          -0.4851997875862566,
          0.07711120057019652,
          -0.026582983263767727,
          -0.6925708576644928,
          -0.22926876870630372,
          -2.0265139994967427,
          0.9045375622490021,
          -0.0067107332060228255,
          -0.9405450134601492,
          -0.02919668510777284,
          1.840774414056139,
          -0.9962873362428264,
          0.15282955310067456,
          -1.3036591723206448,
          -0.9386654363028711,
          -1.10096508671917,
          -1.3667713358188835,
          0.680038494863503,
          0.5612649960577047,
          1.4217611756676443,
          -0.731040110821715,
          1.1511574629012902,
          0.10093176665644671,
          -0.755582387851535,
          0.5071917770883861,
          0.6515451773702708,
          0.061212738033193534,
          0.11503409869118711,
          0.6488300324764088,
          0.004343849933529124,
          -1.12149921363937,
          -1.260660234709038,
          -1.0345488369471902,
          1.470285029473335,
          -0.7119261060295715,
          -0.5740528828056146,
          -0.7724511182845626,
          -0.4842700359634245,
          -1.1661496213200266,
          -0.2550057718020662,
          -1.3362463673394849,
          2.212176964347637,
          -1.134129222314438,
          1.1077688403844008,
          -0.3576694864487162,
          -1.3982356852911135,
          -1.89506258866286,
          0.24211395045227013,
          -0.7457048169679946,
          0.6890785439841487,
          -1.1112663369814726,
          -0.5230052193582112,
          -0.3728494337559082,
          -2.132756909250118,
          -0.8735845120024878,
          0.23119583330732335,
          -0.4621013809592624,
          -0.1276206438495018,
          -0.31733812315660104,
          -0.855219710153314,
          2.3828516862096865,
          -0.912310665547272,
          -0.4132336891372836,
          1.5851398341866685,
          0.9404929119021554,
          -0.0358667495382818,
          0.0423737715313402,
          -0.04395227947830092,
          -0.5816324852608696,
          -1.1000125543480699,
          -0.4980309373808372,
          -1.4344333675355372,
          -0.09576332333096482,
          -0.7855325430977343,
          -0.2239359173946369,
          0.5926328218579043,
          -1.04751106087077,
          -1.3839572179329924,
          -0.2725438851918385,
          -0.31154807031495824,
          -0.13550413257415544,
          0.9889533809509973,
          0.36123980821690416,
          1.0011592968698817,
          1.2201167865886768,
          2.4625871224895195,
          0.26402986062680145,
          -1.539287306662935,
          -0.058688652785003334,
          -0.9626375730436822,
          2.051022397877185,
          -0.2852486031472908,
          0.17703048024506426,
          0.5620457843187799,
          0.5176306205298185,
          0.6876905681705142,
          1.1682558622461263,
          1.1485940068203344,
          0.0063739900995852545,
          1.451410853018319,
          0.6823271246590683,
          0.42213864487203756,
          -0.1490631238431441,
          0.10460030067668867,
          -0.2121844339765931,
          -0.1470131271394231,
          -0.094673951956889,
          0.5474248900168522,
          -0.6054965969831303,
          -0.6220460838874967,
          -0.45074864783319823,
          -1.0260919099128005,
          -0.45553674915673964,
          -0.52168859894654,
          1.0628010633375333,
          -0.5037126135588894,
          0.9287771890623421,
          -0.22456570675719154,
          -1.7696239618626068,
          2.643265769307018,
          0.16858570301783352,
          -0.09599216081614166,
          1.2709924866545073,
          0.012492269853411307,
          -2.2108414000696777,
          -1.1402870227857285,
          1.4563219667417215,
          1.6808350541515442,
          -0.34896686600866134,
          -0.5985872225772116,
          -0.8211346095847162,
          -1.1417843286219398,
          0.04468393988556822,
          -1.2177070669033037,
          1.0065951081166995,
          0.9916282840654743,
          -0.19250929749089263,
          0.7574238727180319,
          0.7726236343110181,
          -0.7719112146174631,
          0.8305918618386013,
          0.17355496449621474,
          -0.41070646929781496,
          1.2842426796424462,
          -1.7778479800582876,
          1.931235953053682,
          -0.8797856417433834,
          0.2298968043725656,
          0.6256460673222954,
          -0.6201388381602371,
          -0.28569812096704017,
          0.6661241629476522,
          0.6104781127721369,
          0.005785053271620747,
          0.8248624717058787,
          -0.10244155722936597,
          1.5610234861591605,
          -0.14908653346314554,
          0.526583068154312,
          0.633108524176515,
          0.9605606669141206,
          -0.3833894724824078,
          -0.2405979908058508,
          0.7331245019823373,
          1.4755194916896752,
          0.0924699398952321,
          1.901353064514196,
          0.08965922439560656,
          0.8038660264210462,
          0.35204287637901494,
          -0.8678189721964914,
          -1.1541499548009038,
          0.6713575864428766,
          0.7913328084256714,
          -0.5762873939665599,
          1.7091297947318176,
          2.2450930304988503,
          -0.3534551285657268,
          -0.2968358766569029,
          0.6708481108469408,
          1.399479563953685,
          0.11475271781636516,
          -0.9439670508232506,
          -0.31240724509291523,
          -0.017315685705193547,
          -0.8587060681613087,
          0.49427331250534834,
          0.2086466228117518,
          -0.1172644025766172,
          1.2874644769541106,
          -1.336231138895639,
          -1.6641233765539207,
          0.28513888125005216,
          -1.3206857375180212,
          -0.0626176035224656,
          2.426034353567114,
          -0.5185204245479365,
          -0.49464008219090805,
          -1.435450055702256,
          -0.12623689014696318,
          -0.4860833898145292,
          -0.3132152694599511,
          -0.8305130070955214,
          -0.6465663433864195,
          1.174546394319767,
          0.017831972981150166,
          -1.051869971458375,
          -0.21618158087625075,
          0.8748734071487982,
          0.045968575472109335,
          0.8995372778398922,
          -0.0634116413188013,
          -0.000548253917405961,
          1.1750251947525436,
          -0.6932450564778877,
          1.0167709086819976,
          1.2991712340110944,
          -0.9575888928729134,
          1.0811365053772537,
          0.09872749881710292,
          0.44149157055234,
          0.597124140360884,
          -0.1654021889624133,
          -0.4933339050544564,
          -1.5169204770506384,
          0.9151722242112622,
          -1.2170542679800835,
          -0.8110570646888571,
          0.14348157335463543,
          0.6012255157713092,
          0.9667379875969053,
          -1.4911791399766599,
          -0.05294694811080986,
          0.3076879778098287,
          0.5679474692823945,
          -0.33354953733454135,
          -1.0034789138556328,
          0.7838369906695732,
          1.5156561103187818,
          -0.6651624194979935,
          -1.494279694254436,
          2.0041712532746963,
          -1.0984373240266299,
          0.4576771521214802,
          0.6063067166606305,
          -1.0284389786076589,
          -0.5705727568796463,
          0.763943911856214,
          -0.4701132745853978,
          0.5709362104894135,
          1.0411837427390906,
          0.5358157777593823,
          1.5516272801400295,
          -0.9362159078402028,
          -0.2596771208310106,
          -1.959262753439944,
          0.2243406215713536,
          -0.3189980133189971,
          -0.04964664728606358,
          1.2946285102666182,
          0.47969068302669965,
          -0.043205536411625,
          0.3872815475612744,
          -1.9156284190042743,
          -0.6816663946050208,
          0.7066439228858837,
          0.2079341945136035,
          -0.22981454063574608,
          -0.6856836300365019,
          0.851165042981663,
          -0.6539478876734129,
          -0.4424810516313826,
          -0.555678700441699,
          1.2883515541863901,
          0.3152732944284138,
          -0.30795948809167684,
          -0.7589572666298708,
          -0.5925142718797776,
          -0.30447110290899754,
          -1.2673166012612695,
          -0.27578499896181163,
          2.239445439949872,
          0.44485591414968734,
          0.4465110167947231,
          0.9685987390186898,
          -0.17050980310222616,
          -0.6436553757531154,
          -0.7233067338405997,
          -1.1751487114627683,
          1.3786623536375695,
          0.6762747513027673,
          -1.002430316266661,
          0.5320168213177232,
          1.4646633983313921,
          -1.8689677002629905,
          1.2044978975062932,
          0.12359103727871619,
          0.6102662971806795,
          -0.5218376180060328,
          0.7300178056048517,
          -0.4029580722722371,
          -1.7667704452134172,
          1.0212325779218407,
          -0.19961076342442816,
          0.38351734941209414,
          -0.4190554775027573,
          0.15779664047800135,
          0.9366628019553359,
          0.29838150485024234,
          -0.21114369099688265,
          -1.1643032539065516,
          -0.28109118776002046,
          0.7491216548494157,
          0.46237960330114114,
          0.4011395181363049,
          -0.9709790091303985,
          -1.058664400249741,
          0.32446818904196084,
          2.3427827337084755,
          -0.938906520766932,
          -1.353139887966614,
          -0.5767586863588271,
          -0.5567824886434054,
          0.34409914614998194,
          -0.11631863482612907,
          -0.7307712376681809,
          -0.7586339990131605,
          -0.33407463334263576,
          -1.3611865486629193,
          -0.7848144882394924,
          -1.4338886174255052,
          0.1626642268806731,
          0.6208223129561727,
          -0.9503806204702422,
          0.30219851374495443,
          1.1613829241519915,
          0.6487418801022012,
          -0.2643342535926903,
          1.0427490563275654,
          -1.6800939132208768,
          0.5292290314407238,
          -0.32996518488203525,
          0.9194869964174034,
          -1.8444097807606883,
          -0.4620465965830257,
          0.12423316083720887,
          0.7859620015525036,
          -0.1445826255464779,
          -1.1796745144895433,
          0.41679683358014713,
          -0.7965497489186738,
          -2.0033762534164454,
          0.6453222213501668,
          0.07767673532305834,
          2.6190179497067163,
          -0.8736005283260178,
          -0.06761177462756583,
          1.8615655932926847,
          0.5861221268910157,
          -1.3539511732870018,
          -0.49100677577272994,
          1.5610718965463013,
          1.8627742326507672,
          -0.8251212842326268,
          0.17184079100433877,
          0.5781317410161072,
          -0.4589600927859548,
          0.20153388930789354,
          -0.43663141140848294,
          1.31479799544041,
          -0.6778279822928224,
          0.872266574060994,
          0.6340832411941189,
          -1.0872233395925857,
          -0.10553828345323518,
          0.5136922769417792,
          1.1093918093951625,
          -1.115496120679892,
          -0.106982479193793,
          -1.2852525224348035,
          0.17170480534105023,
          -2.058822805039869,
          0.1011213300800296,
          -1.29076258310785,
          0.5724927251371684,
          0.9418618582062717,
          1.401488334058548,
          1.2003320811715077,
          -0.13679151569667852,
          -0.03172016149834237,
          0.46694813874755675,
          1.3616471209165184,
          1.6377477143682677,
          -0.5596699856450555,
          0.934647755516969,
          -1.2062400357806722,
          -0.42029751300818163,
          -0.6462695502670449,
          -0.8085002946793549,
          1.668740497655439,
          -0.45116313688721416,
          -0.165924008053856,
          -1.2114599948815403,
          0.018676532970577565,
          1.0568164574269336,
          -0.3560037868714512,
          0.5290896746861881,
          -1.6270758087083645,
          -0.6720253487102167,
          -0.537442956125642,
          0.761328966952626,
          -0.8022341303184999,
          -1.1273103021459694,
          0.6864799407968155,
          -0.12292838236354629,
          1.414363712605633,
          0.9627941465438142,
          -0.34057189419122397,
          0.5938639875214392,
          0.23358237904610157,
          -0.6907935766066123,
          -1.6781376328909232,
          0.5470265443698537,
          -0.27174419280151585,
          -0.8061770938483113,
          -1.1906199892177296,
          -0.5628542344406657,
          1.628376404969791,
          1.0956060526754519,
          0.17875870160432153,
          0.546291052351347,
          0.23236514746486328,
          -0.35693895738429066,
          0.17539860112908096,
          -0.4012685135786233,
          0.31238112619016867,
          0.19957920537971036,
          0.13361509902577348,
          -0.6111138449535128,
          0.45431569978998554,
          0.2586473799234177,
          -1.089630668051162,
          -2.41936847152007,
          0.12538395542793768,
          -1.2171261102346018,
          -1.837754876217619,
          -0.7547966850481058,
          1.5609916020686878,
          -0.8843944272397799,
          -1.9068463849853818,
          -0.03241050956385967,
          -0.6470242552797332,
          -0.29959068543594786,
          1.5324162438798656,
          0.24161785203201874,
          -1.1912516267736533,
          -0.7384191093400456,
          -0.7863121703780538,
          -0.8790427404955109,
          1.0036589313072422,
          -0.4910195277348711,
          0.19799462769714216,
          1.008857421998532,
          0.5568954039127989,
          -1.2083411906752246,
          -0.8278573458407048,
          0.4520258711345207,
          1.5438624462490926,
          -1.091147360226228,
          0.8759569998802436,
          -0.8500246423388366,
          -0.3486492592871006,
          0.6115946014000507,
          -1.762454629719705,
          0.5015523085177287,
          0.6176228460827693,
          1.064522462720998,
          0.4665638704267319,
          -0.42444717054719294,
          -0.3651130561413875,
          -1.4580168229236323,
          0.5312862954483655,
          1.545596356539212,
          0.27417748731652375,
          0.04110428674176776,
          -0.19201446216103993,
          -1.156740316901287,
          0.3526798554012933,
          -0.7430542682054377,
          -2.129221139273724,
          -0.6142877465269189,
          0.1451206325174728,
          -0.281339731817686,
          -0.10396277037788168,
          3.2281889931664263,
          0.23430062348949002,
          1.262617092753726,
          2.3066366103861546,
          0.12857588354145094,
          0.11994846705726613,
          0.11613518085111174,
          -0.8938257763377762,
          1.3524768214206477,
          2.652906808168877,
          -0.9063900986130635,
          -0.6962121538642829,
          -0.12680914061567233,
          -0.835847574089155,
          0.6721454302417964,
          0.9606311709821896,
          0.5087892133335842,
          0.6922878521092771,
          -0.45045846515757454,
          -0.22338141092807742,
          0.3686650920868953,
          0.5832354955501798,
          -0.3304197049083494,
          0.31013253418192643,
          -0.06349002214191236,
          -1.1135241510293128,
          0.9367457692219535,
          0.5624998239404798,
          -0.29638770594564157,
          -1.0066246612146506,
          0.8439411599665845,
          -1.0418007285261321,
          1.392255233088272,
          -0.1059242681293749,
          0.4484506067499991,
          -0.1946356356194568,
          1.2424438841259122,
          -0.6480983137520185,
          -1.1592909522168138,
          -1.3147123925824387,
          2.2066152393383773,
          0.6422441053343092,
          -0.7325524081406979,
          0.5497794978749502,
          1.0437878732933303,
          -0.8549625111045599,
          -0.16536780052778574,
          -1.2374482688761412,
          -0.5477106637850012,
          -0.19741265490339657,
          0.1739493141363732,
          -1.570795920314483,
          0.3423286179441177,
          -0.6745778212249419,
          -0.15677006940266167,
          0.6794554261658993,
          0.03880756827822264,
          0.6707836119918981,
          -0.5992687507132037,
          -0.8870765507501357,
          -1.4589701544561282,
          0.5314370056678157,
          -1.1118879359866736,
          0.8391571323326527,
          1.2752060709897117,
          0.904538169463832,
          0.3906751061512529,
          -0.814587138447622,
          -0.4449162821714353,
          0.09052903530554704,
          -1.0811521423031396,
          2.204504635268172,
          1.8122513936929272,
          -1.0571568408824665,
          0.1391081384438711,
          0.8879652240029694,
          1.1584142126722106,
          1.8155372765123166,
          0.29559203096739617,
          -0.7676222951875056,
          -0.6712912813883554,
          -0.5841291604926904,
          -1.103209744250122,
          -0.43463371181257865,
          0.28574968563877395,
          -0.24999058453839998,
          0.21851828312955845,
          0.6170210306240447,
          0.8690800525240067,
          1.9770493836749443,
          -0.12376101096206095,
          -1.1558108672105287,
          -0.2705468282779108,
          -0.21805610123060973,
          -0.353115675319702,
          0.4518113482788401,
          1.1616382706386394,
          -2.028787096963536,
          0.6786544615823763,
          -1.1603779176007427,
          -1.3283445376189424,
          -0.6963501689218269,
          -0.12559732400952958,
          0.3844757883240876,
          0.9213602810619522,
          0.18850061478163088,
          0.9668963844479347,
          -1.7972295854456553,
          0.3860951236820035,
          -0.015033691812083912,
          0.4962751394042446,
          -0.8399568473538052,
          0.12831993923557877,
          0.7901440028106637,
          -1.5069724661851343,
          0.3473405468295837,
          -1.1865540364956946,
          -0.030197688782489372,
          -0.4277672362818032,
          -0.6178419408929277,
          0.23974247378093644,
          1.2945341730988296,
          -0.039238207111322955,
          -2.634164631150736,
          -0.9285982277994806,
          -1.437385627134881,
          -1.0760831242841165,
          -0.28896793173917595,
          -0.7901754635436175,
          -1.3346636090956816,
          -1.0719873374975504,
          0.21817772267242455,
          -0.7265504716673005,
          1.760231768057257,
          -2.200493844905745,
          0.594709847415663,
          1.2156512519715368,
          0.24614640309140426,
          -0.7931096793673821,
          0.22728630219337545,
          0.5111702458108527,
          -0.8391627112520625,
          0.36908068854058534,
          1.2759460460623158,
          -0.3084599596329908,
          -0.4799410251774656,
          -0.9383956584639896,
          -0.7688954338151676,
          -1.1383543804024576,
          1.0389399664826515,
          -2.162784913029627,
          0.16877968746976546,
          0.8938957195904937,
          0.44914488128227115,
          0.7128582592712359,
          1.53154540737803,
          -0.39031407777249727,
          0.7655119439608435,
          -0.5398811240342147,
          -0.7780115976729116,
          -1.855071524588528,
          0.15499025407533099,
          1.65712638013062,
          1.1948007553904578,
          -1.0007695483661625,
          0.6238514152330367,
          -0.417704788440401,
          0.7416914848254177,
          1.3806161176589333,
          1.744854436536337,
          -2.5379313867198814,
          0.5639338493990581,
          -1.6111074109935228,
          1.0285901729382854,
          -0.8501012443751113,
          1.35102603639704,
          1.8944054174639076,
          -1.3490532109829365,
          0.5466043247793562,
          1.2389625357989245,
          -1.214093779948042,
          0.14309483173569518,
          -0.4764369839239237,
          1.6742057695623433,
          1.3129140361076193,
          -0.5586983218885554,
          1.5303644324720584,
          -1.0474532801229168,
          0.6073343144978488,
          1.485356830729935,
          0.3196667560044634,
          0.09442990524625372,
          0.4083163292066773,
          -0.6244390551148745,
          -0.47771233543487984,
          -1.182576694883338,
          0.6043817254357509,
          0.7600220016862417,
          1.2142311964866797,
          -0.6774840600595893,
          -0.5842431442224654,
          0.30798421298024337,
          0.3016845206224413,
          0.8253624038558031,
          0.499391825612656,
          1.3122917419229312,
          -0.47679218502290444,
          0.7513899151832208,
          1.1778867279440792,
          -1.1137829905380339,
          -0.022414848068545403,
          0.19325377555689838,
          0.8718065069866565,
          0.13568060318167624,
          1.5555070960686077,
          -0.3589347693194658,
          0.6173071318497177,
          -0.8039358605682579,
          -0.5302644886229035,
          0.6773471148944258,
          -1.8880108394713895,
          -0.49467225819688065,
          -0.07869609624268752,
          -0.7175410970569984,
          0.8040333241545132,
          0.7784731058021799,
          0.9428252754067096,
          -0.505090692706024,
          0.5901642149299013,
          0.7752282943182477,
          0.5719123113217829,
          0.815625147904742,
          0.7557559665618223,
          -0.3928520397205664,
          0.7388396411977523,
          -0.9287197277590634,
          -1.2525741060408127,
          0.37751447933105386,
          -0.8913064891742836,
          2.3687790491868697,
          -2.029176903786628,
          1.4880884237822796,
          -0.745256134952465,
          0.8388189651395329,
          0.6917444437153646,
          -0.8182757962715079,
          -0.03216455040061233,
          -0.17903487996179204,
          -0.43038146994591453,
          -1.236682787514069,
          0.592737332963092,
          -0.03942185091678809,
          -0.16142290650183885,
          -1.1314284552751992,
          -0.14502131560679132,
          -1.0185212981790253,
          -0.7045627363588279,
          -0.7502793052520825,
          0.6104653215907071,
          0.2307817095480431,
          -1.0739500122760586,
          -0.413109933076685,
          -1.061720528809954,
          1.5278515710260498,
          0.07876800815934144,
          0.8155641982173567,
          0.6274778327515121,
          0.5275113001914721,
          -2.4066333166423015,
          0.81922584110128,
          -0.20639822414029393,
          -0.18166375787180122,
          -2.283622684133453,
          0.25498627723032236,
          -1.1759547833375368,
          -0.6264886897202058,
          0.9344815288339912,
          1.6869385089407953,
          -0.40762738003468296,
          0.021863077267910095,
          -0.4289160618417255,
          0.3055417796463025,
          2.3627110138812886,
          0.8374779753996827,
          0.14390409766132875,
          1.1621927529162706,
          -0.6299281862344951,
          0.783827469696234,
          -1.74419834576198,
          -0.9104905341754559,
          -1.5384798822892367,
          1.869132988458765,
          -0.4646683303134596,
          -1.4497732231300564,
          1.512405876803532,
          -2.168070153370767,
          -1.2325694987624358,
          -1.969479962579711,
          0.030504474148883763,
          -1.9328219015054715,
          -0.34798532268617066,
          -2.0882425300401484,
          -1.3773276719246599,
          0.043455807961995684,
          1.7628378179494735,
          1.1308734413036972,
          0.26920411044263043,
          0.5365447829054055,
          0.706536315542005,
          1.070973170085021,
          1.328114766147549,
          1.2879553460898439,
          -0.8162402754919916,
          -0.015495291613194191,
          -1.602063252061155,
          2.202302996039014,
          -0.16309566761228045,
          1.2377611606119148,
          0.2956914271533265,
          0.8259815948975117,
          -0.3707515854072674,
          0.2977370019956066,
          0.040253832037230264,
          -0.25488544889180587,
          1.0196125675006866,
          0.9215794138272119,
          0.8983999100622008,
          0.06542146658141171,
          -2.1468151123653674,
          0.28002441430229724,
          0.6268577238341997,
          0.41315062765651,
          -0.882032395348345,
          -1.157510436368923,
          0.9606684354672241,
          0.3932632634099163,
          -0.6633662693154673,
          0.4912542730978556,
          -0.9929989249265887,
          -0.7350217915076154,
          -0.01671531198409113,
          -1.36605825712496,
          -2.554316607399714,
          0.8660781242353286,
          0.0721847385495149,
          0.6910309524826317,
          -0.7573301910595126,
          -1.3507831978189253,
          -0.00437161965328275,
          -1.4569325174268561,
          0.7273867175967997,
          1.3839981317792291,
          0.03690508740186858,
          1.0363360036447928,
          0.30156123850766764,
          0.0713719586884595,
          -0.021655952138717932,
          -0.7901685099001647,
          -1.073296082098848,
          -0.7056295879064649,
          -3.260390268237063,
          0.6717424315166366,
          0.09602733761330697,
          0.7349812719667413,
          0.5382608341176848,
          1.7252113124218156,
          1.6401919233445095,
          -0.015372627819279535,
          1.110859092273937,
          0.4548876830089854,
          0.4071237188811509,
          1.7838353532756177,
          1.3481694790010836,
          0.2014722688860726,
          -0.5367880574955711,
          1.0687645918635322,
          -0.05008004442544632,
          -0.9263042829040861,
          -1.4399536733797367,
          0.6004519645148985,
          -1.0550224614293968,
          -1.2036597661428265,
          -0.6637924873934725,
          -1.4516351811821986,
          -0.35817597276824203,
          1.062823477139157,
          -0.5837317220699522,
          -1.540625434113055,
          0.8854941948317154,
          -0.9790558279752434,
          0.18896986610111693,
          2.4145717963989886,
          0.24697453917288642,
          -0.028900852327075944,
          -0.3277968086790524,
          -0.36255807504171617,
          -0.4367287417503733,
          -1.7446450311865709,
          1.1819058138160468,
          -1.7134488388143636,
          1.6376468158692767,
          0.8030226489651349,
          0.4894186757428716,
          -0.4465423184918535,
          0.7978561152269337,
          0.28752006552576387,
          -0.37517920494312024,
          -1.7390386185496631,
          0.823009105531848,
          -1.4148635004888612,
          -0.27978890907846954,
          -1.8534289974283602,
          -0.8663961350691691,
          0.41147244623435275,
          -1.2374948568769517,
          0.3314842552547379,
          0.765082856981001,
          -1.095514632958087,
          -1.4044827698614224,
          -1.6651933769679255,
          1.3240015027718006,
          -0.3406476940520687,
          1.389290661126013,
          0.42247290538087,
          1.68192835602073,
          0.20869353570283675,
          0.0657397266380862,
          -0.30794609179045357,
          0.7747742449018405,
          -0.03936430677338912,
          0.687136067874428,
          0.30380512574745966,
          -1.064451474019899,
          -0.35406199547743883,
          -0.01350130035547906,
          0.8880495515341442,
          1.1570823321407075,
          0.4888852722097107,
          -0.40615750640918713,
          0.34021670020164035,
          1.4618962475434898,
          0.13097834574487274,
          1.3834426712982837,
          0.649000086239947,
          0.4489405775665818,
          -0.3550428788980146,
          0.6462104593191491,
          1.2756879499899418,
          -1.6538961838958013,
          0.6846885802817622,
          -0.9330198793525135,
          0.5728894959807541,
          -1.7222464602321517,
          -0.25693979489561425,
          1.0320599519302758,
          -0.5114180508897179,
          1.4046478429107045,
          -0.6374708374763716,
          0.5524205875504581,
          0.26079933463812166,
          -0.24302481375334922,
          -0.636650961314699,
          0.27002675377581487,
          0.8328238738385837,
          -1.185856039354155,
          1.3428666991381188,
          -2.000130411755377,
          -0.11121765975139439,
          -0.03393804011235727,
          -1.3512016243320073,
          -0.19938872768707075,
          -0.21293222027605854,
          0.28944776376569537,
          -1.4797516444426264,
          -0.3827730047523376,
          -1.013334099965249,
          -1.085869223526864,
          -0.16568934463492135,
          -0.8187321876753069,
          0.4399947774078339,
          0.6552696283335434,
          -0.04186678527785934,
          -0.32634719562403425,
          1.2591671775264033,
          0.5550544171463034,
          -0.132886987498711,
          -0.09236226820387153,
          -1.3572124995341535,
          -0.5851403193276967,
          -0.22243632493629847,
          0.04503865549323954,
          -1.3088152372695783,
          -2.9938686489218727,
          0.025250429032640197,
          -0.8284909218618239,
          1.3092483153122434,
          0.15280045462675695,
          -0.5595027099291872,
          0.009876060967997336,
          -0.3076027144223438,
          -0.2626830440493183,
          -0.39549424062479255,
          0.8826212019265572,
          -1.2665863496815692,
          -1.092243102689671,
          -0.5514993871098568,
          0.3417965066544227,
          -0.27712280801451,
          0.8902099673707718,
          0.9682016036535966,
          0.9212585939688156,
          -0.3445407309156242,
          -1.6022173487678546,
          0.0592805086932476,
          -0.45155708191121247,
          0.2416558008656334,
          -0.08219619071337847,
          1.5028227147299114,
          0.8588654846297276,
          1.8708278990295788,
          0.5773601623265573,
          1.8000551712342943,
          -0.8621801240697178,
          0.7260271137542887,
          1.0644005765314435,
          -0.832243821785195,
          0.09448163352407243,
          0.8990954365051304,
          -1.5706920769752855,
          -1.7337704620343992,
          -0.1339078297639942,
          2.626292208898708,
          -1.0465427762644888,
          -1.6756696384844012,
          -0.31456080832895295,
          0.015316748907572758,
          -0.548830822803798,
          0.6685552399639946,
          0.9032455954323703,
          0.5708476290363353,
          -0.475454227349153,
          -0.7115054443250282,
          -0.7230604661107928,
          1.145414543518942,
          -0.7954797696563735,
          0.006018445877178515,
          -1.9544233394450656,
          -0.55925318870141,
          1.453545940840147,
          -0.26219004923030237,
          -1.1562334281932467,
          0.3071166258322811,
          0.3977318189020796,
          0.02076397329548438,
          0.7409341268019771,
          -0.4108015659243252,
          1.032458487866144,
          0.7049385489614957,
          -0.8526064925221561,
          0.4316248249340328,
          0.28181727010638746,
          0.9071893026951934,
          1.2493120532313855,
          -0.9350140338627129,
          1.7842892188555317,
          -0.15101771785144485,
          0.015495785007214085,
          -0.9908971713807313,
          0.3298227901639702,
          -0.4440906378285492,
          0.2743136615290311,
          0.8597412260835363,
          2.2501707434030624,
          -1.7119789457041454,
          -0.37951387074203613,
          -0.4584380408650793,
          1.985158920928859,
          2.5914359223812435,
          0.059741985095404994,
          -1.3824384950975983,
          -1.272162924484821,
          -0.259035204095052,
          0.28402193852466917,
          0.05383366630455887,
          -0.025290712355883174,
          -1.3264061524758646,
          -0.03568034060851908,
          0.42579457896234846,
          0.13779270434253996,
          -0.3253819926641998,
          -0.550692113261305,
          -0.4534261947632985,
          1.4203596842113135,
          0.8308783344659122,
          3.0662901983457944,
          0.5459945419370101,
          -0.03035964914576333,
          -1.1461752460717058,
          -1.4758616730950254,
          2.0375906228894065,
          0.2511806161006876,
          -0.1233713740587652,
          0.5556828927620064,
          -0.22994585823552322,
          -0.16133816119844274,
          -1.6903085067805508,
          -0.4277348314763143,
          -1.2327868711657277,
          -0.5267626068342812,
          1.865259263656067,
          -0.6137333770763613,
          -0.5612019333876004,
          0.4616367791704382,
          0.31700940003883243,
          -0.9788526874770958,
          0.208730830487315,
          -0.47702951179264613,
          -0.1995927157972769,
          -0.2747225323023369,
          0.7696845146074355,
          1.1832318084830507,
          -0.5087096654979796,
          1.0269911128746734,
          0.5159826455214603,
          -0.5017964736772487,
          0.6074384908368115,
          -0.8223021901554135,
          -2.0546425319920583,
          0.4421173567136456,
          -0.020394143552178716,
          -0.39626533290393084,
          2.0673784967499804,
          -0.5431211318358389,
          0.9221392253811833,
          -0.019387782376622215,
          0.8351263023129353,
          0.5583762152861177,
          -1.4228428579867136,
          -0.4094819032310359,
          1.5743955032773458,
          -0.8066029995560687,
          0.7191225398375413,
          2.059721065784217,
          1.409826032469782,
          -0.2704560983695485,
          0.8607844813993965,
          0.9492105067491249,
          -1.2401493945415907,
          0.956567675838965,
          -0.8877964912002696,
          1.131124360383889,
          1.1253866036115723,
          -1.9427546028759877,
          0.9745278119729446,
          -0.38716279528729347,
          -0.09241352333172123,
          -1.1777822128229662,
          1.3298489751546216,
          1.0143818619276133,
          -0.5405688646564507,
          1.8175470162696596,
          0.5440637782751806,
          -0.27943615841460107,
          -0.18881058261081932,
          -1.4683032585797877,
          -1.6203254323196865,
          -2.5379642378878025,
          -0.6752200666880881,
          -1.7594203101899273,
          0.02993167291228033,
          1.4905667933876294,
          -0.33515568291769576,
          -1.0646117730361069,
          0.4640425625766024,
          -1.0202306557032836,
          0.07463371415187144,
          -0.022089432175528338,
          -1.2315564511533257,
          1.4307722157909275,
          -0.09426354822958317,
          -0.6592840011489474,
          -0.7137125771468589,
          -0.0690744579103316,
          1.134422954287111,
          -1.3683164027736394,
          -1.1895236137361214,
          -0.6117502014046594,
          -0.8331633489695741,
          0.8091931404737752,
          -0.28252928633289537,
          0.7527518713252903,
          0.7167780569737527,
          -0.39327649134594517,
          0.12726515107497044,
          -0.42087786497176444,
          -0.9477393349403525,
          0.6571118963312467,
          -1.0694518341214372,
          -0.21802480215449516,
          -0.09909957082446977,
          2.5936717286371738,
          -0.9515033698161501,
          -0.34340507518764857,
          -1.3698447103658238,
          0.8831704898152456,
          -0.6952340327755774,
          -0.8088505662205968,
          0.6939086285661124,
          -0.6873122414308817,
          -0.3839596079164174,
          1.4495288808385893,
          1.578217004010728,
          1.5765867081304834,
          2.1556189685761598,
          0.349992062858769,
          0.17412636053819414,
          0.15454387530872846,
          -0.7894472809437464,
          -0.4091503729509413,
          -0.6420536078000877,
          -0.7131034477045227,
          0.7079975756214062,
          0.876995647629662,
          0.05097060890786642,
          -0.24693716650458403,
          0.11781786670380234,
          -0.005595948784691941,
          -0.6502123825692749,
          -0.7182773688582273,
          0.29527467259675627,
          0.41213320239492374,
          0.6393506586471498,
          1.3286831122257694,
          0.21782576335511417,
          1.1690825431345095,
          -0.055886325679460155,
          0.8203840393459374,
          -2.4181028664921236,
          -0.08516434058021155,
          1.6643378454877495,
          -1.4998275651190476,
          -0.4905791913334663,
          0.36941376591712655,
          0.3362552040203866,
          -1.8561078621591272,
          -0.20603592149290514,
          1.2109793839186729,
          0.899142420675852,
          -0.2029208692091071,
          -2.116063828077172,
          -2.128550962931114,
          -1.1509448886526394,
          -1.5740082642675957,
          0.021855182074915956,
          -1.654154652003831,
          0.13544975671928758,
          0.7125140131069877,
          0.04757507382861163,
          -1.4074146872253486,
          -0.15711131455256452,
          1.1771081748276577,
          0.008591721192300127,
          0.9157443317955491,
          -0.927229076517723,
          -0.9701041703083857,
          0.692237121231822,
          -1.462687524731445,
          0.3864432308173334,
          0.326595184316252,
          -0.9898442128625701,
          1.5761833346729746,
          -0.15950941189321446,
          1.39849822206779,
          -1.7207334248725052,
          -0.331560789579497,
          1.7243539281585345,
          0.8654790785216974,
          -0.7629700483192189,
          -1.7071478709496573,
          -1.1686518168496778,
          -0.22202666104485352,
          0.9390959690188073,
          -0.6197683037095755,
          0.547108438925949,
          0.2518417185178872,
          -0.8474262586630438,
          2.091356166265591,
          0.7411659315498587,
          -0.6481501706239052,
          1.0302475068213526,
          -2.2107139352495815,
          0.12944163752006643,
          1.125531567202691,
          1.459352404870378,
          1.2055385281894948,
          -0.26474177323333,
          0.5953510331669107,
          -0.6264507903090668,
          1.6125981695596743,
          0.25161154130995367,
          -0.7584383416487359,
          -0.5435348091158282,
          1.3461096930790477,
          -1.3231056942896804,
          -1.3129892112640043,
          1.7450059593290088,
          -0.7843757751901638,
          0.0848341482851444,
          -0.5607678418238162,
          -0.5813004350119859,
          -0.46107091125361327,
          -0.29088107092854876,
          -0.19295683684888598,
          0.47059029584571194,
          2.560925097966195,
          0.28020690513056523,
          -0.1267756201887768,
          0.0784396866741035,
          0.01550691161032196,
          0.8462697418755089,
          1.0810111883826987,
          1.1203188689971295,
          -1.50451356032994,
          -2.235586274757447,
          -0.17044359225468514,
          1.1897069013247528,
          -1.2299306745424448,
          -0.5376098442734736,
          -0.15558861850822328,
          0.6178517645129191,
          0.2676617355592739,
          -0.9902594182962913,
          0.910533455859455,
          -1.2861725744799224,
          -1.0639470716552457,
          -0.06491484325378935,
          0.5655839996532412,
          -0.034897930381069774,
          0.2646945914972156,
          -0.3682118766916582,
          -0.7196364189947778,
          -2.5682186429872345,
          0.4309250902306199,
          1.5387928870923697,
          -0.7004187811369481,
          0.1915930928710255,
          0.21993107352075597,
          -0.39742453402203204,
          -0.6351102029714968,
          0.40348653837014176,
          1.0333709013430543,
          -0.029897371437216564,
          0.21769722270780964,
          -1.5548022827118637,
          -0.8213635005740966,
          -1.214220082409587,
          -1.1436274999627822,
          -1.1456286842504724,
          -0.2756135597844367,
          0.6871475211924424,
          -1.0440152235262952,
          0.16768130783628285,
          -0.1471338002364051,
          -0.9367706526835552,
          -0.6103542508341141,
          0.5545563983970719,
          0.21187169895346988,
          2.0240967135266876,
          1.258729555117878,
          -0.06487835649132771,
          0.8532535194709568,
          0.5456805829197905,
          -0.37266674469116423,
          0.45710186567383493,
          -0.09549881404997697,
          -1.2385559020857078,
          -0.00007073837827399682,
          -0.23426655009687247,
          1.9681784246341996,
          -0.15935135423574817,
          1.2536960655359337,
          -1.072528918609036,
          -0.18769559738368968,
          0.9504014007264144,
          0.3854418813848092,
          1.403698833762472,
          -0.7070938036431366,
          -1.4223947746176182,
          0.10518636274122367,
          -0.34522329030223403,
          0.8730096001815139,
          0.09346901039742876,
          1.40535582476621,
          -0.04801909655044167,
          0.45170129079189886,
          0.47163196965939347,
          -0.905666456407429,
          -0.7707189897199608,
          1.4228509030204293,
          -1.0341931046677058,
          0.9922969567355271,
          -0.8172477248058831,
          -0.08345342730202114,
          0.3141777183420391,
          -0.6799216351151578,
          0.062243738866808146,
          -0.3061456276293611,
          0.34290588234948755,
          0.034731757064322584,
          0.45117138665902695,
          -0.778744168349409,
          1.016285547262034,
          -0.18811318211138686,
          1.608112861349217,
          -0.16221298185381447,
          -0.1662864775023977,
          -0.09540917587697187,
          -0.5466852947285186,
          0.7433177171660382,
          0.48327535579449254,
          -0.952552654307028,
          0.8372736193972663,
          0.4801882701218049,
          -0.28618390701575624,
          -1.4518746018465614,
          1.0116688374918668,
          -0.9441288556751483,
          -1.284279826089373,
          0.41876455358208065,
          -0.1850183425758521,
          -1.562671667025122,
          -0.9613759628786699,
          -0.2100595487471371,
          0.16808389809057223,
          -0.07845758549289979,
          0.3569164277360669,
          -0.33654172834320345,
          0.7403888983595421,
          1.306459797553679,
          -1.0560112268602264,
          0.23068189632796754,
          0.25585411057441165,
          -0.524861955448272,
          0.2820565466950978,
          1.5305953347076415,
          0.40424126280726924,
          -3.154357068591146,
          1.4482930264507077,
          1.5389108566044585,
          1.631178886639144,
          1.3242359643567643,
          0.8470538971741901,
          1.7232482565369474,
          0.08243871563000855,
          -0.4001573768444806,
          -0.7098654764134309,
          1.2669918697750098,
          0.7683259951372702,
          -0.18139072417538132,
          0.5548471029895188,
          -0.7299900728984724,
          0.2504828406425724,
          0.9240399933095449,
          2.2475479957928206,
          -0.41770026207177385,
          0.46161778279821164,
          -1.8443301174304934,
          -1.7953396210447767,
          0.8034500707640228,
          -1.2629048371219016,
          -0.6134381380610804,
          1.125351816379459,
          0.5980226454295291,
          0.6961533531233657,
          -0.041286085760319426,
          -1.3154214383369995,
          0.2589047306583205,
          0.6516344895091244,
          0.7821037989330784,
          -0.7304441223248577,
          -0.10527563965604136,
          -0.5919200045544213,
          -1.6727572692071675,
          -0.5244444718029078,
          -0.8031293987927326,
          0.5968845764252668,
          0.4023133129792549,
          0.1657089703958411,
          -0.6621521597471478,
          0.02207547669823335,
          -0.12479315387661158,
          -0.7331662834091295,
          0.26586644704321066,
          -0.6332577912357287,
          0.8541151722501967,
          0.23788792891735464,
          0.811679435455112,
          -1.7701881209621824,
          -0.18792962505386743,
          0.526282404573213,
          0.13506989305228345,
          -1.1130631766371268,
          0.4368802799686104,
          -0.6281363207081151,
          1.2074008932826579,
          -0.7206803463547838,
          1.113978426367304,
          0.14170905689737634,
          -0.2708551385210385,
          0.3840945501002692,
          0.4109771701476264,
          0.7721103111836423,
          -0.17859150047681152,
          -1.6221458453509405,
          -0.6840124728462038,
          -0.12646356996010616,
          0.2673254938825211,
          -1.315473129455434,
          0.5408616389042978,
          -0.3494639469638397,
          2.5878490062861212,
          -0.9146390084827445,
          -0.3563651134943235,
          -2.2267749119787634,
          -0.54813415811523,
          -1.084702117790627,
          0.4795637217018668,
          0.604730706097397,
          2.1561944898893937,
          -0.7903121489000712,
          1.4052824517043276,
          1.3954317272718486,
          0.059298432873712566,
          -1.4604672855320802,
          0.8273083690356495,
          0.6521252546987666,
          -0.6154645520552072,
          -0.7243213643673884,
          -0.17842327102457714,
          -0.10392781412276669,
          0.80595316753876,
          0.3033329538074738,
          0.4151824602889799,
          0.7482322650555626,
          -1.594497903884118,
          -0.2298121270801986,
          -2.0384912754914177,
          -0.6846480786079169,
          2.321085144800485,
          -0.43794045338982474,
          0.9402760194556801,
          -2.2529341434462316,
          1.0081244744804836,
          -0.9124111805692408,
          0.6008663236107706,
          0.3261276254524071,
          0.625471053054177,
          -1.0722726481734808,
          -0.5237025315778813,
          -0.5740931858763547,
          -0.128698470772816,
          -0.3051600314785955,
          0.5386247241540884,
          1.5446122737783134,
          0.28189643379390894,
          1.0013131543181435,
          -1.4105566269506384,
          -0.5105465981672919,
          -0.2822698056683092,
          0.05110894909209935,
          1.931556225809845,
          0.5318502032083262,
          1.1085127811834563,
          0.7824786341749329,
          0.12273265145572017,
          2.821603135831282,
          0.19463143867108157,
          0.872836893919003,
          0.15298943453662087,
          1.5577836296463878,
          0.058866855347334185,
          1.002879943227888,
          0.8477007782985977,
          0.8717014387556205,
          0.539782668004496,
          0.05073827856951938,
          -0.556456885140591,
          0.16708408955105103,
          0.5202760907579097,
          -0.4991393079443059,
          1.821743085367407,
          -0.19222729210222908,
          0.8268920328076569,
          -0.25329968308358475,
          1.425635812199924,
          -0.6944080404772541,
          1.5513251916487423,
          -1.3185555101030457,
          1.1098250766126054,
          -1.6348754075707232,
          0.8055332515997381,
          0.39013424350315373,
          -0.7810012024508624,
          0.5385908393526645,
          -2.063201424547921,
          -0.9210524923922133,
          0.8825489164606328,
          -0.7198924576302382,
          0.45423339258162215,
          -2.4659360715195073,
          0.8009560175692945,
          1.7438573352240123,
          -0.0816226069732748,
          0.53716787837941,
          -0.1973158216615319,
          -2.6052431601794135,
          -0.6685893533076559,
          0.5325122358318767,
          -0.9796516662445987,
          -1.0230170662765647,
          -1.1547176224449873,
          0.3321723581897417,
          -0.6259762328239712,
          0.4524136129837821,
          0.9694895264912665,
          0.14290926395660386,
          -0.8796605488446533,
          -1.4565571872578724,
          -0.614672385411931,
          0.9275516790608399,
          -0.9312888835664704,
          -0.46052129232097744,
          0.46232804507264147,
          0.6913385947754181,
          -0.9633976422084274,
          2.0269892947480197,
          0.27653457155025163,
          0.19326811941426553,
          0.8365126135419237,
          -1.4371832617878941,
          -0.19285389595360175,
          1.3240723036238355,
          -0.48883349905357426,
          1.3489443782551356,
          0.10776669373763444,
          -1.1269992717918862,
          -0.12306922864092679,
          -0.3376921087154781,
          1.3600006929632185,
          -0.7894557469574408,
          -0.10928912373705005,
          0.0358974834157653,
          0.6384855885385321,
          -0.2622752570638192,
          0.27170841021863873,
          -1.6436861219176868,
          1.200053794158857,
          -1.8347458693395204,
          0.1562976490515847,
          0.8019175269842468,
          -1.2649262654800022,
          -0.48562186982662203,
          -2.9458493909557504,
          0.8112812354380898,
          1.4194190376333575,
          -0.012833278040928542,
          0.23024193995197353,
          0.08499094971757391,
          -1.5564265220532099,
          -2.2768255418413434,
          -0.5731919597692828,
          -0.5252571106895719,
          -0.1345579374076252,
          -0.46508384322561924,
          -0.6136187812028072,
          0.20046475159886068,
          0.2877504042436498,
          0.3987989703739918,
          -1.2839008152786189,
          -1.5992699242555668,
          0.6072005213778825,
          -1.8841424696869182,
          -2.07731282352974,
          1.0799375455259965,
          1.1358168178121617,
          -1.5413968551558375,
          0.35691273814128677,
          -0.6572421539875731,
          1.4935905068567916,
          1.118177143827223,
          0.1729886565636512,
          0.730591737589883,
          -0.5436379777345965,
          -0.2052853911513698,
          -0.3716657272878375,
          2.2863389232140148,
          -1.8164096986648313,
          -0.03148226279978694,
          0.5475396162647523,
          -0.6827601083593934,
          -1.133150568131604,
          1.0574985222590045,
          1.1146957079446027,
          -1.238604756379516,
          0.9096532932612239,
          -0.8723552231691084,
          0.8638554040350475,
          0.21098112268241329,
          -1.0874035941845874,
          -0.45061001547962265,
          -1.7006199830495454,
          0.29837756484866756,
          1.016193457464477,
          0.723644461670914,
          0.12190212868826303,
          0.31356925100825744,
          -0.77040230831871,
          -0.023281939705297017,
          -1.177331372669502,
          0.6910262396074223,
          1.0006098744677865,
          0.5064957545406543,
          0.7498466078559449,
          -3.0503856877821103,
          0.2022155873801899,
          1.653263286233609,
          1.1304073075013477,
          0.8425615540932511,
          -1.4670184247569582,
          1.9798392459257412,
          0.19356146753178913,
          0.7657825591818499,
          0.922601190943496,
          -1.8252531833234522,
          -0.3197977334850184,
          1.9531900351992488,
          -0.1293290313797534,
          2.249613956254618,
          1.3615878991507393,
          1.6774870265073325,
          0.9742963273385982,
          -0.8113367283525386,
          -2.0031059255969015,
          -0.7066494437198517,
          0.29414763442272457,
          2.1536581397061725,
          -0.9651763726365153,
          -0.4240330813146367,
          -1.4608131442287131,
          -1.089392624278722,
          0.755021196048736,
          -1.2288289210594914,
          -0.15035929942258555,
          -0.022743059598669433,
          -0.18689751599090737,
          1.2570362971924716,
          -0.5820778607263611,
          -0.10032947623011157,
          -0.4068280700345106,
          -1.4632044840179326,
          -1.0932753760022422,
          -0.02167520324671853,
          0.06560663080010545,
          -0.26147184736856127,
          -1.261825802703828,
          -0.32339937071014485,
          -1.0343830792131288,
          -0.5190234103742509,
          -0.26583467289911283,
          1.4370076598124149,
          -1.0814105980179491,
          0.6400591865348995,
          0.41202006949044134,
          0.23448940488553455,
          0.599316062062081,
          -0.4064341989055937,
          -1.230077699751129,
          -0.4143654151230166,
          -0.07436799663705178,
          -0.739944358093752,
          -0.09013077105140813,
          -0.05851259439362268,
          -1.3607250137628053,
          -0.09674839041539765,
          -0.2839854376448763,
          -0.8761348095752459,
          -0.7990936855355125,
          1.3869926575749139,
          -1.5902662010131379,
          -1.7083759666155331,
          0.019227427480164767,
          1.0810676663538716,
          0.8494887197025734,
          0.286229901898697,
          -0.3380582886045664,
          -0.0945040413632986,
          0.5414249723794832,
          -0.6038711731615644,
          -0.6139482362925318,
          -0.8115339717103718,
          0.9882014443578829,
          0.03279363181407226,
          2.7722755788294084,
          2.0512000720430237,
          -0.029241703117917635,
          -1.3494476988435307,
          0.47598472891504817,
          1.3076669118591493,
          -0.2440708597877591,
          0.6092158323063679,
          -0.5962818770240702,
          -1.7211801314817217,
          0.4959981292888938,
          -0.8380468122188228,
          0.48196099445060864,
          0.5448617735196966,
          -0.6840689157818727,
          0.46182157878655894,
          0.10696515150983134,
          0.07175788392564227,
          -0.26374900031974136,
          0.31512536861150303,
          0.23018831586941693,
          -1.3169265931659817,
          0.869986095082117,
          -0.26832683763944826,
          -1.8389476923162054,
          -1.2847696660203316,
          -0.3469981636234735,
          2.4638729384383073,
          -0.1015853337148602,
          -0.5847273179779071,
          -0.07295032636658573,
          0.5125304691571014,
          -0.7036835322588985,
          -0.08098266617800307,
          0.9442095889199271,
          -0.8249161898080495,
          -1.8195324342458712,
          2.072563347726779,
          -0.39743256789499487,
          1.5039355551893128,
          -2.455677766859739,
          1.444523062105402,
          0.8709781671088549,
          0.3942512508461634,
          -0.5012499074957776,
          -1.2017865514897856,
          1.4418195599409196,
          -1.4538985443070074,
          1.1094265502786769,
          0.15139880709880563,
          0.2136276519095405,
          0.814484011212486,
          -0.03743420801296303,
          -0.3547118974168017,
          -0.6673140805965198,
          -0.6683304924424524,
          -0.9118348806015607,
          -0.7585756253789536,
          -0.6218496097868919,
          -0.07007221144966468,
          0.6000614730772905,
          0.47803936510717193,
          -0.13669229355131443,
          -0.07176026630200273,
          0.7584280006100244,
          0.40592693848403655,
          -0.8454160248225308,
          -0.4804503174064309,
          -0.4016747021740241,
          -1.9720585768719796,
          0.5367609852405514,
          -1.598922509378317,
          -1.2587194993636808,
          -1.044068675684049,
          0.4556938909205061,
          1.5109441335993754,
          -1.1585569273290257,
          0.6616220612649572,
          0.9820071937456648,
          -0.47178497899903304,
          -0.45535051844509644,
          -0.5398609272776735,
          -0.23875579254886753,
          1.1060004028281099,
          2.375520027707331,
          0.09327355105701851,
          -0.7599585610239747,
          0.5385479439312291,
          1.0909358258959174,
          -0.28120518946720063,
          0.2203606873273067,
          -0.5294712733663759,
          -1.7319565582177165,
          0.50707589250172,
          0.7331089748898505,
          -0.5373963375881657,
          -0.0509531865547584,
          0.7071178243137727,
          0.3818456178641335,
          -1.1216188081667324,
          0.27897972976386265,
          0.15524485413075984,
          -0.8942057524706357,
          -0.10245823619772443,
          0.1804669756233394,
          1.306962415301229,
          0.20405471238564618,
          0.25683624627602764,
          0.04398624507840751,
          -0.08693422122709207,
          -1.9875486220155558,
          0.7736513317545738,
          -0.4503930152634806,
          -0.33799970125212697,
          -1.1177027161796762,
          -0.013084352966031767,
          0.48329341254646535,
          -0.8884346430460062,
          0.6879584716013948,
          -0.8027566097301261,
          1.6832240321268106,
          -1.2079448182003256,
          -1.5581755398902366,
          0.18704690906269922,
          -0.7271112444304145,
          0.10041081250980444,
          0.8518887560202902,
          0.17936408588851385,
          0.46023355154704576,
          0.735418543719868,
          -0.3957282768529123,
          0.8635191356468283,
          0.5332311501813191,
          0.7157214543559096,
          -1.2069203499780878,
          -0.1755936353757603,
          -0.6598948121423126,
          0.5729143288144413,
          -0.27030475162586043,
          1.3965053199203012,
          -0.1042409653392234,
          -1.663624839013531,
          -0.8852045023882749,
          0.7326831444291715,
          -0.9127791474617791,
          -0.43622013191746534,
          -1.2147103434628468,
          0.9028312960880472,
          -0.9133048895701652,
          0.31547916801611586,
          0.030412572472163404,
          -0.5666529184535072,
          0.5464286008174563,
          0.6639151389427055,
          0.34049394416847034,
          -0.26825579044076076,
          -0.3798685325474806,
          -0.49955972697291534,
          -1.2066712986756574,
          0.2818659943752333,
          -1.7335457236060545,
          -0.8427578277978756,
          0.2160399903659348,
          -1.0195301409953421,
          1.6305454091463485,
          2.078526778274953,
          1.6199742971706361,
          -0.013951377796463873,
          1.1973459453721729,
          -1.6577058709861636,
          1.0423433120518806,
          -1.7855429070252953,
          -0.8189628351902394,
          -0.8385789548219982,
          0.20836006405984742,
          3.059529256877676,
          -0.7268778297350337,
          -0.6829041510225342,
          -0.17309520244299026,
          -0.059006207181808955,
          0.2543666610078248,
          2.571152732591618,
          1.0213740678516998,
          -1.3618277823899394,
          -0.81265555297589,
          -0.36985434458543404,
          0.572600089172147,
          0.4643233508272208,
          -1.8201153450619274,
          -0.24709058004777718,
          -2.8173344828513716,
          -0.5702989679619274,
          1.370076151569797,
          -0.8367666497608132,
          -0.9766878256758503,
          -0.7205496882848724,
          -0.17364931937491881,
          -0.7336519593105434,
          -0.25849805690745975,
          0.13846462699543094,
          0.365828939645587,
          -1.051605180477586,
          1.0594675328257697,
          1.2992771365702582,
          0.24722327089759905,
          -0.8010207126761318,
          -0.38780924417566365,
          -1.0805216109251228,
          0.16713387729593418,
          -0.01301400826043545,
          1.4334787815005205,
          -0.38054734708133764,
          0.024215207754781743,
          0.9822276548363292,
          1.3184619960159731,
          -1.0460440135526976,
          0.8067779522091293,
          -1.7991275208426967,
          0.05673286268460722,
          0.18915701208523092,
          -0.1869312001350724,
          -1.1262388810130757,
          1.8013797680126677,
          -0.894694228933665,
          -1.7837921720425642,
          -2.412559719899332,
          -0.2922029910228205,
          0.04588429905435156,
          -0.2391831012619268,
          -0.5941432376074575,
          0.6204743159384131,
          0.14414998903028134,
          -1.7200500912892445,
          1.0555422923376983,
          0.9042100632807127,
          -0.9093543223364768,
          -1.6660033515113342,
          -0.18029181546780823,
          -0.7507849394295585,
          2.8694523735026247,
          0.8934030194959209,
          -0.8512694252116445,
          0.04454643590254749,
          -0.5845038839669104,
          1.2062895359209524,
          1.7435735643589942,
          1.1128789587504695,
          -1.8374071027678527,
          -0.05249155831757627,
          0.4016951804245367,
          -0.7248937167133189,
          0.5149430628634947,
          0.11256960434561458,
          0.3791664291650355,
          -1.5604439883586276,
          3.168905410549872,
          2.5610871121179275,
          -0.8763285314946714,
          -0.02865923082739851,
          0.22048566333216643,
          -1.1649104022936552,
          -0.807954230002002,
          -0.4314751583179851,
          0.3477730163239042,
          -1.0988226516585067,
          0.8561126062675181,
          -0.06397704120409464,
          -0.5355426490232348,
          -0.4788435994164337,
          -0.04164283360225478,
          0.07058700562787473,
          -0.013036490443015438,
          -0.18676045363982557,
          1.1721597567799054,
          -0.20988641638213812,
          -0.8693194157970093,
          0.4961121656406854,
          0.7351925403290582,
          1.022713486426576,
          -0.2300138156939486,
          1.735626873432204,
          0.3519280430471853,
          1.6956041348130704,
          0.07003410030750998,
          -0.009966527719469747,
          -0.1038517061063882,
          0.5109009027089161,
          -0.6636360081829914,
          0.8683616578132559,
          -0.9729723964160859,
          -1.6715864317312497,
          0.32110614100962204,
          0.6294061243791302,
          -0.1671617164398859,
          -0.47739592221416616,
          -0.23171336203480156,
          0.712210392083407,
          -0.6692730075136742,
          0.7904179616356254,
          2.6746304918555808,
          -0.8498317805013011,
          0.009868297825640235,
          -0.21671167054259488,
          -0.5551128795965893,
          -0.13452947572249777,
          0.39297877646256013,
          -0.9316255540991888,
          -0.5755525622137406,
          0.21219247175957992,
          -0.7419074553925351,
          0.8458129922414581,
          0.5484825380097272,
          0.870966275553392,
          -0.2007344309270858,
          -1.2937242985507564,
          -0.9100024513161443,
          -0.14389686537813987,
          -0.3831601743560493,
          -0.1299984787815416,
          -1.8432769360445351,
          0.3929024066462394,
          -0.352811488684073,
          -1.7899094655104573,
          0.8211909992403211,
          0.17946605489281578,
          -0.19253981665031175,
          -0.03119467286618388,
          -1.489033511704724,
          -0.510736336644868,
          -0.19763867688081865,
          -1.0161467104960973,
          -1.3000419552143563,
          -0.4297714269869025,
          1.5190771971906072,
          -0.18395557062443593,
          -0.15365648654163158,
          -0.4615355506364882,
          -1.1414647367931283,
          -1.1712667596372912,
          1.0778004399432253,
          -1.4076198003886295,
          -0.41151077599980423,
          0.6467832524076063,
          0.2561150802635081,
          1.2176905364071824,
          0.23395668931871694,
          -0.7897644917699331,
          -1.031708876542887,
          0.3064680237652166,
          1.270505669923926,
          -1.2581892737693259,
          0.6333651531037954,
          0.8683272611221614,
          -0.131407856113658,
          -0.8549553706158657,
          -0.392575833783576,
          0.45425404437691524,
          -0.6309221849729754,
          0.06451258796892606,
          -1.0715997012915708,
          -0.41455774996077865,
          -1.2264973370054058,
          -0.09038300492413269,
          -0.00034220578665407873,
          0.29939170951719446,
          2.6462070395861277,
          -0.34041769096144014,
          0.08739119308540849,
          -0.6220495185969354,
          -1.787913388309453,
          -0.21683061064824644,
          0.5925124054558051,
          -0.16834747293927896,
          0.027114474218083065,
          -0.9632598843418559,
          -0.8873456959216427,
          -1.6759152644099695,
          0.8384691628436113,
          1.66529782702182,
          1.328828833366597,
          2.1227785716247296,
          -0.7089432528514067,
          -0.36748556439752394,
          -0.5699408313087562,
          -0.8590312424061021,
          0.23392991212664135,
          1.1842811686115786,
          -0.31400815170353086,
          1.3545905456414682,
          -1.1940360757225994,
          -0.16675721596958093,
          0.8842816208268391,
          -0.684937398915163,
          -0.495844076009968,
          0.24998996150765465,
          1.1840851705945523,
          0.22641701876393738,
          1.1992201508114104,
          -0.15276344196410604,
          3.6887373935194994,
          -0.8890371916793798,
          -1.0738038902124336,
          0.6403107178461779,
          -0.9840244511055523,
          2.3881293199420477,
          0.4159686998883203,
          0.3492998811826893,
          0.639033047861425,
          1.174884046306808,
          0.9652757101827919,
          0.2990787197572832,
          0.286441462252638,
          1.5046304625949087,
          0.6878266969801446,
          0.33485196111172105,
          1.2325745507892758,
          -0.07542297529414083,
          -1.1478777269945943,
          -0.47664135844941663,
          -0.23023242838098154,
          0.47305793225194664,
          0.7402678868507223,
          -0.13026845120749397,
          -0.23358945779951523,
          1.1368300657084407,
          0.13921591650355408,
          0.5919243754489049,
          -0.1341837190878426,
          0.1540935388409739,
          -0.03558839170679366,
          -0.3928377908071697,
          -0.3691515672432969,
          0.44648845258357284,
          1.8495496833004432,
          -0.3581941851186999,
          1.9283350954953942,
          -1.983991852456319,
          0.01609665530326811,
          -0.4241121728305064,
          1.6931558289328155,
          0.4060786088847482,
          0.0033180083482963452,
          -0.3317619736938448,
          -1.434597327339793,
          0.2736474118505401,
          -0.14493762806080174,
          0.40505051621804417,
          0.8441861470743051,
          1.186127345539573,
          0.020488569203994472,
          -1.3115568909930717,
          0.10062435891686916,
          1.3621579295760655,
          1.2522442114555883,
          -0.839119798407584,
          -1.0002345521381868,
          -0.9227494506174012,
          1.5385811615702611,
          0.7956483962072446,
          0.3589629754274481,
          -0.2580719917731796,
          0.44845521935518257,
          -0.6787587777862264,
          -1.64314885758535,
          -0.2334000669857715,
          -0.9178100620187358,
          0.2971386817859337,
          -0.3444504421513789,
          -0.8323613341614851,
          0.3884275298315602,
          0.07176350538856704,
          3.0380370638089116,
          -0.8002167087306402,
          1.3456695744712794,
          0.1830198065064084,
          0.04612569728026531,
          0.8351452352384572,
          1.4148492597582598,
          0.8920131495120401,
          2.0984039182121297,
          0.42320207537185306,
          0.9965928221663876,
          0.2833084504081283,
          -0.23171736587333533,
          -0.480593559454185,
          -0.006171987997083289,
          0.12190523780435827,
          0.7145664784199557,
          0.49202395648987335,
          -1.4674984878065809,
          0.26868152230380965,
          0.24758642485543728,
          -0.49357241226545595,
          -0.48298752062635325,
          -1.563337383041142,
          1.2547269637108271,
          -0.9092376481168805,
          0.10848948790325007,
          -0.6767865424782978,
          0.2139835476657049,
          -1.1762242755256045,
          -0.16424440104302174,
          -0.22580445214863504,
          -0.8733866207850081,
          0.8051494822386572,
          -1.1713048484944557,
          -0.7156282503984959,
          -0.7081470183209101,
          -0.40883320540354723,
          0.20709432641582087,
          0.09060526906681717,
          0.32822873898157934,
          2.3034927683604467,
          0.6069140877633387,
          -0.6000495377904576,
          -0.7663485587720336,
          -0.3567549594234042,
          -2.189216238844903,
          -0.48747850413666605,
          -0.9465258393310377,
          -0.773866952183446,
          -0.5701522181319658,
          -0.48052660860363183,
          0.6706280431486816,
          0.11261062345230495,
          0.05462885091856356,
          0.18882876100668503,
          -0.20672284864834123,
          -0.17706607502955132,
          0.41246881358550025,
          -0.26305436428948065,
          -1.3319984585959666,
          0.982759930135674,
          -0.36768345776633765,
          0.18267237550316723,
          -1.2539305638155107,
          1.1320564414988474,
          -0.31306353864386427,
          0.32579078728850497,
          1.0601531926757475,
          -1.0466299364661,
          -1.220957156595764,
          0.16857061548913563,
          -0.3422590625767865,
          0.24374919405573606,
          -0.35529978470020135,
          -0.9817100793272359,
          2.86488641485756,
          -1.075127795644537,
          0.8294648098799106,
          1.4019946808442876,
          0.36876216713695253,
          -2.1553417780860773,
          1.4861605395468314,
          -0.12703273114223218,
          0.06345881722382209,
          -0.6624740910391127,
          0.5823417237283266,
          -0.9972409688503552,
          -0.1480138963582191,
          -0.9743755968642959,
          0.4962020819480161,
          0.5699895587504877,
          0.7414018613664825,
          1.8428313267534713,
          0.22416105091018657,
          -0.9248110216053499,
          1.297171423840495,
          -1.6324266117894537,
          0.509515466140044,
          0.02123355618346642,
          1.4457102855691328,
          -0.10906532460279876,
          3.327741108490779,
          0.6946681569173884,
          1.160258757497778,
          0.5735609841790033,
          0.45306670508561186,
          -2.540927481507086,
          -0.21498784219069092,
          1.2227145482137491,
          -1.824628598761786,
          1.2778227247964133,
          -1.8671632377681435,
          0.4570357268256399,
          -0.43269814148423225,
          -0.2542731505151473,
          -0.24118144421188742,
          -0.0602763638155324,
          1.1855475080323914,
          0.512520254535442,
          0.7309700695758402,
          -0.28742497405258166,
          1.4242337831871044,
          -0.594614299299705,
          1.3891161349861463,
          0.2743616078685015,
          0.12130400867285038,
          0.7482155921598488,
          -0.39425055729303893,
          0.4043117362369278,
          0.35058697217829593,
          0.43467050651635186,
          -0.3844891740663784,
          0.5659585100640907,
          -0.9181701080054581,
          0.397905734498345,
          0.3475705976901406,
          -0.4738447873763602,
          -0.4719050149357295,
          -0.4072199352371084,
          0.35523096468736964,
          0.33165366924775985,
          0.061150610134970154,
          -2.120872533888476,
          -0.9819165430860141,
          -1.7999666965607326,
          0.15524223405040122,
          -1.0382769575129132,
          -1.35848559864398,
          1.8551163416133696,
          -0.6175036812784992,
          1.4607866557812044,
          -1.2026709990013928,
          2.5068651682039937,
          1.1009553054418832,
          -0.2587184109662967,
          2.0859479844040756,
          0.6326253944329083,
          0.3025546205256823,
          -0.9596296999448752,
          -0.5247690404099105,
          0.1470383001869958,
          0.630912572920359,
          0.12289298368102343,
          0.31096873405439457,
          1.061350103331998,
          0.5487308290912497,
          0.14070453096558466,
          1.2772399136136132,
          -0.5861701802822455,
          -1.1773562978083514,
          1.6558297024616704,
          -0.9350423373945589,
          1.1247406894215266,
          0.3696758825165826,
          0.662536677995155,
          0.08750771129109032,
          -0.9000033702298855,
          0.7010496742659766,
          0.3736966585936295,
          -0.7508226864138632,
          -0.03961933695102225,
          0.20128326924844217,
          -1.2318908504565171,
          -0.9003063867230537,
          -1.9500954670945911,
          -1.2213538238161599,
          1.5745461225687376,
          -0.933990389217023,
          -0.09456500257692249,
          0.3820749543692472,
          0.7911820484404825,
          -0.662662942133477,
          -0.25189947898889675,
          -0.4627540158017811,
          -0.03382765324892856,
          1.1150649221465152,
          0.8842698299991453,
          0.3107424799674938,
          -1.163492408310759,
          0.04063028544428166,
          1.356393113194688,
          -0.6986736870116085,
          0.4997963181430415,
          1.0140012136278953,
          -1.7614852191175945,
          -0.8957361836160435,
          -0.3702139853960291,
          -0.7478762064478752,
          -1.0227376552433443,
          -0.30748786306391723,
          -0.2786619354771531,
          1.771045503515903,
          -1.7772325474109274,
          -0.5479826685995065,
          -0.9628529708614975,
          0.6747815372206682,
          0.06423505897120747,
          -1.1386680849945496,
          0.41792737143019204,
          0.05092825063179121,
          0.1638257503004413,
          0.10340940643328683,
          -0.35234132906100435,
          1.1127707816116008,
          -1.1369975305363758,
          0.8965098165947579,
          -0.4695326051837598,
          0.4287559470163444,
          -0.10267375249415597,
          1.17828964738999,
          0.45376865575573033,
          -1.0583566814523795,
          -0.701907112799564,
          0.06051063019655643,
          -0.022314616143315473,
          0.5777291275976035,
          -1.0572394486042407,
          0.21930895612830337,
          -1.4842765192542644,
          -0.4966688868252697,
          -1.6407280304794494,
          0.5879598805736247,
          1.3402395284000486,
          1.634749669161623,
          -1.1787671763844978,
          0.5851894582221473,
          0.19652321942296386,
          0.5968287844369796,
          0.7727442758762022,
          -0.931513143419131,
          -0.4073417273339023,
          0.6791162298853487,
          -0.5314547661219432,
          1.325776316735299,
          -0.9390637100922011,
          0.7445704749379632,
          1.1742182538449926,
          1.3990339254672053,
          0.4857427468838448,
          -1.4182634105737197,
          0.8652847974631257,
          0.17966353833852464,
          1.4607007671458265,
          0.7229346410656136,
          -0.0713926887678246,
          1.8044142324499663,
          -0.42612323123460527,
          0.11865637478278607,
          0.4887354524578578,
          0.493818998211147,
          1.4689764072619131,
          -0.1845488468781701,
          2.0974901295379684,
          0.03528354536171117,
          0.015228126055840738,
          -1.4079784571391136,
          0.5788415525700218,
          -0.2052995555072335,
          -0.29077575311329595,
          0.10256623503804042,
          -0.3892678101016167,
          -0.6938692217447633,
          -1.005518523734507,
          1.516337956679529,
          0.8838419998862813,
          -0.40405928114210876,
          0.02902777475637207,
          -0.24783934437113259,
          1.3283931160014926,
          1.1449657073847452,
          1.381900713881029,
          0.7438864943661148,
          1.5646228826598023,
          0.5840931512234218,
          0.15288513500168452,
          -1.388318234325882,
          -0.4150757809751325,
          -0.6144155242895363,
          2.8226664277235427,
          0.3771280862732544,
          1.0223854398664913,
          -0.037253275595950534,
          1.2411481533903215,
          -0.15933960589618304,
          1.9932422654356692,
          0.5072919559948204,
          -1.0442569752803894,
          0.18572772200172605,
          0.3124483896138504,
          0.8986240617077534,
          0.857994187284961,
          -0.12052572795073756,
          -2.0315350913705568,
          -0.6963439709427913,
          -0.4802823640273219,
          1.0933380543396045,
          -0.18889711633634476,
          0.608069858100707,
          -0.9746139568366856,
          0.10663785034413581,
          0.34439041166142526,
          0.15187709232072552,
          -1.0855175978916949,
          -0.06303185698517783,
          0.030264823407684726,
          -0.8678825578188397,
          0.35052794824334793,
          -0.5394122137444473,
          2.7588231436254365,
          -0.6249368965559567,
          -0.3352208179319881,
          -1.0048355202186081,
          0.4335567725877538,
          -1.0518124591099014,
          -1.146895466253946,
          -0.5836141319961934,
          -1.069300923205518,
          -0.9836660533202554,
          -0.5374589630252701,
          -0.9467529951370818,
          -0.707870425473096,
          0.5661717215218908,
          -1.3705110302322743,
          -1.1241463002449836,
          -0.19196716039213688,
          -0.8215747540177017,
          0.43509958983426167,
          1.1829792787351554,
          1.6355421972166766,
          -0.6281343546487402,
          0.6886179288434824,
          0.380671963987464,
          -0.23694983874762077,
          -1.280668615087757,
          1.0984782547083853,
          -0.5736804830772873,
          1.637299809335123,
          -0.7078356769822707,
          0.41017023488832205,
          0.765041144724304,
          1.1563039440616885,
          -1.8955414695595032,
          -1.705975905431842,
          -0.29432042213038423,
          -1.3652496102820797,
          -1.476075470570611,
          0.9767335440216729,
          -1.6690112844691702,
          -0.26317110183487524,
          -1.7670254177652325,
          -0.09401255137193969,
          -0.24391147660339507,
          -1.8448243630005676,
          -0.330571983467626,
          -0.5642557638507777,
          -0.2516639785340478,
          -0.4314772009027866,
          -0.5131065895339116,
          -0.7132736970948668,
          0.9186312811974157,
          -1.0062299096374745,
          0.848077157609932,
          -0.7350513471775939,
          -0.25068368731301266,
          -0.13266455257949114,
          0.04529947684326955,
          -2.3258748291653553,
          0.41790311480028863,
          -1.1079028053494506,
          0.4961618771380699,
          -1.2416826494591084,
          -1.3341098621485594,
          -1.5318662124572475,
          -0.8024522624858625,
          1.3778601167843052,
          1.0163871978515535,
          0.4955750001261835,
          -0.7137339426132809,
          -1.0776358582058077,
          -2.026957886344162,
          -0.45859034819315625,
          -0.6386114247158162,
          -1.2864507157536298,
          -0.134886540635208,
          -0.37400228178660444,
          0.7660959652454568,
          1.8799391386290651,
          -2.7688171767863476,
          0.2931046313519334,
          -0.9827482542532989,
          -0.034890012830476824,
          -0.028457984759090733,
          -1.9825069818781669,
          0.28054590923869593,
          1.6111260035273218,
          -0.2605633050406783,
          -2.2824255720010362,
          -0.025742569158741103,
          -0.7776632293800982,
          -0.27657436086783943,
          -0.9932619602631131,
          0.309246193132126,
          -1.7181969491116584,
          2.3441849965535555,
          0.6701746618568414,
          0.4203046448011816,
          -1.652811612665286,
          0.03912308265534513,
          0.5994425162066374,
          0.7411181196375192,
          -1.1405165433345839,
          -0.30307556846394895,
          0.8156254464699496,
          1.0777252147299266,
          1.0807286441240498,
          0.8034914338491992,
          -0.3140230324435866,
          0.8611790133477241,
          0.28023494141094757,
          -1.0997741320113803,
          -0.43172974026751854,
          -0.9522685573351101,
          -0.3135194359647724,
          -0.7506116508509768,
          0.8811259498441778,
          -0.4323919966627583,
          0.3182577349732966,
          1.5370723431136122,
          -0.9858399654978931,
          -0.23713716602017404,
          0.12521335474884715,
          -1.5714696986843024,
          -1.6759091262817558,
          1.5589493592561896,
          0.4919952776108029,
          -1.6826928956885685,
          1.2759487342976188,
          -1.2113479323238114,
          -0.2038934783563044,
          -2.500148643660875,
          0.49666324307249476,
          2.426062165161297,
          -0.7366770767232053,
          -0.5186363506678484,
          0.342111360190573,
          -0.597656675153124,
          -1.5472833414555263,
          -0.6031876204805329,
          0.650564080594756,
          0.5169561576236071,
          -1.4928357749558976,
          1.5244778754157873,
          0.8477709816998487,
          1.1889823027439326,
          0.1565167736616475,
          1.222056121490328,
          0.8874568281275738,
          -0.7179832994579858,
          -0.7014097787507011,
          0.07658672614004154,
          0.1173787549383402,
          -1.0627343763396513,
          -0.9732404940451748,
          -1.699843798755172,
          -0.6859254662902055,
          1.2912040410196388,
          -0.06183696077030017,
          0.5429903124712153,
          0.016990676236831998,
          -0.041054197006907274,
          2.2783586348412457,
          0.908213882068683,
          0.910424872832165,
          -0.35759062759419163,
          0.08282435206743317,
          0.3357053896651317,
          -1.3233921218765106,
          -0.0019179481723602858,
          0.107343048379355,
          1.3403374968599786,
          -0.10883575170024427,
          -1.8312826180575195,
          -0.2733245637259088,
          -0.6269746427690841,
          0.12804562648352416,
          -0.5981336229180175,
          -1.4728343757131825,
          1.0682453390268365,
          0.18862194321480144,
          -1.9350460172388513,
          0.345147730461115,
          -0.8697123306497141,
          0.9572112982512113,
          -1.1665958079167988,
          -0.056415470350273826,
          -1.8202399413621624,
          1.7253198179384406,
          1.4330583085055772,
          -2.6301173662411133,
          -0.24087707786015694,
          -0.12223740572739586,
          -0.3376509595459681,
          1.599584260602071,
          2.2035685884026406,
          1.116918248205261,
          0.5627433077788238,
          -0.5383235051230121,
          -0.8797633837200904,
          -0.12629946508477077,
          -0.4529080135793394,
          0.2269427156811928,
          1.3945951462360795,
          1.0587950868521618,
          -0.4695908174905637,
          1.0420624409334998,
          0.37246402706255105,
          2.553165193532276,
          0.6556901928909482,
          -0.704113381080959,
          -0.5168424073362026,
          -1.2938451763870473,
          0.16873773844169948,
          -0.45921304280720615,
          0.7409177849721572,
          0.03454234683509352,
          0.07940208980356825,
          0.0633905827140722,
          1.0862963393713259,
          -0.81487678743655,
          0.3259803626964619,
          -0.10826254944154362,
          1.1540212106289258,
          0.3099509652654391,
          -1.088929185830595,
          -1.4333290642681467,
          1.5345274642835518,
          1.182103166831644,
          0.2763103985005604,
          -0.2830416851549778,
          -0.8141488345897009,
          0.9329234567039189,
          -0.30179007646691036,
          -0.5422039726288539,
          1.9910471643662726,
          -0.7218170042968434,
          0.9331145754555166,
          0.4452799365408663,
          -1.5277616817230504,
          0.8074864140730448,
          -0.9357182781970298,
          -0.7636770698580783,
          1.3691656578588527,
          -0.1464454945651848,
          1.243569876378321,
          0.28812868017399146,
          0.4421289272239523,
          0.5989363806764438,
          0.15226982117173807,
          0.8016412646226272,
          -0.31216597485337094,
          -1.6806780730295656,
          -0.8858869255657089,
          -1.3269606787662995,
          0.2958531611393758,
          -0.805937775808087,
          1.31761167105675,
          0.5217641351409168,
          0.4036380024360075,
          0.6742958968209484,
          -1.2112332902742533,
          1.4466091919301167,
          -0.2827499269104254,
          0.3039434523936506,
          1.903075557767528,
          -0.23564415046418383,
          0.543169864981611,
          0.37450499850825103,
          0.5678005419138248,
          -0.7268915477803395,
          -0.3992167529755858,
          -0.02753728754217794,
          0.48011648134731977,
          2.2746136178040914,
          -0.41643673103669865,
          -0.6044330216700778,
          0.17436877645166193,
          -0.14811275804267432,
          0.33030395244203303,
          0.5668528632883026,
          -1.2059395492672664,
          0.8693189008636705,
          -0.5747904918548274,
          -0.6518644819966881,
          -0.11950374299409577,
          0.007726863185928805,
          1.5821683574849832,
          -0.11038300090086177,
          -0.08698673610863884,
          0.3152620335077049,
          0.9260940271818136,
          -0.9936591538276505,
          -0.96354967974247,
          -1.877913110063253,
          0.7044616744092238,
          -2.1256876841307375,
          -0.249221731529768,
          -1.0737599130775006,
          -0.7773666592507156,
          0.6356619351291469,
          0.8522399809086102,
          -0.7492536003679823,
          0.5326088941619198,
          -0.12629994171739653,
          0.7078152459377396,
          0.9100070581950741,
          -2.006093948676285,
          -0.5770743930559548,
          1.6792867323462437,
          0.833572354465225,
          0.44103939620646526,
          -0.1982728207165069,
          -0.009341716924451647,
          -0.10610679564355209,
          1.0218888821496037,
          1.3712518858029954,
          0.2110626526297368,
          -0.224156123192688,
          0.7418850728728207,
          -0.6190954942461586,
          -1.74399104443452,
          0.20029317432030866,
          0.5403778669736712,
          -0.19854784211876625,
          -0.10629213049318662,
          -1.1867767073184645,
          -0.6643521106369191,
          1.6816099388699117,
          0.8873195066523784,
          1.164759866317055,
          -0.03168045006916969,
          -1.715024239625244,
          0.05899492908305957,
          -0.331756687494418,
          -0.45449233772774966,
          -0.8039626006754683,
          0.2251897626684582,
          -0.35525247147658534,
          -0.8033194511028616,
          -0.21882392877899082,
          2.1565164432256245,
          -0.08783939875296819,
          -0.6387268589913664,
          -1.232428648635234,
          -0.267124482072521,
          0.07818152286898805,
          -0.14730538746021488,
          0.6031359633882112,
          -0.4799687532635007,
          0.06631668849900531,
          0.2272380863508527,
          -0.6248423766008346,
          -1.6703324307146779,
          0.7174033619022083,
          0.11065699243775282,
          0.27203552616477644,
          0.7547495994939059,
          -0.008156944729172153,
          -2.255699481033771,
          1.5563996300445775,
          -1.235497131277716,
          1.0738647251764633,
          -1.3886124817793,
          1.3722386763976264,
          -0.022179341039170547,
          0.08728519215520177,
          -1.4030659557460579,
          2.231612181290358,
          2.1096352657459145,
          -0.5341038803413091,
          -1.357110808482297,
          -0.7467187406117245,
          0.12486177218392426,
          -0.4071853184977605,
          -0.38733809205169106,
          0.7319547723898564,
          -1.1874353461892362,
          -0.34006662098790114,
          0.5534835477453437,
          -0.9652654492438685,
          -2.6132354685483823,
          1.1535816495122477,
          0.8359726281978739,
          -1.061363694680642,
          -0.24855613015767242,
          -1.2120618338472824,
          -0.24369712968814947,
          0.5190273599426144,
          1.3103955276241785,
          0.5573463129658162,
          -0.022731995273833454,
          -1.1867083472296385,
          -0.5531150284341434,
          -0.9725545532241138,
          -0.5558908484405681,
          -0.5340223681395072,
          -0.2116325739863214,
          -1.843947026275158,
          -0.7640908277299482,
          -1.0030335029728816,
          0.43692076088459103,
          0.8184398104791751,
          -1.9720303828006651,
          0.5092975440798937,
          -0.2631073368147977,
          1.9519954984406835,
          -0.6613769742776107,
          -0.718632263018901,
          -1.3154598058261533,
          -0.3724508382587223,
          0.23640712056102492,
          -0.018015917943547323,
          0.3179317069580676,
          0.46995802644917545,
          -0.43529085949162133,
          -0.9622802680921975,
          0.585982442129009,
          -0.6147439961196368,
          -0.5919964681038522,
          1.473535498340923,
          0.9821642388396149,
          0.6569047686675148,
          0.7163365973381438,
          -1.1255324691377335,
          -0.44140817611965216,
          0.4399814024977308,
          -0.03801939107284527,
          -1.4036419580772324,
          -0.08223730411286173,
          -0.10359532432976781,
          1.5686093438103765,
          -1.0847240553049016,
          1.327397418086381,
          0.2528436654014821,
          -1.9462896298090895,
          -0.1341121101082966,
          0.4449148412388455,
          -0.751010998443543,
          0.12883321957104996,
          0.5102510049081809,
          1.2731140506719727,
          0.7041659358407372,
          0.30267916879528145,
          -0.5302281476746237,
          1.0825691580482861,
          0.733963509999785,
          2.3470685631163883,
          -0.16219108337573426,
          0.48794420018358714,
          -0.46525927788194826,
          -0.24966268765186522,
          0.04908847741374624,
          -0.4858763563780635,
          0.590383660624957,
          -0.6154717111841947,
          0.2322571302722773,
          1.9567553767082002,
          0.766507658220508,
          0.17697002321969554,
          -0.3447164902219587,
          1.6218957967084946,
          0.9213218886800474,
          0.2959379297882168,
          1.668564722742503,
          -0.9383406620078208,
          -0.15204059457259114,
          2.024696210867751,
          -0.5030504869506749,
          1.37567869970238,
          0.46337720108212443,
          0.6283609679585547,
          0.022446694897859217,
          -0.8528479894348475,
          1.6777158066182865,
          1.4364823965774038,
          0.5510140429043056,
          -1.0398470660851888,
          -0.4082273101307554,
          0.5837124977877066,
          1.3467388993975806,
          -1.2058993010649288,
          -1.3625714531549529,
          -1.111177523696058,
          -1.7953820021508726,
          0.7269831945020414,
          1.085130896110705,
          -1.3108111315704696,
          -1.8351283295669532,
          1.137957899218946,
          0.5372340874610306,
          -1.6795052307629084,
          0.19721009948105275,
          -0.24896332472970983,
          0.4398732642745736,
          1.0882147179396768,
          -0.8110307762353408,
          1.233653225149194,
          1.3288649886092354,
          -0.7382685195053839,
          0.7265028541443145,
          -1.2027505021742224,
          1.5992960830545575,
          0.45301822265455155,
          0.6773427093560873,
          -0.21241926162608077,
          -0.5313203081157842,
          0.7955168162860771,
          0.9794656039497909,
          0.2882934730334653,
          0.7691096623764541,
          -1.9755418184097033,
          -1.0911630115455355,
          -0.5471545631343916,
          -2.3431090903023075,
          -1.311920360709811,
          0.023387754035465957,
          0.10759791057753218,
          -1.098306533921775,
          -0.7786105585105657,
          -0.7004022555927546,
          0.8568316440508773,
          0.4386360823760342,
          -1.3693463651548856,
          -0.9975161296799787,
          1.5437736377242266,
          -0.7805972385581531,
          -0.4588740687264083,
          -0.9014204058455336,
          -0.4806545101871768,
          0.2216508035196441,
          1.2531610408556146,
          1.7931522097962516,
          1.7303863271459858,
          -0.14098395952008053,
          0.5329606244436206,
          -0.07907694881645716,
          -0.796023780328968,
          0.3683730301534559,
          0.5953047401599952,
          1.260007547600343,
          0.21754038966939523,
          0.7192348401880951,
          -1.0130086394651805,
          -0.05266637604314982,
          -0.8861835022677702,
          -0.32270978888358626,
          -1.1403699528571642
         ],
         "xbins": {
          "end": 4,
          "size": 0.1,
          "start": -4
         }
        }
       ],
       "layout": {
        "template": {
         "data": {
          "bar": [
           {
            "error_x": {
             "color": "#2a3f5f"
            },
            "error_y": {
             "color": "#2a3f5f"
            },
            "marker": {
             "line": {
              "color": "#E5ECF6",
              "width": 0.5
             },
             "pattern": {
              "fillmode": "overlay",
              "size": 10,
              "solidity": 0.2
             }
            },
            "type": "bar"
           }
          ],
          "barpolar": [
           {
            "marker": {
             "line": {
              "color": "#E5ECF6",
              "width": 0.5
             },
             "pattern": {
              "fillmode": "overlay",
              "size": 10,
              "solidity": 0.2
             }
            },
            "type": "barpolar"
           }
          ],
          "carpet": [
           {
            "aaxis": {
             "endlinecolor": "#2a3f5f",
             "gridcolor": "white",
             "linecolor": "white",
             "minorgridcolor": "white",
             "startlinecolor": "#2a3f5f"
            },
            "baxis": {
             "endlinecolor": "#2a3f5f",
             "gridcolor": "white",
             "linecolor": "white",
             "minorgridcolor": "white",
             "startlinecolor": "#2a3f5f"
            },
            "type": "carpet"
           }
          ],
          "choropleth": [
           {
            "colorbar": {
             "outlinewidth": 0,
             "ticks": ""
            },
            "type": "choropleth"
           }
          ],
          "contour": [
           {
            "colorbar": {
             "outlinewidth": 0,
             "ticks": ""
            },
            "colorscale": [
             [
              0,
              "#0d0887"
             ],
             [
              0.1111111111111111,
              "#46039f"
             ],
             [
              0.2222222222222222,
              "#7201a8"
             ],
             [
              0.3333333333333333,
              "#9c179e"
             ],
             [
              0.4444444444444444,
              "#bd3786"
             ],
             [
              0.5555555555555556,
              "#d8576b"
             ],
             [
              0.6666666666666666,
              "#ed7953"
             ],
             [
              0.7777777777777778,
              "#fb9f3a"
             ],
             [
              0.8888888888888888,
              "#fdca26"
             ],
             [
              1,
              "#f0f921"
             ]
            ],
            "type": "contour"
           }
          ],
          "contourcarpet": [
           {
            "colorbar": {
             "outlinewidth": 0,
             "ticks": ""
            },
            "type": "contourcarpet"
           }
          ],
          "heatmap": [
           {
            "colorbar": {
             "outlinewidth": 0,
             "ticks": ""
            },
            "colorscale": [
             [
              0,
              "#0d0887"
             ],
             [
              0.1111111111111111,
              "#46039f"
             ],
             [
              0.2222222222222222,
              "#7201a8"
             ],
             [
              0.3333333333333333,
              "#9c179e"
             ],
             [
              0.4444444444444444,
              "#bd3786"
             ],
             [
              0.5555555555555556,
              "#d8576b"
             ],
             [
              0.6666666666666666,
              "#ed7953"
             ],
             [
              0.7777777777777778,
              "#fb9f3a"
             ],
             [
              0.8888888888888888,
              "#fdca26"
             ],
             [
              1,
              "#f0f921"
             ]
            ],
            "type": "heatmap"
           }
          ],
          "heatmapgl": [
           {
            "colorbar": {
             "outlinewidth": 0,
             "ticks": ""
            },
            "colorscale": [
             [
              0,
              "#0d0887"
             ],
             [
              0.1111111111111111,
              "#46039f"
             ],
             [
              0.2222222222222222,
              "#7201a8"
             ],
             [
              0.3333333333333333,
              "#9c179e"
             ],
             [
              0.4444444444444444,
              "#bd3786"
             ],
             [
              0.5555555555555556,
              "#d8576b"
             ],
             [
              0.6666666666666666,
              "#ed7953"
             ],
             [
              0.7777777777777778,
              "#fb9f3a"
             ],
             [
              0.8888888888888888,
              "#fdca26"
             ],
             [
              1,
              "#f0f921"
             ]
            ],
            "type": "heatmapgl"
           }
          ],
          "histogram": [
           {
            "marker": {
             "pattern": {
              "fillmode": "overlay",
              "size": 10,
              "solidity": 0.2
             }
            },
            "type": "histogram"
           }
          ],
          "histogram2d": [
           {
            "colorbar": {
             "outlinewidth": 0,
             "ticks": ""
            },
            "colorscale": [
             [
              0,
              "#0d0887"
             ],
             [
              0.1111111111111111,
              "#46039f"
             ],
             [
              0.2222222222222222,
              "#7201a8"
             ],
             [
              0.3333333333333333,
              "#9c179e"
             ],
             [
              0.4444444444444444,
              "#bd3786"
             ],
             [
              0.5555555555555556,
              "#d8576b"
             ],
             [
              0.6666666666666666,
              "#ed7953"
             ],
             [
              0.7777777777777778,
              "#fb9f3a"
             ],
             [
              0.8888888888888888,
              "#fdca26"
             ],
             [
              1,
              "#f0f921"
             ]
            ],
            "type": "histogram2d"
           }
          ],
          "histogram2dcontour": [
           {
            "colorbar": {
             "outlinewidth": 0,
             "ticks": ""
            },
            "colorscale": [
             [
              0,
              "#0d0887"
             ],
             [
              0.1111111111111111,
              "#46039f"
             ],
             [
              0.2222222222222222,
              "#7201a8"
             ],
             [
              0.3333333333333333,
              "#9c179e"
             ],
             [
              0.4444444444444444,
              "#bd3786"
             ],
             [
              0.5555555555555556,
              "#d8576b"
             ],
             [
              0.6666666666666666,
              "#ed7953"
             ],
             [
              0.7777777777777778,
              "#fb9f3a"
             ],
             [
              0.8888888888888888,
              "#fdca26"
             ],
             [
              1,
              "#f0f921"
             ]
            ],
            "type": "histogram2dcontour"
           }
          ],
          "mesh3d": [
           {
            "colorbar": {
             "outlinewidth": 0,
             "ticks": ""
            },
            "type": "mesh3d"
           }
          ],
          "parcoords": [
           {
            "line": {
             "colorbar": {
              "outlinewidth": 0,
              "ticks": ""
             }
            },
            "type": "parcoords"
           }
          ],
          "pie": [
           {
            "automargin": true,
            "type": "pie"
           }
          ],
          "scatter": [
           {
            "fillpattern": {
             "fillmode": "overlay",
             "size": 10,
             "solidity": 0.2
            },
            "type": "scatter"
           }
          ],
          "scatter3d": [
           {
            "line": {
             "colorbar": {
              "outlinewidth": 0,
              "ticks": ""
             }
            },
            "marker": {
             "colorbar": {
              "outlinewidth": 0,
              "ticks": ""
             }
            },
            "type": "scatter3d"
           }
          ],
          "scattercarpet": [
           {
            "marker": {
             "colorbar": {
              "outlinewidth": 0,
              "ticks": ""
             }
            },
            "type": "scattercarpet"
           }
          ],
          "scattergeo": [
           {
            "marker": {
             "colorbar": {
              "outlinewidth": 0,
              "ticks": ""
             }
            },
            "type": "scattergeo"
           }
          ],
          "scattergl": [
           {
            "marker": {
             "colorbar": {
              "outlinewidth": 0,
              "ticks": ""
             }
            },
            "type": "scattergl"
           }
          ],
          "scattermapbox": [
           {
            "marker": {
             "colorbar": {
              "outlinewidth": 0,
              "ticks": ""
             }
            },
            "type": "scattermapbox"
           }
          ],
          "scatterpolar": [
           {
            "marker": {
             "colorbar": {
              "outlinewidth": 0,
              "ticks": ""
             }
            },
            "type": "scatterpolar"
           }
          ],
          "scatterpolargl": [
           {
            "marker": {
             "colorbar": {
              "outlinewidth": 0,
              "ticks": ""
             }
            },
            "type": "scatterpolargl"
           }
          ],
          "scatterternary": [
           {
            "marker": {
             "colorbar": {
              "outlinewidth": 0,
              "ticks": ""
             }
            },
            "type": "scatterternary"
           }
          ],
          "surface": [
           {
            "colorbar": {
             "outlinewidth": 0,
             "ticks": ""
            },
            "colorscale": [
             [
              0,
              "#0d0887"
             ],
             [
              0.1111111111111111,
              "#46039f"
             ],
             [
              0.2222222222222222,
              "#7201a8"
             ],
             [
              0.3333333333333333,
              "#9c179e"
             ],
             [
              0.4444444444444444,
              "#bd3786"
             ],
             [
              0.5555555555555556,
              "#d8576b"
             ],
             [
              0.6666666666666666,
              "#ed7953"
             ],
             [
              0.7777777777777778,
              "#fb9f3a"
             ],
             [
              0.8888888888888888,
              "#fdca26"
             ],
             [
              1,
              "#f0f921"
             ]
            ],
            "type": "surface"
           }
          ],
          "table": [
           {
            "cells": {
             "fill": {
              "color": "#EBF0F8"
             },
             "line": {
              "color": "white"
             }
            },
            "header": {
             "fill": {
              "color": "#C8D4E3"
             },
             "line": {
              "color": "white"
             }
            },
            "type": "table"
           }
          ]
         },
         "layout": {
          "annotationdefaults": {
           "arrowcolor": "#2a3f5f",
           "arrowhead": 0,
           "arrowwidth": 1
          },
          "autotypenumbers": "strict",
          "coloraxis": {
           "colorbar": {
            "outlinewidth": 0,
            "ticks": ""
           }
          },
          "colorscale": {
           "diverging": [
            [
             0,
             "#8e0152"
            ],
            [
             0.1,
             "#c51b7d"
            ],
            [
             0.2,
             "#de77ae"
            ],
            [
             0.3,
             "#f1b6da"
            ],
            [
             0.4,
             "#fde0ef"
            ],
            [
             0.5,
             "#f7f7f7"
            ],
            [
             0.6,
             "#e6f5d0"
            ],
            [
             0.7,
             "#b8e186"
            ],
            [
             0.8,
             "#7fbc41"
            ],
            [
             0.9,
             "#4d9221"
            ],
            [
             1,
             "#276419"
            ]
           ],
           "sequential": [
            [
             0,
             "#0d0887"
            ],
            [
             0.1111111111111111,
             "#46039f"
            ],
            [
             0.2222222222222222,
             "#7201a8"
            ],
            [
             0.3333333333333333,
             "#9c179e"
            ],
            [
             0.4444444444444444,
             "#bd3786"
            ],
            [
             0.5555555555555556,
             "#d8576b"
            ],
            [
             0.6666666666666666,
             "#ed7953"
            ],
            [
             0.7777777777777778,
             "#fb9f3a"
            ],
            [
             0.8888888888888888,
             "#fdca26"
            ],
            [
             1,
             "#f0f921"
            ]
           ],
           "sequentialminus": [
            [
             0,
             "#0d0887"
            ],
            [
             0.1111111111111111,
             "#46039f"
            ],
            [
             0.2222222222222222,
             "#7201a8"
            ],
            [
             0.3333333333333333,
             "#9c179e"
            ],
            [
             0.4444444444444444,
             "#bd3786"
            ],
            [
             0.5555555555555556,
             "#d8576b"
            ],
            [
             0.6666666666666666,
             "#ed7953"
            ],
            [
             0.7777777777777778,
             "#fb9f3a"
            ],
            [
             0.8888888888888888,
             "#fdca26"
            ],
            [
             1,
             "#f0f921"
            ]
           ]
          },
          "colorway": [
           "#636efa",
           "#EF553B",
           "#00cc96",
           "#ab63fa",
           "#FFA15A",
           "#19d3f3",
           "#FF6692",
           "#B6E880",
           "#FF97FF",
           "#FECB52"
          ],
          "font": {
           "color": "#2a3f5f"
          },
          "geo": {
           "bgcolor": "white",
           "lakecolor": "white",
           "landcolor": "#E5ECF6",
           "showlakes": true,
           "showland": true,
           "subunitcolor": "white"
          },
          "hoverlabel": {
           "align": "left"
          },
          "hovermode": "closest",
          "mapbox": {
           "style": "light"
          },
          "paper_bgcolor": "white",
          "plot_bgcolor": "#E5ECF6",
          "polar": {
           "angularaxis": {
            "gridcolor": "white",
            "linecolor": "white",
            "ticks": ""
           },
           "bgcolor": "#E5ECF6",
           "radialaxis": {
            "gridcolor": "white",
            "linecolor": "white",
            "ticks": ""
           }
          },
          "scene": {
           "xaxis": {
            "backgroundcolor": "#E5ECF6",
            "gridcolor": "white",
            "gridwidth": 2,
            "linecolor": "white",
            "showbackground": true,
            "ticks": "",
            "zerolinecolor": "white"
           },
           "yaxis": {
            "backgroundcolor": "#E5ECF6",
            "gridcolor": "white",
            "gridwidth": 2,
            "linecolor": "white",
            "showbackground": true,
            "ticks": "",
            "zerolinecolor": "white"
           },
           "zaxis": {
            "backgroundcolor": "#E5ECF6",
            "gridcolor": "white",
            "gridwidth": 2,
            "linecolor": "white",
            "showbackground": true,
            "ticks": "",
            "zerolinecolor": "white"
           }
          },
          "shapedefaults": {
           "line": {
            "color": "#2a3f5f"
           }
          },
          "ternary": {
           "aaxis": {
            "gridcolor": "white",
            "linecolor": "white",
            "ticks": ""
           },
           "baxis": {
            "gridcolor": "white",
            "linecolor": "white",
            "ticks": ""
           },
           "bgcolor": "#E5ECF6",
           "caxis": {
            "gridcolor": "white",
            "linecolor": "white",
            "ticks": ""
           }
          },
          "title": {
           "x": 0.05
          },
          "xaxis": {
           "automargin": true,
           "gridcolor": "white",
           "linecolor": "white",
           "ticks": "",
           "title": {
            "standoff": 15
           },
           "zerolinecolor": "white",
           "zerolinewidth": 2
          },
          "yaxis": {
           "automargin": true,
           "gridcolor": "white",
           "linecolor": "white",
           "ticks": "",
           "title": {
            "standoff": 15
           },
           "zerolinecolor": "white",
           "zerolinewidth": 2
          }
         }
        }
       }
      }
     },
     "metadata": {},
     "output_type": "display_data"
    }
   ],
   "source": [
    "random_1 = np.random.normal(0, 1, 10000) # 표준정규분포\n",
    "\n",
    "trace = go.Histogram(x = random_1 , xbins= dict(start = -4, end =4, size =0.1)) # start, end 로 범위지정가능\n",
    "\n",
    "fig = go.Figure(data= trace)\n",
    "\n",
    "fig.show()"
   ]
  },
  {
   "cell_type": "markdown",
   "metadata": {},
   "source": [
    "## basic 3 overlay &opacity"
   ]
  },
  {
   "cell_type": "code",
   "execution_count": 49,
   "metadata": {},
   "outputs": [
    {
     "data": {
      "application/vnd.plotly.v1+json": {
       "config": {
        "plotlyServerURL": "https://plot.ly"
       },
       "data": [
        {
         "opacity": 0.5,
         "type": "histogram",
         "x": [
          1.1144913730346546,
          0.5289860021654452,
          0.37713910014003277,
          -0.17140872591998602,
          -2.343949777102112,
          2.048720748903252,
          -0.27045363486977725,
          0.1842478966643548,
          0.43019200728461754,
          -0.9042182674334323,
          1.1307368021973332,
          -1.1720843143260202,
          -0.473385311593319,
          0.1427643691503433,
          -1.3641412292375017,
          -0.5237448249012708,
          1.8529776990147646,
          -0.22957034385034863,
          -0.282471664499988,
          -1.945645323745569,
          -1.3541784080533779,
          2.4770657844443047,
          -1.0087784769959425,
          -0.5413605831677257,
          -1.660003115403369,
          -1.3202497806917772,
          -1.2919504492328324,
          0.6060801582161012,
          -1.9480945138991204,
          -0.7408003388851278,
          -0.5683429149263005,
          -0.6481000724839141,
          1.3470485467424431,
          -1.0791726325169526,
          -0.860966475335253,
          -0.164785832793847,
          -0.10915743580504914,
          -1.7021872782386511,
          0.6899168099682139,
          -1.2027206498247356,
          0.7386966450625679,
          -1.2753982621929871,
          -2.113583240515142,
          0.3631323178949363,
          -0.06330279066009747,
          -0.31928251862734286,
          1.259793326395179,
          0.9531087962531721,
          -0.7397204774698368,
          -0.983930828606038,
          -0.08525411527414599,
          1.3445282566298018,
          1.988484457770508,
          -0.9372121965528236,
          0.4208916269152763,
          0.43829287225409774,
          0.48654268058785194,
          -1.2627905966406836,
          -0.8097953969906923,
          0.022607959681068684,
          -0.6623829297105959,
          -0.44004773505588424,
          1.3089931750136845,
          0.18682286116208557,
          -0.5583583579868574,
          -0.7373143464043931,
          1.533430499518525,
          -0.5440371838436246,
          0.5734888154217027,
          -0.9017935624180345,
          -0.2138658489072525,
          -1.2053853548761486,
          1.0376751185946111,
          -0.07592794744555738,
          0.6480476426379991,
          -2.5172794796925966,
          1.26044706909925,
          0.11235660869610098,
          -0.532043083821227,
          -0.945707173877652,
          -1.109812312735058,
          0.27930160114478836,
          0.2132495834161522,
          -0.788108376153126,
          -0.36311013549213605,
          0.8499257610022355,
          1.7834821643606658,
          0.5527363252396275,
          0.047427998743722596,
          0.09433995424469097,
          0.5131485607423075,
          0.6156790526005012,
          -0.5243415215336331,
          -0.551266115991155,
          0.6986147184251169,
          2.43542710961839,
          -1.1850150513169908,
          1.1597015237063368,
          -1.5002577794207832,
          0.46521809670346376,
          0.3215761478820666,
          -0.7499213737063806,
          1.0015071766221963,
          -1.0658807885178663,
          0.22121285858137182,
          -0.31112853192332585,
          -0.6728692223066928,
          0.24023771053231352,
          -0.6907346899983321,
          0.422118047367945,
          1.67263309345247,
          0.3994386080251463,
          0.2359937964783883,
          0.4006450722044387,
          -2.28080530480439,
          -0.8061677882143371,
          0.60067199943845,
          1.8159912508127183,
          -0.20333483611452777,
          0.6478304822311587,
          0.7160423832566197,
          -1.303337718906154,
          0.2819565173239318,
          -1.3116221869407096,
          0.1074174545490751,
          -0.22513428772554975,
          -1.2110812149210433,
          0.6704885948197968,
          -1.989950675673846,
          1.7929074971285504,
          0.32035419362255946,
          -1.0841323149103128,
          -1.1788753810423147,
          0.21364256199939588,
          0.5370135360638703,
          3.1141096011194027,
          -0.40344218242686597,
          -0.8742893438224766,
          1.3679122950997795,
          0.868536088486173,
          -1.6326720654056948,
          -0.6130538194809249,
          0.5933745400382815,
          2.2748028199513115,
          -0.42572335607316814,
          0.9451060550827585,
          -0.20551257313287286,
          -0.5537248005820404,
          -1.225964932816371,
          -0.16263769054224478,
          0.42127884037302776,
          -0.13274052608091916,
          2.4341964519879355,
          2.004593753885743,
          -0.097906736649912,
          1.0136766521152234,
          -0.7371402212196122,
          0.04300064842717242,
          0.15852693861921818,
          1.9605590993567246,
          0.03674032175430707,
          0.46588564747575656,
          1.4959028871816533,
          1.3396856688471057,
          -1.2910670207657364,
          0.3993221047098891,
          0.6551545409940951,
          -0.8723266707765313,
          -0.6385566616295228,
          1.6956905076016866,
          -0.7624307948963005,
          -1.8876327110422286,
          -0.08172103750583848,
          -2.141391050410795,
          -1.5189182653029172,
          1.7289213506209526,
          1.1973646663090958,
          0.6860685498902901,
          -0.17235176031485103,
          1.366492460550805,
          -0.8219178987079132,
          1.3727913669453506,
          -0.9946034133027466,
          -0.5595450449332385,
          0.9730693300128226,
          -2.7576909133853844,
          2.0441911805821786,
          -0.06525711683717378,
          -0.1652187827050567,
          -1.1322564992681519,
          0.2694840159492848,
          -3.213338425525053,
          1.6735167420376607,
          0.6632093310934658,
          0.5105390889266616,
          1.4182046422260035,
          -0.21213084999635318,
          -0.4372561689572022,
          0.7562233526289164,
          -0.953622020864293,
          -0.5872316987660594,
          1.0081618873152016,
          -0.2521184186681813,
          1.6675907171143178,
          0.7649460105696378,
          -0.18734818839565606,
          0.6328588149980913,
          0.0920592137403472,
          1.8917841348162265,
          0.795723714217404,
          -1.2614620061499302,
          -0.11113696721517324,
          0.05152457015013102,
          -0.7991730838906147,
          0.7726630972389003,
          -2.8634495618066502,
          -0.7886029014796307,
          0.7578731081161745,
          0.02305998839523852,
          -1.579935120636567,
          1.3880313871368788,
          -0.09218439069097847,
          0.7401832358799298,
          -1.6005067639850104,
          -0.9259541337900471,
          -0.5841104488364326,
          0.3121534599138741,
          -0.6006550304924189,
          -1.345694687401037,
          1.0622317388859157,
          1.544600389622316,
          -0.4423141619399878,
          0.5208978624122524,
          0.8094220408583147,
          -0.8560889623336947,
          -0.33652954999846585,
          -1.4385756327949553,
          -0.43971753670250574,
          -0.6301030578802157,
          1.0895051577706232,
          0.13768240604483448,
          1.1919257164240833,
          0.9544311878981362,
          -1.7440362205782631,
          -1.0126086614676315,
          -0.8657533029265102,
          0.5244292461900362,
          0.9531092328378876,
          -0.0009079701206174595,
          -1.2839311467637429,
          1.2267424913939564,
          0.9958575935989358,
          0.22404026443441413,
          -0.45003291497414366,
          0.15250419954965536,
          -0.5806790927210952,
          1.341280608263381,
          -0.24880909412905647,
          0.6311214276841834,
          -1.6051730784580285,
          -1.231948779157404,
          1.2051141153127625,
          -1.5191642746964455,
          2.039599792374402,
          -0.6936820696821271,
          1.3492360831854167,
          -1.0626911122111797,
          -1.227993255997199,
          1.9620922123498639,
          -0.9405717231724499,
          0.8810317240783909,
          -1.5364954008257992,
          0.2239492588865627,
          0.38878041371855065,
          -0.7269952866454048,
          -0.01533703220451397,
          0.8703196903817678,
          0.925241212128817,
          -0.9415236927714468,
          0.12698066298443694,
          0.7008491676805129,
          0.39552739898008166,
          -0.260832878399196,
          -0.16162673651969656,
          -2.395260010176989,
          0.5936031597185057,
          -2.330070466432515,
          -1.8438926190752016,
          1.2416675552296437,
          -0.42017057969498917,
          0.32803588253710203,
          1.4148228170046298,
          -0.45450552211144685,
          1.6499066521211991,
          -1.000077061052569,
          -0.40323054937222197,
          1.2011387739430655,
          0.2890700400659319,
          -1.049791313517555,
          0.7132579679039228,
          1.555579653498275,
          3.605852207349371,
          0.13765371805478296,
          1.2618750779274328,
          0.6285084734376142,
          -0.1783045788853912,
          -1.0433339424686927,
          -1.727554622135534,
          1.6455832778062902,
          -0.6293090618858053,
          2.626767393613867,
          -0.0625970245780449,
          0.7128629627083647,
          0.35202049518775863,
          1.4650738161748103,
          -1.2334735664102952,
          1.1993957155314583,
          -0.9687540362655219,
          -0.30362703384499484,
          -0.3471727479660353,
          2.2444954739623184,
          0.7713040206031319,
          -0.5535992435179407,
          0.48393711238127446,
          -2.180609432175451,
          -1.012477856062621,
          0.0796872962629402,
          -0.6906593048307195,
          0.5200559257922069,
          -0.05548529792283993,
          0.9848049840777147,
          0.2444566417318338,
          -1.0758103646703523,
          -0.0420769725023271,
          -0.1733218451751323,
          1.199915567679082,
          -0.807815877248779,
          0.4882066748850185,
          0.29541694007048214,
          1.1533008581809476,
          -0.904048831714351,
          -0.8790470756790684,
          1.1994143166262548,
          -0.019190064835813384,
          1.215239439510359,
          0.831653126482603,
          0.4766050549182026,
          1.7931859395534444,
          1.3653966074592656,
          -1.5940210654311877,
          0.16489300741170504,
          2.494582016530545,
          1.9727700751620072,
          -0.34093519589125293,
          0.3532775245412131,
          -1.2805975995754941,
          -1.9532739824881038,
          0.18962110878936408,
          -0.20461115667155408,
          -0.6377005579417045,
          -0.618976565921559,
          0.17045382403341092,
          -0.18631867606659736,
          0.3970517370612094,
          -0.30412105477774454,
          0.3597040765199594,
          -0.08312893860467327,
          1.6250298535050685,
          0.18480779102014597,
          -0.13502237955840302,
          -0.40449414952689905,
          0.6365639084352779,
          -0.1186736912868419,
          -0.8924315928913616,
          1.0710217825376545,
          -0.7109502248777129,
          0.6789196661000391,
          -0.09907539140387807,
          0.041583560442415624,
          -0.5875302173931194,
          -0.8095570706434714,
          -1.2758939508697045,
          0.12049838740963867,
          -1.7624078789505047,
          0.5936945717886865,
          0.1510779645933282,
          0.4925413592414799,
          -0.5867140874052782,
          0.6963770735904085,
          1.959766497403799,
          1.2130772421199414,
          -2.266614825396093,
          0.04349365517480444,
          0.6839631846066281,
          -0.2808757140913881,
          0.24369425424751165,
          -0.6309056405864413,
          -1.307171532657515,
          -0.5220366855499321,
          -0.07913095127184751,
          1.017996139874075,
          -1.0827762647683814,
          -0.1138040384595431,
          -1.2487777597052394,
          -0.6517539251271126,
          0.8302491060524069,
          -0.7196372103560114,
          0.3252215055454408,
          -1.919099608676786,
          1.108042698708982,
          -0.03682096841993951,
          -0.6644959143898261,
          -1.2679152364517552,
          -1.4742648457348464,
          1.2146395484084367,
          -0.09392829760721563,
          0.1592876366736789,
          0.247665744941373,
          1.109509639320732,
          1.8295014593503969,
          0.623606766400522,
          -1.265006333908388,
          -1.9834597052001084,
          -0.19606145911836734,
          0.19075083627061218,
          1.817364812030792,
          -0.13405035083003553,
          -1.9682519966584047,
          -0.4249378478080962,
          1.1638517876247554,
          -0.8190565287190718,
          -0.24034063641635742,
          -0.7722495979364279,
          -1.0559921423620888,
          -0.3213453665753406,
          0.6099979378030544,
          -0.36278948964823743,
          -0.5043103840887803,
          0.7354336917358167,
          0.3761255945602957,
          0.6333102262996277,
          -0.6434313210005094,
          1.3152974305353826,
          -2.7854632137420987,
          0.14585393279198067,
          -0.3606852646566119,
          -0.08243485854486142,
          -0.11000665273914385,
          -1.1276554483940935,
          -0.6395100910973991,
          -0.4736823211200748,
          -1.6571741077083626,
          1.4969530341899342,
          0.2195985965477714,
          0.648332192995231,
          0.6929804658068676,
          0.4152476303047031,
          -1.2777394133779034,
          1.7579603774491508,
          -1.3027890361173369,
          -1.3509257637363663,
          0.42317566324836137,
          0.6050471299825992,
          0.22355283043113053,
          -0.3983181980678613,
          -0.5528313286836252,
          -1.1048605789536938,
          0.9494894415510771,
          -0.42186240581280277,
          0.4891523882638535,
          0.27430911265073193,
          -1.4696560582399212,
          0.0652072972857418,
          0.5002554418899715,
          -1.4661348062113835,
          -2.185238606665378,
          0.8012235917523244,
          0.9512767971372414,
          -0.7887004498244391,
          -1.20124093832889,
          -1.1685423013345484,
          -1.0848056370531982,
          1.6083344630192515,
          -1.6741903096265207,
          -1.7152631937438068,
          -0.67768682916911,
          0.6426376364320826,
          1.5947583406774004,
          -0.23162060707392754,
          -0.9088505435561719,
          1.4185811158561787,
          1.3969656387066258,
          -0.8574415838094988,
          0.46423095789497715,
          -0.7054290247503989,
          -0.5647748778221356,
          0.12061060502738737,
          -0.6443308218516441,
          -0.8304323398184342,
          -0.029717641063637112
         ]
        },
        {
         "opacity": 0.5,
         "type": "histogram",
         "x": [
          0.7463722600509566,
          -0.8822919827360194,
          1.494388599737781,
          1.2975442997694122,
          -0.4382273899483782,
          2.2122772739039256,
          0.7182961491391362,
          2.597673519545337,
          1.1530215013057168,
          0.8819573935572399,
          -0.9490736690175026,
          0.2789569167180235,
          1.1031184384211619,
          0.9484429183617266,
          1.3032884074683122,
          1.95526621414544,
          0.6534906702835963,
          1.317752055816837,
          -0.06342306739762726,
          1.0060066601549893,
          1.468917666839233,
          1.2570630018405937,
          1.552583919964988,
          1.9553210776318841,
          0.5702444776840367,
          1.9861674451828315,
          2.2946464668617788,
          1.3544066948685298,
          0.6784054994854629,
          1.471084160648966,
          1.084308714884992,
          0.6048965272044137,
          2.2242263112145637,
          -0.11594232859153819,
          -0.9591385546087985,
          1.5312256045564614,
          1.0128072115414288,
          1.726291207584854,
          2.229507793245598,
          -0.04263661766558213,
          0.09323048624688168,
          1.5320635815852182,
          0.5732296354248414,
          -0.0007699959003866219,
          2.1371837771470403,
          1.340178451042362,
          2.6496799209644086,
          0.68087623589812,
          2.1492816791140976,
          0.6953796966403464,
          1.1379694441127473,
          0.9643755262973137,
          3.174917910543826,
          0.7759507526605149,
          1.4605673926883045,
          0.15259838593837005,
          0.6080166144069761,
          1.9393360607672272,
          1.2507408268202245,
          1.9163226675975187,
          1.623832195592184,
          0.8514737545727871,
          1.2405941384278378,
          1.883293424715748,
          0.4468705895699475,
          0.8807316002330823,
          2.286794128956466,
          1.107277753928798,
          -0.5237289656864472,
          -0.1727875641450456,
          -0.6485950913993008,
          0.5527267466593635,
          1.41871990995274,
          0.9720864874526031,
          0.8228200430397662,
          0.4620940377626622,
          2.4853268786933684,
          2.5435621936278974,
          0.8091504433148907,
          1.7956964653526803,
          0.6969694201247206,
          -0.2948890899968055,
          0.1182038017051541,
          0.8539285642105482,
          1.4633216863872085,
          0.3758304965062238,
          -0.0039412715911664176,
          -0.7704953402179209,
          2.102730640744179,
          0.32532356715257993,
          0.10742723644111563,
          0.12105264327675913,
          1.614682792065211,
          0.17101684840547382,
          -0.27316388949964954,
          1.2957722324075713,
          0.46374178553988643,
          -1.3143786376785047,
          2.030143467215048,
          1.1716043239178489,
          1.8609238317960224,
          1.942933674588831,
          0.6579060095297715,
          -0.4838290744295086,
          2.259666415072186,
          0.9622666902736723,
          1.8465331886534824,
          -0.46466672936359155,
          0.2768055131794196,
          0.717956458100829,
          1.4269442124313059,
          -0.675346937351174,
          0.7079178539027935,
          0.49838433928185333,
          -0.3112050048499546,
          0.9272795755622246,
          0.6550242343205184,
          1.229814053068695,
          1.5470736949252712,
          -0.6988949234283708,
          2.3027083808742557,
          2.5391872724978946,
          1.659208912480187,
          0.021340851666843075,
          0.4013973637809375,
          0.8471791551951249,
          2.3912589114839395,
          0.18026089657163002,
          -0.3829298453940422,
          0.41941550272462336,
          1.3262529600559434,
          1.0532925849657504,
          -0.8164843654229015,
          1.1729477498228644,
          1.5253787278323512,
          -0.9010285531085644,
          1.7765306801439191,
          1.7631865166980725,
          2.8252729844334317,
          0.5106218701390541,
          1.2873904431374668,
          -0.09157749951742589,
          1.6614591512097199,
          2.326582611559312,
          0.6639344766563378,
          0.40688588966866757,
          0.6624293541901713,
          0.03790420104388326,
          1.9520588761985294,
          1.1178953145557742,
          0.910664448819904,
          2.390264109756761,
          0.890029851064621,
          0.9170910921005258,
          0.5764441110302674,
          0.696376622407443,
          0.8956724607720815,
          1.842101249043612,
          0.8371785884910525,
          0.9051105588320896,
          0.835211041076219,
          -0.5692670981494581,
          0.5681284458161516,
          -0.4416977977074008,
          -0.12560199465636912,
          0.2867732094457708,
          1.38758168596031,
          -0.0712580429188836,
          0.9518902017101818,
          1.1840649354586326,
          1.9429881600615155,
          -0.8060413030323283,
          2.150737746375337,
          -0.0392319524503848,
          0.6778906513626872,
          1.8006419476965947,
          2.6119771158002565,
          1.0142233622322399,
          1.223442343510473,
          0.6425839407451661,
          0.7208321716749343,
          -0.6845028853551787,
          0.8888459461629904,
          -0.39262620790122127,
          -0.23983696032668966,
          -0.3539645730990564,
          0.9072706760001137,
          1.285779134497263,
          0.3606272962346816,
          0.21671699597590233,
          1.4516541403308953,
          2.556132185226047,
          -0.8468040020439003,
          1.5760378124623546,
          1.5227158570620007,
          0.492128438222311,
          2.012943305760923,
          0.3903091926654514,
          2.5930553084383767,
          1.0547273314647805,
          1.6760579024459918,
          1.7832435408568537,
          -0.1398043933020232,
          1.5508880231740434,
          0.27761985801631395,
          -1.2706269143063822,
          1.3991010223807465,
          -0.15382232065445067,
          0.9211487897112769,
          2.4939910691884064,
          1.762200769566662,
          -0.543204910457127,
          -0.8779939581226128,
          1.1409074517362408,
          -0.06563542265434186,
          -0.2613902282779055,
          -0.8278734402519652,
          1.5814842124006505,
          -0.0390667771236457,
          2.018832133564443,
          0.7188448762658005,
          0.6775018760182058,
          0.34460811056090734,
          -0.24008967624058797,
          -0.24933056065265724,
          1.7681118990992797,
          1.3862037620518899,
          0.5029606379243128,
          1.3939353992149934,
          1.7396253134565396,
          2.3262287371524972,
          1.351754459358874,
          1.9444857708958643,
          0.8414904014093143,
          0.318337377369729,
          0.5337533855057317,
          0.386152688238508,
          0.6985664868793141,
          2.6494711064286833,
          1.9181154970903593,
          0.6614763467972233,
          -0.15991481199904078,
          0.40308480781809086,
          0.8981641119155732,
          -0.3598425026901395,
          1.2694767508856513,
          0.21738818464281895,
          0.3032634015796346,
          1.5952052068507911,
          1.7401698690793974,
          1.0461555535763862,
          1.7744928641889834,
          0.6036955721639841,
          -0.24645223021200358,
          0.7644675244652238,
          0.9639044492012216,
          0.3420396913867839,
          1.2725475739978365,
          1.4631058497940643,
          0.9199971648114718,
          -0.3423727540925303,
          2.435427474092273,
          1.8941483795077012,
          0.8558087542642272,
          0.22597471082102016,
          2.22012180398814,
          0.44335212273600355,
          1.258542337906444,
          1.9038799905408923,
          2.103366353864848,
          0.08175459365789672,
          -0.21482920185718024,
          1.9147564476054257,
          2.386645243749828,
          0.6884517728866375,
          0.9061106242724409,
          0.31611830094803495,
          0.573133160549314,
          -0.11077524280688134,
          -0.8853606309286599,
          0.10550534273591083,
          -0.2045775425580867,
          -0.6933133312486615,
          2.003655565569175,
          0.6711102944402023,
          0.93790207763337,
          0.02866427165673202,
          -0.4374339126199993,
          0.7245255414329483,
          2.422721487989942,
          1.0637767028279472,
          2.1551527678298106,
          0.4017672194982711,
          1.8551087114412135,
          1.1994090100950674,
          0.28059133003100034,
          0.8184254803366285,
          0.32322714027027677,
          -0.2550140236986356,
          1.2784668449737655,
          0.281482448502812,
          1.5436482424089428,
          1.2477311450456887,
          0.8273798350668828,
          -0.48522017572821174,
          0.45536330420333637,
          0.482447647299197,
          0.9747761352680577,
          0.9759268035302835,
          0.9418109164911438,
          1.6669344011031377,
          1.5633714591647383,
          0.13259716091199591,
          1.9213555024522,
          0.036568245438614366,
          1.4743712872938166,
          0.964501707152741,
          0.8039726469706545,
          0.013788171935724347,
          -0.33660280280091537,
          3.2448542886968346,
          1.6032257860507708,
          -1.211692687276757,
          1.7573417275172714,
          1.6562607428602159,
          1.6061364905025524,
          -0.6620059507635221,
          2.138404775232364,
          1.3518455280434045,
          0.16618730970846962,
          0.19372887765639557,
          0.3341958732904242,
          3.1665968338587396,
          2.4797271598354063,
          -1.1244144979822948,
          -0.366258377080406,
          1.23760365963251,
          2.677022377487111,
          1.3716873951097999,
          0.995969867966255,
          0.17426213110114397,
          3.8957544164222817,
          0.6131787084549387,
          0.99162724626802,
          0.36251224778783564,
          0.5122746628081687,
          1.0252220195433537,
          2.5646175052285085,
          1.380412941516681,
          0.9597626244501979,
          2.974321305348628,
          1.565764137388297,
          0.31056635021383827,
          1.6759772856127557,
          1.1922924136515647,
          2.0314942086396197,
          1.4160670549225638,
          0.06351630944155084,
          1.1360999821433497,
          1.252391299986599,
          1.3355269798345624,
          1.3248944562599392,
          2.4146018857652107,
          -0.05478917818551521,
          -0.08484271808087351,
          1.2146560343274095,
          0.909151433546135,
          1.0897566195261468,
          0.01305918105110948,
          1.6512707944743918,
          1.159049875379977,
          0.9489204665520796,
          -0.42099649334429445,
          1.400245532889624,
          1.7071849350692458,
          -0.09533875118927337,
          1.0982041777860865,
          0.1957290541359722,
          0.0645494377385869,
          0.5609797744547671,
          0.5875874244724325,
          1.23394551905822,
          0.7869734067786769,
          0.4136535411334853,
          -0.15243270223492034,
          0.13429391027191928,
          1.7252004402135115,
          1.0086240315112296,
          2.973953944307641,
          1.6465842938612387,
          0.9548200720456073,
          1.6151962981920711,
          0.6994881660076299,
          0.736642267994162,
          1.8422065236692102,
          0.5190787807938415,
          1.0475412200951169,
          1.4239309067071786,
          1.3436777045496928,
          -0.11384562158796374,
          0.7667682619840475,
          1.2249881026959275,
          1.5555093678997514,
          -0.8298831122174215,
          1.1570555136145735,
          2.433982117167271,
          1.461074963811983,
          0.4507880985427498,
          0.9652730621220096,
          -0.8694300891690068,
          0.9910904734190669,
          0.18132968820402484,
          1.0145550852415424,
          0.4714494799169894,
          -0.43975272606889715,
          0.8310120586015579,
          0.32059162233201666,
          1.2270576556582133,
          1.8251033604181124,
          0.4653643981069101,
          0.26003664810340144,
          -1.034086545572245,
          2.5650106266093964,
          2.8700336097142967,
          1.1817493458573396,
          0.6566456089736239,
          3.0380119292293477,
          0.34404755905378615,
          0.19086367140286586,
          0.8075808088706118,
          1.7399541185124707,
          1.2953503448228068,
          0.3667749721736059,
          1.7397030498955242,
          1.521734998069109,
          1.8566014896098473,
          1.7835172708203642,
          0.9515658483169577,
          0.8585691603157745,
          -1.29436696650696,
          1.0977354234713526,
          1.593224697534485,
          0.08571106856858157,
          1.3152337257803945,
          -0.1348772788633601,
          1.258791928859416,
          2.110947906110186,
          0.9458012213327682,
          0.9832825087190734,
          1.3881492181889663,
          -0.11171261627795315,
          -0.1878415199088619,
          2.633947839693657,
          1.0085177729984993,
          0.5777439143094465,
          1.0209466383340267,
          1.1333592664567478,
          -0.049412242347504076,
          1.480415044028522,
          1.0844864729894965,
          -0.5559871009254733,
          0.31051982468663186,
          0.9662144005548808,
          0.40487351903694846,
          0.4591093769121487,
          0.7537445506514895,
          0.16864026453700465,
          0.51173629291764,
          1.9679681763885564,
          1.3390503723640936,
          0.617832602262236,
          1.0044420609853768,
          2.9490229252672897,
          0.6797609581736661,
          -1.55669310347171,
          2.4065699666293257,
          2.2809868311571284,
          0.49422311307864586,
          0.37384071493799564,
          -0.29743339644443334,
          0.3043336788151706,
          0.32618378790377867,
          0.5945677627636267,
          -0.05493932119279821,
          2.0551849333427663,
          1.0038514840110389,
          1.7403664928703992,
          -0.14422090118865505,
          -0.8902422115045043,
          1.2408633200670338,
          1.7177203641400092,
          1.641528555560654,
          0.903259423015656,
          0.5089634099575373,
          0.17665811155112798,
          2.94241088386723,
          1.7698857375428232,
          2.1800897531380476,
          -0.009704190596956375,
          -0.11286920064398309
         ]
        }
       ],
       "layout": {
        "barmode": "overlay",
        "template": {
         "data": {
          "bar": [
           {
            "error_x": {
             "color": "#2a3f5f"
            },
            "error_y": {
             "color": "#2a3f5f"
            },
            "marker": {
             "line": {
              "color": "#E5ECF6",
              "width": 0.5
             },
             "pattern": {
              "fillmode": "overlay",
              "size": 10,
              "solidity": 0.2
             }
            },
            "type": "bar"
           }
          ],
          "barpolar": [
           {
            "marker": {
             "line": {
              "color": "#E5ECF6",
              "width": 0.5
             },
             "pattern": {
              "fillmode": "overlay",
              "size": 10,
              "solidity": 0.2
             }
            },
            "type": "barpolar"
           }
          ],
          "carpet": [
           {
            "aaxis": {
             "endlinecolor": "#2a3f5f",
             "gridcolor": "white",
             "linecolor": "white",
             "minorgridcolor": "white",
             "startlinecolor": "#2a3f5f"
            },
            "baxis": {
             "endlinecolor": "#2a3f5f",
             "gridcolor": "white",
             "linecolor": "white",
             "minorgridcolor": "white",
             "startlinecolor": "#2a3f5f"
            },
            "type": "carpet"
           }
          ],
          "choropleth": [
           {
            "colorbar": {
             "outlinewidth": 0,
             "ticks": ""
            },
            "type": "choropleth"
           }
          ],
          "contour": [
           {
            "colorbar": {
             "outlinewidth": 0,
             "ticks": ""
            },
            "colorscale": [
             [
              0,
              "#0d0887"
             ],
             [
              0.1111111111111111,
              "#46039f"
             ],
             [
              0.2222222222222222,
              "#7201a8"
             ],
             [
              0.3333333333333333,
              "#9c179e"
             ],
             [
              0.4444444444444444,
              "#bd3786"
             ],
             [
              0.5555555555555556,
              "#d8576b"
             ],
             [
              0.6666666666666666,
              "#ed7953"
             ],
             [
              0.7777777777777778,
              "#fb9f3a"
             ],
             [
              0.8888888888888888,
              "#fdca26"
             ],
             [
              1,
              "#f0f921"
             ]
            ],
            "type": "contour"
           }
          ],
          "contourcarpet": [
           {
            "colorbar": {
             "outlinewidth": 0,
             "ticks": ""
            },
            "type": "contourcarpet"
           }
          ],
          "heatmap": [
           {
            "colorbar": {
             "outlinewidth": 0,
             "ticks": ""
            },
            "colorscale": [
             [
              0,
              "#0d0887"
             ],
             [
              0.1111111111111111,
              "#46039f"
             ],
             [
              0.2222222222222222,
              "#7201a8"
             ],
             [
              0.3333333333333333,
              "#9c179e"
             ],
             [
              0.4444444444444444,
              "#bd3786"
             ],
             [
              0.5555555555555556,
              "#d8576b"
             ],
             [
              0.6666666666666666,
              "#ed7953"
             ],
             [
              0.7777777777777778,
              "#fb9f3a"
             ],
             [
              0.8888888888888888,
              "#fdca26"
             ],
             [
              1,
              "#f0f921"
             ]
            ],
            "type": "heatmap"
           }
          ],
          "heatmapgl": [
           {
            "colorbar": {
             "outlinewidth": 0,
             "ticks": ""
            },
            "colorscale": [
             [
              0,
              "#0d0887"
             ],
             [
              0.1111111111111111,
              "#46039f"
             ],
             [
              0.2222222222222222,
              "#7201a8"
             ],
             [
              0.3333333333333333,
              "#9c179e"
             ],
             [
              0.4444444444444444,
              "#bd3786"
             ],
             [
              0.5555555555555556,
              "#d8576b"
             ],
             [
              0.6666666666666666,
              "#ed7953"
             ],
             [
              0.7777777777777778,
              "#fb9f3a"
             ],
             [
              0.8888888888888888,
              "#fdca26"
             ],
             [
              1,
              "#f0f921"
             ]
            ],
            "type": "heatmapgl"
           }
          ],
          "histogram": [
           {
            "marker": {
             "pattern": {
              "fillmode": "overlay",
              "size": 10,
              "solidity": 0.2
             }
            },
            "type": "histogram"
           }
          ],
          "histogram2d": [
           {
            "colorbar": {
             "outlinewidth": 0,
             "ticks": ""
            },
            "colorscale": [
             [
              0,
              "#0d0887"
             ],
             [
              0.1111111111111111,
              "#46039f"
             ],
             [
              0.2222222222222222,
              "#7201a8"
             ],
             [
              0.3333333333333333,
              "#9c179e"
             ],
             [
              0.4444444444444444,
              "#bd3786"
             ],
             [
              0.5555555555555556,
              "#d8576b"
             ],
             [
              0.6666666666666666,
              "#ed7953"
             ],
             [
              0.7777777777777778,
              "#fb9f3a"
             ],
             [
              0.8888888888888888,
              "#fdca26"
             ],
             [
              1,
              "#f0f921"
             ]
            ],
            "type": "histogram2d"
           }
          ],
          "histogram2dcontour": [
           {
            "colorbar": {
             "outlinewidth": 0,
             "ticks": ""
            },
            "colorscale": [
             [
              0,
              "#0d0887"
             ],
             [
              0.1111111111111111,
              "#46039f"
             ],
             [
              0.2222222222222222,
              "#7201a8"
             ],
             [
              0.3333333333333333,
              "#9c179e"
             ],
             [
              0.4444444444444444,
              "#bd3786"
             ],
             [
              0.5555555555555556,
              "#d8576b"
             ],
             [
              0.6666666666666666,
              "#ed7953"
             ],
             [
              0.7777777777777778,
              "#fb9f3a"
             ],
             [
              0.8888888888888888,
              "#fdca26"
             ],
             [
              1,
              "#f0f921"
             ]
            ],
            "type": "histogram2dcontour"
           }
          ],
          "mesh3d": [
           {
            "colorbar": {
             "outlinewidth": 0,
             "ticks": ""
            },
            "type": "mesh3d"
           }
          ],
          "parcoords": [
           {
            "line": {
             "colorbar": {
              "outlinewidth": 0,
              "ticks": ""
             }
            },
            "type": "parcoords"
           }
          ],
          "pie": [
           {
            "automargin": true,
            "type": "pie"
           }
          ],
          "scatter": [
           {
            "fillpattern": {
             "fillmode": "overlay",
             "size": 10,
             "solidity": 0.2
            },
            "type": "scatter"
           }
          ],
          "scatter3d": [
           {
            "line": {
             "colorbar": {
              "outlinewidth": 0,
              "ticks": ""
             }
            },
            "marker": {
             "colorbar": {
              "outlinewidth": 0,
              "ticks": ""
             }
            },
            "type": "scatter3d"
           }
          ],
          "scattercarpet": [
           {
            "marker": {
             "colorbar": {
              "outlinewidth": 0,
              "ticks": ""
             }
            },
            "type": "scattercarpet"
           }
          ],
          "scattergeo": [
           {
            "marker": {
             "colorbar": {
              "outlinewidth": 0,
              "ticks": ""
             }
            },
            "type": "scattergeo"
           }
          ],
          "scattergl": [
           {
            "marker": {
             "colorbar": {
              "outlinewidth": 0,
              "ticks": ""
             }
            },
            "type": "scattergl"
           }
          ],
          "scattermapbox": [
           {
            "marker": {
             "colorbar": {
              "outlinewidth": 0,
              "ticks": ""
             }
            },
            "type": "scattermapbox"
           }
          ],
          "scatterpolar": [
           {
            "marker": {
             "colorbar": {
              "outlinewidth": 0,
              "ticks": ""
             }
            },
            "type": "scatterpolar"
           }
          ],
          "scatterpolargl": [
           {
            "marker": {
             "colorbar": {
              "outlinewidth": 0,
              "ticks": ""
             }
            },
            "type": "scatterpolargl"
           }
          ],
          "scatterternary": [
           {
            "marker": {
             "colorbar": {
              "outlinewidth": 0,
              "ticks": ""
             }
            },
            "type": "scatterternary"
           }
          ],
          "surface": [
           {
            "colorbar": {
             "outlinewidth": 0,
             "ticks": ""
            },
            "colorscale": [
             [
              0,
              "#0d0887"
             ],
             [
              0.1111111111111111,
              "#46039f"
             ],
             [
              0.2222222222222222,
              "#7201a8"
             ],
             [
              0.3333333333333333,
              "#9c179e"
             ],
             [
              0.4444444444444444,
              "#bd3786"
             ],
             [
              0.5555555555555556,
              "#d8576b"
             ],
             [
              0.6666666666666666,
              "#ed7953"
             ],
             [
              0.7777777777777778,
              "#fb9f3a"
             ],
             [
              0.8888888888888888,
              "#fdca26"
             ],
             [
              1,
              "#f0f921"
             ]
            ],
            "type": "surface"
           }
          ],
          "table": [
           {
            "cells": {
             "fill": {
              "color": "#EBF0F8"
             },
             "line": {
              "color": "white"
             }
            },
            "header": {
             "fill": {
              "color": "#C8D4E3"
             },
             "line": {
              "color": "white"
             }
            },
            "type": "table"
           }
          ]
         },
         "layout": {
          "annotationdefaults": {
           "arrowcolor": "#2a3f5f",
           "arrowhead": 0,
           "arrowwidth": 1
          },
          "autotypenumbers": "strict",
          "coloraxis": {
           "colorbar": {
            "outlinewidth": 0,
            "ticks": ""
           }
          },
          "colorscale": {
           "diverging": [
            [
             0,
             "#8e0152"
            ],
            [
             0.1,
             "#c51b7d"
            ],
            [
             0.2,
             "#de77ae"
            ],
            [
             0.3,
             "#f1b6da"
            ],
            [
             0.4,
             "#fde0ef"
            ],
            [
             0.5,
             "#f7f7f7"
            ],
            [
             0.6,
             "#e6f5d0"
            ],
            [
             0.7,
             "#b8e186"
            ],
            [
             0.8,
             "#7fbc41"
            ],
            [
             0.9,
             "#4d9221"
            ],
            [
             1,
             "#276419"
            ]
           ],
           "sequential": [
            [
             0,
             "#0d0887"
            ],
            [
             0.1111111111111111,
             "#46039f"
            ],
            [
             0.2222222222222222,
             "#7201a8"
            ],
            [
             0.3333333333333333,
             "#9c179e"
            ],
            [
             0.4444444444444444,
             "#bd3786"
            ],
            [
             0.5555555555555556,
             "#d8576b"
            ],
            [
             0.6666666666666666,
             "#ed7953"
            ],
            [
             0.7777777777777778,
             "#fb9f3a"
            ],
            [
             0.8888888888888888,
             "#fdca26"
            ],
            [
             1,
             "#f0f921"
            ]
           ],
           "sequentialminus": [
            [
             0,
             "#0d0887"
            ],
            [
             0.1111111111111111,
             "#46039f"
            ],
            [
             0.2222222222222222,
             "#7201a8"
            ],
            [
             0.3333333333333333,
             "#9c179e"
            ],
            [
             0.4444444444444444,
             "#bd3786"
            ],
            [
             0.5555555555555556,
             "#d8576b"
            ],
            [
             0.6666666666666666,
             "#ed7953"
            ],
            [
             0.7777777777777778,
             "#fb9f3a"
            ],
            [
             0.8888888888888888,
             "#fdca26"
            ],
            [
             1,
             "#f0f921"
            ]
           ]
          },
          "colorway": [
           "#636efa",
           "#EF553B",
           "#00cc96",
           "#ab63fa",
           "#FFA15A",
           "#19d3f3",
           "#FF6692",
           "#B6E880",
           "#FF97FF",
           "#FECB52"
          ],
          "font": {
           "color": "#2a3f5f"
          },
          "geo": {
           "bgcolor": "white",
           "lakecolor": "white",
           "landcolor": "#E5ECF6",
           "showlakes": true,
           "showland": true,
           "subunitcolor": "white"
          },
          "hoverlabel": {
           "align": "left"
          },
          "hovermode": "closest",
          "mapbox": {
           "style": "light"
          },
          "paper_bgcolor": "white",
          "plot_bgcolor": "#E5ECF6",
          "polar": {
           "angularaxis": {
            "gridcolor": "white",
            "linecolor": "white",
            "ticks": ""
           },
           "bgcolor": "#E5ECF6",
           "radialaxis": {
            "gridcolor": "white",
            "linecolor": "white",
            "ticks": ""
           }
          },
          "scene": {
           "xaxis": {
            "backgroundcolor": "#E5ECF6",
            "gridcolor": "white",
            "gridwidth": 2,
            "linecolor": "white",
            "showbackground": true,
            "ticks": "",
            "zerolinecolor": "white"
           },
           "yaxis": {
            "backgroundcolor": "#E5ECF6",
            "gridcolor": "white",
            "gridwidth": 2,
            "linecolor": "white",
            "showbackground": true,
            "ticks": "",
            "zerolinecolor": "white"
           },
           "zaxis": {
            "backgroundcolor": "#E5ECF6",
            "gridcolor": "white",
            "gridwidth": 2,
            "linecolor": "white",
            "showbackground": true,
            "ticks": "",
            "zerolinecolor": "white"
           }
          },
          "shapedefaults": {
           "line": {
            "color": "#2a3f5f"
           }
          },
          "ternary": {
           "aaxis": {
            "gridcolor": "white",
            "linecolor": "white",
            "ticks": ""
           },
           "baxis": {
            "gridcolor": "white",
            "linecolor": "white",
            "ticks": ""
           },
           "bgcolor": "#E5ECF6",
           "caxis": {
            "gridcolor": "white",
            "linecolor": "white",
            "ticks": ""
           }
          },
          "title": {
           "x": 0.05
          },
          "xaxis": {
           "automargin": true,
           "gridcolor": "white",
           "linecolor": "white",
           "ticks": "",
           "title": {
            "standoff": 15
           },
           "zerolinecolor": "white",
           "zerolinewidth": 2
          },
          "yaxis": {
           "automargin": true,
           "gridcolor": "white",
           "linecolor": "white",
           "ticks": "",
           "title": {
            "standoff": 15
           },
           "zerolinecolor": "white",
           "zerolinewidth": 2
          }
         }
        }
       }
      }
     },
     "metadata": {},
     "output_type": "display_data"
    }
   ],
   "source": [
    "random_1 = np.random.randn(500)\n",
    "random_2 = np.random.randn(500) +1\n",
    "\n",
    "trace1 = go.Histogram(x = random_1)\n",
    "trace2 = go.Histogram(x= random_2)\n",
    "fig = go.Figure(data = [trace1, trace2])\n",
    "\n",
    "fig.update_layout(barmode = 'overlay')\n",
    "fig.update_traces(opacity = 0.5)\n",
    "fig.show()"
   ]
  },
  {
   "cell_type": "markdown",
   "metadata": {},
   "source": [
    "# HeatMap"
   ]
  },
  {
   "cell_type": "code",
   "execution_count": 52,
   "metadata": {},
   "outputs": [
    {
     "data": {
      "application/vnd.plotly.v1+json": {
       "config": {
        "plotlyServerURL": "https://plot.ly"
       },
       "data": [
        {
         "type": "heatmap",
         "x": [
          "Monday",
          "Tuseday",
          "Wednesday",
          "Thursday",
          "Friday"
         ],
         "y": [
          "Morning",
          "Afternoon",
          "Evening"
         ],
         "z": [
          [
           -79,
           38,
           -12,
           -17,
           -54
          ],
          [
           44,
           20,
           13,
           -40,
           -71
          ],
          [
           -76,
           -8,
           8,
           66,
           -55
          ]
         ]
        }
       ],
       "layout": {
        "template": {
         "data": {
          "bar": [
           {
            "error_x": {
             "color": "#2a3f5f"
            },
            "error_y": {
             "color": "#2a3f5f"
            },
            "marker": {
             "line": {
              "color": "#E5ECF6",
              "width": 0.5
             },
             "pattern": {
              "fillmode": "overlay",
              "size": 10,
              "solidity": 0.2
             }
            },
            "type": "bar"
           }
          ],
          "barpolar": [
           {
            "marker": {
             "line": {
              "color": "#E5ECF6",
              "width": 0.5
             },
             "pattern": {
              "fillmode": "overlay",
              "size": 10,
              "solidity": 0.2
             }
            },
            "type": "barpolar"
           }
          ],
          "carpet": [
           {
            "aaxis": {
             "endlinecolor": "#2a3f5f",
             "gridcolor": "white",
             "linecolor": "white",
             "minorgridcolor": "white",
             "startlinecolor": "#2a3f5f"
            },
            "baxis": {
             "endlinecolor": "#2a3f5f",
             "gridcolor": "white",
             "linecolor": "white",
             "minorgridcolor": "white",
             "startlinecolor": "#2a3f5f"
            },
            "type": "carpet"
           }
          ],
          "choropleth": [
           {
            "colorbar": {
             "outlinewidth": 0,
             "ticks": ""
            },
            "type": "choropleth"
           }
          ],
          "contour": [
           {
            "colorbar": {
             "outlinewidth": 0,
             "ticks": ""
            },
            "colorscale": [
             [
              0,
              "#0d0887"
             ],
             [
              0.1111111111111111,
              "#46039f"
             ],
             [
              0.2222222222222222,
              "#7201a8"
             ],
             [
              0.3333333333333333,
              "#9c179e"
             ],
             [
              0.4444444444444444,
              "#bd3786"
             ],
             [
              0.5555555555555556,
              "#d8576b"
             ],
             [
              0.6666666666666666,
              "#ed7953"
             ],
             [
              0.7777777777777778,
              "#fb9f3a"
             ],
             [
              0.8888888888888888,
              "#fdca26"
             ],
             [
              1,
              "#f0f921"
             ]
            ],
            "type": "contour"
           }
          ],
          "contourcarpet": [
           {
            "colorbar": {
             "outlinewidth": 0,
             "ticks": ""
            },
            "type": "contourcarpet"
           }
          ],
          "heatmap": [
           {
            "colorbar": {
             "outlinewidth": 0,
             "ticks": ""
            },
            "colorscale": [
             [
              0,
              "#0d0887"
             ],
             [
              0.1111111111111111,
              "#46039f"
             ],
             [
              0.2222222222222222,
              "#7201a8"
             ],
             [
              0.3333333333333333,
              "#9c179e"
             ],
             [
              0.4444444444444444,
              "#bd3786"
             ],
             [
              0.5555555555555556,
              "#d8576b"
             ],
             [
              0.6666666666666666,
              "#ed7953"
             ],
             [
              0.7777777777777778,
              "#fb9f3a"
             ],
             [
              0.8888888888888888,
              "#fdca26"
             ],
             [
              1,
              "#f0f921"
             ]
            ],
            "type": "heatmap"
           }
          ],
          "heatmapgl": [
           {
            "colorbar": {
             "outlinewidth": 0,
             "ticks": ""
            },
            "colorscale": [
             [
              0,
              "#0d0887"
             ],
             [
              0.1111111111111111,
              "#46039f"
             ],
             [
              0.2222222222222222,
              "#7201a8"
             ],
             [
              0.3333333333333333,
              "#9c179e"
             ],
             [
              0.4444444444444444,
              "#bd3786"
             ],
             [
              0.5555555555555556,
              "#d8576b"
             ],
             [
              0.6666666666666666,
              "#ed7953"
             ],
             [
              0.7777777777777778,
              "#fb9f3a"
             ],
             [
              0.8888888888888888,
              "#fdca26"
             ],
             [
              1,
              "#f0f921"
             ]
            ],
            "type": "heatmapgl"
           }
          ],
          "histogram": [
           {
            "marker": {
             "pattern": {
              "fillmode": "overlay",
              "size": 10,
              "solidity": 0.2
             }
            },
            "type": "histogram"
           }
          ],
          "histogram2d": [
           {
            "colorbar": {
             "outlinewidth": 0,
             "ticks": ""
            },
            "colorscale": [
             [
              0,
              "#0d0887"
             ],
             [
              0.1111111111111111,
              "#46039f"
             ],
             [
              0.2222222222222222,
              "#7201a8"
             ],
             [
              0.3333333333333333,
              "#9c179e"
             ],
             [
              0.4444444444444444,
              "#bd3786"
             ],
             [
              0.5555555555555556,
              "#d8576b"
             ],
             [
              0.6666666666666666,
              "#ed7953"
             ],
             [
              0.7777777777777778,
              "#fb9f3a"
             ],
             [
              0.8888888888888888,
              "#fdca26"
             ],
             [
              1,
              "#f0f921"
             ]
            ],
            "type": "histogram2d"
           }
          ],
          "histogram2dcontour": [
           {
            "colorbar": {
             "outlinewidth": 0,
             "ticks": ""
            },
            "colorscale": [
             [
              0,
              "#0d0887"
             ],
             [
              0.1111111111111111,
              "#46039f"
             ],
             [
              0.2222222222222222,
              "#7201a8"
             ],
             [
              0.3333333333333333,
              "#9c179e"
             ],
             [
              0.4444444444444444,
              "#bd3786"
             ],
             [
              0.5555555555555556,
              "#d8576b"
             ],
             [
              0.6666666666666666,
              "#ed7953"
             ],
             [
              0.7777777777777778,
              "#fb9f3a"
             ],
             [
              0.8888888888888888,
              "#fdca26"
             ],
             [
              1,
              "#f0f921"
             ]
            ],
            "type": "histogram2dcontour"
           }
          ],
          "mesh3d": [
           {
            "colorbar": {
             "outlinewidth": 0,
             "ticks": ""
            },
            "type": "mesh3d"
           }
          ],
          "parcoords": [
           {
            "line": {
             "colorbar": {
              "outlinewidth": 0,
              "ticks": ""
             }
            },
            "type": "parcoords"
           }
          ],
          "pie": [
           {
            "automargin": true,
            "type": "pie"
           }
          ],
          "scatter": [
           {
            "fillpattern": {
             "fillmode": "overlay",
             "size": 10,
             "solidity": 0.2
            },
            "type": "scatter"
           }
          ],
          "scatter3d": [
           {
            "line": {
             "colorbar": {
              "outlinewidth": 0,
              "ticks": ""
             }
            },
            "marker": {
             "colorbar": {
              "outlinewidth": 0,
              "ticks": ""
             }
            },
            "type": "scatter3d"
           }
          ],
          "scattercarpet": [
           {
            "marker": {
             "colorbar": {
              "outlinewidth": 0,
              "ticks": ""
             }
            },
            "type": "scattercarpet"
           }
          ],
          "scattergeo": [
           {
            "marker": {
             "colorbar": {
              "outlinewidth": 0,
              "ticks": ""
             }
            },
            "type": "scattergeo"
           }
          ],
          "scattergl": [
           {
            "marker": {
             "colorbar": {
              "outlinewidth": 0,
              "ticks": ""
             }
            },
            "type": "scattergl"
           }
          ],
          "scattermapbox": [
           {
            "marker": {
             "colorbar": {
              "outlinewidth": 0,
              "ticks": ""
             }
            },
            "type": "scattermapbox"
           }
          ],
          "scatterpolar": [
           {
            "marker": {
             "colorbar": {
              "outlinewidth": 0,
              "ticks": ""
             }
            },
            "type": "scatterpolar"
           }
          ],
          "scatterpolargl": [
           {
            "marker": {
             "colorbar": {
              "outlinewidth": 0,
              "ticks": ""
             }
            },
            "type": "scatterpolargl"
           }
          ],
          "scatterternary": [
           {
            "marker": {
             "colorbar": {
              "outlinewidth": 0,
              "ticks": ""
             }
            },
            "type": "scatterternary"
           }
          ],
          "surface": [
           {
            "colorbar": {
             "outlinewidth": 0,
             "ticks": ""
            },
            "colorscale": [
             [
              0,
              "#0d0887"
             ],
             [
              0.1111111111111111,
              "#46039f"
             ],
             [
              0.2222222222222222,
              "#7201a8"
             ],
             [
              0.3333333333333333,
              "#9c179e"
             ],
             [
              0.4444444444444444,
              "#bd3786"
             ],
             [
              0.5555555555555556,
              "#d8576b"
             ],
             [
              0.6666666666666666,
              "#ed7953"
             ],
             [
              0.7777777777777778,
              "#fb9f3a"
             ],
             [
              0.8888888888888888,
              "#fdca26"
             ],
             [
              1,
              "#f0f921"
             ]
            ],
            "type": "surface"
           }
          ],
          "table": [
           {
            "cells": {
             "fill": {
              "color": "#EBF0F8"
             },
             "line": {
              "color": "white"
             }
            },
            "header": {
             "fill": {
              "color": "#C8D4E3"
             },
             "line": {
              "color": "white"
             }
            },
            "type": "table"
           }
          ]
         },
         "layout": {
          "annotationdefaults": {
           "arrowcolor": "#2a3f5f",
           "arrowhead": 0,
           "arrowwidth": 1
          },
          "autotypenumbers": "strict",
          "coloraxis": {
           "colorbar": {
            "outlinewidth": 0,
            "ticks": ""
           }
          },
          "colorscale": {
           "diverging": [
            [
             0,
             "#8e0152"
            ],
            [
             0.1,
             "#c51b7d"
            ],
            [
             0.2,
             "#de77ae"
            ],
            [
             0.3,
             "#f1b6da"
            ],
            [
             0.4,
             "#fde0ef"
            ],
            [
             0.5,
             "#f7f7f7"
            ],
            [
             0.6,
             "#e6f5d0"
            ],
            [
             0.7,
             "#b8e186"
            ],
            [
             0.8,
             "#7fbc41"
            ],
            [
             0.9,
             "#4d9221"
            ],
            [
             1,
             "#276419"
            ]
           ],
           "sequential": [
            [
             0,
             "#0d0887"
            ],
            [
             0.1111111111111111,
             "#46039f"
            ],
            [
             0.2222222222222222,
             "#7201a8"
            ],
            [
             0.3333333333333333,
             "#9c179e"
            ],
            [
             0.4444444444444444,
             "#bd3786"
            ],
            [
             0.5555555555555556,
             "#d8576b"
            ],
            [
             0.6666666666666666,
             "#ed7953"
            ],
            [
             0.7777777777777778,
             "#fb9f3a"
            ],
            [
             0.8888888888888888,
             "#fdca26"
            ],
            [
             1,
             "#f0f921"
            ]
           ],
           "sequentialminus": [
            [
             0,
             "#0d0887"
            ],
            [
             0.1111111111111111,
             "#46039f"
            ],
            [
             0.2222222222222222,
             "#7201a8"
            ],
            [
             0.3333333333333333,
             "#9c179e"
            ],
            [
             0.4444444444444444,
             "#bd3786"
            ],
            [
             0.5555555555555556,
             "#d8576b"
            ],
            [
             0.6666666666666666,
             "#ed7953"
            ],
            [
             0.7777777777777778,
             "#fb9f3a"
            ],
            [
             0.8888888888888888,
             "#fdca26"
            ],
            [
             1,
             "#f0f921"
            ]
           ]
          },
          "colorway": [
           "#636efa",
           "#EF553B",
           "#00cc96",
           "#ab63fa",
           "#FFA15A",
           "#19d3f3",
           "#FF6692",
           "#B6E880",
           "#FF97FF",
           "#FECB52"
          ],
          "font": {
           "color": "#2a3f5f"
          },
          "geo": {
           "bgcolor": "white",
           "lakecolor": "white",
           "landcolor": "#E5ECF6",
           "showlakes": true,
           "showland": true,
           "subunitcolor": "white"
          },
          "hoverlabel": {
           "align": "left"
          },
          "hovermode": "closest",
          "mapbox": {
           "style": "light"
          },
          "paper_bgcolor": "white",
          "plot_bgcolor": "#E5ECF6",
          "polar": {
           "angularaxis": {
            "gridcolor": "white",
            "linecolor": "white",
            "ticks": ""
           },
           "bgcolor": "#E5ECF6",
           "radialaxis": {
            "gridcolor": "white",
            "linecolor": "white",
            "ticks": ""
           }
          },
          "scene": {
           "xaxis": {
            "backgroundcolor": "#E5ECF6",
            "gridcolor": "white",
            "gridwidth": 2,
            "linecolor": "white",
            "showbackground": true,
            "ticks": "",
            "zerolinecolor": "white"
           },
           "yaxis": {
            "backgroundcolor": "#E5ECF6",
            "gridcolor": "white",
            "gridwidth": 2,
            "linecolor": "white",
            "showbackground": true,
            "ticks": "",
            "zerolinecolor": "white"
           },
           "zaxis": {
            "backgroundcolor": "#E5ECF6",
            "gridcolor": "white",
            "gridwidth": 2,
            "linecolor": "white",
            "showbackground": true,
            "ticks": "",
            "zerolinecolor": "white"
           }
          },
          "shapedefaults": {
           "line": {
            "color": "#2a3f5f"
           }
          },
          "ternary": {
           "aaxis": {
            "gridcolor": "white",
            "linecolor": "white",
            "ticks": ""
           },
           "baxis": {
            "gridcolor": "white",
            "linecolor": "white",
            "ticks": ""
           },
           "bgcolor": "#E5ECF6",
           "caxis": {
            "gridcolor": "white",
            "linecolor": "white",
            "ticks": ""
           }
          },
          "title": {
           "x": 0.05
          },
          "xaxis": {
           "automargin": true,
           "gridcolor": "white",
           "linecolor": "white",
           "ticks": "",
           "title": {
            "standoff": 15
           },
           "zerolinecolor": "white",
           "zerolinewidth": 2
          },
          "yaxis": {
           "automargin": true,
           "gridcolor": "white",
           "linecolor": "white",
           "ticks": "",
           "title": {
            "standoff": 15
           },
           "zerolinecolor": "white",
           "zerolinewidth": 2
          }
         }
        }
       }
      }
     },
     "metadata": {},
     "output_type": "display_data"
    }
   ],
   "source": [
    "random_1 = np.random.randint(-80, 80, 5)\n",
    "random_2 = np.random.randint(-80, 80, 5)\n",
    "random_3 = np.random.randint(-80, 80, 5)\n",
    "\n",
    "x= ['Monday', 'Tuseday', 'Wednesday', 'Thursday','Friday']\n",
    "y= ['Morning', 'Afternoon','Evening']\n",
    "z = [random_1, random_2, random_3]\n",
    "\n",
    "trace = go.Heatmap(z= z, y=y, x= x)\n",
    "\n",
    "fig = go.Figure(data=trace)\n",
    "fig.show()"
   ]
  },
  {
   "cell_type": "code",
   "execution_count": 27,
   "metadata": {},
   "outputs": [
    {
     "data": {
      "application/vnd.plotly.v1+json": {
       "config": {
        "plotlyServerURL": "https://plot.ly"
       },
       "data": [
        {
         "mode": "lines",
         "name": "Data 1",
         "type": "scatter",
         "x": [
          1,
          2,
          3,
          4,
          5
         ],
         "y": [
          1,
          2,
          3,
          4,
          5
         ]
        },
        {
         "mode": "lines",
         "name": "Data 2",
         "type": "scatter",
         "x": [
          1,
          2,
          3,
          4,
          5
         ],
         "y": [
          5,
          4,
          3,
          2,
          1
         ]
        }
       ],
       "layout": {
        "template": {
         "data": {
          "bar": [
           {
            "error_x": {
             "color": "#2a3f5f"
            },
            "error_y": {
             "color": "#2a3f5f"
            },
            "marker": {
             "line": {
              "color": "#E5ECF6",
              "width": 0.5
             },
             "pattern": {
              "fillmode": "overlay",
              "size": 10,
              "solidity": 0.2
             }
            },
            "type": "bar"
           }
          ],
          "barpolar": [
           {
            "marker": {
             "line": {
              "color": "#E5ECF6",
              "width": 0.5
             },
             "pattern": {
              "fillmode": "overlay",
              "size": 10,
              "solidity": 0.2
             }
            },
            "type": "barpolar"
           }
          ],
          "carpet": [
           {
            "aaxis": {
             "endlinecolor": "#2a3f5f",
             "gridcolor": "white",
             "linecolor": "white",
             "minorgridcolor": "white",
             "startlinecolor": "#2a3f5f"
            },
            "baxis": {
             "endlinecolor": "#2a3f5f",
             "gridcolor": "white",
             "linecolor": "white",
             "minorgridcolor": "white",
             "startlinecolor": "#2a3f5f"
            },
            "type": "carpet"
           }
          ],
          "choropleth": [
           {
            "colorbar": {
             "outlinewidth": 0,
             "ticks": ""
            },
            "type": "choropleth"
           }
          ],
          "contour": [
           {
            "colorbar": {
             "outlinewidth": 0,
             "ticks": ""
            },
            "colorscale": [
             [
              0,
              "#0d0887"
             ],
             [
              0.1111111111111111,
              "#46039f"
             ],
             [
              0.2222222222222222,
              "#7201a8"
             ],
             [
              0.3333333333333333,
              "#9c179e"
             ],
             [
              0.4444444444444444,
              "#bd3786"
             ],
             [
              0.5555555555555556,
              "#d8576b"
             ],
             [
              0.6666666666666666,
              "#ed7953"
             ],
             [
              0.7777777777777778,
              "#fb9f3a"
             ],
             [
              0.8888888888888888,
              "#fdca26"
             ],
             [
              1,
              "#f0f921"
             ]
            ],
            "type": "contour"
           }
          ],
          "contourcarpet": [
           {
            "colorbar": {
             "outlinewidth": 0,
             "ticks": ""
            },
            "type": "contourcarpet"
           }
          ],
          "heatmap": [
           {
            "colorbar": {
             "outlinewidth": 0,
             "ticks": ""
            },
            "colorscale": [
             [
              0,
              "#0d0887"
             ],
             [
              0.1111111111111111,
              "#46039f"
             ],
             [
              0.2222222222222222,
              "#7201a8"
             ],
             [
              0.3333333333333333,
              "#9c179e"
             ],
             [
              0.4444444444444444,
              "#bd3786"
             ],
             [
              0.5555555555555556,
              "#d8576b"
             ],
             [
              0.6666666666666666,
              "#ed7953"
             ],
             [
              0.7777777777777778,
              "#fb9f3a"
             ],
             [
              0.8888888888888888,
              "#fdca26"
             ],
             [
              1,
              "#f0f921"
             ]
            ],
            "type": "heatmap"
           }
          ],
          "heatmapgl": [
           {
            "colorbar": {
             "outlinewidth": 0,
             "ticks": ""
            },
            "colorscale": [
             [
              0,
              "#0d0887"
             ],
             [
              0.1111111111111111,
              "#46039f"
             ],
             [
              0.2222222222222222,
              "#7201a8"
             ],
             [
              0.3333333333333333,
              "#9c179e"
             ],
             [
              0.4444444444444444,
              "#bd3786"
             ],
             [
              0.5555555555555556,
              "#d8576b"
             ],
             [
              0.6666666666666666,
              "#ed7953"
             ],
             [
              0.7777777777777778,
              "#fb9f3a"
             ],
             [
              0.8888888888888888,
              "#fdca26"
             ],
             [
              1,
              "#f0f921"
             ]
            ],
            "type": "heatmapgl"
           }
          ],
          "histogram": [
           {
            "marker": {
             "pattern": {
              "fillmode": "overlay",
              "size": 10,
              "solidity": 0.2
             }
            },
            "type": "histogram"
           }
          ],
          "histogram2d": [
           {
            "colorbar": {
             "outlinewidth": 0,
             "ticks": ""
            },
            "colorscale": [
             [
              0,
              "#0d0887"
             ],
             [
              0.1111111111111111,
              "#46039f"
             ],
             [
              0.2222222222222222,
              "#7201a8"
             ],
             [
              0.3333333333333333,
              "#9c179e"
             ],
             [
              0.4444444444444444,
              "#bd3786"
             ],
             [
              0.5555555555555556,
              "#d8576b"
             ],
             [
              0.6666666666666666,
              "#ed7953"
             ],
             [
              0.7777777777777778,
              "#fb9f3a"
             ],
             [
              0.8888888888888888,
              "#fdca26"
             ],
             [
              1,
              "#f0f921"
             ]
            ],
            "type": "histogram2d"
           }
          ],
          "histogram2dcontour": [
           {
            "colorbar": {
             "outlinewidth": 0,
             "ticks": ""
            },
            "colorscale": [
             [
              0,
              "#0d0887"
             ],
             [
              0.1111111111111111,
              "#46039f"
             ],
             [
              0.2222222222222222,
              "#7201a8"
             ],
             [
              0.3333333333333333,
              "#9c179e"
             ],
             [
              0.4444444444444444,
              "#bd3786"
             ],
             [
              0.5555555555555556,
              "#d8576b"
             ],
             [
              0.6666666666666666,
              "#ed7953"
             ],
             [
              0.7777777777777778,
              "#fb9f3a"
             ],
             [
              0.8888888888888888,
              "#fdca26"
             ],
             [
              1,
              "#f0f921"
             ]
            ],
            "type": "histogram2dcontour"
           }
          ],
          "mesh3d": [
           {
            "colorbar": {
             "outlinewidth": 0,
             "ticks": ""
            },
            "type": "mesh3d"
           }
          ],
          "parcoords": [
           {
            "line": {
             "colorbar": {
              "outlinewidth": 0,
              "ticks": ""
             }
            },
            "type": "parcoords"
           }
          ],
          "pie": [
           {
            "automargin": true,
            "type": "pie"
           }
          ],
          "scatter": [
           {
            "fillpattern": {
             "fillmode": "overlay",
             "size": 10,
             "solidity": 0.2
            },
            "type": "scatter"
           }
          ],
          "scatter3d": [
           {
            "line": {
             "colorbar": {
              "outlinewidth": 0,
              "ticks": ""
             }
            },
            "marker": {
             "colorbar": {
              "outlinewidth": 0,
              "ticks": ""
             }
            },
            "type": "scatter3d"
           }
          ],
          "scattercarpet": [
           {
            "marker": {
             "colorbar": {
              "outlinewidth": 0,
              "ticks": ""
             }
            },
            "type": "scattercarpet"
           }
          ],
          "scattergeo": [
           {
            "marker": {
             "colorbar": {
              "outlinewidth": 0,
              "ticks": ""
             }
            },
            "type": "scattergeo"
           }
          ],
          "scattergl": [
           {
            "marker": {
             "colorbar": {
              "outlinewidth": 0,
              "ticks": ""
             }
            },
            "type": "scattergl"
           }
          ],
          "scattermapbox": [
           {
            "marker": {
             "colorbar": {
              "outlinewidth": 0,
              "ticks": ""
             }
            },
            "type": "scattermapbox"
           }
          ],
          "scatterpolar": [
           {
            "marker": {
             "colorbar": {
              "outlinewidth": 0,
              "ticks": ""
             }
            },
            "type": "scatterpolar"
           }
          ],
          "scatterpolargl": [
           {
            "marker": {
             "colorbar": {
              "outlinewidth": 0,
              "ticks": ""
             }
            },
            "type": "scatterpolargl"
           }
          ],
          "scatterternary": [
           {
            "marker": {
             "colorbar": {
              "outlinewidth": 0,
              "ticks": ""
             }
            },
            "type": "scatterternary"
           }
          ],
          "surface": [
           {
            "colorbar": {
             "outlinewidth": 0,
             "ticks": ""
            },
            "colorscale": [
             [
              0,
              "#0d0887"
             ],
             [
              0.1111111111111111,
              "#46039f"
             ],
             [
              0.2222222222222222,
              "#7201a8"
             ],
             [
              0.3333333333333333,
              "#9c179e"
             ],
             [
              0.4444444444444444,
              "#bd3786"
             ],
             [
              0.5555555555555556,
              "#d8576b"
             ],
             [
              0.6666666666666666,
              "#ed7953"
             ],
             [
              0.7777777777777778,
              "#fb9f3a"
             ],
             [
              0.8888888888888888,
              "#fdca26"
             ],
             [
              1,
              "#f0f921"
             ]
            ],
            "type": "surface"
           }
          ],
          "table": [
           {
            "cells": {
             "fill": {
              "color": "#EBF0F8"
             },
             "line": {
              "color": "white"
             }
            },
            "header": {
             "fill": {
              "color": "#C8D4E3"
             },
             "line": {
              "color": "white"
             }
            },
            "type": "table"
           }
          ]
         },
         "layout": {
          "annotationdefaults": {
           "arrowcolor": "#2a3f5f",
           "arrowhead": 0,
           "arrowwidth": 1
          },
          "autotypenumbers": "strict",
          "coloraxis": {
           "colorbar": {
            "outlinewidth": 0,
            "ticks": ""
           }
          },
          "colorscale": {
           "diverging": [
            [
             0,
             "#8e0152"
            ],
            [
             0.1,
             "#c51b7d"
            ],
            [
             0.2,
             "#de77ae"
            ],
            [
             0.3,
             "#f1b6da"
            ],
            [
             0.4,
             "#fde0ef"
            ],
            [
             0.5,
             "#f7f7f7"
            ],
            [
             0.6,
             "#e6f5d0"
            ],
            [
             0.7,
             "#b8e186"
            ],
            [
             0.8,
             "#7fbc41"
            ],
            [
             0.9,
             "#4d9221"
            ],
            [
             1,
             "#276419"
            ]
           ],
           "sequential": [
            [
             0,
             "#0d0887"
            ],
            [
             0.1111111111111111,
             "#46039f"
            ],
            [
             0.2222222222222222,
             "#7201a8"
            ],
            [
             0.3333333333333333,
             "#9c179e"
            ],
            [
             0.4444444444444444,
             "#bd3786"
            ],
            [
             0.5555555555555556,
             "#d8576b"
            ],
            [
             0.6666666666666666,
             "#ed7953"
            ],
            [
             0.7777777777777778,
             "#fb9f3a"
            ],
            [
             0.8888888888888888,
             "#fdca26"
            ],
            [
             1,
             "#f0f921"
            ]
           ],
           "sequentialminus": [
            [
             0,
             "#0d0887"
            ],
            [
             0.1111111111111111,
             "#46039f"
            ],
            [
             0.2222222222222222,
             "#7201a8"
            ],
            [
             0.3333333333333333,
             "#9c179e"
            ],
            [
             0.4444444444444444,
             "#bd3786"
            ],
            [
             0.5555555555555556,
             "#d8576b"
            ],
            [
             0.6666666666666666,
             "#ed7953"
            ],
            [
             0.7777777777777778,
             "#fb9f3a"
            ],
            [
             0.8888888888888888,
             "#fdca26"
            ],
            [
             1,
             "#f0f921"
            ]
           ]
          },
          "colorway": [
           "#636efa",
           "#EF553B",
           "#00cc96",
           "#ab63fa",
           "#FFA15A",
           "#19d3f3",
           "#FF6692",
           "#B6E880",
           "#FF97FF",
           "#FECB52"
          ],
          "font": {
           "color": "#2a3f5f"
          },
          "geo": {
           "bgcolor": "white",
           "lakecolor": "white",
           "landcolor": "#E5ECF6",
           "showlakes": true,
           "showland": true,
           "subunitcolor": "white"
          },
          "hoverlabel": {
           "align": "left"
          },
          "hovermode": "closest",
          "mapbox": {
           "style": "light"
          },
          "paper_bgcolor": "white",
          "plot_bgcolor": "#E5ECF6",
          "polar": {
           "angularaxis": {
            "gridcolor": "white",
            "linecolor": "white",
            "ticks": ""
           },
           "bgcolor": "#E5ECF6",
           "radialaxis": {
            "gridcolor": "white",
            "linecolor": "white",
            "ticks": ""
           }
          },
          "scene": {
           "xaxis": {
            "backgroundcolor": "#E5ECF6",
            "gridcolor": "white",
            "gridwidth": 2,
            "linecolor": "white",
            "showbackground": true,
            "ticks": "",
            "zerolinecolor": "white"
           },
           "yaxis": {
            "backgroundcolor": "#E5ECF6",
            "gridcolor": "white",
            "gridwidth": 2,
            "linecolor": "white",
            "showbackground": true,
            "ticks": "",
            "zerolinecolor": "white"
           },
           "zaxis": {
            "backgroundcolor": "#E5ECF6",
            "gridcolor": "white",
            "gridwidth": 2,
            "linecolor": "white",
            "showbackground": true,
            "ticks": "",
            "zerolinecolor": "white"
           }
          },
          "shapedefaults": {
           "line": {
            "color": "#2a3f5f"
           }
          },
          "ternary": {
           "aaxis": {
            "gridcolor": "white",
            "linecolor": "white",
            "ticks": ""
           },
           "baxis": {
            "gridcolor": "white",
            "linecolor": "white",
            "ticks": ""
           },
           "bgcolor": "#E5ECF6",
           "caxis": {
            "gridcolor": "white",
            "linecolor": "white",
            "ticks": ""
           }
          },
          "title": {
           "x": 0.05
          },
          "xaxis": {
           "automargin": true,
           "gridcolor": "white",
           "linecolor": "white",
           "ticks": "",
           "title": {
            "standoff": 15
           },
           "zerolinecolor": "white",
           "zerolinewidth": 2
          },
          "yaxis": {
           "automargin": true,
           "gridcolor": "white",
           "linecolor": "white",
           "ticks": "",
           "title": {
            "standoff": 15
           },
           "zerolinecolor": "white",
           "zerolinewidth": 2
          }
         }
        },
        "title": {
         "text": "Dropdown Menu Example"
        },
        "updatemenus": [
         {
          "buttons": [
           {
            "args": [
             {
              "y": [
               1,
               2,
               3,
               4,
               5
              ]
             }
            ],
            "label": "Data 1",
            "method": "update"
           },
           {
            "args": [
             {
              "y": [
               5,
               4,
               3,
               2,
               1
              ]
             }
            ],
            "label": "Data 2",
            "method": "update"
           }
          ],
          "direction": "down",
          "showactive": true
         }
        ],
        "xaxis": {
         "title": {
          "text": "X-axis"
         }
        },
        "yaxis": {
         "title": {
          "text": "Y-axis"
         }
        }
       }
      }
     },
     "metadata": {},
     "output_type": "display_data"
    }
   ],
   "source": [
    "import plotly.graph_objects as go\n",
    "\n",
    "# 초기 데이터\n",
    "data1 = [1, 2, 3, 4, 5]\n",
    "data2 = [5, 4, 3, 2, 1]\n",
    "\n",
    "# 초기 플롯 생성\n",
    "fig = go.Figure()\n",
    "\n",
    "# 초기 데이터 플롯 추가\n",
    "trace1 = go.Scatter(x=[1, 2, 3, 4, 5], y=data1, mode='lines', name='Data 1')\n",
    "trace2 = go.Scatter(x=[1, 2, 3, 4, 5], y=data2, mode='lines', name='Data 2')\n",
    "fig.add_trace(trace1)\n",
    "fig.add_trace(trace2)\n",
    "\n",
    "# Dropdown 메뉴 생성\n",
    "updatemenus = [\n",
    "    {\n",
    "        'buttons': [\n",
    "            {'label': 'Data 1', 'method': 'update', 'args': [{'y': [1, 2, 3, 4, 5]}]},\n",
    "            {'label': 'Data 2', 'method': 'update', 'args': [{'y': [5, 4, 3, 2, 1]}]}\n",
    "        ],\n",
    "        'direction': 'down',\n",
    "        'showactive': True,\n",
    "    }\n",
    "]\n",
    "\n",
    "# 레이아웃 설정\n",
    "fig.update_layout(\n",
    "    updatemenus=updatemenus,\n",
    "    title='Dropdown Menu Example',\n",
    "    xaxis_title='X-axis',\n",
    "    yaxis_title='Y-axis',\n",
    ")\n",
    "\n",
    "# 그래프 표시\n",
    "fig.show()"
   ]
  },
  {
   "cell_type": "code",
   "execution_count": null,
   "metadata": {},
   "outputs": [],
   "source": []
  }
 ],
 "metadata": {
  "kernelspec": {
   "display_name": "Python 3",
   "language": "python",
   "name": "python3"
  },
  "language_info": {
   "codemirror_mode": {
    "name": "ipython",
    "version": 3
   },
   "file_extension": ".py",
   "mimetype": "text/x-python",
   "name": "python",
   "nbconvert_exporter": "python",
   "pygments_lexer": "ipython3",
   "version": "3.11.4"
  }
 },
 "nbformat": 4,
 "nbformat_minor": 2
}
